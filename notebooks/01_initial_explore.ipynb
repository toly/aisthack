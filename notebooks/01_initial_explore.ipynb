{
 "cells": [
  {
   "cell_type": "markdown",
   "metadata": {
    "toc": true
   },
   "source": [
    "<h1>Table of Contents<span class=\"tocSkip\"></span></h1>\n",
    "<div class=\"toc\" style=\"margin-top: 1em;\"><ul class=\"toc-item\"><li><span><a href=\"#chats\" data-toc-modified-id=\"chats-1\"><span class=\"toc-item-num\">1&nbsp;&nbsp;</span>chats</a></span></li><li><span><a href=\"#news\" data-toc-modified-id=\"news-2\"><span class=\"toc-item-num\">2&nbsp;&nbsp;</span>news</a></span></li></ul></div>"
   ]
  },
  {
   "cell_type": "code",
   "execution_count": 4,
   "metadata": {
    "ExecuteTime": {
     "end_time": "2018-07-05T09:12:14.920681Z",
     "start_time": "2018-07-05T09:12:14.872030Z"
    }
   },
   "outputs": [],
   "source": [
    "import pandas as pd\n",
    "import matplotlib.pyplot as plt\n",
    "import fastText\n",
    "\n",
    "%matplotlib inline"
   ]
  },
  {
   "cell_type": "markdown",
   "metadata": {},
   "source": [
    "# chats"
   ]
  },
  {
   "cell_type": "code",
   "execution_count": 2,
   "metadata": {
    "ExecuteTime": {
     "end_time": "2018-07-05T09:11:26.489763Z",
     "start_time": "2018-07-05T09:11:19.065036Z"
    }
   },
   "outputs": [],
   "source": [
    "df = pd.read_csv('../data/chats_train.csv')"
   ]
  },
  {
   "cell_type": "code",
   "execution_count": 5,
   "metadata": {
    "ExecuteTime": {
     "end_time": "2018-07-05T09:16:53.321973Z",
     "start_time": "2018-07-05T09:16:53.302460Z"
    }
   },
   "outputs": [
    {
     "data": {
      "text/html": [
       "<div>\n",
       "<style scoped>\n",
       "    .dataframe tbody tr th:only-of-type {\n",
       "        vertical-align: middle;\n",
       "    }\n",
       "\n",
       "    .dataframe tbody tr th {\n",
       "        vertical-align: top;\n",
       "    }\n",
       "\n",
       "    .dataframe thead th {\n",
       "        text-align: right;\n",
       "    }\n",
       "</style>\n",
       "<table border=\"1\" class=\"dataframe\">\n",
       "  <thead>\n",
       "    <tr style=\"text-align: right;\">\n",
       "      <th></th>\n",
       "      <th>chat_id</th>\n",
       "      <th>chat_title</th>\n",
       "      <th>emoji_list</th>\n",
       "      <th>sender_first_name</th>\n",
       "      <th>sender_id</th>\n",
       "      <th>sender_is_bot</th>\n",
       "      <th>sender_last_name</th>\n",
       "      <th>sender_username</th>\n",
       "      <th>text</th>\n",
       "      <th>timestamp</th>\n",
       "    </tr>\n",
       "  </thead>\n",
       "  <tbody>\n",
       "    <tr>\n",
       "      <th>0</th>\n",
       "      <td>1129149026</td>\n",
       "      <td>Pareto Network - Discussion</td>\n",
       "      <td>[]</td>\n",
       "      <td>Bezant</td>\n",
       "      <td>526106862</td>\n",
       "      <td>False</td>\n",
       "      <td>None</td>\n",
       "      <td>None</td>\n",
       "      <td>Admin disputes in private thank you.</td>\n",
       "      <td>1524284160</td>\n",
       "    </tr>\n",
       "    <tr>\n",
       "      <th>1</th>\n",
       "      <td>1129149026</td>\n",
       "      <td>Pareto Network - Discussion</td>\n",
       "      <td>[]</td>\n",
       "      <td>Sheriff</td>\n",
       "      <td>538526216</td>\n",
       "      <td>False</td>\n",
       "      <td>None</td>\n",
       "      <td>None</td>\n",
       "      <td>I see Binance add coins all the time on the Cr...</td>\n",
       "      <td>1524284160</td>\n",
       "    </tr>\n",
       "    <tr>\n",
       "      <th>2</th>\n",
       "      <td>1146170349</td>\n",
       "      <td>Binance English</td>\n",
       "      <td>[]</td>\n",
       "      <td>DaySandBox</td>\n",
       "      <td>400753764</td>\n",
       "      <td>True</td>\n",
       "      <td>None</td>\n",
       "      <td>daysandbox_bot</td>\n",
       "      <td>Removed msg from __Megzon Kadrija__. Reason: n...</td>\n",
       "      <td>1524285614</td>\n",
       "    </tr>\n",
       "    <tr>\n",
       "      <th>3</th>\n",
       "      <td>1146170349</td>\n",
       "      <td>Binance English</td>\n",
       "      <td>[]</td>\n",
       "      <td>Kamalendu</td>\n",
       "      <td>435609627</td>\n",
       "      <td>False</td>\n",
       "      <td>Pal</td>\n",
       "      <td>None</td>\n",
       "      <td>Bc xvg dead</td>\n",
       "      <td>1524285372</td>\n",
       "    </tr>\n",
       "    <tr>\n",
       "      <th>4</th>\n",
       "      <td>1146170349</td>\n",
       "      <td>Binance English</td>\n",
       "      <td>[':thumbsup:']</td>\n",
       "      <td>Abdelbari</td>\n",
       "      <td>154857846</td>\n",
       "      <td>False</td>\n",
       "      <td>K</td>\n",
       "      <td>None</td>\n",
       "      <td>Yes, youre right 👍</td>\n",
       "      <td>1524286342</td>\n",
       "    </tr>\n",
       "  </tbody>\n",
       "</table>\n",
       "</div>"
      ],
      "text/plain": [
       "      chat_id                   chat_title      emoji_list sender_first_name  \\\n",
       "0  1129149026  Pareto Network - Discussion              []            Bezant   \n",
       "1  1129149026  Pareto Network - Discussion              []           Sheriff   \n",
       "2  1146170349              Binance English              []        DaySandBox   \n",
       "3  1146170349              Binance English              []         Kamalendu   \n",
       "4  1146170349              Binance English  [':thumbsup:']         Abdelbari   \n",
       "\n",
       "   sender_id  sender_is_bot sender_last_name sender_username  \\\n",
       "0  526106862          False             None            None   \n",
       "1  538526216          False             None            None   \n",
       "2  400753764           True             None  daysandbox_bot   \n",
       "3  435609627          False              Pal            None   \n",
       "4  154857846          False                K            None   \n",
       "\n",
       "                                                text   timestamp  \n",
       "0               Admin disputes in private thank you.  1524284160  \n",
       "1  I see Binance add coins all the time on the Cr...  1524284160  \n",
       "2  Removed msg from __Megzon Kadrija__. Reason: n...  1524285614  \n",
       "3                                        Bc xvg dead  1524285372  \n",
       "4                                 Yes, youre right 👍  1524286342  "
      ]
     },
     "execution_count": 5,
     "metadata": {},
     "output_type": "execute_result"
    }
   ],
   "source": [
    "df.head()"
   ]
  },
  {
   "cell_type": "code",
   "execution_count": 6,
   "metadata": {
    "ExecuteTime": {
     "end_time": "2018-07-05T09:17:00.555858Z",
     "start_time": "2018-07-05T09:17:00.548144Z"
    }
   },
   "outputs": [
    {
     "data": {
      "text/plain": [
       "(2888606, 10)"
      ]
     },
     "execution_count": 6,
     "metadata": {},
     "output_type": "execute_result"
    }
   ],
   "source": [
    "df.shape"
   ]
  },
  {
   "cell_type": "code",
   "execution_count": 7,
   "metadata": {
    "ExecuteTime": {
     "end_time": "2018-07-05T09:17:18.482608Z",
     "start_time": "2018-07-05T09:17:18.439041Z"
    }
   },
   "outputs": [
    {
     "data": {
      "text/plain": [
       "63"
      ]
     },
     "execution_count": 7,
     "metadata": {},
     "output_type": "execute_result"
    }
   ],
   "source": [
    "len(df['chat_id'].unique())"
   ]
  },
  {
   "cell_type": "code",
   "execution_count": 8,
   "metadata": {
    "ExecuteTime": {
     "end_time": "2018-07-05T09:17:32.012601Z",
     "start_time": "2018-07-05T09:17:31.858660Z"
    }
   },
   "outputs": [
    {
     "data": {
      "text/plain": [
       "203132"
      ]
     },
     "execution_count": 8,
     "metadata": {},
     "output_type": "execute_result"
    }
   ],
   "source": [
    "len(df['sender_id'].unique())"
   ]
  },
  {
   "cell_type": "markdown",
   "metadata": {},
   "source": [
    "# news"
   ]
  },
  {
   "cell_type": "code",
   "execution_count": 9,
   "metadata": {
    "ExecuteTime": {
     "end_time": "2018-07-05T09:21:23.332966Z",
     "start_time": "2018-07-05T09:21:23.021131Z"
    }
   },
   "outputs": [],
   "source": [
    "df = pd.read_csv('../data/news_train.csv')"
   ]
  },
  {
   "cell_type": "code",
   "execution_count": 11,
   "metadata": {
    "ExecuteTime": {
     "end_time": "2018-07-05T09:21:29.262700Z",
     "start_time": "2018-07-05T09:21:29.241029Z"
    }
   },
   "outputs": [
    {
     "data": {
      "text/html": [
       "<div>\n",
       "<style scoped>\n",
       "    .dataframe tbody tr th:only-of-type {\n",
       "        vertical-align: middle;\n",
       "    }\n",
       "\n",
       "    .dataframe tbody tr th {\n",
       "        vertical-align: top;\n",
       "    }\n",
       "\n",
       "    .dataframe thead th {\n",
       "        text-align: right;\n",
       "    }\n",
       "</style>\n",
       "<table border=\"1\" class=\"dataframe\">\n",
       "  <thead>\n",
       "    <tr style=\"text-align: right;\">\n",
       "      <th></th>\n",
       "      <th>link</th>\n",
       "      <th>title</th>\n",
       "      <th>publication_date</th>\n",
       "      <th>content</th>\n",
       "      <th>date</th>\n",
       "      <th>site</th>\n",
       "      <th>section</th>\n",
       "    </tr>\n",
       "  </thead>\n",
       "  <tbody>\n",
       "    <tr>\n",
       "      <th>0</th>\n",
       "      <td>https://www.reddit.com/r/altcoin/comments/8a0e...</td>\n",
       "      <td>Bitcoin foundation co-founder upturns bitcoin ...</td>\n",
       "      <td>2018-04-05 15:00:01</td>\n",
       "      <td>Bitcoin foundation co-founder upturns bitcoin ...</td>\n",
       "      <td>2018-04-18 13:00:22.803+02</td>\n",
       "      <td>www.reddit.com</td>\n",
       "      <td>altcoin</td>\n",
       "    </tr>\n",
       "    <tr>\n",
       "      <th>1</th>\n",
       "      <td>https://www.reddit.com/r/crypto/comments/815zz...</td>\n",
       "      <td>A PoC versioning system based on IPFS and Arag...</td>\n",
       "      <td>2018-03-01 15:22:38</td>\n",
       "      <td>A PoC versioning system based on IPFS and Arag...</td>\n",
       "      <td>2018-04-18 13:00:22.806+02</td>\n",
       "      <td>www.reddit.com</td>\n",
       "      <td>crypto</td>\n",
       "    </tr>\n",
       "    <tr>\n",
       "      <th>2</th>\n",
       "      <td>https://www.reddit.com/r/datasets/comments/84x...</td>\n",
       "      <td>Fun Datasets to work with</td>\n",
       "      <td>2018-03-16 17:54:16</td>\n",
       "      <td>Fun Datasets to work with</td>\n",
       "      <td>2018-04-18 13:00:22.807+02</td>\n",
       "      <td>www.reddit.com</td>\n",
       "      <td>datasets</td>\n",
       "    </tr>\n",
       "    <tr>\n",
       "      <th>3</th>\n",
       "      <td>https://www.reddit.com/r/btc/comments/8crrrr/t...</td>\n",
       "      <td>Tax Time is Here and Lots of Cryptocurrency Ho...</td>\n",
       "      <td>2018-04-16 22:46:33</td>\n",
       "      <td>Tax Time is Here and Lots of Cryptocurrency Ho...</td>\n",
       "      <td>2018-04-18 13:00:22.813+02</td>\n",
       "      <td>www.reddit.com</td>\n",
       "      <td>btc</td>\n",
       "    </tr>\n",
       "    <tr>\n",
       "      <th>4</th>\n",
       "      <td>https://www.reddit.com/r/CryptoCurrency/commen...</td>\n",
       "      <td>IMF Head Says Underlying Technology of Cryptoc...</td>\n",
       "      <td>2018-04-17 17:16:20</td>\n",
       "      <td>IMF Head Says Underlying Technology of Cryptoc...</td>\n",
       "      <td>2018-04-18 13:00:24.266+02</td>\n",
       "      <td>www.reddit.com</td>\n",
       "      <td>CryptoCurrency</td>\n",
       "    </tr>\n",
       "  </tbody>\n",
       "</table>\n",
       "</div>"
      ],
      "text/plain": [
       "                                                link  \\\n",
       "0  https://www.reddit.com/r/altcoin/comments/8a0e...   \n",
       "1  https://www.reddit.com/r/crypto/comments/815zz...   \n",
       "2  https://www.reddit.com/r/datasets/comments/84x...   \n",
       "3  https://www.reddit.com/r/btc/comments/8crrrr/t...   \n",
       "4  https://www.reddit.com/r/CryptoCurrency/commen...   \n",
       "\n",
       "                                               title     publication_date  \\\n",
       "0  Bitcoin foundation co-founder upturns bitcoin ...  2018-04-05 15:00:01   \n",
       "1  A PoC versioning system based on IPFS and Arag...  2018-03-01 15:22:38   \n",
       "2                          Fun Datasets to work with  2018-03-16 17:54:16   \n",
       "3  Tax Time is Here and Lots of Cryptocurrency Ho...  2018-04-16 22:46:33   \n",
       "4  IMF Head Says Underlying Technology of Cryptoc...  2018-04-17 17:16:20   \n",
       "\n",
       "                                             content  \\\n",
       "0  Bitcoin foundation co-founder upturns bitcoin ...   \n",
       "1  A PoC versioning system based on IPFS and Arag...   \n",
       "2                          Fun Datasets to work with   \n",
       "3  Tax Time is Here and Lots of Cryptocurrency Ho...   \n",
       "4  IMF Head Says Underlying Technology of Cryptoc...   \n",
       "\n",
       "                         date            site         section  \n",
       "0  2018-04-18 13:00:22.803+02  www.reddit.com         altcoin  \n",
       "1  2018-04-18 13:00:22.806+02  www.reddit.com          crypto  \n",
       "2  2018-04-18 13:00:22.807+02  www.reddit.com        datasets  \n",
       "3  2018-04-18 13:00:22.813+02  www.reddit.com             btc  \n",
       "4  2018-04-18 13:00:24.266+02  www.reddit.com  CryptoCurrency  "
      ]
     },
     "execution_count": 11,
     "metadata": {},
     "output_type": "execute_result"
    }
   ],
   "source": [
    "df.head()"
   ]
  },
  {
   "cell_type": "code",
   "execution_count": 12,
   "metadata": {
    "ExecuteTime": {
     "end_time": "2018-07-05T09:21:44.542788Z",
     "start_time": "2018-07-05T09:21:44.533661Z"
    }
   },
   "outputs": [
    {
     "data": {
      "text/plain": [
       "array(['www.reddit.com', 'steemit.com', 'www.coindesk.com',\n",
       "       'cointelegraph.com'], dtype=object)"
      ]
     },
     "execution_count": 12,
     "metadata": {},
     "output_type": "execute_result"
    }
   ],
   "source": [
    "df['site'].unique()"
   ]
  },
  {
   "cell_type": "code",
   "execution_count": null,
   "metadata": {},
   "outputs": [],
   "source": []
  }
 ],
 "metadata": {
  "kernelspec": {
   "display_name": "Python 3",
   "language": "python",
   "name": "python3"
  },
  "language_info": {
   "codemirror_mode": {
    "name": "ipython",
    "version": 3
   },
   "file_extension": ".py",
   "mimetype": "text/x-python",
   "name": "python",
   "nbconvert_exporter": "python",
   "pygments_lexer": "ipython3",
   "version": "3.6.4"
  },
  "toc": {
   "nav_menu": {},
   "number_sections": true,
   "sideBar": true,
   "skip_h1_title": false,
   "toc_cell": true,
   "toc_position": {},
   "toc_section_display": "block",
   "toc_window_display": false
  }
 },
 "nbformat": 4,
 "nbformat_minor": 2
}
