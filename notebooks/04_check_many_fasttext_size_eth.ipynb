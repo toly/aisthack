{
 "cells": [
  {
   "cell_type": "markdown",
   "metadata": {
    "toc": true
   },
   "source": [
    "<h1>Table of Contents<span class=\"tocSkip\"></span></h1>\n",
    "<div class=\"toc\" style=\"margin-top: 1em;\"><ul class=\"toc-item\"><li><span><a href=\"#fasttext-models\" data-toc-modified-id=\"fasttext-models-1\"><span class=\"toc-item-num\">1&nbsp;&nbsp;</span>fasttext models</a></span></li><li><span><a href=\"#networks\" data-toc-modified-id=\"networks-2\"><span class=\"toc-item-num\">2&nbsp;&nbsp;</span>networks</a></span></li></ul></div>"
   ]
  },
  {
   "cell_type": "code",
   "execution_count": 1,
   "metadata": {},
   "outputs": [],
   "source": [
    "%load_ext autoreload\n",
    "%autoreload 2"
   ]
  },
  {
   "cell_type": "code",
   "execution_count": 2,
   "metadata": {
    "ExecuteTime": {
     "end_time": "2018-07-06T09:35:32.927211Z",
     "start_time": "2018-07-06T09:35:32.904387Z"
    }
   },
   "outputs": [
    {
     "name": "stderr",
     "output_type": "stream",
     "text": [
      "Using TensorFlow backend.\n"
     ]
    }
   ],
   "source": [
    "import os\n",
    "import numpy as np\n",
    "import pandas as pd\n",
    "import pickle\n",
    "\n",
    "from gensim.models.fasttext import FastText\n",
    "from keras.models import Sequential, Model\n",
    "from keras.layers import Dense, Embedding, Input, Concatenate, Reshape, LSTM, GRU\n",
    "from keras.optimizers import Adam\n",
    "from keras.preprocessing.text import text_to_word_sequence\n",
    "\n",
    "from sklearn.metrics import roc_curve, roc_auc_score\n",
    "\n",
    "from hyperopt import fmin, tpe, hp, STATUS_OK, Trials\n",
    "import hyperopt.pyll.stochastic\n",
    "\n",
    "import matplotlib.pyplot as plt\n",
    "\n",
    "%matplotlib inline"
   ]
  },
  {
   "cell_type": "markdown",
   "metadata": {},
   "source": [
    "# fasttext models"
   ]
  },
  {
   "cell_type": "code",
   "execution_count": 3,
   "metadata": {
    "ExecuteTime": {
     "end_time": "2018-07-06T09:05:29.576292Z",
     "start_time": "2018-07-06T09:05:25.500344Z"
    }
   },
   "outputs": [],
   "source": [
    "df_chats_raw = pd.read_csv('../data/clean_text.csv')"
   ]
  },
  {
   "cell_type": "code",
   "execution_count": 4,
   "metadata": {
    "ExecuteTime": {
     "end_time": "2018-07-06T09:05:29.583790Z",
     "start_time": "2018-07-06T09:05:29.579243Z"
    }
   },
   "outputs": [],
   "source": [
    "class SentenceIterator(object):\n",
    "    texts = None\n",
    "\n",
    "    def __init__(self, texts):\n",
    "        self.texts = texts\n",
    "\n",
    "    def __iter__(self):\n",
    "        for text in self.texts:\n",
    "            yield text_to_word_sequence(text, lower=False)"
   ]
  },
  {
   "cell_type": "code",
   "execution_count": 5,
   "metadata": {
    "ExecuteTime": {
     "end_time": "2018-07-06T09:25:56.515184Z",
     "start_time": "2018-07-06T09:25:56.507458Z"
    }
   },
   "outputs": [],
   "source": [
    "def build_fasttext(size=100):\n",
    "    path = '../data/fasttext_chats_%d.pkl' % size\n",
    "    if os.path.exists(path):\n",
    "        m = FastText.load(path)\n",
    "    else:\n",
    "        m = FastText(SentenceIterator(df_chats_raw['clean_text']), min_count=5, size=size, workers=-1)\n",
    "        m.save(path)\n",
    "    return m"
   ]
  },
  {
   "cell_type": "code",
   "execution_count": 6,
   "metadata": {
    "ExecuteTime": {
     "end_time": "2018-07-06T09:25:58.273060Z",
     "start_time": "2018-07-06T09:25:58.265548Z"
    }
   },
   "outputs": [],
   "source": [
    "def text2vec(text, m=None, size=None):\n",
    "    vectors = []\n",
    "    for word in text_to_word_sequence(text):\n",
    "        try:\n",
    "            v = m.wv[word]\n",
    "            vectors.append(v)\n",
    "        except Exception as e:\n",
    "            pass\n",
    "    if not vectors:\n",
    "        return np.zeros((size, ))\n",
    "    return sum(vectors) / len(vectors)"
   ]
  },
  {
   "cell_type": "code",
   "execution_count": 7,
   "metadata": {
    "ExecuteTime": {
     "end_time": "2018-07-06T09:26:01.868804Z",
     "start_time": "2018-07-06T09:26:01.862321Z"
    }
   },
   "outputs": [],
   "source": [
    "def build_vectors(texts, size=None):\n",
    "    t_model = build_fasttext(size)\n",
    "    vectors = list(map(lambda x: text2vec(x, m=t_model, size=size), texts))\n",
    "    return np.array(vectors)"
   ]
  },
  {
   "cell_type": "markdown",
   "metadata": {},
   "source": [
    "# networks"
   ]
  },
  {
   "cell_type": "code",
   "execution_count": 8,
   "metadata": {
    "ExecuteTime": {
     "end_time": "2018-07-06T09:05:43.802284Z",
     "start_time": "2018-07-06T09:05:43.797519Z"
    }
   },
   "outputs": [],
   "source": [
    "TICKER = 'ETH'"
   ]
  },
  {
   "cell_type": "code",
   "execution_count": 9,
   "metadata": {
    "ExecuteTime": {
     "end_time": "2018-07-06T09:05:45.420756Z",
     "start_time": "2018-07-06T09:05:44.902276Z"
    }
   },
   "outputs": [],
   "source": [
    "df_prices_raw = pd.read_csv('../data/train/tickers_train.csv', index_col=0)"
   ]
  },
  {
   "cell_type": "code",
   "execution_count": 10,
   "metadata": {},
   "outputs": [],
   "source": [
    "df_prices_raw['timestamp'] = pd.to_datetime(df_prices_raw['datetime']).apply(lambda x: x.timestamp())"
   ]
  },
  {
   "cell_type": "code",
   "execution_count": 11,
   "metadata": {
    "ExecuteTime": {
     "end_time": "2018-07-06T09:05:48.080936Z",
     "start_time": "2018-07-06T09:05:48.043275Z"
    }
   },
   "outputs": [],
   "source": [
    "df_prices = df_prices_raw[df_prices_raw['ticker'] == TICKER].copy()"
   ]
  },
  {
   "cell_type": "code",
   "execution_count": 12,
   "metadata": {
    "ExecuteTime": {
     "end_time": "2018-07-06T09:06:25.338072Z",
     "start_time": "2018-07-06T09:06:24.574567Z"
    }
   },
   "outputs": [],
   "source": [
    "df_chats = df_chats_raw[df_chats_raw['clean_text'].str.contains(TICKER.lower())].copy()"
   ]
  },
  {
   "cell_type": "code",
   "execution_count": 13,
   "metadata": {
    "ExecuteTime": {
     "end_time": "2018-07-06T09:25:08.068689Z",
     "start_time": "2018-07-06T09:25:08.040741Z"
    }
   },
   "outputs": [],
   "source": [
    "chat_ids = list(df_chats['chat_id'].unique())\n",
    "chat_ids.sort()\n",
    "chat2ind = {chat_id: i for i, chat_id in enumerate(chat_ids)}\n",
    "\n",
    "sender_ids = list(df_chats['sender_id'].unique())\n",
    "sender_ids.sort()\n",
    "sender2ind = {sender_id: i for i, sender_id in enumerate(sender_ids)}"
   ]
  },
  {
   "cell_type": "code",
   "execution_count": 14,
   "metadata": {
    "ExecuteTime": {
     "end_time": "2018-07-06T09:25:08.159710Z",
     "start_time": "2018-07-06T09:25:08.072400Z"
    }
   },
   "outputs": [],
   "source": [
    "df_chats['chat_ind'] = df_chats['chat_id'].apply(lambda x: chat2ind[x])\n",
    "df_chats['sender_ind'] = df_chats['sender_id'].apply(lambda x: sender2ind[x])"
   ]
  },
  {
   "cell_type": "code",
   "execution_count": 15,
   "metadata": {},
   "outputs": [],
   "source": [
    "df_chats['ind'] = list(range(df_chats.shape[0]))"
   ]
  },
  {
   "cell_type": "code",
   "execution_count": 16,
   "metadata": {
    "ExecuteTime": {
     "end_time": "2018-07-06T09:30:59.535142Z",
     "start_time": "2018-07-06T09:26:10.782666Z"
    }
   },
   "outputs": [],
   "source": [
    "vectors100 = build_vectors(df_chats['clean_text'], size=100)"
   ]
  },
  {
   "cell_type": "code",
   "execution_count": 17,
   "metadata": {
    "ExecuteTime": {
     "end_time": "2018-07-06T09:35:32.880874Z",
     "start_time": "2018-07-06T09:30:59.537775Z"
    }
   },
   "outputs": [],
   "source": [
    "vectors160 = build_vectors(df_chats['clean_text'], size=160)"
   ]
  },
  {
   "cell_type": "code",
   "execution_count": 18,
   "metadata": {},
   "outputs": [],
   "source": [
    "vectors60 = build_vectors(df_chats['clean_text'], size=60)"
   ]
  },
  {
   "cell_type": "code",
   "execution_count": 37,
   "metadata": {
    "ExecuteTime": {
     "end_time": "2018-07-06T09:35:32.900895Z",
     "start_time": "2018-07-06T09:35:32.883607Z"
    }
   },
   "outputs": [],
   "source": [
    "def build_dataset(samples=5, steps=32, vectors=None):\n",
    "    \n",
    "    target_min_up=1.1\n",
    "    target_max_down=0.95\n",
    "    hours_before=48\n",
    "    hours_after=48\n",
    "    \n",
    "    np.random.seed(0)\n",
    "    \n",
    "    inp_fasttext = []\n",
    "    inp_chat_ind = []\n",
    "    inp_sender_ind = []\n",
    "    inp_timedelta_log = []\n",
    "    out_target = [] # grow more than 0.66 quantile, not drawdown less 0.33 quantile in period 48 hours\n",
    "    \n",
    "    for i, row in df_prices.iterrows():\n",
    "        for sample in range(samples):\n",
    "            ts = row['timestamp']\n",
    "\n",
    "            df_chats_sample = df_chats[\n",
    "                (df_chats['timestamp'] > ts - hours_before * 3600) & \n",
    "                (df_chats['timestamp'] < ts)].sample(steps, replace=True)\n",
    "            df_chats_sample['timedelta'] = np.log(-(df_chats_sample['timestamp'] - ts))\n",
    "\n",
    "            chat_indexes = df_chats_sample['ind'].values\n",
    "\n",
    "            batch_fasttext = vectors[chat_indexes]\n",
    "            batch_chat_ind = df_chats.iloc[chat_indexes]['chat_ind'].values\n",
    "            batch_sender_ind = df_chats.iloc[chat_indexes]['sender_ind'].values\n",
    "            batch_timedelta = df_chats_sample['timedelta'].values\n",
    "\n",
    "            df_prices_forward = df_prices[\n",
    "                (df_prices['timestamp'] > ts) & \n",
    "                (df_prices['timestamp'] <= ts + hours_after * 3600)].copy()\n",
    "            df_prices_forward = df_prices_forward.sort_values('timestamp')\n",
    "\n",
    "            if df_prices_forward.shape[0] < int(hours_after / 2):\n",
    "                continue\n",
    "            df_prices_forward['priceUsd'] /= df_prices_forward['priceUsd'].values[0]\n",
    "\n",
    "            target = False\n",
    "            for price_relative in df_prices_forward['priceUsd'].values:\n",
    "                if price_relative < target_max_down:\n",
    "                    target = False\n",
    "                    break\n",
    "                if price_relative > target_min_up:\n",
    "                    target = True\n",
    "                    break\n",
    "\n",
    "            inp_fasttext.append(batch_fasttext)\n",
    "            inp_chat_ind.append(batch_chat_ind)\n",
    "            inp_sender_ind.append(batch_sender_ind)\n",
    "            inp_timedelta_log.append(batch_timedelta)\n",
    "            out_target.append(target)\n",
    "    \n",
    "    inp_fasttext = np.array(inp_fasttext)\n",
    "    inp_chat_ind = np.array(inp_chat_ind)\n",
    "    inp_sender_ind = np.array(inp_sender_ind)\n",
    "    inp_timedelta_log = np.array(inp_timedelta_log)\n",
    "\n",
    "    out_target = np.array(out_target)\n",
    "    \n",
    "    inp_chat_ind = np.expand_dims(inp_chat_ind, 2)\n",
    "    inp_sender_ind = np.expand_dims(inp_sender_ind, 2)\n",
    "    inp_timedelta_log = np.expand_dims(inp_timedelta_log, 2)\n",
    "\n",
    "    test_size = int(inp_fasttext.shape[0] * 0.1)\n",
    "    \n",
    "    X_train = [\n",
    "        inp_fasttext[:-test_size], inp_chat_ind[:-test_size], \n",
    "        inp_sender_ind[:-test_size], inp_timedelta_log[:-test_size]]\n",
    "    Y_train = out_target[:-test_size]\n",
    "    validation_data=[\n",
    "        [inp_fasttext[-test_size:], inp_chat_ind[-test_size:], inp_sender_ind[-test_size:], inp_timedelta_log[-test_size:]],\n",
    "        out_target[-test_size:]\n",
    "    ]\n",
    "    \n",
    "    return X_train, Y_train, validation_data"
   ]
  },
  {
   "cell_type": "code",
   "execution_count": 27,
   "metadata": {},
   "outputs": [],
   "source": [
    "def build_nn(sender_size=128, chat_size=4, STEPS=None, lr=0.0001, fasttext_size=100):\n",
    "\n",
    "    SENDER_EMBEDDING_SIZE = sender_size\n",
    "    CHAT_EMBEDDING_SIZE = chat_size\n",
    "\n",
    "    inp_layer_fasttext = Input(shape=(STEPS, fasttext_size, ), name='inp_layer_fasttext')\n",
    "    # inp_layer_sender_bot = Input(shape=(STEPS, 1, ), name='inp_layer_sender_bot')\n",
    "    inp_layer_chat = Input(shape=(STEPS, 1, ), name='inp_layer_chat')\n",
    "    inp_layer_sender = Input(shape=(STEPS, 1, ), name='inp_layer_sender')\n",
    "    inp_layer_timedelta = Input(shape=(STEPS, 1, ), name='inp_layer_timedelta')\n",
    "\n",
    "    sender_embedding = Embedding(len(sender2ind), SENDER_EMBEDDING_SIZE)(inp_layer_sender)\n",
    "    chat_embedding = Embedding(len(chat2ind), CHAT_EMBEDDING_SIZE)(inp_layer_chat)\n",
    "\n",
    "    sender_embedding = Reshape((STEPS, SENDER_EMBEDDING_SIZE))(sender_embedding)\n",
    "    chat_embedding = Reshape((STEPS, CHAT_EMBEDDING_SIZE))(chat_embedding)\n",
    "\n",
    "    common_layer = Concatenate(axis=-1)([\n",
    "        inp_layer_fasttext, chat_embedding, sender_embedding, inp_layer_timedelta])\n",
    "\n",
    "    lstm = LSTM(8)(common_layer)\n",
    "    # lstm = LSTM(8)(lstm)\n",
    "\n",
    "    dense = Dense(1, activation='sigmoid')(lstm)\n",
    "\n",
    "    model = Model(\n",
    "        inputs=[inp_layer_fasttext, inp_layer_chat, inp_layer_sender, inp_layer_timedelta],\n",
    "        outputs=dense\n",
    "    )\n",
    "\n",
    "    opt = Adam(lr=lr)\n",
    "    model.compile(optimizer=opt, loss='binary_crossentropy', metrics=['accuracy'])\n",
    "    \n",
    "    return model\n",
    "# model.compile(optimizer='sgd', loss='binary_crossentropy')"
   ]
  },
  {
   "cell_type": "code",
   "execution_count": 74,
   "metadata": {},
   "outputs": [
    {
     "data": {
      "image/png": "[encoded data removed]",
      "text/plain": [
       "<Figure size 432x288 with 1 Axes>"
      ]
     },
     "metadata": {},
     "output_type": "display_data"
    },
    {
     "name": "stdout",
     "output_type": "stream",
     "text": [
      "CPU times: user 2min 52s, sys: 46.8 s, total: 3min 39s\n",
      "Wall time: 50.6 s\n"
     ]
    }
   ],
   "source": [
    "%%time \n",
    "\n",
    "np.random.seed(0)\n",
    "\n",
    "model = build_nn(sender_size=128, chat_size=4, STEPS=32, lr=0.0001, fasttext_size=100)\n",
    "X1, Y1, val1 = build_dataset(samples=5, steps=32, vectors=vectors100)\n",
    "model.fit(X1, Y1, validation_data=val1, epochs=20, verbose=0)\n",
    "\n",
    "plt.plot(model.history.history['loss'], label='loss')\n",
    "plt.plot(model.history.history['val_loss'], label='val_loss')\n",
    "plt.legend()\n",
    "plt.show()\n",
    "\n",
    "y_pred = model.predict(val1[0])\n",
    "roc_auc_score(val1[1], y_pred)"
   ]
  },
  {
   "cell_type": "code",
   "execution_count": 75,
   "metadata": {},
   "outputs": [
    {
     "data": {
      "image/png": "[encoded data removed]",
      "text/plain": [
       "<Figure size 432x288 with 1 Axes>"
      ]
     },
     "metadata": {},
     "output_type": "display_data"
    },
    {
     "name": "stdout",
     "output_type": "stream",
     "text": [
      "CPU times: user 2min 57s, sys: 48.1 s, total: 3min 45s\n",
      "Wall time: 52.8 s\n"
     ]
    }
   ],
   "source": [
    "%%time \n",
    "\n",
    "np.random.seed(0)\n",
    "\n",
    "model = build_nn(sender_size=128, chat_size=4, STEPS=32, lr=0.0001, fasttext_size=160)\n",
    "X1, Y1, val1 = build_dataset(samples=5, steps=32, vectors=vectors160)\n",
    "model.fit(X1, Y1, validation_data=val1, epochs=20, verbose=0)\n",
    "\n",
    "plt.plot(model.history.history['loss'], label='loss')\n",
    "plt.plot(model.history.history['val_loss'], label='val_loss')\n",
    "plt.legend()\n",
    "plt.show()\n",
    "\n",
    "y_pred = model.predict(val1[0])\n",
    "roc_auc_score(val1[1], y_pred)"
   ]
  },
  {
   "cell_type": "code",
   "execution_count": 76,
   "metadata": {},
   "outputs": [
    {
     "data": {
      "image/png": "[encoded data removed]",
      "text/plain": [
       "<Figure size 432x288 with 1 Axes>"
      ]
     },
     "metadata": {},
     "output_type": "display_data"
    },
    {
     "name": "stdout",
     "output_type": "stream",
     "text": [
      "CPU times: user 3min 12s, sys: 49.1 s, total: 4min 1s\n",
      "Wall time: 53.1 s\n"
     ]
    }
   ],
   "source": [
    "%%time \n",
    "\n",
    "np.random.seed(0)\n",
    "\n",
    "model = build_nn(sender_size=128, chat_size=4, STEPS=32, lr=0.0001, fasttext_size=260)\n",
    "X1, Y1, val1 = build_dataset(samples=5, steps=32, vectors=np.concatenate([vectors100, vectors160], axis=1))\n",
    "model.fit(X1, Y1, validation_data=val1, epochs=20, verbose=0)\n",
    "\n",
    "plt.plot(model.history.history['loss'], label='loss')\n",
    "plt.plot(model.history.history['val_loss'], label='val_loss')\n",
    "plt.legend()\n",
    "plt.show()\n",
    "\n",
    "y_pred = model.predict(val1[0])\n",
    "roc_auc_score(val1[1], y_pred)"
   ]
  },
  {
   "cell_type": "code",
   "execution_count": 77,
   "metadata": {},
   "outputs": [
    {
     "data": {
      "image/png": "[encoded data removed]",
      "text/plain": [
       "<Figure size 432x288 with 1 Axes>"
      ]
     },
     "metadata": {},
     "output_type": "display_data"
    },
    {
     "name": "stdout",
     "output_type": "stream",
     "text": [
      "CPU times: user 3min 1s, sys: 46 s, total: 3min 47s\n",
      "Wall time: 52 s\n"
     ]
    }
   ],
   "source": [
    "%%time \n",
    "\n",
    "np.random.seed(0)\n",
    "\n",
    "model = build_nn(sender_size=128, chat_size=4, STEPS=32, lr=0.0001, fasttext_size=160)\n",
    "X1, Y1, val1 = build_dataset(samples=5, steps=32, vectors=np.concatenate([vectors100, vectors60], axis=1))\n",
    "model.fit(X1, Y1, validation_data=val1, epochs=20, verbose=0)\n",
    "\n",
    "plt.plot(model.history.history['loss'], label='loss')\n",
    "plt.plot(model.history.history['val_loss'], label='val_loss')\n",
    "plt.legend()\n",
    "plt.show()\n",
    "\n",
    "y_pred = model.predict(val1[0])\n",
    "roc_auc_score(val1[1], y_pred)"
   ]
  },
  {
   "cell_type": "code",
   "execution_count": 78,
   "metadata": {},
   "outputs": [
    {
     "data": {
      "image/png": "[encoded data removed]",
      "text/plain": [
       "<Figure size 432x288 with 1 Axes>"
      ]
     },
     "metadata": {},
     "output_type": "display_data"
    },
    {
     "name": "stdout",
     "output_type": "stream",
     "text": [
      "CPU times: user 2min 47s, sys: 46.3 s, total: 3min 34s\n",
      "Wall time: 50.2 s\n"
     ]
    }
   ],
   "source": [
    "%%time \n",
    "\n",
    "np.random.seed(0)\n",
    "\n",
    "model = build_nn(sender_size=128, chat_size=4, STEPS=32, lr=0.0001, fasttext_size=60)\n",
    "X1, Y1, val1 = build_dataset(samples=5, steps=32, vectors=vectors60)\n",
    "model.fit(X1, Y1, validation_data=val1, epochs=20, verbose=0)\n",
    "\n",
    "plt.plot(model.history.history['loss'], label='loss')\n",
    "plt.plot(model.history.history['val_loss'], label='val_loss')\n",
    "plt.legend()\n",
    "plt.show()\n",
    "\n",
    "y_pred = model.predict(val1[0])\n",
    "roc_auc_score(val1[1], y_pred)"
   ]
  },
  {
   "cell_type": "code",
   "execution_count": 82,
   "metadata": {},
   "outputs": [],
   "source": [
    "with open('../data/train_test.pkl', 'wb') as f:\n",
    "    f.write(pickle.dumps({\n",
    "        'x': X1,\n",
    "        'y': Y1,\n",
    "        'validation': val1,\n",
    "    }))"
   ]
  },
  {
   "cell_type": "markdown",
   "metadata": {},
   "source": [
    "# tune hyperparams"
   ]
  },
  {
   "cell_type": "code",
   "execution_count": 29,
   "metadata": {},
   "outputs": [],
   "source": [
    "space = {\n",
    "    'sender_size': hp.choice('sender_size', list(range(8, 256))),\n",
    "    'chat_size': hp.choice('chat_size', list(range(2, 10))),\n",
    "    'steps': hp.choice('steps', [32, 64, 128]),\n",
    "    'lr': 10**hp.uniform('lr', -8, -2),\n",
    "    'samples': hp.choice('samples', list(range(1, 10))),\n",
    "}"
   ]
  },
  {
   "cell_type": "code",
   "execution_count": 30,
   "metadata": {},
   "outputs": [],
   "source": [
    "x = hyperopt.pyll.stochastic.sample(space)"
   ]
  },
  {
   "cell_type": "code",
   "execution_count": 31,
   "metadata": {},
   "outputs": [
    {
     "data": {
      "text/plain": [
       "{'chat_size': 2,\n",
       " 'lr': 0.0016457644842810236,\n",
       " 'samples': 1,\n",
       " 'sender_size': 114,\n",
       " 'steps': 128}"
      ]
     },
     "execution_count": 31,
     "metadata": {},
     "output_type": "execute_result"
    }
   ],
   "source": [
    "x"
   ]
  },
  {
   "cell_type": "code",
   "execution_count": 32,
   "metadata": {},
   "outputs": [],
   "source": [
    "del x"
   ]
  },
  {
   "cell_type": "code",
   "execution_count": 53,
   "metadata": {},
   "outputs": [],
   "source": [
    "def objective(x):\n",
    "    \n",
    "    np.random.seed(0)\n",
    "    \n",
    "    print(x)\n",
    "    \n",
    "    model = build_nn(\n",
    "        sender_size=x['sender_size'], chat_size=x['chat_size'], STEPS=x['steps'], \n",
    "        lr=x['lr'], fasttext_size=100)\n",
    "    X1, Y1, val1 = build_dataset(samples=x['samples'], steps=x['steps'], vectors=vectors100)\n",
    "    model.fit(X1, Y1, validation_data=val1, epochs=20, verbose=0)\n",
    "    \n",
    "    y_pred = model.predict(val1[0])\n",
    "    score = roc_auc_score(val1[1], y_pred)\n",
    "    \n",
    "    print('roc_auc', score)\n",
    "    \n",
    "    return {'loss': -score, 'status': STATUS_OK}"
   ]
  },
  {
   "cell_type": "code",
   "execution_count": 54,
   "metadata": {},
   "outputs": [],
   "source": [
    "trials = Trials()"
   ]
  },
  {
   "cell_type": "code",
   "execution_count": 55,
   "metadata": {},
   "outputs": [
    {
     "name": "stdout",
     "output_type": "stream",
     "text": [
      "{'chat_size': 7, 'lr': 0.006918750043673687, 'samples': 8, 'sender_size': 198, 'steps': 128}\n",
      "roc_auc 0.6615463389656937\n",
      "{'chat_size': 5, 'lr': 9.995474354714894e-07, 'samples': 6, 'sender_size': 80, 'steps': 32}\n",
      "roc_auc 0.5905797101449276\n",
      "{'chat_size': 8, 'lr': 1.1455768949709289e-08, 'samples': 3, 'sender_size': 28, 'steps': 32}\n",
      "roc_auc 0.49666436622958365\n",
      "{'chat_size': 7, 'lr': 0.007455494149785534, 'samples': 5, 'sender_size': 78, 'steps': 128}\n",
      "roc_auc 0.6386650386650388\n",
      "{'chat_size': 2, 'lr': 3.632134753241807e-06, 'samples': 3, 'sender_size': 172, 'steps': 128}\n",
      "roc_auc 0.49689440993788825\n",
      "{'chat_size': 8, 'lr': 4.970548031870346e-06, 'samples': 4, 'sender_size': 217, 'steps': 32}\n",
      "roc_auc 0.5555555555555556\n",
      "{'chat_size': 3, 'lr': 1.892660765248683e-06, 'samples': 6, 'sender_size': 229, 'steps': 128}\n",
      "roc_auc 0.4702093397745571\n",
      "{'chat_size': 5, 'lr': 7.460944658023947e-05, 'samples': 6, 'sender_size': 189, 'steps': 64}\n",
      "roc_auc 0.6499884978145848\n",
      "{'chat_size': 4, 'lr': 3.0370119356449403e-06, 'samples': 5, 'sender_size': 172, 'steps': 64}\n",
      "roc_auc 0.39999999999999997\n",
      "{'chat_size': 5, 'lr': 2.1554691924076768e-05, 'samples': 4, 'sender_size': 64, 'steps': 128}\n",
      "roc_auc 0.5325140809011777\n",
      "{'chat_size': 8, 'lr': 1.1391377277638732e-07, 'samples': 8, 'sender_size': 199, 'steps': 128}\n",
      "roc_auc 0.5297299027137736\n",
      "{'chat_size': 4, 'lr': 6.361230769351448e-06, 'samples': 7, 'sender_size': 9, 'steps': 128}\n",
      "roc_auc 0.5875115478290082\n",
      "{'chat_size': 2, 'lr': 0.0022249437886325413, 'samples': 7, 'sender_size': 85, 'steps': 64}\n",
      "roc_auc 0.4187872679936172\n",
      "{'chat_size': 4, 'lr': 0.0008761393899030371, 'samples': 7, 'sender_size': 236, 'steps': 64}\n",
      "roc_auc 0.6701520114218527\n",
      "{'chat_size': 4, 'lr': 0.005325358740423438, 'samples': 5, 'sender_size': 121, 'steps': 64}\n",
      "roc_auc 0.48001628001628005\n",
      "{'chat_size': 7, 'lr': 0.005409964340257611, 'samples': 6, 'sender_size': 125, 'steps': 128}\n",
      "roc_auc 0.6040085116172073\n",
      "{'chat_size': 9, 'lr': 8.088102012092919e-05, 'samples': 9, 'sender_size': 254, 'steps': 128}\n",
      "roc_auc 0.7722852103804485\n",
      "{'chat_size': 5, 'lr': 3.3215565785761354e-05, 'samples': 5, 'sender_size': 213, 'steps': 128}\n",
      "roc_auc 0.7789987789987789\n",
      "{'chat_size': 8, 'lr': 4.838994280392826e-07, 'samples': 6, 'sender_size': 183, 'steps': 128}\n",
      "roc_auc 0.4501955371520589\n",
      "{'chat_size': 5, 'lr': 6.543015989714473e-05, 'samples': 7, 'sender_size': 54, 'steps': 128}\n",
      "roc_auc 0.6629713613840598\n"
     ]
    }
   ],
   "source": [
    "best = fmin(objective, space, algo=tpe.suggest, max_evals=20, trials=trials)"
   ]
  },
  {
   "cell_type": "code",
   "execution_count": 56,
   "metadata": {},
   "outputs": [
    {
     "data": {
      "text/plain": [
       "{'chat_size': 3,\n",
       " 'lr': -4.478658345494257,\n",
       " 'samples': 4,\n",
       " 'sender_size': 205,\n",
       " 'steps': 2}"
      ]
     },
     "execution_count": 56,
     "metadata": {},
     "output_type": "execute_result"
    }
   ],
   "source": [
    "best"
   ]
  },
  {
   "cell_type": "code",
   "execution_count": 59,
   "metadata": {},
   "outputs": [
    {
     "data": {
      "text/plain": [
       "{'chat_size': 5,\n",
       " 'lr': 3.3215565785761354e-05,\n",
       " 'samples': 5,\n",
       " 'sender_size': 213,\n",
       " 'steps': 128}"
      ]
     },
     "execution_count": 59,
     "metadata": {},
     "output_type": "execute_result"
    }
   ],
   "source": [
    "{'chat_size': 5, 'lr': 0.000033215565785761354, 'samples': 5, 'sender_size': 213, 'steps': 128}\n",
    "# roc_auc 0.7789987789987789"
   ]
  },
  {
   "cell_type": "code",
   "execution_count": 64,
   "metadata": {},
   "outputs": [
    {
     "name": "stdout",
     "output_type": "stream",
     "text": [
      "Train on 3186 samples, validate on 354 samples\n",
      "Epoch 1/20\n",
      "3186/3186 [==============================] - 10s 3ms/step - loss: 0.4798 - acc: 0.8836 - val_loss: 0.4677 - val_acc: 0.8898\n",
      "Epoch 2/20\n",
      "3186/3186 [==============================] - 6s 2ms/step - loss: 0.4640 - acc: 0.8836 - val_loss: 0.4525 - val_acc: 0.8898\n",
      "Epoch 3/20\n",
      "3186/3186 [==============================] - 6s 2ms/step - loss: 0.4483 - acc: 0.8836 - val_loss: 0.4384 - val_acc: 0.8898\n",
      "Epoch 4/20\n",
      "3186/3186 [==============================] - 6s 2ms/step - loss: 0.4343 - acc: 0.8836 - val_loss: 0.4265 - val_acc: 0.8898\n",
      "Epoch 5/20\n",
      "3186/3186 [==============================] - 6s 2ms/step - loss: 0.4226 - acc: 0.8836 - val_loss: 0.4166 - val_acc: 0.8898\n",
      "Epoch 6/20\n",
      "3186/3186 [==============================] - 6s 2ms/step - loss: 0.4125 - acc: 0.8836 - val_loss: 0.4079 - val_acc: 0.8898\n",
      "Epoch 7/20\n",
      "3186/3186 [==============================] - 6s 2ms/step - loss: 0.4038 - acc: 0.8836 - val_loss: 0.4004 - val_acc: 0.8898\n",
      "Epoch 8/20\n",
      "3186/3186 [==============================] - 6s 2ms/step - loss: 0.3963 - acc: 0.8836 - val_loss: 0.3944 - val_acc: 0.8898\n",
      "Epoch 9/20\n",
      "3186/3186 [==============================] - 6s 2ms/step - loss: 0.3893 - acc: 0.8836 - val_loss: 0.3896 - val_acc: 0.8898\n",
      "Epoch 10/20\n",
      "3186/3186 [==============================] - 6s 2ms/step - loss: 0.3815 - acc: 0.8836 - val_loss: 0.3860 - val_acc: 0.8898\n",
      "Epoch 11/20\n",
      "3186/3186 [==============================] - 6s 2ms/step - loss: 0.3705 - acc: 0.8836 - val_loss: 0.3820 - val_acc: 0.8898\n",
      "Epoch 12/20\n",
      "3186/3186 [==============================] - 6s 2ms/step - loss: 0.3590 - acc: 0.8836 - val_loss: 0.3725 - val_acc: 0.8898\n",
      "Epoch 13/20\n",
      "3186/3186 [==============================] - 6s 2ms/step - loss: 0.3508 - acc: 0.8836 - val_loss: 0.3640 - val_acc: 0.8898\n",
      "Epoch 14/20\n",
      "3186/3186 [==============================] - 6s 2ms/step - loss: 0.3445 - acc: 0.8836 - val_loss: 0.3562 - val_acc: 0.8898\n",
      "Epoch 15/20\n",
      "3186/3186 [==============================] - 6s 2ms/step - loss: 0.3391 - acc: 0.8836 - val_loss: 0.3519 - val_acc: 0.8898\n",
      "Epoch 16/20\n",
      "3186/3186 [==============================] - 6s 2ms/step - loss: 0.3341 - acc: 0.8836 - val_loss: 0.3480 - val_acc: 0.8898\n",
      "Epoch 17/20\n",
      "3186/3186 [==============================] - 6s 2ms/step - loss: 0.3292 - acc: 0.8836 - val_loss: 0.3448 - val_acc: 0.8898\n",
      "Epoch 18/20\n",
      "3186/3186 [==============================] - 6s 2ms/step - loss: 0.3242 - acc: 0.8836 - val_loss: 0.3422 - val_acc: 0.8898\n",
      "Epoch 19/20\n",
      "3186/3186 [==============================] - 6s 2ms/step - loss: 0.3189 - acc: 0.8836 - val_loss: 0.3410 - val_acc: 0.8898\n",
      "Epoch 20/20\n",
      "3186/3186 [==============================] - 6s 2ms/step - loss: 0.3130 - acc: 0.8836 - val_loss: 0.3357 - val_acc: 0.8898\n"
     ]
    },
    {
     "data": {
      "image/png": "[encoded data removed]",
      "text/plain": [
       "<Figure size 432x288 with 1 Axes>"
      ]
     },
     "metadata": {},
     "output_type": "display_data"
    },
    {
     "name": "stdout",
     "output_type": "stream",
     "text": [
      "roc auc 0.7917785917785917\n",
      "CPU times: user 10min 1s, sys: 1min 44s, total: 11min 46s\n",
      "Wall time: 2min 22s\n"
     ]
    }
   ],
   "source": [
    "%%time \n",
    "\n",
    "np.random.seed(0)\n",
    "\n",
    "model = build_nn(sender_size=213, chat_size=5, STEPS=128, lr=0.00003, fasttext_size=100)\n",
    "X1, Y1, val1 = build_dataset(samples=5, steps=128, vectors=vectors100)\n",
    "model.fit(X1, Y1, validation_data=val1, epochs=20)\n",
    "\n",
    "plt.plot(model.history.history['loss'], label='loss')\n",
    "plt.plot(model.history.history['val_loss'], label='val_loss')\n",
    "plt.legend()\n",
    "plt.show()\n",
    "\n",
    "y_pred = model.predict(val1[0])\n",
    "score = roc_auc_score(val1[1], y_pred)\n",
    "\n",
    "print('roc auc', score)"
   ]
  },
  {
   "cell_type": "code",
   "execution_count": 68,
   "metadata": {},
   "outputs": [
    {
     "data": {
      "text/plain": [
       "[]"
      ]
     },
     "execution_count": 68,
     "metadata": {},
     "output_type": "execute_result"
    },
    {
     "data": {
      "image/png": "[encoded data removed]",
      "text/plain": [
       "<Figure size 432x288 with 1 Axes>"
      ]
     },
     "metadata": {},
     "output_type": "display_data"
    }
   ],
   "source": [
    "fpr, tpr, _ = roc_curve(val1[1], y_pred)\n",
    "\n",
    "plt.plot(fpr, tpr)\n",
    "plt.plot([0, 1], [0, 1], color='navy', linestyle='--')\n",
    "plt.xlim([0.0, 1.0])\n",
    "plt.ylim([0.0, 1.05])\n",
    "plt.xlabel('False Positive Rate')\n",
    "plt.ylabel('True Positive Rate')\n",
    "plt.plot()"
   ]
  },
  {
   "cell_type": "code",
   "execution_count": null,
   "metadata": {},
   "outputs": [],
   "source": []
  }
 ],
 "metadata": {
  "kernelspec": {
   "display_name": "Python 3",
   "language": "python",
   "name": "python3"
  },
  "language_info": {
   "codemirror_mode": {
    "name": "ipython",
    "version": 3
   },
   "file_extension": ".py",
   "mimetype": "text/x-python",
   "name": "python",
   "nbconvert_exporter": "python",
   "pygments_lexer": "ipython3",
   "version": "3.6.5"
  },
  "toc": {
   "nav_menu": {},
   "number_sections": true,
   "sideBar": true,
   "skip_h1_title": false,
   "toc_cell": true,
   "toc_position": {},
   "toc_section_display": "block",
   "toc_window_display": false
  }
 },
 "nbformat": 4,
 "nbformat_minor": 2
}
