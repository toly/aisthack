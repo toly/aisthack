{
 "cells": [
  {
   "cell_type": "markdown",
   "metadata": {
    "toc": true
   },
   "source": [
    "<h1>Table of Contents<span class=\"tocSkip\"></span></h1>\n",
    "<div class=\"toc\" style=\"margin-top: 1em;\"><ul class=\"toc-item\"></ul></div>"
   ]
  },
  {
   "cell_type": "code",
   "execution_count": 44,
   "metadata": {
    "ExecuteTime": {
     "end_time": "2018-07-07T10:29:13.784942Z",
     "start_time": "2018-07-07T10:29:13.779935Z"
    }
   },
   "outputs": [],
   "source": [
    "import pandas as pd\n",
    "from collections import Counter\n",
    "\n",
    "from sklearn.cluster import KMeans\n",
    "from sklearn.decomposition import TruncatedSVD\n",
    "from sklearn.feature_extraction.text import CountVectorizer, TfidfVectorizer\n",
    "from sklearn.linear_model import LogisticRegression"
   ]
  },
  {
   "cell_type": "code",
   "execution_count": 2,
   "metadata": {
    "ExecuteTime": {
     "end_time": "2018-07-07T10:10:42.122098Z",
     "start_time": "2018-07-07T10:10:37.908782Z"
    }
   },
   "outputs": [],
   "source": [
    "df = pd.read_csv('../data/clean_text.csv')"
   ]
  },
  {
   "cell_type": "code",
   "execution_count": 28,
   "metadata": {
    "ExecuteTime": {
     "end_time": "2018-07-07T10:20:26.351337Z",
     "start_time": "2018-07-07T10:20:25.832865Z"
    }
   },
   "outputs": [],
   "source": [
    "df_prices = pd.read_csv('../data/train/tickers_train.csv')\n",
    "df_prices = df_prices[df_prices['ticker'] == 'ETH'].copy()"
   ]
  },
  {
   "cell_type": "code",
   "execution_count": 37,
   "metadata": {
    "ExecuteTime": {
     "end_time": "2018-07-07T10:27:43.093895Z",
     "start_time": "2018-07-07T10:27:43.088081Z"
    }
   },
   "outputs": [],
   "source": [
    "df_prices['timestamp'] = pd.to_datetime(df_prices['datetime'])"
   ]
  },
  {
   "cell_type": "code",
   "execution_count": 38,
   "metadata": {
    "ExecuteTime": {
     "end_time": "2018-07-07T10:28:03.734836Z",
     "start_time": "2018-07-07T10:28:03.717808Z"
    }
   },
   "outputs": [],
   "source": [
    "df_prices['timestamp'] = df_prices['timestamp'].apply(lambda x: x.timestamp())"
   ]
  },
  {
   "cell_type": "code",
   "execution_count": 7,
   "metadata": {
    "ExecuteTime": {
     "end_time": "2018-07-07T10:13:16.080757Z",
     "start_time": "2018-07-07T10:13:15.303795Z"
    }
   },
   "outputs": [],
   "source": [
    "df = df[df['clean_text'].str.contains('eth')].copy()"
   ]
  },
  {
   "cell_type": "code",
   "execution_count": 8,
   "metadata": {
    "ExecuteTime": {
     "end_time": "2018-07-07T10:13:18.088556Z",
     "start_time": "2018-07-07T10:13:17.390799Z"
    }
   },
   "outputs": [],
   "source": [
    "tf_idf = TfidfVectorizer()\n",
    "raw_vectors = tf_idf.fit_transform(df['clean_text'])"
   ]
  },
  {
   "cell_type": "code",
   "execution_count": 11,
   "metadata": {
    "ExecuteTime": {
     "end_time": "2018-07-07T10:14:07.244126Z",
     "start_time": "2018-07-07T10:14:06.362592Z"
    }
   },
   "outputs": [],
   "source": [
    "pca = TruncatedSVD(n_components=30)\n",
    "pca_vectors = pca.fit_transform(raw_vectors)"
   ]
  },
  {
   "cell_type": "code",
   "execution_count": 48,
   "metadata": {
    "ExecuteTime": {
     "end_time": "2018-07-07T10:31:52.097422Z",
     "start_time": "2018-07-07T10:31:52.092653Z"
    }
   },
   "outputs": [],
   "source": [
    "CLUSTERS_COUNT = 20\n",
    "clusterizer = KMeans(n_clusters=CLUSTERS_COUNT)\n",
    "clusters = clusterizer.fit_transform(pca_vectors)"
   ]
  },
  {
   "cell_type": "code",
   "execution_count": 22,
   "metadata": {
    "ExecuteTime": {
     "end_time": "2018-07-07T10:16:04.419701Z",
     "start_time": "2018-07-07T10:16:04.414604Z"
    }
   },
   "outputs": [],
   "source": [
    "cluster_ind = clusters.argmax(axis=1)"
   ]
  },
  {
   "cell_type": "code",
   "execution_count": 23,
   "metadata": {
    "ExecuteTime": {
     "end_time": "2018-07-07T10:16:20.695764Z",
     "start_time": "2018-07-07T10:16:20.689229Z"
    }
   },
   "outputs": [],
   "source": [
    "df['cluster'] = cluster_ind"
   ]
  },
  {
   "cell_type": "code",
   "execution_count": 32,
   "metadata": {
    "ExecuteTime": {
     "end_time": "2018-07-07T10:23:38.473925Z",
     "start_time": "2018-07-07T10:23:38.464847Z"
    }
   },
   "outputs": [],
   "source": [
    "df_prices['change'] = df_prices.priceUsd.pct_change().fillna(0)"
   ]
  },
  {
   "cell_type": "code",
   "execution_count": 33,
   "metadata": {
    "ExecuteTime": {
     "end_time": "2018-07-07T10:24:04.853191Z",
     "start_time": "2018-07-07T10:24:04.844007Z"
    }
   },
   "outputs": [],
   "source": [
    "df_prices['price_grow'] = df_prices['change'] > 0"
   ]
  },
  {
   "cell_type": "code",
   "execution_count": 34,
   "metadata": {
    "ExecuteTime": {
     "end_time": "2018-07-07T10:24:18.852374Z",
     "start_time": "2018-07-07T10:24:18.837649Z"
    }
   },
   "outputs": [
    {
     "data": {
      "text/plain": [
       "True     373\n",
       "False    359\n",
       "Name: price_grow, dtype: int64"
      ]
     },
     "execution_count": 34,
     "metadata": {},
     "output_type": "execute_result"
    }
   ],
   "source": [
    "df_prices['price_grow'].value_counts()"
   ]
  },
  {
   "cell_type": "code",
   "execution_count": 55,
   "metadata": {
    "ExecuteTime": {
     "end_time": "2018-07-07T10:34:13.140758Z",
     "start_time": "2018-07-07T10:34:11.616711Z"
    }
   },
   "outputs": [],
   "source": [
    "WINDOW = 10\n",
    "cluster_counts = []\n",
    "target = []\n",
    "for i, row in df_prices.iterrows():\n",
    "    ts_end = row['timestamp']\n",
    "    ts_start = ts_end - WINDOW * 2 * 3600\n",
    "    clusters = df[(df['timestamp'] > ts_start) & (df['timestamp'] < ts_end)]['cluster'].values\n",
    "    counter = Counter(clusters)\n",
    "    row_cluster_counts = [counter[cluster] for cluster in range(CLUSTERS_COUNT)]\n",
    "    cluster_counts.append(row_cluster_counts)\n",
    "    target.append(int(row['price_grow']))"
   ]
  },
  {
   "cell_type": "code",
   "execution_count": 56,
   "metadata": {
    "ExecuteTime": {
     "end_time": "2018-07-07T10:34:42.624914Z",
     "start_time": "2018-07-07T10:34:42.607073Z"
    }
   },
   "outputs": [
    {
     "data": {
      "text/plain": [
       "LogisticRegression(C=1.0, class_weight=None, dual=False, fit_intercept=True,\n",
       "          intercept_scaling=1, max_iter=100, multi_class='ovr', n_jobs=1,\n",
       "          penalty='l2', random_state=None, solver='liblinear', tol=0.0001,\n",
       "          verbose=0, warm_start=False)"
      ]
     },
     "execution_count": 56,
     "metadata": {},
     "output_type": "execute_result"
    }
   ],
   "source": [
    "model = LogisticRegression()\n",
    "model.fit(cluster_counts, target)"
   ]
  },
  {
   "cell_type": "code",
   "execution_count": 64,
   "metadata": {
    "ExecuteTime": {
     "end_time": "2018-07-07T10:39:18.294113Z",
     "start_time": "2018-07-07T10:39:18.287642Z"
    }
   },
   "outputs": [],
   "source": [
    "cluster_counts = df['cluster'].value_counts()"
   ]
  },
  {
   "cell_type": "code",
   "execution_count": 66,
   "metadata": {
    "ExecuteTime": {
     "end_time": "2018-07-07T10:40:30.979232Z",
     "start_time": "2018-07-07T10:40:30.975422Z"
    }
   },
   "outputs": [],
   "source": [
    "data = []\n",
    "for i, coef in enumerate(model.coef_[0]):\n",
    "    data.append([\n",
    "        i, coef, cluster_counts.get(i, 0)\n",
    "    ])"
   ]
  },
  {
   "cell_type": "code",
   "execution_count": 68,
   "metadata": {
    "ExecuteTime": {
     "end_time": "2018-07-07T10:40:57.881861Z",
     "start_time": "2018-07-07T10:40:57.876793Z"
    }
   },
   "outputs": [],
   "source": [
    "d = pd.DataFrame(data, columns=['cluster_no', 'coef', 'count'])"
   ]
  },
  {
   "cell_type": "code",
   "execution_count": 71,
   "metadata": {
    "ExecuteTime": {
     "end_time": "2018-07-07T10:41:39.301477Z",
     "start_time": "2018-07-07T10:41:39.289953Z"
    }
   },
   "outputs": [
    {
     "data": {
      "text/html": [
       "<div>\n",
       "<style scoped>\n",
       "    .dataframe tbody tr th:only-of-type {\n",
       "        vertical-align: middle;\n",
       "    }\n",
       "\n",
       "    .dataframe tbody tr th {\n",
       "        vertical-align: top;\n",
       "    }\n",
       "\n",
       "    .dataframe thead th {\n",
       "        text-align: right;\n",
       "    }\n",
       "</style>\n",
       "<table border=\"1\" class=\"dataframe\">\n",
       "  <thead>\n",
       "    <tr style=\"text-align: right;\">\n",
       "      <th></th>\n",
       "      <th>cluster_no</th>\n",
       "      <th>coef</th>\n",
       "      <th>count</th>\n",
       "    </tr>\n",
       "  </thead>\n",
       "  <tbody>\n",
       "    <tr>\n",
       "      <th>16</th>\n",
       "      <td>16</td>\n",
       "      <td>-0.023790</td>\n",
       "      <td>719</td>\n",
       "    </tr>\n",
       "    <tr>\n",
       "      <th>17</th>\n",
       "      <td>17</td>\n",
       "      <td>-0.011442</td>\n",
       "      <td>2</td>\n",
       "    </tr>\n",
       "    <tr>\n",
       "      <th>8</th>\n",
       "      <td>8</td>\n",
       "      <td>-0.004890</td>\n",
       "      <td>618</td>\n",
       "    </tr>\n",
       "    <tr>\n",
       "      <th>2</th>\n",
       "      <td>2</td>\n",
       "      <td>-0.002708</td>\n",
       "      <td>5457</td>\n",
       "    </tr>\n",
       "    <tr>\n",
       "      <th>0</th>\n",
       "      <td>0</td>\n",
       "      <td>0.000000</td>\n",
       "      <td>0</td>\n",
       "    </tr>\n",
       "  </tbody>\n",
       "</table>\n",
       "</div>"
      ],
      "text/plain": [
       "    cluster_no      coef  count\n",
       "16          16 -0.023790    719\n",
       "17          17 -0.011442      2\n",
       "8            8 -0.004890    618\n",
       "2            2 -0.002708   5457\n",
       "0            0  0.000000      0"
      ]
     },
     "execution_count": 71,
     "metadata": {},
     "output_type": "execute_result"
    }
   ],
   "source": [
    "d.sort_values('coef')[:5]"
   ]
  },
  {
   "cell_type": "code",
   "execution_count": 73,
   "metadata": {
    "ExecuteTime": {
     "end_time": "2018-07-07T10:41:57.046697Z",
     "start_time": "2018-07-07T10:41:57.031711Z"
    }
   },
   "outputs": [
    {
     "data": {
      "text/html": [
       "<div>\n",
       "<style scoped>\n",
       "    .dataframe tbody tr th:only-of-type {\n",
       "        vertical-align: middle;\n",
       "    }\n",
       "\n",
       "    .dataframe tbody tr th {\n",
       "        vertical-align: top;\n",
       "    }\n",
       "\n",
       "    .dataframe thead th {\n",
       "        text-align: right;\n",
       "    }\n",
       "</style>\n",
       "<table border=\"1\" class=\"dataframe\">\n",
       "  <thead>\n",
       "    <tr style=\"text-align: right;\">\n",
       "      <th></th>\n",
       "      <th>cluster_no</th>\n",
       "      <th>coef</th>\n",
       "      <th>count</th>\n",
       "    </tr>\n",
       "  </thead>\n",
       "  <tbody>\n",
       "    <tr>\n",
       "      <th>15</th>\n",
       "      <td>15</td>\n",
       "      <td>0.128515</td>\n",
       "      <td>3</td>\n",
       "    </tr>\n",
       "    <tr>\n",
       "      <th>19</th>\n",
       "      <td>19</td>\n",
       "      <td>0.122940</td>\n",
       "      <td>75</td>\n",
       "    </tr>\n",
       "    <tr>\n",
       "      <th>10</th>\n",
       "      <td>10</td>\n",
       "      <td>0.114625</td>\n",
       "      <td>16</td>\n",
       "    </tr>\n",
       "    <tr>\n",
       "      <th>1</th>\n",
       "      <td>1</td>\n",
       "      <td>0.011865</td>\n",
       "      <td>1370</td>\n",
       "    </tr>\n",
       "    <tr>\n",
       "      <th>13</th>\n",
       "      <td>13</td>\n",
       "      <td>0.008765</td>\n",
       "      <td>134</td>\n",
       "    </tr>\n",
       "    <tr>\n",
       "      <th>4</th>\n",
       "      <td>4</td>\n",
       "      <td>0.005993</td>\n",
       "      <td>12</td>\n",
       "    </tr>\n",
       "    <tr>\n",
       "      <th>7</th>\n",
       "      <td>7</td>\n",
       "      <td>0.005309</td>\n",
       "      <td>3698</td>\n",
       "    </tr>\n",
       "    <tr>\n",
       "      <th>18</th>\n",
       "      <td>18</td>\n",
       "      <td>0.001196</td>\n",
       "      <td>17684</td>\n",
       "    </tr>\n",
       "    <tr>\n",
       "      <th>3</th>\n",
       "      <td>3</td>\n",
       "      <td>0.000000</td>\n",
       "      <td>0</td>\n",
       "    </tr>\n",
       "    <tr>\n",
       "      <th>14</th>\n",
       "      <td>14</td>\n",
       "      <td>0.000000</td>\n",
       "      <td>0</td>\n",
       "    </tr>\n",
       "  </tbody>\n",
       "</table>\n",
       "</div>"
      ],
      "text/plain": [
       "    cluster_no      coef  count\n",
       "15          15  0.128515      3\n",
       "19          19  0.122940     75\n",
       "10          10  0.114625     16\n",
       "1            1  0.011865   1370\n",
       "13          13  0.008765    134\n",
       "4            4  0.005993     12\n",
       "7            7  0.005309   3698\n",
       "18          18  0.001196  17684\n",
       "3            3  0.000000      0\n",
       "14          14  0.000000      0"
      ]
     },
     "execution_count": 73,
     "metadata": {},
     "output_type": "execute_result"
    }
   ],
   "source": [
    "d.sort_values('coef', ascending=False)[:10]"
   ]
  },
  {
   "cell_type": "code",
   "execution_count": 78,
   "metadata": {
    "ExecuteTime": {
     "end_time": "2018-07-07T10:46:36.958817Z",
     "start_time": "2018-07-07T10:46:36.945855Z"
    }
   },
   "outputs": [
    {
     "name": "stdout",
     "output_type": "stream",
     "text": [
      "GROW\n",
      "tokenpay and verge both together are going to fuck btc , ethereum and other alts.\n",
      "you guys better hurry buy some ethereum before it goes to the moon, and buy indahash\n",
      "i think there are dozens of people that are waiting the update wether to decide to buy more or sell\n",
      "you mean the smart people rode the waves and bailed when it couldnt sustain the price, it is going down to the real price now. you should be buying more if you are a believer instead of calling people idiots. there is no perfect way to introduce something where the apes dont get a jiggy\n",
      "i guess will be no ripple .. more like bnb, btc ,eth\n",
      "i pump few more eth wait for more idiot lol\n",
      "listen, maybe it will, maybe it won't, buy you no what, this makes sensem don't like it, piss off. stip wasting your time. go for a drink, get laid, do something other than shit post all day.\n",
      "should we be buying more eos\n",
      " as they say its going to replace eth\n",
      "so, does doing this turn you on or something? like, are you jerking off at the same time?\n",
      "most of you guys here are too busy looking at the chart and trying to make something out of it but the most valuable things you'll need to learn to be good at investing are patience, resilience, and self-discipline.\n"
     ]
    }
   ],
   "source": [
    "print('GROW')\n",
    "texts = ''\n",
    "for text in df[df['cluster'] == 1]['text'][:10]:\n",
    "    texts += text\n",
    "    print(text)"
   ]
  },
  {
   "cell_type": "code",
   "execution_count": 82,
   "metadata": {
    "ExecuteTime": {
     "end_time": "2018-07-07T10:47:49.609143Z",
     "start_time": "2018-07-07T10:47:49.600875Z"
    }
   },
   "outputs": [
    {
     "data": {
      "text/plain": [
       "[('to', 10),\n",
       " ('the', 10),\n",
       " ('are', 7),\n",
       " ('and', 6),\n",
       " ('it', 6),\n",
       " ('more', 6),\n",
       " ('you', 6),\n",
       " ('buy', 4),\n",
       " ('of', 4),\n",
       " ('be', 4),\n",
       " ('going', 3),\n",
       " ('people', 3),\n",
       " ('a', 3),\n",
       " ('no', 3),\n",
       " ('something', 3),\n",
       " ('at', 3),\n",
       " ('btc', 2),\n",
       " ('ethereum', 2),\n",
       " ('other', 2),\n",
       " ('guys', 2),\n",
       " ('there', 2),\n",
       " ('or', 2),\n",
       " ('is', 2),\n",
       " ('buying', 2),\n",
       " ('get', 2),\n",
       " ('like', 2),\n",
       " ('for', 2),\n",
       " ('maybe', 2),\n",
       " ('this', 2),\n",
       " ('tokenpay', 1),\n",
       " ('verge', 1),\n",
       " ('both', 1),\n",
       " ('together', 1),\n",
       " ('fuck', 1),\n",
       " (',', 1),\n",
       " ('alts.you', 1),\n",
       " ('better', 1),\n",
       " ('hurry', 1),\n",
       " ('some', 1),\n",
       " ('before', 1),\n",
       " ('goes', 1),\n",
       " ('moon,', 1),\n",
       " ('indahashi', 1),\n",
       " ('think', 1),\n",
       " ('dozens', 1),\n",
       " ('that', 1),\n",
       " ('waiting', 1),\n",
       " ('update', 1),\n",
       " ('wether', 1),\n",
       " ('decide', 1)]"
      ]
     },
     "execution_count": 82,
     "metadata": {},
     "output_type": "execute_result"
    }
   ],
   "source": [
    "Counter(texts.split()).most_common(50)"
   ]
  },
  {
   "cell_type": "code",
   "execution_count": 83,
   "metadata": {
    "ExecuteTime": {
     "end_time": "2018-07-07T10:48:05.571605Z",
     "start_time": "2018-07-07T10:48:05.559824Z"
    }
   },
   "outputs": [
    {
     "name": "stdout",
     "output_type": "stream",
     "text": [
      "DOWN\n",
      "sold my xvg yesterday and now eth rising up, god bless me yihaaa\n",
      "neo eth btc nothing else 😎\n",
      "its only fappening eth can even flip btc... btc flips market\n",
      "buy btc or eth from coinbase via cc\n",
      "good project neo ltc eth is deep.   your advise is rubbish\n",
      "type to the search ltc. there is i thing bnb, btc, eth :)\n",
      "eth more profit...than convert to btc...\n",
      "okay understood now... eth from my designated mew\n",
      "i prefer eth coz btc is volatile\n",
      "they mine whatever coin is profitable, not just eth\n"
     ]
    }
   ],
   "source": [
    "print('DOWN')\n",
    "texts = ''\n",
    "for text in df[df['cluster'] == 16]['text'][:10]:\n",
    "    texts += text\n",
    "    print(text)"
   ]
  },
  {
   "cell_type": "code",
   "execution_count": 84,
   "metadata": {
    "ExecuteTime": {
     "end_time": "2018-07-07T10:48:11.602884Z",
     "start_time": "2018-07-07T10:48:11.591237Z"
    }
   },
   "outputs": [
    {
     "data": {
      "text/plain": [
       "[('eth', 9),\n",
       " ('is', 5),\n",
       " ('btc', 4),\n",
       " ('my', 2),\n",
       " ('from', 2),\n",
       " ('to', 2),\n",
       " ('sold', 1),\n",
       " ('xvg', 1),\n",
       " ('yesterday', 1),\n",
       " ('and', 1),\n",
       " ('now', 1),\n",
       " ('rising', 1),\n",
       " ('up,', 1),\n",
       " ('god', 1),\n",
       " ('bless', 1),\n",
       " ('me', 1),\n",
       " ('yihaaaneo', 1),\n",
       " ('nothing', 1),\n",
       " ('else', 1),\n",
       " ('😎its', 1),\n",
       " ('only', 1),\n",
       " ('fappening', 1),\n",
       " ('can', 1),\n",
       " ('even', 1),\n",
       " ('flip', 1),\n",
       " ('btc...', 1),\n",
       " ('flips', 1),\n",
       " ('marketbuy', 1),\n",
       " ('or', 1),\n",
       " ('coinbase', 1),\n",
       " ('via', 1),\n",
       " ('ccgood', 1),\n",
       " ('project', 1),\n",
       " ('neo', 1),\n",
       " ('ltc', 1),\n",
       " ('deep.', 1),\n",
       " ('your', 1),\n",
       " ('advise', 1),\n",
       " ('rubbishtype', 1),\n",
       " ('the', 1),\n",
       " ('search', 1),\n",
       " ('ltc.', 1),\n",
       " ('there', 1),\n",
       " ('i', 1),\n",
       " ('thing', 1),\n",
       " ('bnb,', 1),\n",
       " ('btc,', 1),\n",
       " (':)eth', 1),\n",
       " ('more', 1),\n",
       " ('profit...than', 1)]"
      ]
     },
     "execution_count": 84,
     "metadata": {},
     "output_type": "execute_result"
    }
   ],
   "source": [
    "Counter(texts.split()).most_common(50)"
   ]
  },
  {
   "cell_type": "code",
   "execution_count": null,
   "metadata": {},
   "outputs": [],
   "source": []
  }
 ],
 "metadata": {
  "kernelspec": {
   "display_name": "Python 3",
   "language": "python",
   "name": "python3"
  },
  "language_info": {
   "codemirror_mode": {
    "name": "ipython",
    "version": 3
   },
   "file_extension": ".py",
   "mimetype": "text/x-python",
   "name": "python",
   "nbconvert_exporter": "python",
   "pygments_lexer": "ipython3",
   "version": "3.6.4"
  },
  "toc": {
   "nav_menu": {},
   "number_sections": true,
   "sideBar": true,
   "skip_h1_title": false,
   "toc_cell": true,
   "toc_position": {},
   "toc_section_display": "block",
   "toc_window_display": false
  }
 },
 "nbformat": 4,
 "nbformat_minor": 2
}
