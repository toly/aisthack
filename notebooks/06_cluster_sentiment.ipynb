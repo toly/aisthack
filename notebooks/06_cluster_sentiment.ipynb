{
 "cells": [
  {
   "cell_type": "markdown",
   "metadata": {
    "toc": true
   },
   "source": [
    "<h1>Table of Contents<span class=\"tocSkip\"></span></h1>\n",
    "<div class=\"toc\" style=\"margin-top: 1em;\"><ul class=\"toc-item\"></ul></div>"
   ]
  },
  {
   "cell_type": "code",
   "execution_count": 171,
   "metadata": {
    "ExecuteTime": {
     "end_time": "2018-07-07T11:14:00.359407Z",
     "start_time": "2018-07-07T11:13:59.663811Z"
    }
   },
   "outputs": [],
   "source": [
    "import pandas as pd\n",
    "from collections import Counter\n",
    "\n",
    "from sklearn.cluster import KMeans\n",
    "from sklearn.decomposition import TruncatedSVD\n",
    "from sklearn.pipeline import Pipeline\n",
    "from sklearn.preprocessing import StandardScaler\n",
    "from sklearn.feature_extraction.text import CountVectorizer, TfidfVectorizer\n",
    "from sklearn.linear_model import LogisticRegression\n",
    "from sklearn.metrics import roc_auc_score\n",
    "\n",
    "import matplotlib.pyplot as plt\n",
    "\n",
    "%matplotlib inline"
   ]
  },
  {
   "cell_type": "code",
   "execution_count": 2,
   "metadata": {
    "ExecuteTime": {
     "end_time": "2018-07-07T10:10:42.122098Z",
     "start_time": "2018-07-07T10:10:37.908782Z"
    }
   },
   "outputs": [],
   "source": [
    "df = pd.read_csv('../data/clean_text.csv')"
   ]
  },
  {
   "cell_type": "code",
   "execution_count": 28,
   "metadata": {
    "ExecuteTime": {
     "end_time": "2018-07-07T10:20:26.351337Z",
     "start_time": "2018-07-07T10:20:25.832865Z"
    }
   },
   "outputs": [],
   "source": [
    "df_prices = pd.read_csv('../data/train/tickers_train.csv')\n",
    "df_prices = df_prices[df_prices['ticker'] == 'ETH'].copy()"
   ]
  },
  {
   "cell_type": "code",
   "execution_count": 37,
   "metadata": {
    "ExecuteTime": {
     "end_time": "2018-07-07T10:27:43.093895Z",
     "start_time": "2018-07-07T10:27:43.088081Z"
    }
   },
   "outputs": [],
   "source": [
    "df_prices['timestamp'] = pd.to_datetime(df_prices['datetime'])"
   ]
  },
  {
   "cell_type": "code",
   "execution_count": 38,
   "metadata": {
    "ExecuteTime": {
     "end_time": "2018-07-07T10:28:03.734836Z",
     "start_time": "2018-07-07T10:28:03.717808Z"
    }
   },
   "outputs": [],
   "source": [
    "df_prices['timestamp'] = df_prices['timestamp'].apply(lambda x: x.timestamp())"
   ]
  },
  {
   "cell_type": "code",
   "execution_count": 7,
   "metadata": {
    "ExecuteTime": {
     "end_time": "2018-07-07T10:13:16.080757Z",
     "start_time": "2018-07-07T10:13:15.303795Z"
    }
   },
   "outputs": [],
   "source": [
    "df = df[df['clean_text'].str.contains('eth')].copy()"
   ]
  },
  {
   "cell_type": "code",
   "execution_count": 8,
   "metadata": {
    "ExecuteTime": {
     "end_time": "2018-07-07T10:13:18.088556Z",
     "start_time": "2018-07-07T10:13:17.390799Z"
    }
   },
   "outputs": [],
   "source": [
    "tf_idf = TfidfVectorizer()\n",
    "raw_vectors = tf_idf.fit_transform(df['clean_text'])"
   ]
  },
  {
   "cell_type": "code",
   "execution_count": 210,
   "metadata": {
    "ExecuteTime": {
     "end_time": "2018-07-07T11:17:42.228578Z",
     "start_time": "2018-07-07T11:17:42.219632Z"
    }
   },
   "outputs": [
    {
     "data": {
      "text/plain": [
       "(29788, 18605)"
      ]
     },
     "execution_count": 210,
     "metadata": {},
     "output_type": "execute_result"
    }
   ],
   "source": [
    "raw_vectors.shape"
   ]
  },
  {
   "cell_type": "code",
   "execution_count": 211,
   "metadata": {
    "ExecuteTime": {
     "end_time": "2018-07-07T11:17:57.613059Z",
     "start_time": "2018-07-07T11:17:49.196523Z"
    }
   },
   "outputs": [],
   "source": [
    "pca = TruncatedSVD(n_components=300)\n",
    "pca_vectors = pca.fit_transform(raw_vectors)"
   ]
  },
  {
   "cell_type": "code",
   "execution_count": 213,
   "metadata": {
    "ExecuteTime": {
     "end_time": "2018-07-07T11:18:22.953530Z",
     "start_time": "2018-07-07T11:18:10.460927Z"
    }
   },
   "outputs": [],
   "source": [
    "CLUSTERS_COUNT = 10\n",
    "clusterizer = KMeans(n_clusters=CLUSTERS_COUNT)\n",
    "clusters_raw = clusterizer.fit_transform(pca_vectors)"
   ]
  },
  {
   "cell_type": "code",
   "execution_count": 214,
   "metadata": {
    "ExecuteTime": {
     "end_time": "2018-07-07T11:18:23.566071Z",
     "start_time": "2018-07-07T11:18:23.560712Z"
    }
   },
   "outputs": [],
   "source": [
    "cluster_ind = clusters_raw.argmax(axis=1)"
   ]
  },
  {
   "cell_type": "code",
   "execution_count": 215,
   "metadata": {
    "ExecuteTime": {
     "end_time": "2018-07-07T11:18:24.012828Z",
     "start_time": "2018-07-07T11:18:24.009107Z"
    }
   },
   "outputs": [],
   "source": [
    "df['cluster'] = cluster_ind"
   ]
  },
  {
   "cell_type": "code",
   "execution_count": 216,
   "metadata": {
    "ExecuteTime": {
     "end_time": "2018-07-07T11:18:24.446576Z",
     "start_time": "2018-07-07T11:18:24.440771Z"
    }
   },
   "outputs": [],
   "source": [
    "df_prices['change'] = df_prices.priceUsd.pct_change().fillna(0)"
   ]
  },
  {
   "cell_type": "code",
   "execution_count": 217,
   "metadata": {
    "ExecuteTime": {
     "end_time": "2018-07-07T11:18:25.352097Z",
     "start_time": "2018-07-07T11:18:25.169771Z"
    }
   },
   "outputs": [
    {
     "data": {
      "image/png": "[encoded data removed]",
      "text/plain": [
       "<Figure size 432x288 with 1 Axes>"
      ]
     },
     "metadata": {},
     "output_type": "display_data"
    }
   ],
   "source": [
    "plt.hist(df_prices['change'], bins=20)\n",
    "plt.show()"
   ]
  },
  {
   "cell_type": "code",
   "execution_count": 218,
   "metadata": {
    "ExecuteTime": {
     "end_time": "2018-07-07T11:18:26.082224Z",
     "start_time": "2018-07-07T11:18:26.076742Z"
    }
   },
   "outputs": [],
   "source": [
    "df_prices['price_grow'] = df_prices['change'] > 0.005"
   ]
  },
  {
   "cell_type": "code",
   "execution_count": 219,
   "metadata": {
    "ExecuteTime": {
     "end_time": "2018-07-07T11:18:27.030757Z",
     "start_time": "2018-07-07T11:18:27.019095Z"
    }
   },
   "outputs": [
    {
     "data": {
      "text/plain": [
       "False    510\n",
       "True     222\n",
       "Name: price_grow, dtype: int64"
      ]
     },
     "execution_count": 219,
     "metadata": {},
     "output_type": "execute_result"
    }
   ],
   "source": [
    "df_prices['price_grow'].value_counts()"
   ]
  },
  {
   "cell_type": "code",
   "execution_count": 220,
   "metadata": {
    "ExecuteTime": {
     "end_time": "2018-07-07T11:18:29.350042Z",
     "start_time": "2018-07-07T11:18:27.910910Z"
    }
   },
   "outputs": [],
   "source": [
    "WINDOW = 10\n",
    "cluster_counts = []\n",
    "target = []\n",
    "for i, row in df_prices.iterrows():\n",
    "    ts_end = row['timestamp']\n",
    "    ts_start = ts_end - WINDOW * 2 * 3600\n",
    "    clusters = df[(df['timestamp'] > ts_start) & (df['timestamp'] < ts_end)]['cluster'].values\n",
    "    counter = Counter(clusters)\n",
    "    row_cluster_counts = [counter[cluster] for cluster in range(CLUSTERS_COUNT)]\n",
    "    cluster_counts.append(row_cluster_counts)\n",
    "    target.append(int(row['price_grow']))"
   ]
  },
  {
   "cell_type": "code",
   "execution_count": 221,
   "metadata": {
    "ExecuteTime": {
     "end_time": "2018-07-07T11:18:29.882043Z",
     "start_time": "2018-07-07T11:18:29.877819Z"
    }
   },
   "outputs": [],
   "source": [
    "test_size = int(len(target) * 0.1)"
   ]
  },
  {
   "cell_type": "code",
   "execution_count": 222,
   "metadata": {
    "ExecuteTime": {
     "end_time": "2018-07-07T11:18:30.901969Z",
     "start_time": "2018-07-07T11:18:30.887935Z"
    }
   },
   "outputs": [
    {
     "data": {
      "text/plain": [
       "Pipeline(memory=None,\n",
       "     steps=[('scaler', StandardScaler(copy=True, with_mean=True, with_std=True)), ('clf', LogisticRegression(C=1.0, class_weight=None, dual=False, fit_intercept=True,\n",
       "          intercept_scaling=1, max_iter=100, multi_class='ovr', n_jobs=1,\n",
       "          penalty='l2', random_state=None, solver='liblinear', tol=0.0001,\n",
       "          verbose=0, warm_start=False))])"
      ]
     },
     "execution_count": 222,
     "metadata": {},
     "output_type": "execute_result"
    }
   ],
   "source": [
    "# model = LogisticRegression()\n",
    "\n",
    "model = Pipeline([\n",
    "    ('scaler', StandardScaler()),\n",
    "    ('clf', LogisticRegression())\n",
    "])\n",
    "model.fit(cluster_counts[:-test_size], target[:-test_size])"
   ]
  },
  {
   "cell_type": "code",
   "execution_count": 223,
   "metadata": {
    "ExecuteTime": {
     "end_time": "2018-07-07T11:18:31.713003Z",
     "start_time": "2018-07-07T11:18:31.706457Z"
    }
   },
   "outputs": [],
   "source": [
    "test_target_pred = model.predict_proba(cluster_counts[-test_size:])[:, 1]"
   ]
  },
  {
   "cell_type": "code",
   "execution_count": 224,
   "metadata": {
    "ExecuteTime": {
     "end_time": "2018-07-07T11:18:32.301063Z",
     "start_time": "2018-07-07T11:18:32.290816Z"
    }
   },
   "outputs": [
    {
     "data": {
      "text/plain": [
       "0.5945833333333334"
      ]
     },
     "execution_count": 224,
     "metadata": {},
     "output_type": "execute_result"
    }
   ],
   "source": [
    "roc_auc_score(target[-test_size:], test_target_pred)"
   ]
  },
  {
   "cell_type": "code",
   "execution_count": 225,
   "metadata": {
    "ExecuteTime": {
     "end_time": "2018-07-07T11:18:35.867593Z",
     "start_time": "2018-07-07T11:18:35.862120Z"
    }
   },
   "outputs": [],
   "source": [
    "m = model.steps[1][1]"
   ]
  },
  {
   "cell_type": "code",
   "execution_count": 226,
   "metadata": {
    "ExecuteTime": {
     "end_time": "2018-07-07T11:18:36.394966Z",
     "start_time": "2018-07-07T11:18:36.388885Z"
    }
   },
   "outputs": [],
   "source": [
    "cluster_counts = df['cluster'].value_counts()"
   ]
  },
  {
   "cell_type": "code",
   "execution_count": 227,
   "metadata": {
    "ExecuteTime": {
     "end_time": "2018-07-07T11:18:38.702245Z",
     "start_time": "2018-07-07T11:18:38.697521Z"
    }
   },
   "outputs": [],
   "source": [
    "data = []\n",
    "for i, coef in enumerate(m.coef_[0]):\n",
    "    data.append([\n",
    "        i, coef, cluster_counts.get(i, 0)\n",
    "    ])"
   ]
  },
  {
   "cell_type": "code",
   "execution_count": 228,
   "metadata": {
    "ExecuteTime": {
     "end_time": "2018-07-07T11:18:39.749974Z",
     "start_time": "2018-07-07T11:18:39.744241Z"
    }
   },
   "outputs": [],
   "source": [
    "d = pd.DataFrame(data, columns=['cluster_no', 'coef', 'count'])"
   ]
  },
  {
   "cell_type": "code",
   "execution_count": 229,
   "metadata": {
    "ExecuteTime": {
     "end_time": "2018-07-07T11:18:40.561016Z",
     "start_time": "2018-07-07T11:18:40.547274Z"
    }
   },
   "outputs": [
    {
     "data": {
      "text/html": [
       "<div>\n",
       "<style scoped>\n",
       "    .dataframe tbody tr th:only-of-type {\n",
       "        vertical-align: middle;\n",
       "    }\n",
       "\n",
       "    .dataframe tbody tr th {\n",
       "        vertical-align: top;\n",
       "    }\n",
       "\n",
       "    .dataframe thead th {\n",
       "        text-align: right;\n",
       "    }\n",
       "</style>\n",
       "<table border=\"1\" class=\"dataframe\">\n",
       "  <thead>\n",
       "    <tr style=\"text-align: right;\">\n",
       "      <th></th>\n",
       "      <th>cluster_no</th>\n",
       "      <th>coef</th>\n",
       "      <th>count</th>\n",
       "    </tr>\n",
       "  </thead>\n",
       "  <tbody>\n",
       "    <tr>\n",
       "      <th>9</th>\n",
       "      <td>9</td>\n",
       "      <td>-0.286567</td>\n",
       "      <td>4082</td>\n",
       "    </tr>\n",
       "    <tr>\n",
       "      <th>1</th>\n",
       "      <td>1</td>\n",
       "      <td>-0.167515</td>\n",
       "      <td>5</td>\n",
       "    </tr>\n",
       "    <tr>\n",
       "      <th>0</th>\n",
       "      <td>0</td>\n",
       "      <td>-0.099580</td>\n",
       "      <td>16</td>\n",
       "    </tr>\n",
       "    <tr>\n",
       "      <th>3</th>\n",
       "      <td>3</td>\n",
       "      <td>-0.032265</td>\n",
       "      <td>4</td>\n",
       "    </tr>\n",
       "    <tr>\n",
       "      <th>2</th>\n",
       "      <td>2</td>\n",
       "      <td>0.000000</td>\n",
       "      <td>0</td>\n",
       "    </tr>\n",
       "  </tbody>\n",
       "</table>\n",
       "</div>"
      ],
      "text/plain": [
       "   cluster_no      coef  count\n",
       "9           9 -0.286567   4082\n",
       "1           1 -0.167515      5\n",
       "0           0 -0.099580     16\n",
       "3           3 -0.032265      4\n",
       "2           2  0.000000      0"
      ]
     },
     "execution_count": 229,
     "metadata": {},
     "output_type": "execute_result"
    }
   ],
   "source": [
    "d.sort_values('coef')[:5]"
   ]
  },
  {
   "cell_type": "code",
   "execution_count": 236,
   "metadata": {
    "ExecuteTime": {
     "end_time": "2018-07-07T11:20:49.017497Z",
     "start_time": "2018-07-07T11:20:49.011780Z"
    }
   },
   "outputs": [],
   "source": [
    "GROW_CLUSTER = d.sort_values('coef').iloc[0]['cluster_no']"
   ]
  },
  {
   "cell_type": "code",
   "execution_count": 231,
   "metadata": {
    "ExecuteTime": {
     "end_time": "2018-07-07T11:18:48.675442Z",
     "start_time": "2018-07-07T11:18:48.663679Z"
    }
   },
   "outputs": [
    {
     "data": {
      "text/html": [
       "<div>\n",
       "<style scoped>\n",
       "    .dataframe tbody tr th:only-of-type {\n",
       "        vertical-align: middle;\n",
       "    }\n",
       "\n",
       "    .dataframe tbody tr th {\n",
       "        vertical-align: top;\n",
       "    }\n",
       "\n",
       "    .dataframe thead th {\n",
       "        text-align: right;\n",
       "    }\n",
       "</style>\n",
       "<table border=\"1\" class=\"dataframe\">\n",
       "  <thead>\n",
       "    <tr style=\"text-align: right;\">\n",
       "      <th></th>\n",
       "      <th>cluster_no</th>\n",
       "      <th>coef</th>\n",
       "      <th>count</th>\n",
       "    </tr>\n",
       "  </thead>\n",
       "  <tbody>\n",
       "    <tr>\n",
       "      <th>5</th>\n",
       "      <td>5</td>\n",
       "      <td>0.198383</td>\n",
       "      <td>25677</td>\n",
       "    </tr>\n",
       "    <tr>\n",
       "      <th>4</th>\n",
       "      <td>4</td>\n",
       "      <td>0.105895</td>\n",
       "      <td>4</td>\n",
       "    </tr>\n",
       "    <tr>\n",
       "      <th>2</th>\n",
       "      <td>2</td>\n",
       "      <td>0.000000</td>\n",
       "      <td>0</td>\n",
       "    </tr>\n",
       "    <tr>\n",
       "      <th>6</th>\n",
       "      <td>6</td>\n",
       "      <td>0.000000</td>\n",
       "      <td>0</td>\n",
       "    </tr>\n",
       "    <tr>\n",
       "      <th>7</th>\n",
       "      <td>7</td>\n",
       "      <td>0.000000</td>\n",
       "      <td>0</td>\n",
       "    </tr>\n",
       "  </tbody>\n",
       "</table>\n",
       "</div>"
      ],
      "text/plain": [
       "   cluster_no      coef  count\n",
       "5           5  0.198383  25677\n",
       "4           4  0.105895      4\n",
       "2           2  0.000000      0\n",
       "6           6  0.000000      0\n",
       "7           7  0.000000      0"
      ]
     },
     "execution_count": 231,
     "metadata": {},
     "output_type": "execute_result"
    }
   ],
   "source": [
    "d.sort_values('coef', ascending=False)[:5]"
   ]
  },
  {
   "cell_type": "code",
   "execution_count": 237,
   "metadata": {
    "ExecuteTime": {
     "end_time": "2018-07-07T11:26:06.876927Z",
     "start_time": "2018-07-07T11:26:06.870563Z"
    }
   },
   "outputs": [],
   "source": [
    "DOWN_CLUSTER = d.sort_values('coef', ascending=False).iloc[0]['cluster_no']"
   ]
  },
  {
   "cell_type": "code",
   "execution_count": 238,
   "metadata": {
    "ExecuteTime": {
     "end_time": "2018-07-07T11:26:21.133730Z",
     "start_time": "2018-07-07T11:26:21.123663Z"
    }
   },
   "outputs": [
    {
     "name": "stdout",
     "output_type": "stream",
     "text": [
      "GROW\n",
      "mycrypto is working on a feature to send tokens without having eth\n",
      "also they can keep eth from ico too. \n",
      "\n",
      "well, as i think they already sold all eth earned from ico when it peaked\n",
      "hello, hope you're having an enjoyable day.\n",
      "\n",
      "i am working on a blockchain+ai project called noiz that's focused on solving ad fraud in the digital advertising inudstry. we're turnning annoying spambot clicks into social impact by linking advertisers, publishers, users and charitable organizations all together in a decentralized network. check out our video here (or below): goo.gl/mkcxtl\n",
      "\n",
      "we aim to launch our bounty program within the next week. follow us on telegram @ t.me/noizchainenglish to stay in the loop on how you can earn noiz tokens for free.\n",
      "\n",
      "visit our website noizchain.com for more details and feel free to send us a message at promotions@noizchain.com with any questions you may have.\n",
      "\n",
      "looking forward to having your help in disrupting the digital ad industry. let's get out there and make some noiz!\n",
      "when you check the public address on etherscan, you can see that there are a lot of small ether transactions.\n",
      "by mistake i transfer eth on etc address\n",
      "can you help me to return my eth\n",
      "has anyone retrieved wan sent to a nano ledger s ethereum address?\n",
      "if yes, look eth addres in you email.\n",
      "or do i have to make a transaction everytime i want something.\n",
      "no ether wallet was legit dns hacked and coins stolen and filtered to a phishing wallet. i can send link privately\n"
     ]
    }
   ],
   "source": [
    "print('GROW')\n",
    "texts = ''\n",
    "for text in df[df['cluster'] == GROW_CLUSTER]['text'][:10]:\n",
    "    texts += text\n",
    "    print(text)"
   ]
  },
  {
   "cell_type": "code",
   "execution_count": 233,
   "metadata": {
    "ExecuteTime": {
     "end_time": "2018-07-07T11:19:09.037644Z",
     "start_time": "2018-07-07T11:19:09.032292Z"
    }
   },
   "outputs": [],
   "source": [
    "# Counter(texts.split()).most_common(50)"
   ]
  },
  {
   "cell_type": "code",
   "execution_count": 239,
   "metadata": {
    "ExecuteTime": {
     "end_time": "2018-07-07T11:26:26.892419Z",
     "start_time": "2018-07-07T11:26:26.875877Z"
    }
   },
   "outputs": [
    {
     "name": "stdout",
     "output_type": "stream",
     "text": [
      "DOWN\n",
      "its promising at daily chart and connected with ethereum, if eth keep up, qsp can only success, dyor\n",
      "binance may want to keep things under wraps until they’re  legal, but they certainly wouldn’t dedicate an entire tweet to saying something is not happening mentioning xvg specifically if there was something in the works, there would be no purpose in that\n",
      "free eth giva away here @privateicodrops\n",
      "i feel something is going to happen sooner... yeah!\n",
      "is this the next ethereum?😁\n",
      "relax and focus on somethingelse. this company needs a good year to get established\n",
      "bet sunerok is working with mindgeek on something that will blow our minds\n",
      "monetha posted by @binance_channel today\n",
      "sold my xvg yesterday and now eth rising up, god bless me yihaaa\n",
      "ok mike i shall be carefully scrutinising the impact of your educational campaigns over the course of the next few months but i remain sceptical whether there is a real use case for the token other than superficial. other influencers who had ico recently such as sether are doing badly also.\n"
     ]
    }
   ],
   "source": [
    "print('DOWN')\n",
    "texts = ''\n",
    "for text in df[df['cluster'] == DOWN_CLUSTER]['text'][:10]:\n",
    "    texts += text\n",
    "    print(text)"
   ]
  },
  {
   "cell_type": "code",
   "execution_count": 235,
   "metadata": {
    "ExecuteTime": {
     "end_time": "2018-07-07T11:19:56.861747Z",
     "start_time": "2018-07-07T11:19:56.855133Z"
    }
   },
   "outputs": [],
   "source": [
    "# Counter(texts.split()).most_common(50)"
   ]
  },
  {
   "cell_type": "code",
   "execution_count": 243,
   "metadata": {
    "ExecuteTime": {
     "end_time": "2018-07-07T11:30:01.711860Z",
     "start_time": "2018-07-07T11:30:01.701273Z"
    }
   },
   "outputs": [
    {
     "name": "stdout",
     "output_type": "stream",
     "text": [
      "wan/eth or wan/btc ?\n",
      "better do something else guys\n",
      "i̇t should be something\n",
      "only send eth from mew?\n",
      "there’s something we don’t know !\n",
      "i don't have ether\n",
      "anyone know eth ico price\n",
      "why wan address same as eth?\n",
      "guys i don t know something\n",
      "so i send eth tokens?\n",
      "do i need more ether?\n",
      "why? i did something wrong?\n",
      "why? i say something wrong?\n",
      "was eth a p&d?\n",
      "did i do something wrong?\n",
      "or maybe its something else\n",
      "so i need ether wallet\n",
      "wan do something like ont\n",
      "can i send eth from exchange\n",
      "i only has one ether wallet\n"
     ]
    }
   ],
   "source": [
    "grow_indexes = clusters_raw[:, 9].argsort()[-20:]\n",
    "for text in df.iloc[grow_indexes]['text']:\n",
    "    print(text)"
   ]
  },
  {
   "cell_type": "code",
   "execution_count": 244,
   "metadata": {
    "ExecuteTime": {
     "end_time": "2018-07-07T11:30:16.577807Z",
     "start_time": "2018-07-07T11:30:16.571317Z"
    }
   },
   "outputs": [
    {
     "data": {
      "text/plain": [
       "5.0"
      ]
     },
     "execution_count": 244,
     "metadata": {},
     "output_type": "execute_result"
    }
   ],
   "source": [
    "DOWN_CLUSTER"
   ]
  },
  {
   "cell_type": "code",
   "execution_count": 245,
   "metadata": {
    "ExecuteTime": {
     "end_time": "2018-07-07T11:30:20.280503Z",
     "start_time": "2018-07-07T11:30:20.270089Z"
    }
   },
   "outputs": [
    {
     "name": "stdout",
     "output_type": "stream",
     "text": [
      "together with ont like we are!\n",
      "is going down together with btc\n",
      "its like they all work together\n",
      "i use ada as a tether\n",
      "yeah, something like that! lol.\n",
      "all together on xvg now?😊\n",
      "i̇t should be something\n",
      "why? i did something wrong?\n",
      "wan is better than ethereum\n",
      "there's something about eos\n",
      "guys i don t know something\n",
      "i think there is something else\n",
      "something like neo, ont, etc\n",
      "whether xvg will go up\n",
      "yeah maybe they know something else\n",
      "u think its something going on?\n",
      "people using ont as a tether lol\n",
      "why? i say something wrong?\n",
      "even tether is down lol\n",
      "i think because of tether lol\n"
     ]
    }
   ],
   "source": [
    "down_indexes = clusters_raw[:, 5].argsort()[-20:]\n",
    "for text in df.iloc[down_indexes]['text']:\n",
    "    print(text)"
   ]
  },
  {
   "cell_type": "code",
   "execution_count": null,
   "metadata": {},
   "outputs": [],
   "source": []
  }
 ],
 "metadata": {
  "kernelspec": {
   "display_name": "Python 3",
   "language": "python",
   "name": "python3"
  },
  "language_info": {
   "codemirror_mode": {
    "name": "ipython",
    "version": 3
   },
   "file_extension": ".py",
   "mimetype": "text/x-python",
   "name": "python",
   "nbconvert_exporter": "python",
   "pygments_lexer": "ipython3",
   "version": "3.6.4"
  },
  "toc": {
   "nav_menu": {},
   "number_sections": true,
   "sideBar": true,
   "skip_h1_title": false,
   "toc_cell": true,
   "toc_position": {},
   "toc_section_display": "block",
   "toc_window_display": false
  }
 },
 "nbformat": 4,
 "nbformat_minor": 2
}
