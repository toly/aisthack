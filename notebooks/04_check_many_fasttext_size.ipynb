{
 "cells": [
  {
   "cell_type": "markdown",
   "metadata": {
    "toc": true
   },
   "source": [
    "<h1>Table of Contents<span class=\"tocSkip\"></span></h1>\n",
    "<div class=\"toc\" style=\"margin-top: 1em;\"><ul class=\"toc-item\"><li><span><a href=\"#fasttext-models\" data-toc-modified-id=\"fasttext-models-1\"><span class=\"toc-item-num\">1&nbsp;&nbsp;</span>fasttext models</a></span></li><li><span><a href=\"#networks\" data-toc-modified-id=\"networks-2\"><span class=\"toc-item-num\">2&nbsp;&nbsp;</span>networks</a></span></li></ul></div>"
   ]
  },
  {
   "cell_type": "code",
   "execution_count": 1,
   "metadata": {
    "ExecuteTime": {
     "end_time": "2018-07-06T09:35:32.927211Z",
     "start_time": "2018-07-06T09:35:32.904387Z"
    }
   },
   "outputs": [
    {
     "name": "stderr",
     "output_type": "stream",
     "text": [
      "Using TensorFlow backend.\n"
     ]
    }
   ],
   "source": [
    "import os\n",
    "import numpy as np\n",
    "import pandas as pd\n",
    "\n",
    "from gensim.models.fasttext import FastText\n",
    "from keras.models import Sequential, Model\n",
    "from keras.layers import Dense, Embedding, Input, Concatenate, Reshape, LSTM, GRU\n",
    "from keras.optimizers import Adam\n",
    "from keras.preprocessing.text import text_to_word_sequence\n",
    "\n",
    "from sklearn.metrics import roc_curve, roc_auc_score\n",
    "\n",
    "import matplotlib.pyplot as plt\n",
    "\n",
    "%matplotlib inline"
   ]
  },
  {
   "cell_type": "markdown",
   "metadata": {},
   "source": [
    "# fasttext models"
   ]
  },
  {
   "cell_type": "code",
   "execution_count": 2,
   "metadata": {
    "ExecuteTime": {
     "end_time": "2018-07-06T09:05:29.576292Z",
     "start_time": "2018-07-06T09:05:25.500344Z"
    }
   },
   "outputs": [],
   "source": [
    "df_chats_raw = pd.read_csv('../data/clean_text.csv')"
   ]
  },
  {
   "cell_type": "code",
   "execution_count": 3,
   "metadata": {
    "ExecuteTime": {
     "end_time": "2018-07-06T09:05:29.583790Z",
     "start_time": "2018-07-06T09:05:29.579243Z"
    }
   },
   "outputs": [],
   "source": [
    "class SentenceIterator(object):\n",
    "    texts = None\n",
    "\n",
    "    def __init__(self, texts):\n",
    "        self.texts = texts\n",
    "\n",
    "    def __iter__(self):\n",
    "        for text in self.texts:\n",
    "            yield text_to_word_sequence(text, lower=False)"
   ]
  },
  {
   "cell_type": "code",
   "execution_count": 29,
   "metadata": {
    "ExecuteTime": {
     "end_time": "2018-07-06T09:25:56.515184Z",
     "start_time": "2018-07-06T09:25:56.507458Z"
    }
   },
   "outputs": [],
   "source": [
    "def build_fasttext(size=100):\n",
    "    path = '../data/fasttext_chats_%d.pkl' % size\n",
    "    if os.path.exists(path):\n",
    "        m = FastText.load(path)\n",
    "    else:\n",
    "        m = FastText(SentenceIterator(df_chats_raw['clean_text']), min_count=5, size=size, workers=-1)\n",
    "        m.save(path)\n",
    "    return m"
   ]
  },
  {
   "cell_type": "code",
   "execution_count": 30,
   "metadata": {
    "ExecuteTime": {
     "end_time": "2018-07-06T09:25:58.273060Z",
     "start_time": "2018-07-06T09:25:58.265548Z"
    }
   },
   "outputs": [],
   "source": [
    "def text2vec(text, m=None, size=None):\n",
    "    vectors = []\n",
    "    for word in text_to_word_sequence(text):\n",
    "        try:\n",
    "            v = m.wv[word]\n",
    "            vectors.append(v)\n",
    "        except Exception as e:\n",
    "            pass\n",
    "    if not vectors:\n",
    "        return np.zeros((size, ))\n",
    "    return sum(vectors) / len(vectors)"
   ]
  },
  {
   "cell_type": "code",
   "execution_count": 31,
   "metadata": {
    "ExecuteTime": {
     "end_time": "2018-07-06T09:26:01.868804Z",
     "start_time": "2018-07-06T09:26:01.862321Z"
    }
   },
   "outputs": [],
   "source": [
    "def build_vectors(texts, size=None):\n",
    "    t_model = build_fasttext(size)\n",
    "    vectors = list(map(lambda x: text2vec(x, m=t_model, size=size), texts))\n",
    "    return np.array(vectors)"
   ]
  },
  {
   "cell_type": "markdown",
   "metadata": {},
   "source": [
    "# networks"
   ]
  },
  {
   "cell_type": "code",
   "execution_count": 32,
   "metadata": {
    "ExecuteTime": {
     "end_time": "2018-07-06T09:05:43.802284Z",
     "start_time": "2018-07-06T09:05:43.797519Z"
    }
   },
   "outputs": [],
   "source": [
    "TICKER = 'ETH'"
   ]
  },
  {
   "cell_type": "code",
   "execution_count": 33,
   "metadata": {
    "ExecuteTime": {
     "end_time": "2018-07-06T09:05:45.420756Z",
     "start_time": "2018-07-06T09:05:44.902276Z"
    }
   },
   "outputs": [],
   "source": [
    "df_prices_raw = pd.read_csv('../data/train/tickers_train.csv', index_col=0)"
   ]
  },
  {
   "cell_type": "code",
   "execution_count": 43,
   "metadata": {},
   "outputs": [],
   "source": [
    "df_prices_raw['timestamp'] = pd.to_datetime(df_prices_raw['datetime']).apply(lambda x: x.timestamp())"
   ]
  },
  {
   "cell_type": "code",
   "execution_count": 44,
   "metadata": {
    "ExecuteTime": {
     "end_time": "2018-07-06T09:05:48.080936Z",
     "start_time": "2018-07-06T09:05:48.043275Z"
    }
   },
   "outputs": [],
   "source": [
    "df_prices = df_prices_raw[df_prices_raw['ticker'] == TICKER].copy()"
   ]
  },
  {
   "cell_type": "code",
   "execution_count": 45,
   "metadata": {
    "ExecuteTime": {
     "end_time": "2018-07-06T09:06:25.338072Z",
     "start_time": "2018-07-06T09:06:24.574567Z"
    }
   },
   "outputs": [],
   "source": [
    "df_chats = df_chats_raw[df_chats_raw['clean_text'].str.contains(TICKER.lower())].copy()"
   ]
  },
  {
   "cell_type": "code",
   "execution_count": 46,
   "metadata": {
    "ExecuteTime": {
     "end_time": "2018-07-06T09:25:08.068689Z",
     "start_time": "2018-07-06T09:25:08.040741Z"
    }
   },
   "outputs": [],
   "source": [
    "chat_ids = list(df_chats['chat_id'].unique())\n",
    "chat_ids.sort()\n",
    "chat2ind = {chat_id: i for i, chat_id in enumerate(chat_ids)}\n",
    "\n",
    "sender_ids = list(df_chats['sender_id'].unique())\n",
    "sender_ids.sort()\n",
    "sender2ind = {sender_id: i for i, sender_id in enumerate(sender_ids)}"
   ]
  },
  {
   "cell_type": "code",
   "execution_count": 47,
   "metadata": {
    "ExecuteTime": {
     "end_time": "2018-07-06T09:25:08.159710Z",
     "start_time": "2018-07-06T09:25:08.072400Z"
    }
   },
   "outputs": [],
   "source": [
    "df_chats['chat_ind'] = df_chats['chat_id'].apply(lambda x: chat2ind[x])\n",
    "df_chats['sender_ind'] = df_chats['sender_id'].apply(lambda x: sender2ind[x])"
   ]
  },
  {
   "cell_type": "code",
   "execution_count": 50,
   "metadata": {},
   "outputs": [],
   "source": [
    "df_chats['ind'] = list(range(df_chats.shape[0]))"
   ]
  },
  {
   "cell_type": "code",
   "execution_count": 38,
   "metadata": {
    "ExecuteTime": {
     "end_time": "2018-07-06T09:30:59.535142Z",
     "start_time": "2018-07-06T09:26:10.782666Z"
    }
   },
   "outputs": [],
   "source": [
    "vectors100 = build_vectors(df_chats['clean_text'], size=100)"
   ]
  },
  {
   "cell_type": "code",
   "execution_count": 39,
   "metadata": {
    "ExecuteTime": {
     "end_time": "2018-07-06T09:35:32.880874Z",
     "start_time": "2018-07-06T09:30:59.537775Z"
    }
   },
   "outputs": [],
   "source": [
    "vectors160 = build_vectors(df_chats['clean_text'], size=160)"
   ]
  },
  {
   "cell_type": "code",
   "execution_count": 40,
   "metadata": {},
   "outputs": [],
   "source": [
    "vectors60 = build_vectors(df_chats['clean_text'], size=60)"
   ]
  },
  {
   "cell_type": "code",
   "execution_count": 53,
   "metadata": {
    "ExecuteTime": {
     "end_time": "2018-07-06T09:35:32.900895Z",
     "start_time": "2018-07-06T09:35:32.883607Z"
    }
   },
   "outputs": [],
   "source": [
    "def build_dataset(samples=5, steps=32, vectors=None):\n",
    "    \n",
    "    target_min_up=1.1\n",
    "    target_max_down=0.95\n",
    "    hours_before=48\n",
    "    hours_after=48\n",
    "    \n",
    "    np.random.seed(0)\n",
    "    \n",
    "    inp_fasttext = []\n",
    "    inp_chat_ind = []\n",
    "    inp_sender_ind = []\n",
    "    inp_timedelta_log = []\n",
    "    out_target = [] # grow more than 0.66 quantile, not drawdown less 0.33 quantile in period 48 hours\n",
    "    \n",
    "    for i, row in df_prices.iterrows():\n",
    "        for sample in range(samples):\n",
    "            ts = row['timestamp']\n",
    "\n",
    "            df_chats_sample = df_chats[\n",
    "                (df_chats['timestamp'] > ts - hours_before * 3600) & \n",
    "                (df_chats['timestamp'] < ts)].sample(steps)\n",
    "            df_chats_sample['timedelta'] = np.log(-(df_chats_sample['timestamp'] - ts))\n",
    "\n",
    "            chat_indexes = df_chats_sample['ind'].values\n",
    "\n",
    "            batch_fasttext = vectors[chat_indexes]\n",
    "            batch_chat_ind = df_chats.iloc[chat_indexes]['chat_ind'].values\n",
    "            batch_sender_ind = df_chats.iloc[chat_indexes]['sender_ind'].values\n",
    "            batch_timedelta = df_chats_sample['timedelta'].values\n",
    "\n",
    "            df_prices_forward = df_prices[\n",
    "                (df_prices['timestamp'] > ts) & \n",
    "                (df_prices['timestamp'] <= ts + hours_after * 3600)].copy()\n",
    "            df_prices_forward = df_prices_forward.sort_values('timestamp')\n",
    "\n",
    "            if df_prices_forward.shape[0] < int(hours_before / 2):\n",
    "                continue\n",
    "            df_prices_forward['priceUsd'] /= df_prices_forward['priceUsd'].values[0]\n",
    "\n",
    "            target = False\n",
    "            for price_relative in df_prices_forward['priceUsd'].values:\n",
    "                if price_relative < target_max_down:\n",
    "                    target = False\n",
    "                    break\n",
    "                if price_relative > target_min_up:\n",
    "                    target = True\n",
    "                    break\n",
    "\n",
    "            inp_fasttext.append(batch_fasttext)\n",
    "            inp_chat_ind.append(batch_chat_ind)\n",
    "            inp_sender_ind.append(batch_sender_ind)\n",
    "            inp_timedelta_log.append(batch_timedelta)\n",
    "            out_target.append(target)\n",
    "    \n",
    "    inp_fasttext = np.array(inp_fasttext)\n",
    "    inp_chat_ind = np.array(inp_chat_ind)\n",
    "    inp_sender_ind = np.array(inp_sender_ind)\n",
    "    inp_timedelta_log = np.array(inp_timedelta_log)\n",
    "\n",
    "    out_target = np.array(out_target)\n",
    "    \n",
    "    inp_chat_ind = np.expand_dims(inp_chat_ind, 2)\n",
    "    inp_sender_ind = np.expand_dims(inp_sender_ind, 2)\n",
    "    inp_timedelta_log = np.expand_dims(inp_timedelta_log, 2)\n",
    "\n",
    "    test_size = int(inp_fasttext.shape[0] * 0.1)\n",
    "    \n",
    "    X_train = [\n",
    "        inp_fasttext[:-test_size], inp_chat_ind[:-test_size], \n",
    "        inp_sender_ind[:-test_size], inp_timedelta_log[:-test_size]]\n",
    "    Y_train = out_target[:-test_size]\n",
    "    validation_data=[\n",
    "        [inp_fasttext[-test_size:], inp_chat_ind[-test_size:], inp_sender_ind[-test_size:], inp_timedelta_log[-test_size:]],\n",
    "        out_target[-test_size:]\n",
    "    ]\n",
    "    \n",
    "    return X_train, Y_train, validation_data"
   ]
  },
  {
   "cell_type": "code",
   "execution_count": 60,
   "metadata": {},
   "outputs": [],
   "source": [
    "def build_nn(sender_size=128, chat_size=4, STEPS=None, lr=0.0001, fasttext_size=100):\n",
    "\n",
    "    SENDER_EMBEDDING_SIZE = sender_size\n",
    "    CHAT_EMBEDDING_SIZE = chat_size\n",
    "\n",
    "    inp_layer_fasttext = Input(shape=(STEPS, fasttext_size, ), name='inp_layer_fasttext')\n",
    "    # inp_layer_sender_bot = Input(shape=(STEPS, 1, ), name='inp_layer_sender_bot')\n",
    "    inp_layer_chat = Input(shape=(STEPS, 1, ), name='inp_layer_chat')\n",
    "    inp_layer_sender = Input(shape=(STEPS, 1, ), name='inp_layer_sender')\n",
    "    inp_layer_timedelta = Input(shape=(STEPS, 1, ), name='inp_layer_timedelta')\n",
    "\n",
    "    sender_embedding = Embedding(len(sender2ind), SENDER_EMBEDDING_SIZE)(inp_layer_sender)\n",
    "    chat_embedding = Embedding(len(chat2ind), CHAT_EMBEDDING_SIZE)(inp_layer_chat)\n",
    "\n",
    "    sender_embedding = Reshape((STEPS, SENDER_EMBEDDING_SIZE))(sender_embedding)\n",
    "    chat_embedding = Reshape((STEPS, CHAT_EMBEDDING_SIZE))(chat_embedding)\n",
    "\n",
    "    common_layer = Concatenate(axis=-1)([\n",
    "        inp_layer_fasttext, chat_embedding, sender_embedding, inp_layer_timedelta])\n",
    "\n",
    "    lstm = LSTM(8)(common_layer)\n",
    "    # lstm = LSTM(8)(lstm)\n",
    "\n",
    "    dense = Dense(1, activation='sigmoid')(lstm)\n",
    "\n",
    "    model = Model(\n",
    "        inputs=[inp_layer_fasttext, inp_layer_chat, inp_layer_sender, inp_layer_timedelta],\n",
    "        outputs=dense\n",
    "    )\n",
    "\n",
    "    opt = Adam(lr=lr)\n",
    "    model.compile(optimizer=opt, loss='binary_crossentropy', metrics=['accuracy'])\n",
    "    \n",
    "    return model\n",
    "# model.compile(optimizer='sgd', loss='binary_crossentropy')"
   ]
  },
  {
   "cell_type": "code",
   "execution_count": 62,
   "metadata": {},
   "outputs": [
    {
     "data": {
      "image/png": "[encoded data removed]",
      "text/plain": [
       "<Figure size 432x288 with 1 Axes>"
      ]
     },
     "metadata": {},
     "output_type": "display_data"
    },
    {
     "data": {
      "text/plain": [
       "0.7796499796499796"
      ]
     },
     "execution_count": 62,
     "metadata": {},
     "output_type": "execute_result"
    }
   ],
   "source": [
    "%time \n",
    "\n",
    "np.random.seed(0)\n",
    "\n",
    "model = build_nn(sender_size=128, chat_size=4, STEPS=32, lr=0.0001, fasttext_size=100)\n",
    "X1, Y1, val1 = build_dataset(samples=5, steps=32, vectors=vectors100)\n",
    "model.fit(X1, Y1, validation_data=val1, epochs=10, verbose=0)\n",
    "\n",
    "plt.plot(model.history.history['loss'], label='loss')\n",
    "plt.plot(model.history.history['val_loss'], label='val_loss')\n",
    "plt.legend()\n",
    "plt.show()\n",
    "\n",
    "y_pred = model.predict(val1[0])\n",
    "roc_auc_score(val1[1], y_pred)"
   ]
  },
  {
   "cell_type": "code",
   "execution_count": 64,
   "metadata": {},
   "outputs": [
    {
     "name": "stdout",
     "output_type": "stream",
     "text": [
      "CPU times: user 2 µs, sys: 0 ns, total: 2 µs\n",
      "Wall time: 4.77 µs\n"
     ]
    },
    {
     "data": {
      "image/png": "[encoded data removed]",
      "text/plain": [
       "<Figure size 432x288 with 1 Axes>"
      ]
     },
     "metadata": {},
     "output_type": "display_data"
    },
    {
     "data": {
      "text/plain": [
       "0.7332519332519333"
      ]
     },
     "execution_count": 64,
     "metadata": {},
     "output_type": "execute_result"
    }
   ],
   "source": [
    "%time \n",
    "\n",
    "np.random.seed(0)\n",
    "\n",
    "model = build_nn(sender_size=128, chat_size=4, STEPS=32, lr=0.0001, fasttext_size=160)\n",
    "X1, Y1, val1 = build_dataset(samples=5, steps=32, vectors=vectors160)\n",
    "model.fit(X1, Y1, validation_data=val1, epochs=10, verbose=0)\n",
    "\n",
    "plt.plot(model.history.history['loss'], label='loss')\n",
    "plt.plot(model.history.history['val_loss'], label='val_loss')\n",
    "plt.legend()\n",
    "plt.show()\n",
    "\n",
    "y_pred = model.predict(val1[0])\n",
    "roc_auc_score(val1[1], y_pred)"
   ]
  },
  {
   "cell_type": "code",
   "execution_count": null,
   "metadata": {},
   "outputs": [],
   "source": []
  }
 ],
 "metadata": {
  "kernelspec": {
   "display_name": "Python 3",
   "language": "python",
   "name": "python3"
  },
  "language_info": {
   "codemirror_mode": {
    "name": "ipython",
    "version": 3
   },
   "file_extension": ".py",
   "mimetype": "text/x-python",
   "name": "python",
   "nbconvert_exporter": "python",
   "pygments_lexer": "ipython3",
   "version": "3.6.5"
  },
  "toc": {
   "nav_menu": {},
   "number_sections": true,
   "sideBar": true,
   "skip_h1_title": false,
   "toc_cell": true,
   "toc_position": {},
   "toc_section_display": "block",
   "toc_window_display": false
  }
 },
 "nbformat": 4,
 "nbformat_minor": 2
}
