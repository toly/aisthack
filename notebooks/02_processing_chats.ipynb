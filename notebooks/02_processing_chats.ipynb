{
 "cells": [
  {
   "cell_type": "markdown",
   "metadata": {
    "toc": true
   },
   "source": [
    "<h1>Table of Contents<span class=\"tocSkip\"></span></h1>\n",
    "<div class=\"toc\" style=\"margin-top: 1em;\"><ul class=\"toc-item\"></ul></div>"
   ]
  },
  {
   "cell_type": "code",
   "execution_count": 15,
   "metadata": {
    "ExecuteTime": {
     "end_time": "2018-07-05T09:55:12.065116Z",
     "start_time": "2018-07-05T09:55:06.806433Z"
    }
   },
   "outputs": [],
   "source": [
    "import numpy as np\n",
    "import pandas as pd\n",
    "from gensim.models.fasttext import FastText\n",
    "from keras.preprocessing.text import text_to_word_sequence"
   ]
  },
  {
   "cell_type": "code",
   "execution_count": 5,
   "metadata": {
    "ExecuteTime": {
     "end_time": "2018-07-05T09:53:08.782691Z",
     "start_time": "2018-07-05T09:53:01.018404Z"
    }
   },
   "outputs": [],
   "source": [
    "df = pd.read_csv('../data/train/chats_train.csv')"
   ]
  },
  {
   "cell_type": "code",
   "execution_count": 6,
   "metadata": {
    "ExecuteTime": {
     "end_time": "2018-07-05T09:53:08.847030Z",
     "start_time": "2018-07-05T09:53:08.794035Z"
    }
   },
   "outputs": [
    {
     "data": {
      "text/html": [
       "<div>\n",
       "<style scoped>\n",
       "    .dataframe tbody tr th:only-of-type {\n",
       "        vertical-align: middle;\n",
       "    }\n",
       "\n",
       "    .dataframe tbody tr th {\n",
       "        vertical-align: top;\n",
       "    }\n",
       "\n",
       "    .dataframe thead th {\n",
       "        text-align: right;\n",
       "    }\n",
       "</style>\n",
       "<table border=\"1\" class=\"dataframe\">\n",
       "  <thead>\n",
       "    <tr style=\"text-align: right;\">\n",
       "      <th></th>\n",
       "      <th>chat_id</th>\n",
       "      <th>chat_title</th>\n",
       "      <th>emoji_list</th>\n",
       "      <th>sender_first_name</th>\n",
       "      <th>sender_id</th>\n",
       "      <th>sender_is_bot</th>\n",
       "      <th>sender_last_name</th>\n",
       "      <th>sender_username</th>\n",
       "      <th>text</th>\n",
       "      <th>timestamp</th>\n",
       "    </tr>\n",
       "  </thead>\n",
       "  <tbody>\n",
       "    <tr>\n",
       "      <th>0</th>\n",
       "      <td>1129149026</td>\n",
       "      <td>Pareto Network - Discussion</td>\n",
       "      <td>[]</td>\n",
       "      <td>Bezant</td>\n",
       "      <td>526106862</td>\n",
       "      <td>False</td>\n",
       "      <td>None</td>\n",
       "      <td>None</td>\n",
       "      <td>Admin disputes in private thank you.</td>\n",
       "      <td>1524284160</td>\n",
       "    </tr>\n",
       "    <tr>\n",
       "      <th>1</th>\n",
       "      <td>1129149026</td>\n",
       "      <td>Pareto Network - Discussion</td>\n",
       "      <td>[]</td>\n",
       "      <td>Sheriff</td>\n",
       "      <td>538526216</td>\n",
       "      <td>False</td>\n",
       "      <td>None</td>\n",
       "      <td>None</td>\n",
       "      <td>I see Binance add coins all the time on the Cr...</td>\n",
       "      <td>1524284160</td>\n",
       "    </tr>\n",
       "    <tr>\n",
       "      <th>2</th>\n",
       "      <td>1146170349</td>\n",
       "      <td>Binance English</td>\n",
       "      <td>[]</td>\n",
       "      <td>DaySandBox</td>\n",
       "      <td>400753764</td>\n",
       "      <td>True</td>\n",
       "      <td>None</td>\n",
       "      <td>daysandbox_bot</td>\n",
       "      <td>Removed msg from __Megzon Kadrija__. Reason: n...</td>\n",
       "      <td>1524285614</td>\n",
       "    </tr>\n",
       "    <tr>\n",
       "      <th>3</th>\n",
       "      <td>1146170349</td>\n",
       "      <td>Binance English</td>\n",
       "      <td>[]</td>\n",
       "      <td>Kamalendu</td>\n",
       "      <td>435609627</td>\n",
       "      <td>False</td>\n",
       "      <td>Pal</td>\n",
       "      <td>None</td>\n",
       "      <td>Bc xvg dead</td>\n",
       "      <td>1524285372</td>\n",
       "    </tr>\n",
       "    <tr>\n",
       "      <th>4</th>\n",
       "      <td>1146170349</td>\n",
       "      <td>Binance English</td>\n",
       "      <td>[':thumbsup:']</td>\n",
       "      <td>Abdelbari</td>\n",
       "      <td>154857846</td>\n",
       "      <td>False</td>\n",
       "      <td>K</td>\n",
       "      <td>None</td>\n",
       "      <td>Yes, youre right 👍</td>\n",
       "      <td>1524286342</td>\n",
       "    </tr>\n",
       "  </tbody>\n",
       "</table>\n",
       "</div>"
      ],
      "text/plain": [
       "      chat_id                   chat_title      emoji_list sender_first_name  \\\n",
       "0  1129149026  Pareto Network - Discussion              []            Bezant   \n",
       "1  1129149026  Pareto Network - Discussion              []           Sheriff   \n",
       "2  1146170349              Binance English              []        DaySandBox   \n",
       "3  1146170349              Binance English              []         Kamalendu   \n",
       "4  1146170349              Binance English  [':thumbsup:']         Abdelbari   \n",
       "\n",
       "   sender_id  sender_is_bot sender_last_name sender_username  \\\n",
       "0  526106862          False             None            None   \n",
       "1  538526216          False             None            None   \n",
       "2  400753764           True             None  daysandbox_bot   \n",
       "3  435609627          False              Pal            None   \n",
       "4  154857846          False                K            None   \n",
       "\n",
       "                                                text   timestamp  \n",
       "0               Admin disputes in private thank you.  1524284160  \n",
       "1  I see Binance add coins all the time on the Cr...  1524284160  \n",
       "2  Removed msg from __Megzon Kadrija__. Reason: n...  1524285614  \n",
       "3                                        Bc xvg dead  1524285372  \n",
       "4                                 Yes, youre right 👍  1524286342  "
      ]
     },
     "execution_count": 6,
     "metadata": {},
     "output_type": "execute_result"
    }
   ],
   "source": [
    "df.head()"
   ]
  },
  {
   "cell_type": "code",
   "execution_count": 7,
   "metadata": {
    "ExecuteTime": {
     "end_time": "2018-07-05T09:53:19.207899Z",
     "start_time": "2018-07-05T09:53:18.989167Z"
    }
   },
   "outputs": [],
   "source": [
    "df['text'].fillna('', inplace=True)"
   ]
  },
  {
   "cell_type": "code",
   "execution_count": 8,
   "metadata": {
    "ExecuteTime": {
     "end_time": "2018-07-05T09:53:25.525746Z",
     "start_time": "2018-07-05T09:53:23.779118Z"
    }
   },
   "outputs": [],
   "source": [
    "df['text'] = df['text'].apply(lambda x: x.lower())"
   ]
  },
  {
   "cell_type": "code",
   "execution_count": 9,
   "metadata": {
    "ExecuteTime": {
     "end_time": "2018-07-05T09:53:53.628522Z",
     "start_time": "2018-07-05T09:53:52.791095Z"
    }
   },
   "outputs": [],
   "source": [
    "df = df[~df['text'].isnull()].copy()"
   ]
  },
  {
   "cell_type": "code",
   "execution_count": 10,
   "metadata": {
    "ExecuteTime": {
     "end_time": "2018-07-05T09:55:24.414564Z",
     "start_time": "2018-07-05T09:55:24.409395Z"
    }
   },
   "outputs": [],
   "source": [
    "class SentenceIterator(object):\n",
    "    texts = None\n",
    "\n",
    "    def __init__(self, texts):\n",
    "        self.texts = texts\n",
    "\n",
    "    def __iter__(self):\n",
    "        for text in self.texts:\n",
    "            yield text_to_word_sequence(text, lower=False)"
   ]
  },
  {
   "cell_type": "code",
   "execution_count": 11,
   "metadata": {
    "ExecuteTime": {
     "end_time": "2018-07-05T10:06:50.209513Z",
     "start_time": "2018-07-05T09:56:43.256872Z"
    }
   },
   "outputs": [],
   "source": [
    "fasttext_model = FastText(SentenceIterator(df['text']), min_count=2)"
   ]
  },
  {
   "cell_type": "code",
   "execution_count": 12,
   "metadata": {
    "ExecuteTime": {
     "end_time": "2018-07-05T10:06:50.211297Z",
     "start_time": "2018-07-05T09:59:51.629Z"
    }
   },
   "outputs": [],
   "source": [
    "fasttext_model.save('../data/fasttext_chats.bin')"
   ]
  },
  {
   "cell_type": "markdown",
   "metadata": {},
   "source": [
    "# to vectors"
   ]
  },
  {
   "cell_type": "code",
   "execution_count": 13,
   "metadata": {},
   "outputs": [],
   "source": [
    "df = pd.read_csv('../data/train/chats_train.csv')\n",
    "df['text'].fillna('', inplace=True)\n",
    "df['text'] = df['text'].apply(lambda x: x.lower())"
   ]
  },
  {
   "cell_type": "code",
   "execution_count": 14,
   "metadata": {},
   "outputs": [],
   "source": [
    "def text2vec(text):\n",
    "    vectors = []\n",
    "    for word in text_to_word_sequence(text):\n",
    "        try:\n",
    "            v = fasttext_model.wv[word]\n",
    "            vectors.append(v)\n",
    "        except Exception as e:\n",
    "            pass\n",
    "    if not vectors:\n",
    "        return np.zeros((100, ))\n",
    "    return sum(vectors) / len(vectors)"
   ]
  },
  {
   "cell_type": "code",
   "execution_count": 18,
   "metadata": {},
   "outputs": [],
   "source": [
    "vectors = list(map(text2vec, df['text']))"
   ]
  },
  {
   "cell_type": "code",
   "execution_count": 19,
   "metadata": {},
   "outputs": [],
   "source": [
    "vectors = np.array(vectors)"
   ]
  },
  {
   "cell_type": "code",
   "execution_count": 22,
   "metadata": {},
   "outputs": [],
   "source": [
    "np.save('../data/chat_vectors_100.npy', vectors)"
   ]
  },
  {
   "cell_type": "code",
   "execution_count": null,
   "metadata": {},
   "outputs": [],
   "source": []
  }
 ],
 "metadata": {
  "kernelspec": {
   "display_name": "Python 3",
   "language": "python",
   "name": "python3"
  },
  "language_info": {
   "codemirror_mode": {
    "name": "ipython",
    "version": 3
   },
   "file_extension": ".py",
   "mimetype": "text/x-python",
   "name": "python",
   "nbconvert_exporter": "python",
   "pygments_lexer": "ipython3",
   "version": "3.6.5"
  },
  "toc": {
   "nav_menu": {},
   "number_sections": true,
   "sideBar": true,
   "skip_h1_title": false,
   "toc_cell": true,
   "toc_position": {},
   "toc_section_display": "block",
   "toc_window_display": false
  }
 },
 "nbformat": 4,
 "nbformat_minor": 2
}
