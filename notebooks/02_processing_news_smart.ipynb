{
 "cells": [
  {
   "cell_type": "markdown",
   "metadata": {
    "toc": true
   },
   "source": [
    "<h1>Table of Contents<span class=\"tocSkip\"></span></h1>\n",
    "<div class=\"toc\" style=\"margin-top: 1em;\"><ul class=\"toc-item\"><li><span><a href=\"#load-data\" data-toc-modified-id=\"load-data-1\"><span class=\"toc-item-num\">1&nbsp;&nbsp;</span>load data</a></span></li><li><span><a href=\"#get-clean-text\" data-toc-modified-id=\"get-clean-text-2\"><span class=\"toc-item-num\">2&nbsp;&nbsp;</span>get clean text</a></span><ul class=\"toc-item\"><li><span><a href=\"#find-same-texts\" data-toc-modified-id=\"find-same-texts-2.1\"><span class=\"toc-item-num\">2.1&nbsp;&nbsp;</span>find same texts</a></span></li></ul></li><li><span><a href=\"#learn-fasttext-representations\" data-toc-modified-id=\"learn-fasttext-representations-3\"><span class=\"toc-item-num\">3&nbsp;&nbsp;</span>learn fasttext representations</a></span></li><li><span><a href=\"#to-vectors\" data-toc-modified-id=\"to-vectors-4\"><span class=\"toc-item-num\">4&nbsp;&nbsp;</span>to vectors</a></span></li></ul></div>"
   ]
  },
  {
   "cell_type": "code",
   "execution_count": 1,
   "metadata": {
    "ExecuteTime": {
     "end_time": "2018-07-05T18:57:51.626243Z",
     "start_time": "2018-07-05T18:57:41.018343Z"
    }
   },
   "outputs": [
    {
     "name": "stderr",
     "output_type": "stream",
     "text": [
      "Using TensorFlow backend.\n"
     ]
    }
   ],
   "source": [
    "import re, os\n",
    "from collections import Counter\n",
    "import numpy as np\n",
    "import pandas as pd\n",
    "from gensim.models.fasttext import FastText\n",
    "from keras.preprocessing.text import text_to_word_sequence\n",
    "import functools\n",
    "\n",
    "import matplotlib.pyplot as plt\n",
    "\n",
    "%matplotlib inline"
   ]
  },
  {
   "cell_type": "markdown",
   "metadata": {},
   "source": [
    "# load data"
   ]
  },
  {
   "cell_type": "code",
   "execution_count": 2,
   "metadata": {
    "ExecuteTime": {
     "end_time": "2018-07-05T19:02:29.299487Z",
     "start_time": "2018-07-05T19:02:21.965545Z"
    }
   },
   "outputs": [
    {
     "data": {
      "text/html": [
       "<div>\n",
       "<style scoped>\n",
       "    .dataframe tbody tr th:only-of-type {\n",
       "        vertical-align: middle;\n",
       "    }\n",
       "\n",
       "    .dataframe tbody tr th {\n",
       "        vertical-align: top;\n",
       "    }\n",
       "\n",
       "    .dataframe thead th {\n",
       "        text-align: right;\n",
       "    }\n",
       "</style>\n",
       "<table border=\"1\" class=\"dataframe\">\n",
       "  <thead>\n",
       "    <tr style=\"text-align: right;\">\n",
       "      <th></th>\n",
       "      <th>link</th>\n",
       "      <th>title</th>\n",
       "      <th>publication_date</th>\n",
       "      <th>content</th>\n",
       "      <th>date</th>\n",
       "      <th>site</th>\n",
       "      <th>section</th>\n",
       "    </tr>\n",
       "  </thead>\n",
       "  <tbody>\n",
       "    <tr>\n",
       "      <th>0</th>\n",
       "      <td>https://www.reddit.com/r/altcoin/comments/8a0e...</td>\n",
       "      <td>Bitcoin foundation co-founder upturns bitcoin ...</td>\n",
       "      <td>1.522940e+09</td>\n",
       "      <td>Bitcoin foundation co-founder upturns bitcoin ...</td>\n",
       "      <td>1.524049e+09</td>\n",
       "      <td>www.reddit.com</td>\n",
       "      <td>altcoin</td>\n",
       "    </tr>\n",
       "    <tr>\n",
       "      <th>1</th>\n",
       "      <td>https://www.reddit.com/r/crypto/comments/815zz...</td>\n",
       "      <td>A PoC versioning system based on IPFS and Arag...</td>\n",
       "      <td>1.519918e+09</td>\n",
       "      <td>A PoC versioning system based on IPFS and Arag...</td>\n",
       "      <td>1.524049e+09</td>\n",
       "      <td>www.reddit.com</td>\n",
       "      <td>crypto</td>\n",
       "    </tr>\n",
       "    <tr>\n",
       "      <th>2</th>\n",
       "      <td>https://www.reddit.com/r/datasets/comments/84x...</td>\n",
       "      <td>Fun Datasets to work with</td>\n",
       "      <td>1.521223e+09</td>\n",
       "      <td>Fun Datasets to work with</td>\n",
       "      <td>1.524049e+09</td>\n",
       "      <td>www.reddit.com</td>\n",
       "      <td>datasets</td>\n",
       "    </tr>\n",
       "    <tr>\n",
       "      <th>3</th>\n",
       "      <td>https://www.reddit.com/r/btc/comments/8crrrr/t...</td>\n",
       "      <td>Tax Time is Here and Lots of Cryptocurrency Ho...</td>\n",
       "      <td>1.523919e+09</td>\n",
       "      <td>Tax Time is Here and Lots of Cryptocurrency Ho...</td>\n",
       "      <td>1.524049e+09</td>\n",
       "      <td>www.reddit.com</td>\n",
       "      <td>btc</td>\n",
       "    </tr>\n",
       "    <tr>\n",
       "      <th>4</th>\n",
       "      <td>https://www.reddit.com/r/CryptoCurrency/commen...</td>\n",
       "      <td>IMF Head Says Underlying Technology of Cryptoc...</td>\n",
       "      <td>1.523985e+09</td>\n",
       "      <td>IMF Head Says Underlying Technology of Cryptoc...</td>\n",
       "      <td>1.524049e+09</td>\n",
       "      <td>www.reddit.com</td>\n",
       "      <td>CryptoCurrency</td>\n",
       "    </tr>\n",
       "  </tbody>\n",
       "</table>\n",
       "</div>"
      ],
      "text/plain": [
       "                                                link  \\\n",
       "0  https://www.reddit.com/r/altcoin/comments/8a0e...   \n",
       "1  https://www.reddit.com/r/crypto/comments/815zz...   \n",
       "2  https://www.reddit.com/r/datasets/comments/84x...   \n",
       "3  https://www.reddit.com/r/btc/comments/8crrrr/t...   \n",
       "4  https://www.reddit.com/r/CryptoCurrency/commen...   \n",
       "\n",
       "                                               title  publication_date  \\\n",
       "0  Bitcoin foundation co-founder upturns bitcoin ...      1.522940e+09   \n",
       "1  A PoC versioning system based on IPFS and Arag...      1.519918e+09   \n",
       "2                          Fun Datasets to work with      1.521223e+09   \n",
       "3  Tax Time is Here and Lots of Cryptocurrency Ho...      1.523919e+09   \n",
       "4  IMF Head Says Underlying Technology of Cryptoc...      1.523985e+09   \n",
       "\n",
       "                                             content          date  \\\n",
       "0  Bitcoin foundation co-founder upturns bitcoin ...  1.524049e+09   \n",
       "1  A PoC versioning system based on IPFS and Arag...  1.524049e+09   \n",
       "2                          Fun Datasets to work with  1.524049e+09   \n",
       "3  Tax Time is Here and Lots of Cryptocurrency Ho...  1.524049e+09   \n",
       "4  IMF Head Says Underlying Technology of Cryptoc...  1.524049e+09   \n",
       "\n",
       "             site         section  \n",
       "0  www.reddit.com         altcoin  \n",
       "1  www.reddit.com          crypto  \n",
       "2  www.reddit.com        datasets  \n",
       "3  www.reddit.com             btc  \n",
       "4  www.reddit.com  CryptoCurrency  "
      ]
     },
     "execution_count": 2,
     "metadata": {},
     "output_type": "execute_result"
    }
   ],
   "source": [
    "path_data = os.path.join('..', 'data')\n",
    "df = pd.read_csv(os.path.join(path_data, 'train', 'news_train.csv'))\n",
    "data_type = 'news'# 'chat'\n",
    "df['publication_date'] = pd.to_datetime(df['publication_date']).apply(lambda x: x.timestamp())\n",
    "df['date'] = pd.to_datetime(df['date']).apply(lambda x: x.timestamp())\n",
    "# pd.Series(pd.to_datetime(np.array(df_y_train.index))).apply(lambda x: x.timestamp())\n",
    "\n",
    "df.head()"
   ]
  },
  {
   "cell_type": "markdown",
   "metadata": {},
   "source": [
    "# get clean text"
   ]
  },
  {
   "cell_type": "code",
   "execution_count": 3,
   "metadata": {
    "ExecuteTime": {
     "end_time": "2018-07-05T19:02:29.594562Z",
     "start_time": "2018-07-05T19:02:29.302522Z"
    }
   },
   "outputs": [],
   "source": [
    "field_text = 'content'# 'text'\n",
    "# field_clean_text = 'clean_text'\n",
    "\n",
    "RE_WORD = re.compile(r'\\w+')\n",
    "def only_alpha(text):\n",
    "    return ' '.join(RE_WORD.findall(text))\n",
    "\n",
    "df[field_text].fillna('', inplace=True)\n",
    "df[field_text] = df[field_text].apply(lambda x: x.replace('\\n\\n', '\\n').replace('\\n\\n\\n', '\\n')\n",
    "                                      .replace('\\n ', '\\n')\n",
    "                                      .replace('   ', ' ')\n",
    "                                      .replace('  ', ' ')\n",
    "                                      .lower())\n",
    "\n",
    "df[field_text] = df[field_text].apply(lambda x: '\\n'.join(['img' if ('.png' in y\n",
    "                                                                     or '.jpeg' in y\n",
    "                                                                     or '.jpg' in y)\n",
    "                                                                  else y\n",
    "                                                           for y in x.split('\\n')]))\\\n",
    "                                .apply(lambda x: '\\n'.join(['http' if ('http' in y)\n",
    "                                                                  else y\n",
    "                                                           for y in x.split('\\n')]))\\\n",
    "                                .apply(lambda x: '\\n'.join([y for y in x.split('\\n') if y.strip() != '']))\n",
    "\n",
    "df['clean_text'] = df[field_text].apply(only_alpha)\n",
    "df = df[df['clean_text'] != ''].copy()\n",
    "df['words_count'] = df['clean_text'].apply(lambda x: len(x.split()))"
   ]
  },
  {
   "cell_type": "code",
   "execution_count": 4,
   "metadata": {
    "ExecuteTime": {
     "end_time": "2018-07-05T19:02:29.594562Z",
     "start_time": "2018-07-05T19:02:29.302522Z"
    }
   },
   "outputs": [
    {
     "data": {
      "image/png": "[encoded data removed]",
      "text/plain": [
       "<Figure size 1296x216 with 1 Axes>"
      ]
     },
     "metadata": {},
     "output_type": "display_data"
    }
   ],
   "source": [
    "fig, axes = plt.subplots(1, 1, figsize=(18, 3))\n",
    "plt.hist(df\n",
    "#          [df['words_count']< 500]\n",
    "         ['words_count']\n",
    "         , bins=100, log=True)\n",
    "# plt.\n",
    "plt.show()"
   ]
  },
  {
   "cell_type": "code",
   "execution_count": 5,
   "metadata": {
    "ExecuteTime": {
     "end_time": "2018-07-05T19:02:31.352632Z",
     "start_time": "2018-07-05T19:02:29.598306Z"
    },
    "scrolled": true
   },
   "outputs": [
    {
     "data": {
      "text/html": [
       "<div>\n",
       "<style scoped>\n",
       "    .dataframe tbody tr th:only-of-type {\n",
       "        vertical-align: middle;\n",
       "    }\n",
       "\n",
       "    .dataframe tbody tr th {\n",
       "        vertical-align: top;\n",
       "    }\n",
       "\n",
       "    .dataframe thead th {\n",
       "        text-align: right;\n",
       "    }\n",
       "</style>\n",
       "<table border=\"1\" class=\"dataframe\">\n",
       "  <thead>\n",
       "    <tr style=\"text-align: right;\">\n",
       "      <th></th>\n",
       "      <th>link</th>\n",
       "      <th>title</th>\n",
       "      <th>publication_date</th>\n",
       "      <th>content</th>\n",
       "      <th>date</th>\n",
       "      <th>site</th>\n",
       "      <th>section</th>\n",
       "      <th>clean_text</th>\n",
       "      <th>words_count</th>\n",
       "    </tr>\n",
       "  </thead>\n",
       "  <tbody>\n",
       "    <tr>\n",
       "      <th>1837</th>\n",
       "      <td>https://www.reddit.com/r/icocrypto/comments/8h...</td>\n",
       "      <td>ANYTHINGAPPMONEYBOT</td>\n",
       "      <td>1.525573e+09</td>\n",
       "      <td>anythingappmoneybot</td>\n",
       "      <td>1.525573e+09</td>\n",
       "      <td>www.reddit.com</td>\n",
       "      <td>icocrypto</td>\n",
       "      <td>anythingappmoneybot</td>\n",
       "      <td>1</td>\n",
       "    </tr>\n",
       "    <tr>\n",
       "      <th>4873</th>\n",
       "      <td>https://www.reddit.com/r/CryptoCurrency/commen...</td>\n",
       "      <td>Coincidence?</td>\n",
       "      <td>1.520531e+09</td>\n",
       "      <td>coincidence?</td>\n",
       "      <td>1.520536e+09</td>\n",
       "      <td>www.reddit.com</td>\n",
       "      <td>CryptoCurrency</td>\n",
       "      <td>coincidence</td>\n",
       "      <td>1</td>\n",
       "    </tr>\n",
       "    <tr>\n",
       "      <th>16080</th>\n",
       "      <td>https://www.reddit.com/r/NEO/comments/8fv2gv/f...</td>\n",
       "      <td>Flatuance...</td>\n",
       "      <td>1.525043e+09</td>\n",
       "      <td>flatuance...</td>\n",
       "      <td>1.525043e+09</td>\n",
       "      <td>www.reddit.com</td>\n",
       "      <td>NEO</td>\n",
       "      <td>flatuance</td>\n",
       "      <td>1</td>\n",
       "    </tr>\n",
       "    <tr>\n",
       "      <th>18157</th>\n",
       "      <td>https://www.reddit.com/r/ethtrader/comments/8i...</td>\n",
       "      <td>Etheraptor</td>\n",
       "      <td>1.525875e+09</td>\n",
       "      <td>etheraptor</td>\n",
       "      <td>1.525875e+09</td>\n",
       "      <td>www.reddit.com</td>\n",
       "      <td>ethtrader</td>\n",
       "      <td>etheraptor</td>\n",
       "      <td>1</td>\n",
       "    </tr>\n",
       "    <tr>\n",
       "      <th>4560</th>\n",
       "      <td>https://www.reddit.com/r/CryptoCurrency/commen...</td>\n",
       "      <td>Beeeeeeeconeeeeeec</td>\n",
       "      <td>1.520377e+09</td>\n",
       "      <td>beeeeeeeconeeeeeec</td>\n",
       "      <td>1.520381e+09</td>\n",
       "      <td>www.reddit.com</td>\n",
       "      <td>CryptoCurrency</td>\n",
       "      <td>beeeeeeeconeeeeeec</td>\n",
       "      <td>1</td>\n",
       "    </tr>\n",
       "  </tbody>\n",
       "</table>\n",
       "</div>"
      ],
      "text/plain": [
       "                                                    link                title  \\\n",
       "1837   https://www.reddit.com/r/icocrypto/comments/8h...  ANYTHINGAPPMONEYBOT   \n",
       "4873   https://www.reddit.com/r/CryptoCurrency/commen...         Coincidence?   \n",
       "16080  https://www.reddit.com/r/NEO/comments/8fv2gv/f...         Flatuance...   \n",
       "18157  https://www.reddit.com/r/ethtrader/comments/8i...           Etheraptor   \n",
       "4560   https://www.reddit.com/r/CryptoCurrency/commen...   Beeeeeeeconeeeeeec   \n",
       "\n",
       "       publication_date              content          date            site  \\\n",
       "1837       1.525573e+09  anythingappmoneybot  1.525573e+09  www.reddit.com   \n",
       "4873       1.520531e+09         coincidence?  1.520536e+09  www.reddit.com   \n",
       "16080      1.525043e+09         flatuance...  1.525043e+09  www.reddit.com   \n",
       "18157      1.525875e+09           etheraptor  1.525875e+09  www.reddit.com   \n",
       "4560       1.520377e+09   beeeeeeeconeeeeeec  1.520381e+09  www.reddit.com   \n",
       "\n",
       "              section           clean_text  words_count  \n",
       "1837        icocrypto  anythingappmoneybot            1  \n",
       "4873   CryptoCurrency          coincidence            1  \n",
       "16080             NEO            flatuance            1  \n",
       "18157       ethtrader           etheraptor            1  \n",
       "4560   CryptoCurrency   beeeeeeeconeeeeeec            1  "
      ]
     },
     "execution_count": 5,
     "metadata": {},
     "output_type": "execute_result"
    }
   ],
   "source": [
    "df[ (df['clean_text']!= 'img')\n",
    "   & (df['clean_text']!= 'http')\n",
    "  \n",
    "  ].sort_values(['words_count']).head()"
   ]
  },
  {
   "cell_type": "code",
   "execution_count": 7,
   "metadata": {
    "ExecuteTime": {
     "end_time": "2018-07-05T19:02:59.361159Z",
     "start_time": "2018-07-05T19:02:59.305256Z"
    }
   },
   "outputs": [],
   "source": [
    "# df['sender_is_bot'].value_counts()"
   ]
  },
  {
   "cell_type": "code",
   "execution_count": 9,
   "metadata": {
    "ExecuteTime": {
     "end_time": "2018-07-05T19:03:01.070548Z",
     "start_time": "2018-07-05T19:02:59.366584Z"
    }
   },
   "outputs": [],
   "source": [
    "# df = df[~df['sender_is_bot']].copy()"
   ]
  },
  {
   "cell_type": "markdown",
   "metadata": {
    "ExecuteTime": {
     "end_time": "2018-07-05T18:52:48.168800Z",
     "start_time": "2018-07-05T18:52:48.044946Z"
    }
   },
   "source": [
    "## find same texts"
   ]
  },
  {
   "cell_type": "code",
   "execution_count": 10,
   "metadata": {
    "ExecuteTime": {
     "end_time": "2018-07-05T19:03:03.531259Z",
     "start_time": "2018-07-05T19:03:01.106308Z"
    }
   },
   "outputs": [
    {
     "data": {
      "text/plain": [
       "[('img', 2843),\n",
       " ('http', 430),\n",
       " ('200 giveaway 1000 eopt for free worth 0 20 per token', 56),\n",
       " ('guys don t miss out on these 4 huge airdrops 250 total worth cheers', 31),\n",
       " ('list of today s and tomorrow s upcoming events', 26),\n",
       " ('200 airdrop 1000 eopt for free worth 0 20 per token', 20),\n",
       " ('guys don t miss out on these 5 huge airdrops 250 total worth cheers', 9),\n",
       " ('simmitri sim airdrop one of the best airdrops is stirring up the community with this energy efficiency token',\n",
       "  7),\n",
       " ('help make cryptocurrency an academic topic', 6),\n",
       " ('this blockchain startup is fighting censorship and why you should join the fight',\n",
       "  5),\n",
       " ('the sunday chart eth price v new daily wallets', 5),\n",
       " ('guys don t miss out on these 5 huge airdrops up to 300 total value cheers',\n",
       "  5),\n",
       " ('lightning nfc the new plan to bring bitcoin to retail', 4),\n",
       " ('my name is theo chino and i have been standing up to the new york regulators since 2015',\n",
       "  4),\n",
       " ('awesome 200 giveaway 1000 eopt for free worth 0 20 per token', 4)]"
      ]
     },
     "execution_count": 10,
     "metadata": {},
     "output_type": "execute_result"
    }
   ],
   "source": [
    "text_counter = Counter(df['clean_text'])\n",
    "text_counter.most_common(15)"
   ]
  },
  {
   "cell_type": "code",
   "execution_count": 11,
   "metadata": {
    "ExecuteTime": {
     "end_time": "2018-07-05T19:03:06.167484Z",
     "start_time": "2018-07-05T19:03:03.538618Z"
    }
   },
   "outputs": [
    {
     "data": {
      "text/plain": [
       "[('img', 2843),\n",
       " ('http', 430),\n",
       " ('200 giveaway 1000 eopt for free worth 0 20 per token', 56),\n",
       " ('guys don t miss out on these 4 huge airdrops 250 total worth cheers', 31),\n",
       " ('list of today s and tomorrow s upcoming events', 26),\n",
       " ('200 airdrop 1000 eopt for free worth 0 20 per token', 20),\n",
       " ('guys don t miss out on these 5 huge airdrops 250 total worth cheers', 9),\n",
       " ('simmitri sim airdrop one of the best airdrops is stirring up the community with this energy efficiency token',\n",
       "  7),\n",
       " ('help make cryptocurrency an academic topic', 6),\n",
       " ('this blockchain startup is fighting censorship and why you should join the fight',\n",
       "  5)]"
      ]
     },
     "execution_count": 11,
     "metadata": {},
     "output_type": "execute_result"
    }
   ],
   "source": [
    "len_text_min = 0\n",
    "len_text_max = 1000\n",
    "\n",
    "text_counter = Counter(df[df['words_count'] > len_text_min]['clean_text'])\n",
    "text_counter.most_common(10)"
   ]
  },
  {
   "cell_type": "code",
   "execution_count": 12,
   "metadata": {
    "ExecuteTime": {
     "end_time": "2018-07-05T19:03:12.994763Z",
     "start_time": "2018-07-05T19:03:12.019145Z"
    }
   },
   "outputs": [
    {
     "name": "stdout",
     "output_type": "stream",
     "text": [
      "df.shape with dublicates  (21160, 9)\n",
      "df.shape without dublicates  (17445, 9)\n"
     ]
    }
   ],
   "source": [
    "print('df.shape with dublicates ', df.shape)\n",
    "df = df[ (df['words_count'] > 1) & (df['words_count'] < 430)].copy()\n",
    "print('df.shape without dublicates ', df.shape)"
   ]
  },
  {
   "cell_type": "code",
   "execution_count": 13,
   "metadata": {
    "ExecuteTime": {
     "end_time": "2018-07-05T19:04:29.276761Z",
     "start_time": "2018-07-05T19:04:28.733343Z"
    }
   },
   "outputs": [],
   "source": [
    "text_counter = Counter(df['clean_text'])"
   ]
  },
  {
   "cell_type": "code",
   "execution_count": 14,
   "metadata": {
    "ExecuteTime": {
     "end_time": "2018-07-05T19:05:34.004700Z",
     "start_time": "2018-07-05T19:05:33.499296Z"
    }
   },
   "outputs": [
    {
     "data": {
      "image/png": "[encoded data removed]",
      "text/plain": [
       "<Figure size 432x288 with 1 Axes>"
      ]
     },
     "metadata": {},
     "output_type": "display_data"
    }
   ],
   "source": [
    "plt.hist(text_counter.values(), bins=100)\n",
    "plt.show()"
   ]
  },
  {
   "cell_type": "code",
   "execution_count": 15,
   "metadata": {
    "ExecuteTime": {
     "end_time": "2018-07-05T19:06:12.609526Z",
     "start_time": "2018-07-05T19:06:11.457078Z"
    }
   },
   "outputs": [],
   "source": [
    "df['repeats'] = df['clean_text'].apply(lambda x: text_counter[x])"
   ]
  },
  {
   "cell_type": "code",
   "execution_count": 16,
   "metadata": {
    "ExecuteTime": {
     "end_time": "2018-07-05T19:06:39.729512Z",
     "start_time": "2018-07-05T19:06:39.219211Z"
    }
   },
   "outputs": [],
   "source": [
    "df = df[df['repeats'] == 1].copy()"
   ]
  },
  {
   "cell_type": "code",
   "execution_count": 17,
   "metadata": {
    "ExecuteTime": {
     "end_time": "2018-07-05T19:45:01.677499Z",
     "start_time": "2018-07-05T19:45:01.670343Z"
    }
   },
   "outputs": [],
   "source": [
    "RE_DIGIT = re.compile(r'\\d')\n",
    "def has_digit(text):\n",
    "    return len(RE_DIGIT.findall(text)) > 0"
   ]
  },
  {
   "cell_type": "code",
   "execution_count": 18,
   "metadata": {
    "ExecuteTime": {
     "end_time": "2018-07-05T19:45:06.294621Z",
     "start_time": "2018-07-05T19:45:04.647980Z"
    }
   },
   "outputs": [],
   "source": [
    "df['has_digit'] = df['clean_text'].apply(has_digit)\n",
    "df = df[~df['has_digit']].copy()"
   ]
  },
  {
   "cell_type": "code",
   "execution_count": 19,
   "metadata": {
    "ExecuteTime": {
     "end_time": "2018-07-05T19:54:23.296128Z",
     "start_time": "2018-07-05T19:54:04.123774Z"
    }
   },
   "outputs": [],
   "source": [
    "df.to_csv(os.path.join(path_data, 'clean_{0}.csv'.format(data_type)), index=False)"
   ]
  },
  {
   "cell_type": "markdown",
   "metadata": {},
   "source": [
    "# learn fasttext representations and to vectors"
   ]
  },
  {
   "cell_type": "code",
   "execution_count": 20,
   "metadata": {
    "ExecuteTime": {
     "end_time": "2018-07-05T19:45:08.066271Z",
     "start_time": "2018-07-05T19:45:08.061594Z"
    }
   },
   "outputs": [],
   "source": [
    "class SentenceIterator(object):\n",
    "    texts = None\n",
    "\n",
    "    def __init__(self, texts):\n",
    "        self.texts = texts\n",
    "\n",
    "    def __iter__(self):\n",
    "        for text in self.texts:\n",
    "            yield text_to_word_sequence(text, lower=False)\n",
    "\n",
    "def text2vec(text, vector_size):\n",
    "    vectors = []\n",
    "    for word in text_to_word_sequence(text):\n",
    "        try:\n",
    "            v = fasttext_model.wv[word]\n",
    "            vectors.append(v)\n",
    "        except Exception as e:\n",
    "            pass\n",
    "    if not vectors:\n",
    "        return np.zeros((vector_size, ))\n",
    "    return sum(vectors) / len(vectors)            "
   ]
  },
  {
   "cell_type": "code",
   "execution_count": 27,
   "metadata": {
    "ExecuteTime": {
     "end_time": "2018-07-05T19:51:19.854906Z",
     "start_time": "2018-07-05T19:45:09.574921Z"
    }
   },
   "outputs": [],
   "source": [
    "vector_size = 100\n",
    "\n",
    "for vector_size in [100, 80, 160]: \n",
    "    fasttext_model = FastText(SentenceIterator(df['clean_text']), min_count=5, size=vector_size, workers=-1)\n",
    "    fasttext_model.save(os.path.join(path_data, 'fasttext_{0}_{1}.bin'.format(data_type, vector_size)))\n",
    "#     print(fasttext_model.wv.most_similar('btc'))\n",
    "#     print(fasttext_model.wv.most_similar('eth'))\n",
    "    vectors = list(map(functools.partial(text2vec, vector_size=vector_size), df['clean_text'] ))\n",
    "    vectors = np.array(vectors)\n",
    "    np.save(os.path.join(path_data, '{0}_vectors_{1}.npy'.format(data_type, vector_size)) , vectors)"
   ]
  },
  {
   "cell_type": "code",
   "execution_count": 23,
   "metadata": {
    "ExecuteTime": {
     "end_time": "2018-07-05T19:52:43.443691Z",
     "start_time": "2018-07-05T19:52:42.639885Z"
    }
   },
   "outputs": [
    {
     "data": {
      "text/html": [
       "<div>\n",
       "<style scoped>\n",
       "    .dataframe tbody tr th:only-of-type {\n",
       "        vertical-align: middle;\n",
       "    }\n",
       "\n",
       "    .dataframe tbody tr th {\n",
       "        vertical-align: top;\n",
       "    }\n",
       "\n",
       "    .dataframe thead th {\n",
       "        text-align: right;\n",
       "    }\n",
       "</style>\n",
       "<table border=\"1\" class=\"dataframe\">\n",
       "  <thead>\n",
       "    <tr style=\"text-align: right;\">\n",
       "      <th></th>\n",
       "      <th>link</th>\n",
       "      <th>title</th>\n",
       "      <th>publication_date</th>\n",
       "      <th>content</th>\n",
       "      <th>date</th>\n",
       "      <th>site</th>\n",
       "      <th>section</th>\n",
       "      <th>clean_text</th>\n",
       "      <th>words_count</th>\n",
       "      <th>repeats</th>\n",
       "      <th>has_digit</th>\n",
       "    </tr>\n",
       "  </thead>\n",
       "  <tbody>\n",
       "  </tbody>\n",
       "</table>\n",
       "</div>"
      ],
      "text/plain": [
       "Empty DataFrame\n",
       "Columns: [link, title, publication_date, content, date, site, section, clean_text, words_count, repeats, has_digit]\n",
       "Index: []"
      ]
     },
     "execution_count": 23,
     "metadata": {},
     "output_type": "execute_result"
    }
   ],
   "source": [
    "df[df['clean_text'].str.contains('ethusd')].head(3)"
   ]
  },
  {
   "cell_type": "markdown",
   "metadata": {},
   "source": [
    "# to vectors"
   ]
  },
  {
   "cell_type": "code",
   "execution_count": null,
   "metadata": {
    "ExecuteTime": {
     "end_time": "2018-07-05T19:55:19.258550Z",
     "start_time": "2018-07-05T19:55:19.248626Z"
    }
   },
   "outputs": [],
   "source": []
  },
  {
   "cell_type": "code",
   "execution_count": null,
   "metadata": {
    "ExecuteTime": {
     "end_time": "2018-07-05T19:56:44.850886Z",
     "start_time": "2018-07-05T19:55:29.010945Z"
    }
   },
   "outputs": [],
   "source": []
  },
  {
   "cell_type": "code",
   "execution_count": null,
   "metadata": {
    "ExecuteTime": {
     "end_time": "2018-07-05T19:56:47.301298Z",
     "start_time": "2018-07-05T19:56:44.854028Z"
    }
   },
   "outputs": [],
   "source": []
  },
  {
   "cell_type": "code",
   "execution_count": null,
   "metadata": {
    "ExecuteTime": {
     "end_time": "2018-07-05T19:56:49.677944Z",
     "start_time": "2018-07-05T19:56:47.304022Z"
    }
   },
   "outputs": [],
   "source": []
  },
  {
   "cell_type": "code",
   "execution_count": null,
   "metadata": {},
   "outputs": [],
   "source": []
  }
 ],
 "metadata": {
  "kernelspec": {
   "display_name": "Python 3",
   "language": "python",
   "name": "python3"
  },
  "language_info": {
   "codemirror_mode": {
    "name": "ipython",
    "version": 3
   },
   "file_extension": ".py",
   "mimetype": "text/x-python",
   "name": "python",
   "nbconvert_exporter": "python",
   "pygments_lexer": "ipython3",
   "version": "3.6.5"
  },
  "toc": {
   "nav_menu": {},
   "number_sections": true,
   "sideBar": true,
   "skip_h1_title": false,
   "toc_cell": true,
   "toc_position": {},
   "toc_section_display": "block",
   "toc_window_display": false
  }
 },
 "nbformat": 4,
 "nbformat_minor": 2
}
