{
 "cells": [
  {
   "cell_type": "markdown",
   "metadata": {
    "toc": true
   },
   "source": [
    "<h1>Table of Contents<span class=\"tocSkip\"></span></h1>\n",
    "<div class=\"toc\" style=\"margin-top: 1em;\"><ul class=\"toc-item\"><li><span><a href=\"#load-data\" data-toc-modified-id=\"load-data-1\"><span class=\"toc-item-num\">1&nbsp;&nbsp;</span>load data</a></span><ul class=\"toc-item\"><li><span><a href=\"#prepare-price-data\" data-toc-modified-id=\"prepare-price-data-1.1\"><span class=\"toc-item-num\">1.1&nbsp;&nbsp;</span>prepare price data</a></span></li><li><span><a href=\"#prepare-chat-data\" data-toc-modified-id=\"prepare-chat-data-1.2\"><span class=\"toc-item-num\">1.2&nbsp;&nbsp;</span>prepare chat data</a></span><ul class=\"toc-item\"><li><span><a href=\"#load-fasttext-vectors\" data-toc-modified-id=\"load-fasttext-vectors-1.2.1\"><span class=\"toc-item-num\">1.2.1&nbsp;&nbsp;</span>load fasttext vectors</a></span></li><li><span><a href=\"#prepare-data-for-buy-model\" data-toc-modified-id=\"prepare-data-for-buy-model-1.2.2\"><span class=\"toc-item-num\">1.2.2&nbsp;&nbsp;</span>prepare data for buy model</a></span></li></ul></li></ul></li></ul></div>"
   ]
  },
  {
   "cell_type": "code",
   "execution_count": 1,
   "metadata": {
    "ExecuteTime": {
     "end_time": "2018-07-06T05:51:31.332477Z",
     "start_time": "2018-07-06T05:51:20.951023Z"
    }
   },
   "outputs": [
    {
     "name": "stderr",
     "output_type": "stream",
     "text": [
      "Using TensorFlow backend.\n"
     ]
    }
   ],
   "source": [
    "import numpy as np\n",
    "import pandas as pd\n",
    "\n",
    "from gensim.models.fasttext import FastText\n",
    "from keras.models import Sequential, Model\n",
    "from keras.layers import Dense, Embedding, Input, Concatenate, Reshape, LSTM, GRU\n",
    "from keras.optimizers import Adam\n",
    "\n",
    "from sklearn.metrics import roc_curve, roc_auc_score\n",
    "\n",
    "import matplotlib.pyplot as plt\n",
    "\n",
    "%matplotlib inline"
   ]
  },
  {
   "cell_type": "markdown",
   "metadata": {},
   "source": [
    "# load data"
   ]
  },
  {
   "cell_type": "code",
   "execution_count": 2,
   "metadata": {
    "ExecuteTime": {
     "end_time": "2018-07-06T05:51:36.252168Z",
     "start_time": "2018-07-06T05:51:31.335371Z"
    }
   },
   "outputs": [],
   "source": [
    "# df_chats = pd.read_csv('../data/train/chats_train.csv')\n",
    "df_chats = pd.read_csv('../data/clean_text.csv')\n",
    "df_prices = pd.read_csv('../data/train/tickers_train.csv', index_col=0)"
   ]
  },
  {
   "cell_type": "markdown",
   "metadata": {},
   "source": [
    "## prepare price data"
   ]
  },
  {
   "cell_type": "code",
   "execution_count": 3,
   "metadata": {
    "ExecuteTime": {
     "end_time": "2018-07-06T05:51:36.307735Z",
     "start_time": "2018-07-06T05:51:36.261977Z"
    }
   },
   "outputs": [],
   "source": [
    "TICKER = 'ETH'\n",
    "df_prices = df_prices[df_prices['ticker'] == TICKER].copy()"
   ]
  },
  {
   "cell_type": "code",
   "execution_count": 4,
   "metadata": {
    "ExecuteTime": {
     "end_time": "2018-07-06T05:51:36.333598Z",
     "start_time": "2018-07-06T05:51:36.311203Z"
    }
   },
   "outputs": [
    {
     "data": {
      "text/html": [
       "<div>\n",
       "<style scoped>\n",
       "    .dataframe tbody tr th:only-of-type {\n",
       "        vertical-align: middle;\n",
       "    }\n",
       "\n",
       "    .dataframe tbody tr th {\n",
       "        vertical-align: top;\n",
       "    }\n",
       "\n",
       "    .dataframe thead th {\n",
       "        text-align: right;\n",
       "    }\n",
       "</style>\n",
       "<table border=\"1\" class=\"dataframe\">\n",
       "  <thead>\n",
       "    <tr style=\"text-align: right;\">\n",
       "      <th></th>\n",
       "      <th>datetime</th>\n",
       "      <th>name</th>\n",
       "      <th>priceBtc</th>\n",
       "      <th>priceUsd</th>\n",
       "      <th>ticker</th>\n",
       "      <th>volume</th>\n",
       "    </tr>\n",
       "  </thead>\n",
       "  <tbody>\n",
       "    <tr>\n",
       "      <th>0</th>\n",
       "      <td>2018-03-01T00:00:00Z</td>\n",
       "      <td>Ethereum</td>\n",
       "      <td>0.082836</td>\n",
       "      <td>856.952292</td>\n",
       "      <td>ETH</td>\n",
       "      <td>1.979010e+09</td>\n",
       "    </tr>\n",
       "    <tr>\n",
       "      <th>1</th>\n",
       "      <td>2018-03-01T02:00:00Z</td>\n",
       "      <td>Ethereum</td>\n",
       "      <td>0.082887</td>\n",
       "      <td>858.979167</td>\n",
       "      <td>ETH</td>\n",
       "      <td>1.931840e+09</td>\n",
       "    </tr>\n",
       "  </tbody>\n",
       "</table>\n",
       "</div>"
      ],
      "text/plain": [
       "               datetime      name  priceBtc    priceUsd ticker        volume\n",
       "0  2018-03-01T00:00:00Z  Ethereum  0.082836  856.952292    ETH  1.979010e+09\n",
       "1  2018-03-01T02:00:00Z  Ethereum  0.082887  858.979167    ETH  1.931840e+09"
      ]
     },
     "execution_count": 4,
     "metadata": {},
     "output_type": "execute_result"
    }
   ],
   "source": [
    "df_prices.head(2)"
   ]
  },
  {
   "cell_type": "code",
   "execution_count": 5,
   "metadata": {
    "ExecuteTime": {
     "end_time": "2018-07-06T05:51:36.347078Z",
     "start_time": "2018-07-06T05:51:36.337684Z"
    }
   },
   "outputs": [],
   "source": [
    "df_prices['delta_price_usd'] = (df_prices['priceUsd'] - df_prices['priceUsd'].shift(1)) / df_prices['priceUsd'].shift(1)"
   ]
  },
  {
   "cell_type": "code",
   "execution_count": 6,
   "metadata": {
    "ExecuteTime": {
     "end_time": "2018-07-06T05:51:36.355620Z",
     "start_time": "2018-07-06T05:51:36.350056Z"
    }
   },
   "outputs": [],
   "source": [
    "df_prices['delta_price_usd'].fillna(0, inplace=True)"
   ]
  },
  {
   "cell_type": "code",
   "execution_count": 7,
   "metadata": {
    "ExecuteTime": {
     "end_time": "2018-07-06T05:51:36.365907Z",
     "start_time": "2018-07-06T05:51:36.359758Z"
    }
   },
   "outputs": [],
   "source": [
    "quantile1 = df_prices['delta_price_usd'].quantile(q=0.33)\n",
    "quantile2 = df_prices['delta_price_usd'].quantile(q=0.66)"
   ]
  },
  {
   "cell_type": "code",
   "execution_count": 8,
   "metadata": {
    "ExecuteTime": {
     "end_time": "2018-07-06T05:51:36.698537Z",
     "start_time": "2018-07-06T05:51:36.368736Z"
    }
   },
   "outputs": [
    {
     "data": {
      "image/png": "[encoded data removed]",
      "text/plain": [
       "<Figure size 432x288 with 1 Axes>"
      ]
     },
     "metadata": {},
     "output_type": "display_data"
    }
   ],
   "source": [
    "plt.hist(df_prices['delta_price_usd'], bins=100)\n",
    "plt.axvline(quantile1, color='k', linestyle='dashed')\n",
    "plt.axvline(quantile2, color='k', linestyle='dashed')\n",
    "plt.show()"
   ]
  },
  {
   "cell_type": "code",
   "execution_count": 9,
   "metadata": {
    "ExecuteTime": {
     "end_time": "2018-07-06T05:51:36.712991Z",
     "start_time": "2018-07-06T05:51:36.701414Z"
    }
   },
   "outputs": [
    {
     "name": "stdout",
     "output_type": "stream",
     "text": [
      "(242, 7) (249, 7) (241, 7)\n"
     ]
    }
   ],
   "source": [
    "print(\n",
    "    df_prices[df_prices['delta_price_usd'] < quantile1].shape,\n",
    "    df_prices[df_prices['delta_price_usd'] > quantile2].shape,\n",
    "    df_prices[(df_prices['delta_price_usd'] > quantile1) & (df_prices['delta_price_usd'] < quantile2)].shape,\n",
    ")"
   ]
  },
  {
   "cell_type": "code",
   "execution_count": 10,
   "metadata": {
    "ExecuteTime": {
     "end_time": "2018-07-06T05:51:36.726373Z",
     "start_time": "2018-07-06T05:51:36.716257Z"
    }
   },
   "outputs": [],
   "source": [
    "df_prices['timestamp'] = pd.to_datetime(df_prices['datetime']).apply(lambda x: x.timestamp())"
   ]
  },
  {
   "cell_type": "code",
   "execution_count": 11,
   "metadata": {
    "ExecuteTime": {
     "end_time": "2018-07-06T05:51:36.753235Z",
     "start_time": "2018-07-06T05:51:36.729749Z"
    }
   },
   "outputs": [
    {
     "data": {
      "text/html": [
       "<div>\n",
       "<style scoped>\n",
       "    .dataframe tbody tr th:only-of-type {\n",
       "        vertical-align: middle;\n",
       "    }\n",
       "\n",
       "    .dataframe tbody tr th {\n",
       "        vertical-align: top;\n",
       "    }\n",
       "\n",
       "    .dataframe thead th {\n",
       "        text-align: right;\n",
       "    }\n",
       "</style>\n",
       "<table border=\"1\" class=\"dataframe\">\n",
       "  <thead>\n",
       "    <tr style=\"text-align: right;\">\n",
       "      <th></th>\n",
       "      <th>datetime</th>\n",
       "      <th>name</th>\n",
       "      <th>priceBtc</th>\n",
       "      <th>priceUsd</th>\n",
       "      <th>ticker</th>\n",
       "      <th>volume</th>\n",
       "      <th>delta_price_usd</th>\n",
       "      <th>timestamp</th>\n",
       "    </tr>\n",
       "  </thead>\n",
       "  <tbody>\n",
       "    <tr>\n",
       "      <th>0</th>\n",
       "      <td>2018-03-01T00:00:00Z</td>\n",
       "      <td>Ethereum</td>\n",
       "      <td>0.082836</td>\n",
       "      <td>856.952292</td>\n",
       "      <td>ETH</td>\n",
       "      <td>1.979010e+09</td>\n",
       "      <td>0.000000</td>\n",
       "      <td>1.519862e+09</td>\n",
       "    </tr>\n",
       "    <tr>\n",
       "      <th>1</th>\n",
       "      <td>2018-03-01T02:00:00Z</td>\n",
       "      <td>Ethereum</td>\n",
       "      <td>0.082887</td>\n",
       "      <td>858.979167</td>\n",
       "      <td>ETH</td>\n",
       "      <td>1.931840e+09</td>\n",
       "      <td>0.002365</td>\n",
       "      <td>1.519870e+09</td>\n",
       "    </tr>\n",
       "    <tr>\n",
       "      <th>2</th>\n",
       "      <td>2018-03-01T04:00:00Z</td>\n",
       "      <td>Ethereum</td>\n",
       "      <td>0.082744</td>\n",
       "      <td>861.494542</td>\n",
       "      <td>ETH</td>\n",
       "      <td>1.908910e+09</td>\n",
       "      <td>0.002928</td>\n",
       "      <td>1.519877e+09</td>\n",
       "    </tr>\n",
       "    <tr>\n",
       "      <th>3</th>\n",
       "      <td>2018-03-01T06:00:00Z</td>\n",
       "      <td>Ethereum</td>\n",
       "      <td>0.082734</td>\n",
       "      <td>862.998542</td>\n",
       "      <td>ETH</td>\n",
       "      <td>1.866320e+09</td>\n",
       "      <td>0.001746</td>\n",
       "      <td>1.519884e+09</td>\n",
       "    </tr>\n",
       "    <tr>\n",
       "      <th>4</th>\n",
       "      <td>2018-03-01T08:00:00Z</td>\n",
       "      <td>Ethereum</td>\n",
       "      <td>0.081945</td>\n",
       "      <td>869.481042</td>\n",
       "      <td>ETH</td>\n",
       "      <td>1.834750e+09</td>\n",
       "      <td>0.007512</td>\n",
       "      <td>1.519891e+09</td>\n",
       "    </tr>\n",
       "  </tbody>\n",
       "</table>\n",
       "</div>"
      ],
      "text/plain": [
       "               datetime      name  priceBtc    priceUsd ticker        volume  \\\n",
       "0  2018-03-01T00:00:00Z  Ethereum  0.082836  856.952292    ETH  1.979010e+09   \n",
       "1  2018-03-01T02:00:00Z  Ethereum  0.082887  858.979167    ETH  1.931840e+09   \n",
       "2  2018-03-01T04:00:00Z  Ethereum  0.082744  861.494542    ETH  1.908910e+09   \n",
       "3  2018-03-01T06:00:00Z  Ethereum  0.082734  862.998542    ETH  1.866320e+09   \n",
       "4  2018-03-01T08:00:00Z  Ethereum  0.081945  869.481042    ETH  1.834750e+09   \n",
       "\n",
       "   delta_price_usd     timestamp  \n",
       "0         0.000000  1.519862e+09  \n",
       "1         0.002365  1.519870e+09  \n",
       "2         0.002928  1.519877e+09  \n",
       "3         0.001746  1.519884e+09  \n",
       "4         0.007512  1.519891e+09  "
      ]
     },
     "execution_count": 11,
     "metadata": {},
     "output_type": "execute_result"
    }
   ],
   "source": [
    "df_prices.head()"
   ]
  },
  {
   "cell_type": "markdown",
   "metadata": {},
   "source": [
    "## prepare chat data"
   ]
  },
  {
   "cell_type": "code",
   "execution_count": 12,
   "metadata": {
    "ExecuteTime": {
     "end_time": "2018-07-06T05:51:36.786862Z",
     "start_time": "2018-07-06T05:51:36.759477Z"
    }
   },
   "outputs": [
    {
     "data": {
      "text/html": [
       "<div>\n",
       "<style scoped>\n",
       "    .dataframe tbody tr th:only-of-type {\n",
       "        vertical-align: middle;\n",
       "    }\n",
       "\n",
       "    .dataframe tbody tr th {\n",
       "        vertical-align: top;\n",
       "    }\n",
       "\n",
       "    .dataframe thead th {\n",
       "        text-align: right;\n",
       "    }\n",
       "</style>\n",
       "<table border=\"1\" class=\"dataframe\">\n",
       "  <thead>\n",
       "    <tr style=\"text-align: right;\">\n",
       "      <th></th>\n",
       "      <th>chat_id</th>\n",
       "      <th>chat_title</th>\n",
       "      <th>emoji_list</th>\n",
       "      <th>sender_first_name</th>\n",
       "      <th>sender_id</th>\n",
       "      <th>sender_is_bot</th>\n",
       "      <th>sender_last_name</th>\n",
       "      <th>sender_username</th>\n",
       "      <th>text</th>\n",
       "      <th>timestamp</th>\n",
       "      <th>clean_text</th>\n",
       "      <th>words_count</th>\n",
       "      <th>repeats</th>\n",
       "      <th>has_digit</th>\n",
       "    </tr>\n",
       "  </thead>\n",
       "  <tbody>\n",
       "    <tr>\n",
       "      <th>0</th>\n",
       "      <td>1129149026</td>\n",
       "      <td>Pareto Network - Discussion</td>\n",
       "      <td>[]</td>\n",
       "      <td>Bezant</td>\n",
       "      <td>526106862</td>\n",
       "      <td>False</td>\n",
       "      <td>None</td>\n",
       "      <td>None</td>\n",
       "      <td>admin disputes in private thank you.</td>\n",
       "      <td>1524284160</td>\n",
       "      <td>admin disputes in private thank you</td>\n",
       "      <td>6</td>\n",
       "      <td>1</td>\n",
       "      <td>False</td>\n",
       "    </tr>\n",
       "    <tr>\n",
       "      <th>1</th>\n",
       "      <td>1129149026</td>\n",
       "      <td>Pareto Network - Discussion</td>\n",
       "      <td>[]</td>\n",
       "      <td>Sheriff</td>\n",
       "      <td>538526216</td>\n",
       "      <td>False</td>\n",
       "      <td>None</td>\n",
       "      <td>None</td>\n",
       "      <td>i see binance add coins all the time on the cr...</td>\n",
       "      <td>1524284160</td>\n",
       "      <td>i see binance add coins all the time on the cr...</td>\n",
       "      <td>29</td>\n",
       "      <td>1</td>\n",
       "      <td>False</td>\n",
       "    </tr>\n",
       "    <tr>\n",
       "      <th>2</th>\n",
       "      <td>1129149026</td>\n",
       "      <td>Pareto Network - Discussion</td>\n",
       "      <td>[]</td>\n",
       "      <td>Sheriff</td>\n",
       "      <td>538526216</td>\n",
       "      <td>False</td>\n",
       "      <td>None</td>\n",
       "      <td>None</td>\n",
       "      <td>shouldn’t it go up with btc though?</td>\n",
       "      <td>1524285978</td>\n",
       "      <td>shouldn t it go up with btc though</td>\n",
       "      <td>8</td>\n",
       "      <td>1</td>\n",
       "      <td>False</td>\n",
       "    </tr>\n",
       "    <tr>\n",
       "      <th>3</th>\n",
       "      <td>1146170349</td>\n",
       "      <td>Binance English</td>\n",
       "      <td>[]</td>\n",
       "      <td>Vijay</td>\n",
       "      <td>494914527</td>\n",
       "      <td>False</td>\n",
       "      <td>Singh</td>\n",
       "      <td>None</td>\n",
       "      <td>no i wanna fuck you hard.</td>\n",
       "      <td>1524287086</td>\n",
       "      <td>no i wanna fuck you hard</td>\n",
       "      <td>6</td>\n",
       "      <td>1</td>\n",
       "      <td>False</td>\n",
       "    </tr>\n",
       "    <tr>\n",
       "      <th>4</th>\n",
       "      <td>1146170349</td>\n",
       "      <td>Binance English</td>\n",
       "      <td>[]</td>\n",
       "      <td>A5</td>\n",
       "      <td>548628461</td>\n",
       "      <td>False</td>\n",
       "      <td>None</td>\n",
       "      <td>None</td>\n",
       "      <td>speak english you fukin immigrant . lol you geek</td>\n",
       "      <td>1524286965</td>\n",
       "      <td>speak english you fukin immigrant lol you geek</td>\n",
       "      <td>8</td>\n",
       "      <td>1</td>\n",
       "      <td>False</td>\n",
       "    </tr>\n",
       "  </tbody>\n",
       "</table>\n",
       "</div>"
      ],
      "text/plain": [
       "      chat_id                   chat_title emoji_list sender_first_name  \\\n",
       "0  1129149026  Pareto Network - Discussion         []            Bezant   \n",
       "1  1129149026  Pareto Network - Discussion         []           Sheriff   \n",
       "2  1129149026  Pareto Network - Discussion         []           Sheriff   \n",
       "3  1146170349              Binance English         []             Vijay   \n",
       "4  1146170349              Binance English         []                A5   \n",
       "\n",
       "   sender_id  sender_is_bot sender_last_name sender_username  \\\n",
       "0  526106862          False             None            None   \n",
       "1  538526216          False             None            None   \n",
       "2  538526216          False             None            None   \n",
       "3  494914527          False            Singh            None   \n",
       "4  548628461          False             None            None   \n",
       "\n",
       "                                                text   timestamp  \\\n",
       "0               admin disputes in private thank you.  1524284160   \n",
       "1  i see binance add coins all the time on the cr...  1524284160   \n",
       "2                shouldn’t it go up with btc though?  1524285978   \n",
       "3                          no i wanna fuck you hard.  1524287086   \n",
       "4   speak english you fukin immigrant . lol you geek  1524286965   \n",
       "\n",
       "                                          clean_text  words_count  repeats  \\\n",
       "0                admin disputes in private thank you            6        1   \n",
       "1  i see binance add coins all the time on the cr...           29        1   \n",
       "2                 shouldn t it go up with btc though            8        1   \n",
       "3                           no i wanna fuck you hard            6        1   \n",
       "4     speak english you fukin immigrant lol you geek            8        1   \n",
       "\n",
       "   has_digit  \n",
       "0      False  \n",
       "1      False  \n",
       "2      False  \n",
       "3      False  \n",
       "4      False  "
      ]
     },
     "execution_count": 12,
     "metadata": {},
     "output_type": "execute_result"
    }
   ],
   "source": [
    "df_chats.head()"
   ]
  },
  {
   "cell_type": "code",
   "execution_count": 13,
   "metadata": {
    "ExecuteTime": {
     "end_time": "2018-07-06T05:51:37.543643Z",
     "start_time": "2018-07-06T05:51:36.789646Z"
    }
   },
   "outputs": [
    {
     "data": {
      "text/plain": [
       "((933800, 14), (29788, 14))"
      ]
     },
     "execution_count": 13,
     "metadata": {},
     "output_type": "execute_result"
    }
   ],
   "source": [
    "df_chats.shape, df_chats[df_chats['clean_text'].str.contains('eth')].shape"
   ]
  },
  {
   "cell_type": "code",
   "execution_count": 14,
   "metadata": {
    "ExecuteTime": {
     "end_time": "2018-07-06T05:51:38.305731Z",
     "start_time": "2018-07-06T05:51:37.546459Z"
    }
   },
   "outputs": [],
   "source": [
    "df_chats = df_chats[df_chats['clean_text'].str.contains('eth')].copy()"
   ]
  },
  {
   "cell_type": "code",
   "execution_count": 15,
   "metadata": {
    "ExecuteTime": {
     "end_time": "2018-07-06T05:51:38.322234Z",
     "start_time": "2018-07-06T05:51:38.308391Z"
    }
   },
   "outputs": [],
   "source": [
    "df_chats['ind'] = list(range(df_chats.shape[0]))"
   ]
  },
  {
   "cell_type": "code",
   "execution_count": 16,
   "metadata": {
    "ExecuteTime": {
     "end_time": "2018-07-06T05:51:39.484076Z",
     "start_time": "2018-07-06T05:51:38.325787Z"
    }
   },
   "outputs": [],
   "source": [
    "PERIOD = 8*3600\n",
    "\n",
    "news_counts = []\n",
    "for i, row in df_prices.iterrows():\n",
    "    ts = row['timestamp']\n",
    "    c = df_chats[(df_chats['timestamp'] < ts) & (df_chats['timestamp'] > ts - PERIOD)].shape[0]\n",
    "    news_counts.append(c)"
   ]
  },
  {
   "cell_type": "code",
   "execution_count": 17,
   "metadata": {
    "ExecuteTime": {
     "end_time": "2018-07-06T05:51:39.695796Z",
     "start_time": "2018-07-06T05:51:39.487130Z"
    }
   },
   "outputs": [
    {
     "data": {
      "image/png": "[encoded data removed]",
      "text/plain": [
       "<Figure size 432x288 with 1 Axes>"
      ]
     },
     "metadata": {},
     "output_type": "display_data"
    }
   ],
   "source": [
    "plt.hist(news_counts, bins=20)\n",
    "plt.show()"
   ]
  },
  {
   "cell_type": "code",
   "execution_count": 18,
   "metadata": {
    "ExecuteTime": {
     "end_time": "2018-07-06T05:51:39.712614Z",
     "start_time": "2018-07-06T05:51:39.698778Z"
    }
   },
   "outputs": [],
   "source": [
    "chat_ids = list(df_chats['chat_id'].unique())\n",
    "chat_ids.sort()\n",
    "chat2ind = {chat_id: i for i, chat_id in enumerate(chat_ids)}\n",
    "\n",
    "sender_ids = list(df_chats['sender_id'].unique())\n",
    "sender_ids.sort()\n",
    "sender2ind = {sender_id: i for i, sender_id in enumerate(sender_ids)}"
   ]
  },
  {
   "cell_type": "code",
   "execution_count": 19,
   "metadata": {
    "ExecuteTime": {
     "end_time": "2018-07-06T05:51:39.774703Z",
     "start_time": "2018-07-06T05:51:39.715724Z"
    }
   },
   "outputs": [],
   "source": [
    "df_chats['chat_ind'] = df_chats['chat_id'].apply(lambda x: chat2ind[x])\n",
    "df_chats['sender_ind'] = df_chats['sender_id'].apply(lambda x: sender2ind[x])"
   ]
  },
  {
   "cell_type": "code",
   "execution_count": 20,
   "metadata": {
    "ExecuteTime": {
     "end_time": "2018-07-06T05:51:39.783613Z",
     "start_time": "2018-07-06T05:51:39.777413Z"
    }
   },
   "outputs": [
    {
     "data": {
      "text/plain": [
       "(45, 10591)"
      ]
     },
     "execution_count": 20,
     "metadata": {},
     "output_type": "execute_result"
    }
   ],
   "source": [
    "len(chat2ind), len(sender2ind)"
   ]
  },
  {
   "cell_type": "markdown",
   "metadata": {},
   "source": [
    "### load fasttext vectors"
   ]
  },
  {
   "cell_type": "code",
   "execution_count": 21,
   "metadata": {
    "ExecuteTime": {
     "end_time": "2018-07-06T05:51:40.884699Z",
     "start_time": "2018-07-06T05:51:39.786737Z"
    }
   },
   "outputs": [],
   "source": [
    "vectors = np.load('../data/chat_vectors_100.npy')"
   ]
  },
  {
   "cell_type": "markdown",
   "metadata": {},
   "source": [
    "### prepare data for buy model"
   ]
  },
  {
   "cell_type": "code",
   "execution_count": 106,
   "metadata": {
    "ExecuteTime": {
     "end_time": "2018-07-06T05:59:57.568807Z",
     "start_time": "2018-07-06T05:59:57.561589Z"
    }
   },
   "outputs": [],
   "source": [
    "inp_fasttext = []\n",
    "inp_chat_ind = []\n",
    "inp_sender_ind = []\n",
    "inp_timedelta_log = []\n",
    "out_target = [] # grow more than 0.66 quantile, not drawdown less 0.33 quantile in period 48 hours"
   ]
  },
  {
   "cell_type": "code",
   "execution_count": 107,
   "metadata": {
    "ExecuteTime": {
     "end_time": "2018-07-06T06:00:22.646438Z",
     "start_time": "2018-07-06T06:00:02.684840Z"
    }
   },
   "outputs": [],
   "source": [
    "TARGET_MIN_UP = 1.1\n",
    "TARGET_MAX_DOWN = 0.95\n",
    "SAMPLES = 5\n",
    "STEPS = 32\n",
    "\n",
    "for i, row in df_prices.iterrows():\n",
    "    for sample in range(SAMPLES):\n",
    "        ts = row['timestamp']\n",
    "\n",
    "        df_chats_sample = df_chats[(df_chats['timestamp'] > ts - 48 * 3600) & (df_chats['timestamp'] < ts)].sample(STEPS)\n",
    "        df_chats_sample['timedelta'] = np.log(-(df_chats_sample['timestamp'] - ts))\n",
    "\n",
    "        chat_indexes = df_chats_sample['ind'].values\n",
    "\n",
    "        batch_fasttext = vectors[chat_indexes]\n",
    "#         batch_sender_bot = df_chats.iloc[chat_indexes]['sender_is_bot'].values\n",
    "        batch_chat_ind = df_chats.iloc[chat_indexes]['chat_ind'].values\n",
    "        batch_sender_ind = df_chats.iloc[chat_indexes]['sender_ind'].values\n",
    "        batch_timedelta = df_chats_sample['timedelta'].values\n",
    "\n",
    "        df_prices_forward = df_prices[(df_prices['timestamp'] > ts) & (df_prices['timestamp'] <= ts + 48 * 3600)].copy()\n",
    "#         print(df_prices_forward.shape)\n",
    "        \n",
    "        if df_prices_forward.shape[0] < 24:\n",
    "            continue\n",
    "        df_prices_forward['priceUsd'] /= df_prices_forward['priceUsd'].values[0]\n",
    "\n",
    "        target = False\n",
    "        for price_relative in df_prices_forward['priceUsd'].values:\n",
    "            if price_relative < TARGET_MAX_DOWN:\n",
    "                target = False\n",
    "                break\n",
    "            if price_relative > TARGET_MIN_UP:\n",
    "                target = True\n",
    "                break\n",
    "\n",
    "        inp_fasttext.append(batch_fasttext)\n",
    "#         inp_sender_bot.append(batch_sender_bot)\n",
    "        inp_chat_ind.append(batch_chat_ind)\n",
    "        inp_sender_ind.append(batch_sender_ind)\n",
    "        inp_timedelta_log.append(batch_timedelta)\n",
    "        out_target.append(target)"
   ]
  },
  {
   "cell_type": "code",
   "execution_count": 108,
   "metadata": {
    "ExecuteTime": {
     "end_time": "2018-07-06T06:00:22.792117Z",
     "start_time": "2018-07-06T06:00:22.649092Z"
    }
   },
   "outputs": [],
   "source": [
    "inp_fasttext = np.array(inp_fasttext)\n",
    "# inp_sender_bot = np.array(inp_sender_bot)\n",
    "inp_chat_ind = np.array(inp_chat_ind)\n",
    "inp_sender_ind = np.array(inp_sender_ind)\n",
    "inp_timedelta_log = np.array(inp_timedelta_log)\n",
    "\n",
    "out_target = np.array(out_target)"
   ]
  },
  {
   "cell_type": "code",
   "execution_count": 109,
   "metadata": {
    "ExecuteTime": {
     "end_time": "2018-07-06T06:00:23.503440Z",
     "start_time": "2018-07-06T06:00:23.497663Z"
    }
   },
   "outputs": [
    {
     "data": {
      "text/plain": [
       "(3540,)"
      ]
     },
     "execution_count": 109,
     "metadata": {},
     "output_type": "execute_result"
    }
   ],
   "source": [
    "out_target.shape"
   ]
  },
  {
   "cell_type": "code",
   "execution_count": 110,
   "metadata": {
    "ExecuteTime": {
     "end_time": "2018-07-06T06:00:24.278170Z",
     "start_time": "2018-07-06T06:00:24.271481Z"
    }
   },
   "outputs": [],
   "source": [
    "# inp_sender_bot = np.expand_dims(inp_sender_bot, 2)"
   ]
  },
  {
   "cell_type": "code",
   "execution_count": 111,
   "metadata": {
    "ExecuteTime": {
     "end_time": "2018-07-06T06:00:24.928062Z",
     "start_time": "2018-07-06T06:00:24.922835Z"
    }
   },
   "outputs": [],
   "source": [
    "inp_chat_ind = np.expand_dims(inp_chat_ind, 2)\n",
    "inp_sender_ind = np.expand_dims(inp_sender_ind, 2)\n",
    "inp_timedelta_log = np.expand_dims(inp_timedelta_log, 2)"
   ]
  },
  {
   "cell_type": "code",
   "execution_count": 155,
   "metadata": {
    "ExecuteTime": {
     "end_time": "2018-07-06T06:06:33.376164Z",
     "start_time": "2018-07-06T06:06:33.070997Z"
    }
   },
   "outputs": [],
   "source": [
    "SENDER_EMBEDDING_SIZE = 128\n",
    "CHAT_EMBEDDING_SIZE = 4\n",
    "\n",
    "inp_layer_fasttext = Input(shape=(STEPS, 100, ), name='inp_layer_fasttext')\n",
    "# inp_layer_sender_bot = Input(shape=(STEPS, 1, ), name='inp_layer_sender_bot')\n",
    "inp_layer_chat = Input(shape=(STEPS, 1, ), name='inp_layer_chat')\n",
    "inp_layer_sender = Input(shape=(STEPS, 1, ), name='inp_layer_sender')\n",
    "inp_layer_timedelta = Input(shape=(STEPS, 1, ), name='inp_layer_timedelta')\n",
    "\n",
    "sender_embedding = Embedding(len(sender2ind), SENDER_EMBEDDING_SIZE)(inp_layer_sender)\n",
    "chat_embedding = Embedding(len(chat2ind), CHAT_EMBEDDING_SIZE)(inp_layer_chat)\n",
    "\n",
    "sender_embedding = Reshape((STEPS, SENDER_EMBEDDING_SIZE))(sender_embedding)\n",
    "chat_embedding = Reshape((STEPS, CHAT_EMBEDDING_SIZE))(chat_embedding)\n",
    "\n",
    "common_layer = Concatenate(axis=-1)([\n",
    "    inp_layer_fasttext, chat_embedding, sender_embedding, inp_layer_timedelta])\n",
    "\n",
    "lstm = LSTM(8)(common_layer)\n",
    "# lstm = LSTM(8)(lstm)\n",
    "\n",
    "dense = Dense(1, activation='sigmoid')(lstm)\n",
    "\n",
    "model = Model(\n",
    "    inputs=[inp_layer_fasttext, inp_layer_chat, inp_layer_sender, inp_layer_timedelta],\n",
    "    outputs=dense\n",
    ")\n",
    "\n",
    "opt = Adam(lr=0.0002)\n",
    "model.compile(optimizer=opt, loss='binary_crossentropy', metrics=['accuracy'])\n",
    "# model.compile(optimizer='sgd', loss='binary_crossentropy')"
   ]
  },
  {
   "cell_type": "code",
   "execution_count": 156,
   "metadata": {
    "ExecuteTime": {
     "end_time": "2018-07-06T06:06:33.787161Z",
     "start_time": "2018-07-06T06:06:33.783081Z"
    }
   },
   "outputs": [],
   "source": [
    "test_size = int(inp_fasttext.shape[0] * 0.1)"
   ]
  },
  {
   "cell_type": "code",
   "execution_count": null,
   "metadata": {
    "ExecuteTime": {
     "start_time": "2018-07-06T06:06:34.622Z"
    }
   },
   "outputs": [
    {
     "name": "stdout",
     "output_type": "stream",
     "text": [
      "Train on 3186 samples, validate on 354 samples\n",
      "Epoch 1/10\n",
      "3186/3186 [==============================] - 8s 2ms/step - loss: 0.4239 - acc: 0.8807 - val_loss: 0.3493 - val_acc: 0.8898\n",
      "Epoch 2/10\n",
      "3186/3186 [==============================] - 5s 2ms/step - loss: 0.3626 - acc: 0.8836 - val_loss: 0.3438 - val_acc: 0.8898\n",
      "Epoch 3/10\n",
      "3186/3186 [==============================] - 6s 2ms/step - loss: 0.3533 - acc: 0.8836 - val_loss: 0.3441 - val_acc: 0.8898\n",
      "Epoch 4/10\n",
      "3186/3186 [==============================] - 6s 2ms/step - loss: 0.3271 - acc: 0.8836 - val_loss: 0.3389 - val_acc: 0.8898\n",
      "Epoch 5/10\n",
      "3186/3186 [==============================] - 6s 2ms/step - loss: 0.2827 - acc: 0.8836 - val_loss: 0.3413 - val_acc: 0.8898\n",
      "Epoch 6/10\n",
      " 448/3186 [===>..........................] - ETA: 4s - loss: 0.2349 - acc: 0.8929"
     ]
    }
   ],
   "source": [
    "model.fit(\n",
    "    [inp_fasttext[:-test_size], inp_chat_ind[:-test_size], inp_sender_ind[:-test_size], inp_timedelta_log[:-test_size]],\n",
    "    out_target[:-test_size],\n",
    "    validation_data=[\n",
    "        [inp_fasttext[-test_size:], inp_chat_ind[-test_size:], inp_sender_ind[-test_size:], inp_timedelta_log[-test_size:]],\n",
    "        out_target[-test_size:]\n",
    "    ],\n",
    "    class_weight=[0.15, 1],\n",
    "    epochs=10\n",
    ")"
   ]
  },
  {
   "cell_type": "code",
   "execution_count": 139,
   "metadata": {
    "ExecuteTime": {
     "end_time": "2018-07-06T06:04:10.000223Z",
     "start_time": "2018-07-06T06:04:09.980600Z"
    }
   },
   "outputs": [
    {
     "data": {
      "text/plain": [
       "((3540,), 410)"
      ]
     },
     "execution_count": 139,
     "metadata": {},
     "output_type": "execute_result"
    }
   ],
   "source": [
    "out_target.shape, sum(out_target)"
   ]
  },
  {
   "cell_type": "code",
   "execution_count": 140,
   "metadata": {
    "ExecuteTime": {
     "end_time": "2018-07-06T06:04:10.798804Z",
     "start_time": "2018-07-06T06:04:10.591979Z"
    }
   },
   "outputs": [
    {
     "data": {
      "image/png": "[encoded data removed]",
      "text/plain": [
       "<Figure size 432x288 with 1 Axes>"
      ]
     },
     "metadata": {},
     "output_type": "display_data"
    }
   ],
   "source": [
    "plt.plot(model.history.history['loss'], label='loss')\n",
    "plt.plot(model.history.history['val_loss'], label='val_loss')\n",
    "plt.legend()\n",
    "plt.show()"
   ]
  },
  {
   "cell_type": "code",
   "execution_count": 141,
   "metadata": {
    "ExecuteTime": {
     "end_time": "2018-07-06T06:04:11.758855Z",
     "start_time": "2018-07-06T06:04:11.566765Z"
    }
   },
   "outputs": [
    {
     "data": {
      "image/png": "[encoded data removed]",
      "text/plain": [
       "<Figure size 432x288 with 1 Axes>"
      ]
     },
     "metadata": {},
     "output_type": "display_data"
    }
   ],
   "source": [
    "plt.plot(model.history.history['acc'], label='acc')\n",
    "plt.plot(model.history.history['val_acc'], label='val_acc')\n",
    "plt.legend()\n",
    "plt.show()"
   ]
  },
  {
   "cell_type": "code",
   "execution_count": 142,
   "metadata": {
    "ExecuteTime": {
     "end_time": "2018-07-06T06:04:13.019487Z",
     "start_time": "2018-07-06T06:04:12.408215Z"
    }
   },
   "outputs": [],
   "source": [
    "y_test_predict = model.predict([\n",
    "    inp_fasttext[-test_size:], inp_chat_ind[-test_size:], \n",
    "    inp_sender_ind[-test_size:], inp_timedelta_log[-test_size:]])"
   ]
  },
  {
   "cell_type": "code",
   "execution_count": 143,
   "metadata": {
    "ExecuteTime": {
     "end_time": "2018-07-06T06:04:13.050614Z",
     "start_time": "2018-07-06T06:04:13.041879Z"
    }
   },
   "outputs": [
    {
     "data": {
      "text/plain": [
       "0.561986161986162"
      ]
     },
     "execution_count": 143,
     "metadata": {},
     "output_type": "execute_result"
    }
   ],
   "source": [
    "roc_auc_score(out_target[-test_size:], y_test_predict[:, 0])"
   ]
  },
  {
   "cell_type": "code",
   "execution_count": 144,
   "metadata": {
    "ExecuteTime": {
     "end_time": "2018-07-06T06:04:14.691155Z",
     "start_time": "2018-07-06T06:04:14.684177Z"
    }
   },
   "outputs": [],
   "source": [
    "fpr, tpr, _ = roc_curve(out_target[-test_size:], y_test_predict[:, 0])"
   ]
  },
  {
   "cell_type": "code",
   "execution_count": 145,
   "metadata": {
    "ExecuteTime": {
     "end_time": "2018-07-06T06:04:15.494843Z",
     "start_time": "2018-07-06T06:04:15.265921Z"
    }
   },
   "outputs": [
    {
     "data": {
      "text/plain": [
       "[]"
      ]
     },
     "execution_count": 145,
     "metadata": {},
     "output_type": "execute_result"
    },
    {
     "data": {
      "image/png": "[encoded data removed]",
      "text/plain": [
       "<Figure size 432x288 with 1 Axes>"
      ]
     },
     "metadata": {},
     "output_type": "display_data"
    }
   ],
   "source": [
    "plt.plot(fpr, tpr)\n",
    "plt.plot([0, 1], [0, 1], color='navy', linestyle='--')\n",
    "plt.xlim([0.0, 1.0])\n",
    "plt.ylim([0.0, 1.05])\n",
    "plt.xlabel('False Positive Rate')\n",
    "plt.ylabel('True Positive Rate')\n",
    "plt.plot()"
   ]
  },
  {
   "cell_type": "code",
   "execution_count": 125,
   "metadata": {
    "ExecuteTime": {
     "end_time": "2018-07-06T06:01:55.287690Z",
     "start_time": "2018-07-06T06:01:54.463608Z"
    }
   },
   "outputs": [],
   "source": [
    "model.save('../data/model_quantile_chats.pkl')"
   ]
  },
  {
   "cell_type": "code",
   "execution_count": null,
   "metadata": {},
   "outputs": [],
   "source": []
  }
 ],
 "metadata": {
  "kernelspec": {
   "display_name": "Python 3",
   "language": "python",
   "name": "python3"
  },
  "language_info": {
   "codemirror_mode": {
    "name": "ipython",
    "version": 3
   },
   "file_extension": ".py",
   "mimetype": "text/x-python",
   "name": "python",
   "nbconvert_exporter": "python",
   "pygments_lexer": "ipython3",
   "version": "3.6.4"
  },
  "toc": {
   "nav_menu": {},
   "number_sections": true,
   "sideBar": true,
   "skip_h1_title": false,
   "toc_cell": true,
   "toc_position": {},
   "toc_section_display": "block",
   "toc_window_display": false
  }
 },
 "nbformat": 4,
 "nbformat_minor": 2
}
