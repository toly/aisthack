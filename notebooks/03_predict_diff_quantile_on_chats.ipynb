{
 "cells": [
  {
   "cell_type": "code",
   "execution_count": 81,
   "metadata": {},
   "outputs": [],
   "source": [
    "import numpy as np\n",
    "import pandas as pd\n",
    "\n",
    "from gensim.models.fasttext import FastText\n",
    "from keras.models import Sequential, Model\n",
    "from keras.layers import Dense, Embedding, Input, Concatenate, Reshape, LSTM\n",
    "\n",
    "import matplotlib.pyplot as plt\n",
    "\n",
    "%matplotlib inline"
   ]
  },
  {
   "cell_type": "markdown",
   "metadata": {},
   "source": [
    "# load data"
   ]
  },
  {
   "cell_type": "code",
   "execution_count": 128,
   "metadata": {},
   "outputs": [],
   "source": [
    "df_chats = pd.read_csv('../data/train/chats_train.csv')\n",
    "df_prices = pd.read_csv('../data/train/tickers_train.csv', index_col=0)"
   ]
  },
  {
   "cell_type": "markdown",
   "metadata": {},
   "source": [
    "## prepare price data"
   ]
  },
  {
   "cell_type": "code",
   "execution_count": 129,
   "metadata": {},
   "outputs": [],
   "source": [
    "TICKER = 'ETH'\n",
    "df_prices = df_prices[df_prices['ticker'] == TICKER].copy()"
   ]
  },
  {
   "cell_type": "code",
   "execution_count": 130,
   "metadata": {},
   "outputs": [
    {
     "data": {
      "text/html": [
       "<div>\n",
       "<style scoped>\n",
       "    .dataframe tbody tr th:only-of-type {\n",
       "        vertical-align: middle;\n",
       "    }\n",
       "\n",
       "    .dataframe tbody tr th {\n",
       "        vertical-align: top;\n",
       "    }\n",
       "\n",
       "    .dataframe thead th {\n",
       "        text-align: right;\n",
       "    }\n",
       "</style>\n",
       "<table border=\"1\" class=\"dataframe\">\n",
       "  <thead>\n",
       "    <tr style=\"text-align: right;\">\n",
       "      <th></th>\n",
       "      <th>datetime</th>\n",
       "      <th>name</th>\n",
       "      <th>priceBtc</th>\n",
       "      <th>priceUsd</th>\n",
       "      <th>ticker</th>\n",
       "      <th>volume</th>\n",
       "    </tr>\n",
       "  </thead>\n",
       "  <tbody>\n",
       "    <tr>\n",
       "      <th>0</th>\n",
       "      <td>2018-03-01T00:00:00Z</td>\n",
       "      <td>Ethereum</td>\n",
       "      <td>0.082836</td>\n",
       "      <td>856.952292</td>\n",
       "      <td>ETH</td>\n",
       "      <td>1.979010e+09</td>\n",
       "    </tr>\n",
       "    <tr>\n",
       "      <th>1</th>\n",
       "      <td>2018-03-01T02:00:00Z</td>\n",
       "      <td>Ethereum</td>\n",
       "      <td>0.082887</td>\n",
       "      <td>858.979167</td>\n",
       "      <td>ETH</td>\n",
       "      <td>1.931840e+09</td>\n",
       "    </tr>\n",
       "  </tbody>\n",
       "</table>\n",
       "</div>"
      ],
      "text/plain": [
       "               datetime      name  priceBtc    priceUsd ticker        volume\n",
       "0  2018-03-01T00:00:00Z  Ethereum  0.082836  856.952292    ETH  1.979010e+09\n",
       "1  2018-03-01T02:00:00Z  Ethereum  0.082887  858.979167    ETH  1.931840e+09"
      ]
     },
     "execution_count": 130,
     "metadata": {},
     "output_type": "execute_result"
    }
   ],
   "source": [
    "df_prices.head(2)"
   ]
  },
  {
   "cell_type": "code",
   "execution_count": 131,
   "metadata": {},
   "outputs": [],
   "source": [
    "df_prices['delta_price_usd'] = (df_prices['priceUsd'] - df_prices['priceUsd'].shift(1)) / df_prices['priceUsd'].shift(1)"
   ]
  },
  {
   "cell_type": "code",
   "execution_count": 132,
   "metadata": {},
   "outputs": [],
   "source": [
    "df_prices['delta_price_usd'].fillna(0, inplace=True)"
   ]
  },
  {
   "cell_type": "code",
   "execution_count": 133,
   "metadata": {},
   "outputs": [],
   "source": [
    "quantile1 = df_prices['delta_price_usd'].quantile(q=0.33)\n",
    "quantile2 = df_prices['delta_price_usd'].quantile(q=0.66)"
   ]
  },
  {
   "cell_type": "code",
   "execution_count": 134,
   "metadata": {},
   "outputs": [
    {
     "data": {
      "image/png": "[encoded data removed]",
      "text/plain": [
       "<Figure size 432x288 with 1 Axes>"
      ]
     },
     "metadata": {},
     "output_type": "display_data"
    }
   ],
   "source": [
    "plt.hist(df_prices['delta_price_usd'], bins=100)\n",
    "plt.axvline(quantile1, color='k', linestyle='dashed')\n",
    "plt.axvline(quantile2, color='k', linestyle='dashed')\n",
    "plt.show()"
   ]
  },
  {
   "cell_type": "code",
   "execution_count": 135,
   "metadata": {},
   "outputs": [
    {
     "name": "stdout",
     "output_type": "stream",
     "text": [
      "(242, 7) (249, 7) (241, 7)\n"
     ]
    }
   ],
   "source": [
    "print(\n",
    "    df_prices[df_prices['delta_price_usd'] < quantile1].shape,\n",
    "    df_prices[df_prices['delta_price_usd'] > quantile2].shape,\n",
    "    df_prices[(df_prices['delta_price_usd'] > quantile1) & (df_prices['delta_price_usd'] < quantile2)].shape,\n",
    ")"
   ]
  },
  {
   "cell_type": "code",
   "execution_count": 136,
   "metadata": {},
   "outputs": [],
   "source": [
    "df_prices['timestamp'] = pd.to_datetime(df_prices['datetime']).apply(lambda x: x.timestamp())"
   ]
  },
  {
   "cell_type": "code",
   "execution_count": 137,
   "metadata": {},
   "outputs": [
    {
     "data": {
      "text/html": [
       "<div>\n",
       "<style scoped>\n",
       "    .dataframe tbody tr th:only-of-type {\n",
       "        vertical-align: middle;\n",
       "    }\n",
       "\n",
       "    .dataframe tbody tr th {\n",
       "        vertical-align: top;\n",
       "    }\n",
       "\n",
       "    .dataframe thead th {\n",
       "        text-align: right;\n",
       "    }\n",
       "</style>\n",
       "<table border=\"1\" class=\"dataframe\">\n",
       "  <thead>\n",
       "    <tr style=\"text-align: right;\">\n",
       "      <th></th>\n",
       "      <th>datetime</th>\n",
       "      <th>name</th>\n",
       "      <th>priceBtc</th>\n",
       "      <th>priceUsd</th>\n",
       "      <th>ticker</th>\n",
       "      <th>volume</th>\n",
       "      <th>delta_price_usd</th>\n",
       "      <th>timestamp</th>\n",
       "    </tr>\n",
       "  </thead>\n",
       "  <tbody>\n",
       "    <tr>\n",
       "      <th>0</th>\n",
       "      <td>2018-03-01T00:00:00Z</td>\n",
       "      <td>Ethereum</td>\n",
       "      <td>0.082836</td>\n",
       "      <td>856.952292</td>\n",
       "      <td>ETH</td>\n",
       "      <td>1.979010e+09</td>\n",
       "      <td>0.000000</td>\n",
       "      <td>1.519862e+09</td>\n",
       "    </tr>\n",
       "    <tr>\n",
       "      <th>1</th>\n",
       "      <td>2018-03-01T02:00:00Z</td>\n",
       "      <td>Ethereum</td>\n",
       "      <td>0.082887</td>\n",
       "      <td>858.979167</td>\n",
       "      <td>ETH</td>\n",
       "      <td>1.931840e+09</td>\n",
       "      <td>0.002365</td>\n",
       "      <td>1.519870e+09</td>\n",
       "    </tr>\n",
       "    <tr>\n",
       "      <th>2</th>\n",
       "      <td>2018-03-01T04:00:00Z</td>\n",
       "      <td>Ethereum</td>\n",
       "      <td>0.082744</td>\n",
       "      <td>861.494542</td>\n",
       "      <td>ETH</td>\n",
       "      <td>1.908910e+09</td>\n",
       "      <td>0.002928</td>\n",
       "      <td>1.519877e+09</td>\n",
       "    </tr>\n",
       "    <tr>\n",
       "      <th>3</th>\n",
       "      <td>2018-03-01T06:00:00Z</td>\n",
       "      <td>Ethereum</td>\n",
       "      <td>0.082734</td>\n",
       "      <td>862.998542</td>\n",
       "      <td>ETH</td>\n",
       "      <td>1.866320e+09</td>\n",
       "      <td>0.001746</td>\n",
       "      <td>1.519884e+09</td>\n",
       "    </tr>\n",
       "    <tr>\n",
       "      <th>4</th>\n",
       "      <td>2018-03-01T08:00:00Z</td>\n",
       "      <td>Ethereum</td>\n",
       "      <td>0.081945</td>\n",
       "      <td>869.481042</td>\n",
       "      <td>ETH</td>\n",
       "      <td>1.834750e+09</td>\n",
       "      <td>0.007512</td>\n",
       "      <td>1.519891e+09</td>\n",
       "    </tr>\n",
       "  </tbody>\n",
       "</table>\n",
       "</div>"
      ],
      "text/plain": [
       "               datetime      name  priceBtc    priceUsd ticker        volume  \\\n",
       "0  2018-03-01T00:00:00Z  Ethereum  0.082836  856.952292    ETH  1.979010e+09   \n",
       "1  2018-03-01T02:00:00Z  Ethereum  0.082887  858.979167    ETH  1.931840e+09   \n",
       "2  2018-03-01T04:00:00Z  Ethereum  0.082744  861.494542    ETH  1.908910e+09   \n",
       "3  2018-03-01T06:00:00Z  Ethereum  0.082734  862.998542    ETH  1.866320e+09   \n",
       "4  2018-03-01T08:00:00Z  Ethereum  0.081945  869.481042    ETH  1.834750e+09   \n",
       "\n",
       "   delta_price_usd     timestamp  \n",
       "0         0.000000  1.519862e+09  \n",
       "1         0.002365  1.519870e+09  \n",
       "2         0.002928  1.519877e+09  \n",
       "3         0.001746  1.519884e+09  \n",
       "4         0.007512  1.519891e+09  "
      ]
     },
     "execution_count": 137,
     "metadata": {},
     "output_type": "execute_result"
    }
   ],
   "source": [
    "df_prices.head()"
   ]
  },
  {
   "cell_type": "markdown",
   "metadata": {},
   "source": [
    "## prepare chat data"
   ]
  },
  {
   "cell_type": "code",
   "execution_count": 138,
   "metadata": {},
   "outputs": [
    {
     "data": {
      "text/html": [
       "<div>\n",
       "<style scoped>\n",
       "    .dataframe tbody tr th:only-of-type {\n",
       "        vertical-align: middle;\n",
       "    }\n",
       "\n",
       "    .dataframe tbody tr th {\n",
       "        vertical-align: top;\n",
       "    }\n",
       "\n",
       "    .dataframe thead th {\n",
       "        text-align: right;\n",
       "    }\n",
       "</style>\n",
       "<table border=\"1\" class=\"dataframe\">\n",
       "  <thead>\n",
       "    <tr style=\"text-align: right;\">\n",
       "      <th></th>\n",
       "      <th>chat_id</th>\n",
       "      <th>chat_title</th>\n",
       "      <th>emoji_list</th>\n",
       "      <th>sender_first_name</th>\n",
       "      <th>sender_id</th>\n",
       "      <th>sender_is_bot</th>\n",
       "      <th>sender_last_name</th>\n",
       "      <th>sender_username</th>\n",
       "      <th>text</th>\n",
       "      <th>timestamp</th>\n",
       "    </tr>\n",
       "  </thead>\n",
       "  <tbody>\n",
       "    <tr>\n",
       "      <th>0</th>\n",
       "      <td>1129149026</td>\n",
       "      <td>Pareto Network - Discussion</td>\n",
       "      <td>[]</td>\n",
       "      <td>Bezant</td>\n",
       "      <td>526106862</td>\n",
       "      <td>False</td>\n",
       "      <td>None</td>\n",
       "      <td>None</td>\n",
       "      <td>Admin disputes in private thank you.</td>\n",
       "      <td>1524284160</td>\n",
       "    </tr>\n",
       "    <tr>\n",
       "      <th>1</th>\n",
       "      <td>1129149026</td>\n",
       "      <td>Pareto Network - Discussion</td>\n",
       "      <td>[]</td>\n",
       "      <td>Sheriff</td>\n",
       "      <td>538526216</td>\n",
       "      <td>False</td>\n",
       "      <td>None</td>\n",
       "      <td>None</td>\n",
       "      <td>I see Binance add coins all the time on the Cr...</td>\n",
       "      <td>1524284160</td>\n",
       "    </tr>\n",
       "    <tr>\n",
       "      <th>2</th>\n",
       "      <td>1146170349</td>\n",
       "      <td>Binance English</td>\n",
       "      <td>[]</td>\n",
       "      <td>DaySandBox</td>\n",
       "      <td>400753764</td>\n",
       "      <td>True</td>\n",
       "      <td>None</td>\n",
       "      <td>daysandbox_bot</td>\n",
       "      <td>Removed msg from __Megzon Kadrija__. Reason: n...</td>\n",
       "      <td>1524285614</td>\n",
       "    </tr>\n",
       "    <tr>\n",
       "      <th>3</th>\n",
       "      <td>1146170349</td>\n",
       "      <td>Binance English</td>\n",
       "      <td>[]</td>\n",
       "      <td>Kamalendu</td>\n",
       "      <td>435609627</td>\n",
       "      <td>False</td>\n",
       "      <td>Pal</td>\n",
       "      <td>None</td>\n",
       "      <td>Bc xvg dead</td>\n",
       "      <td>1524285372</td>\n",
       "    </tr>\n",
       "    <tr>\n",
       "      <th>4</th>\n",
       "      <td>1146170349</td>\n",
       "      <td>Binance English</td>\n",
       "      <td>[':thumbsup:']</td>\n",
       "      <td>Abdelbari</td>\n",
       "      <td>154857846</td>\n",
       "      <td>False</td>\n",
       "      <td>K</td>\n",
       "      <td>None</td>\n",
       "      <td>Yes, youre right 👍</td>\n",
       "      <td>1524286342</td>\n",
       "    </tr>\n",
       "  </tbody>\n",
       "</table>\n",
       "</div>"
      ],
      "text/plain": [
       "      chat_id                   chat_title      emoji_list sender_first_name  \\\n",
       "0  1129149026  Pareto Network - Discussion              []            Bezant   \n",
       "1  1129149026  Pareto Network - Discussion              []           Sheriff   \n",
       "2  1146170349              Binance English              []        DaySandBox   \n",
       "3  1146170349              Binance English              []         Kamalendu   \n",
       "4  1146170349              Binance English  [':thumbsup:']         Abdelbari   \n",
       "\n",
       "   sender_id  sender_is_bot sender_last_name sender_username  \\\n",
       "0  526106862          False             None            None   \n",
       "1  538526216          False             None            None   \n",
       "2  400753764           True             None  daysandbox_bot   \n",
       "3  435609627          False              Pal            None   \n",
       "4  154857846          False                K            None   \n",
       "\n",
       "                                                text   timestamp  \n",
       "0               Admin disputes in private thank you.  1524284160  \n",
       "1  I see Binance add coins all the time on the Cr...  1524284160  \n",
       "2  Removed msg from __Megzon Kadrija__. Reason: n...  1524285614  \n",
       "3                                        Bc xvg dead  1524285372  \n",
       "4                                 Yes, youre right 👍  1524286342  "
      ]
     },
     "execution_count": 138,
     "metadata": {},
     "output_type": "execute_result"
    }
   ],
   "source": [
    "df_chats.head()"
   ]
  },
  {
   "cell_type": "code",
   "execution_count": 139,
   "metadata": {},
   "outputs": [],
   "source": [
    "df_chats['ind'] = list(range(df_chats.shape[0]))"
   ]
  },
  {
   "cell_type": "code",
   "execution_count": 140,
   "metadata": {},
   "outputs": [],
   "source": [
    "PERIOD = 8*3600\n",
    "\n",
    "news_counts = []\n",
    "for i, row in df_prices.iterrows():\n",
    "    ts = row['timestamp']\n",
    "    c = df_chats[(df_chats['timestamp'] < ts) & (df_chats['timestamp'] > ts - PERIOD)].shape[0]\n",
    "    news_counts.append(c)"
   ]
  },
  {
   "cell_type": "code",
   "execution_count": 141,
   "metadata": {},
   "outputs": [
    {
     "data": {
      "image/png": "[encoded data removed]",
      "text/plain": [
       "<Figure size 432x288 with 1 Axes>"
      ]
     },
     "metadata": {},
     "output_type": "display_data"
    }
   ],
   "source": [
    "plt.hist(news_counts, bins=20)\n",
    "plt.show()"
   ]
  },
  {
   "cell_type": "code",
   "execution_count": 142,
   "metadata": {},
   "outputs": [],
   "source": [
    "chat_ids = list(df_chats['chat_id'].unique())\n",
    "chat_ids.sort()\n",
    "chat2ind = {chat_id: i for i, chat_id in enumerate(chat_ids)}\n",
    "\n",
    "sender_ids = list(df_chats['sender_id'].unique())\n",
    "sender_ids.sort()\n",
    "sender2ind = {sender_id: i for i, sender_id in enumerate(sender_ids)}"
   ]
  },
  {
   "cell_type": "code",
   "execution_count": 143,
   "metadata": {},
   "outputs": [],
   "source": [
    "df_chats['chat_ind'] = df_chats['chat_id'].apply(lambda x: chat2ind[x])\n",
    "df_chats['sender_ind'] = df_chats['sender_id'].apply(lambda x: sender2ind[x])"
   ]
  },
  {
   "cell_type": "markdown",
   "metadata": {},
   "source": [
    "### load fasttext vectors"
   ]
  },
  {
   "cell_type": "code",
   "execution_count": 144,
   "metadata": {},
   "outputs": [],
   "source": [
    "vectors = np.load('../data/chat_vectors_100.npy')"
   ]
  },
  {
   "cell_type": "markdown",
   "metadata": {},
   "source": [
    "### prepare data for buy model"
   ]
  },
  {
   "cell_type": "code",
   "execution_count": 145,
   "metadata": {},
   "outputs": [],
   "source": [
    "df_chats['sender_is_bot'] = df_chats['sender_is_bot'].apply(lambda x: int(x))"
   ]
  },
  {
   "cell_type": "code",
   "execution_count": 156,
   "metadata": {},
   "outputs": [],
   "source": [
    "inp_fasttext = []\n",
    "inp_sender_bot = []\n",
    "inp_chat_ind = []\n",
    "inp_sender_ind = []\n",
    "inp_timedelta_log = []\n",
    "out_target = [] # grow more than 0.66 quantile, not drawdown less 0.33 quantile in period 48 hours"
   ]
  },
  {
   "cell_type": "code",
   "execution_count": 157,
   "metadata": {},
   "outputs": [],
   "source": [
    "TARGET_MIN_UP = 1.1\n",
    "TARGET_MAX_DOWN = 0.95\n",
    "SAMPLES = 10\n",
    "STEPS = 256\n",
    "\n",
    "for i, row in df_prices.iterrows():\n",
    "    for sample in range(SAMPLES):\n",
    "        ts = row['timestamp']\n",
    "\n",
    "        df_chats_sample = df_chats[(df_chats['timestamp'] > ts - 48 * 3600) & (df_chats['timestamp'] < ts)].sample(STEPS)\n",
    "        df_chats_sample['timedelta'] = np.log(-(df_chats_sample['timestamp'] - ts))\n",
    "\n",
    "        chat_indexes = df_chats_sample['ind'].values\n",
    "\n",
    "        batch_fasttext = vectors[chat_indexes]\n",
    "        batch_sender_bot = df_chats.iloc[chat_indexes]['sender_is_bot'].values\n",
    "        batch_chat_ind = df_chats.iloc[chat_indexes]['chat_ind'].values\n",
    "        batch_sender_ind = df_chats.iloc[chat_indexes]['sender_ind'].values\n",
    "        batch_timedelta = df_chats_sample['timedelta'].values\n",
    "\n",
    "        df_prices_forward = df_prices[(df_prices['timestamp'] > ts) & (df_prices['timestamp'] + 48 * 3600)].copy()\n",
    "        if df_prices_forward.shape[0] < 24:\n",
    "            continue\n",
    "        df_prices_forward['priceUsd'] /= df_prices_forward['priceUsd'].values[0]\n",
    "\n",
    "        target = False\n",
    "        for price_relative in df_prices_forward['priceUsd'].values:\n",
    "            if price_relative < TARGET_MAX_DOWN:\n",
    "                target = False\n",
    "                break\n",
    "            if price_relative > TARGET_MIN_UP:\n",
    "                target = True\n",
    "                break\n",
    "\n",
    "        inp_fasttext.append(batch_fasttext)\n",
    "        inp_sender_bot.append(batch_sender_bot)\n",
    "        inp_chat_ind.append(batch_chat_ind)\n",
    "        inp_sender_ind.append(batch_sender_ind)\n",
    "        inp_timedelta_log.append(batch_timedelta)\n",
    "        out_target.append(target)"
   ]
  },
  {
   "cell_type": "code",
   "execution_count": 158,
   "metadata": {},
   "outputs": [],
   "source": [
    "inp_fasttext = np.array(inp_fasttext)\n",
    "inp_sender_bot = np.array(inp_sender_bot)\n",
    "inp_chat_ind = np.array(inp_chat_ind)\n",
    "inp_sender_ind = np.array(inp_sender_ind)\n",
    "inp_timedelta_log = np.array(inp_timedelta_log)\n",
    "\n",
    "out_target = np.array(out_target)"
   ]
  },
  {
   "cell_type": "code",
   "execution_count": 159,
   "metadata": {},
   "outputs": [],
   "source": [
    "inp_sender_bot = np.expand_dims(inp_sender_bot, 2)"
   ]
  },
  {
   "cell_type": "code",
   "execution_count": 160,
   "metadata": {},
   "outputs": [],
   "source": [
    "inp_chat_ind = np.expand_dims(inp_chat_ind, 2)"
   ]
  },
  {
   "cell_type": "code",
   "execution_count": 161,
   "metadata": {},
   "outputs": [],
   "source": [
    "inp_sender_ind = np.expand_dims(inp_sender_ind, 2)"
   ]
  },
  {
   "cell_type": "code",
   "execution_count": 162,
   "metadata": {},
   "outputs": [],
   "source": [
    "inp_timedelta_log = np.expand_dims(inp_timedelta_log, 2)"
   ]
  },
  {
   "cell_type": "code",
   "execution_count": 163,
   "metadata": {},
   "outputs": [],
   "source": [
    "inp_layer_fasttext = Input(shape=(STEPS, 100, ), name='inp_layer_fasttext')\n",
    "inp_layer_sender_bot = Input(shape=(STEPS, 1, ), name='inp_layer_sender_bot')\n",
    "inp_layer_chat = Input(shape=(STEPS, 1, ), name='inp_layer_chat')\n",
    "inp_layer_sender = Input(shape=(STEPS, 1, ), name='inp_layer_sender')\n",
    "inp_layer_timedelta = Input(shape=(STEPS, 1, ), name='inp_layer_timedelta')\n",
    "\n",
    "sender_embedding = Embedding(len(sender2ind), 128)(inp_layer_sender)\n",
    "chat_embedding = Embedding(len(chat2ind), 8)(inp_layer_chat)\n",
    "\n",
    "sender_embedding = Reshape((STEPS, 128))(sender_embedding)\n",
    "chat_embedding = Reshape((STEPS, 8))(chat_embedding)\n",
    "\n",
    "common_layer = Concatenate(axis=-1)([\n",
    "    inp_layer_fasttext, inp_layer_sender_bot, chat_embedding, sender_embedding, inp_layer_timedelta])\n",
    "\n",
    "lstm = LSTM(128)(common_layer)\n",
    "\n",
    "dense = Dense(1, activation='sigmoid')(lstm)\n",
    "\n",
    "model = Model(\n",
    "    inputs=[inp_layer_fasttext, inp_layer_sender_bot, inp_layer_chat, inp_layer_sender, inp_layer_timedelta],\n",
    "    outputs=dense\n",
    ")\n",
    "\n",
    "model.compile(optimizer='adam', loss='binary_crossentropy')"
   ]
  },
  {
   "cell_type": "code",
   "execution_count": 164,
   "metadata": {},
   "outputs": [],
   "source": [
    "test_size = int(inp_fasttext.shape[0] * 0.1)"
   ]
  },
  {
   "cell_type": "code",
   "execution_count": 165,
   "metadata": {},
   "outputs": [
    {
     "name": "stdout",
     "output_type": "stream",
     "text": [
      "Train on 6372 samples, validate on 708 samples\n",
      "Epoch 1/10\n",
      "6372/6372 [==============================] - 59s 9ms/step - loss: 0.3956 - val_loss: 1.7974\n",
      "Epoch 2/10\n",
      "6372/6372 [==============================] - 59s 9ms/step - loss: 0.1409 - val_loss: 2.4783\n",
      "Epoch 3/10\n",
      "6372/6372 [==============================] - 59s 9ms/step - loss: 0.0385 - val_loss: 2.7842\n",
      "Epoch 4/10\n",
      "6372/6372 [==============================] - 59s 9ms/step - loss: 0.0038 - val_loss: 3.8096\n",
      "Epoch 5/10\n",
      "6372/6372 [==============================] - 59s 9ms/step - loss: 4.4915e-04 - val_loss: 5.3348\n",
      "Epoch 6/10\n",
      "6372/6372 [==============================] - 59s 9ms/step - loss: 1.8141e-04 - val_loss: 5.9734\n",
      "Epoch 7/10\n",
      "6372/6372 [==============================] - 59s 9ms/step - loss: 1.0997e-04 - val_loss: 6.3487\n",
      "Epoch 8/10\n",
      "6372/6372 [==============================] - 58s 9ms/step - loss: 7.7604e-05 - val_loss: 6.6453\n",
      "Epoch 9/10\n",
      "6372/6372 [==============================] - 58s 9ms/step - loss: 5.9407e-05 - val_loss: 6.8534\n",
      "Epoch 10/10\n",
      "6372/6372 [==============================] - 59s 9ms/step - loss: 4.7390e-05 - val_loss: 7.0472\n"
     ]
    },
    {
     "data": {
      "text/plain": [
       "<keras.callbacks.History at 0x7f8fe43fc320>"
      ]
     },
     "execution_count": 165,
     "metadata": {},
     "output_type": "execute_result"
    }
   ],
   "source": [
    "model.fit(\n",
    "    [inp_fasttext[:-test_size], inp_sender_bot[:-test_size], inp_chat_ind[:-test_size], inp_sender_ind[:-test_size], inp_timedelta_log[:-test_size]],\n",
    "    out_target[:-test_size],\n",
    "    validation_data=[\n",
    "        [inp_fasttext[-test_size:], inp_sender_bot[-test_size:], inp_chat_ind[-test_size:], inp_sender_ind[-test_size:], inp_timedelta_log[-test_size:]],\n",
    "        out_target[-test_size:]\n",
    "    ],\n",
    "    epochs=10\n",
    ")"
   ]
  },
  {
   "cell_type": "code",
   "execution_count": null,
   "metadata": {},
   "outputs": [],
   "source": []
  }
 ],
 "metadata": {
  "kernelspec": {
   "display_name": "Python 3",
   "language": "python",
   "name": "python3"
  }
 },
 "nbformat": 4,
 "nbformat_minor": 2
}
