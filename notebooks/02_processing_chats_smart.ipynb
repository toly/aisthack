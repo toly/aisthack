{
 "cells": [
  {
   "cell_type": "markdown",
   "metadata": {
    "toc": true
   },
   "source": [
    "<h1>Table of Contents<span class=\"tocSkip\"></span></h1>\n",
    "<div class=\"toc\" style=\"margin-top: 1em;\"><ul class=\"toc-item\"><li><span><a href=\"#load-data\" data-toc-modified-id=\"load-data-1\"><span class=\"toc-item-num\">1&nbsp;&nbsp;</span>load data</a></span></li><li><span><a href=\"#get-clean-text\" data-toc-modified-id=\"get-clean-text-2\"><span class=\"toc-item-num\">2&nbsp;&nbsp;</span>get clean text</a></span><ul class=\"toc-item\"><li><span><a href=\"#find-same-texts\" data-toc-modified-id=\"find-same-texts-2.1\"><span class=\"toc-item-num\">2.1&nbsp;&nbsp;</span>find same texts</a></span></li></ul></li><li><span><a href=\"#learn-fasttext-representations\" data-toc-modified-id=\"learn-fasttext-representations-3\"><span class=\"toc-item-num\">3&nbsp;&nbsp;</span>learn fasttext representations</a></span></li><li><span><a href=\"#to-vectors\" data-toc-modified-id=\"to-vectors-4\"><span class=\"toc-item-num\">4&nbsp;&nbsp;</span>to vectors</a></span></li></ul></div>"
   ]
  },
  {
   "cell_type": "code",
   "execution_count": 1,
   "metadata": {
    "ExecuteTime": {
     "end_time": "2018-07-05T18:57:51.626243Z",
     "start_time": "2018-07-05T18:57:41.018343Z"
    }
   },
   "outputs": [
    {
     "name": "stderr",
     "output_type": "stream",
     "text": [
      "Using TensorFlow backend.\n"
     ]
    }
   ],
   "source": [
    "import re\n",
    "from collections import Counter\n",
    "import numpy as np\n",
    "import pandas as pd\n",
    "from gensim.models.fasttext import FastText\n",
    "from keras.preprocessing.text import text_to_word_sequence\n",
    "\n",
    "import matplotlib.pyplot as plt\n",
    "\n",
    "%matplotlib inline"
   ]
  },
  {
   "cell_type": "markdown",
   "metadata": {},
   "source": [
    "# load data"
   ]
  },
  {
   "cell_type": "code",
   "execution_count": 28,
   "metadata": {
    "ExecuteTime": {
     "end_time": "2018-07-05T19:02:29.299487Z",
     "start_time": "2018-07-05T19:02:21.965545Z"
    }
   },
   "outputs": [],
   "source": [
    "df = pd.read_csv('../data/train/chats_train.csv')"
   ]
  },
  {
   "cell_type": "markdown",
   "metadata": {},
   "source": [
    "# get clean text"
   ]
  },
  {
   "cell_type": "code",
   "execution_count": 29,
   "metadata": {
    "ExecuteTime": {
     "end_time": "2018-07-05T19:02:29.594562Z",
     "start_time": "2018-07-05T19:02:29.302522Z"
    }
   },
   "outputs": [],
   "source": [
    "df['text'].fillna('', inplace=True)"
   ]
  },
  {
   "cell_type": "code",
   "execution_count": 30,
   "metadata": {
    "ExecuteTime": {
     "end_time": "2018-07-05T19:02:31.352632Z",
     "start_time": "2018-07-05T19:02:29.598306Z"
    }
   },
   "outputs": [],
   "source": [
    "df['text'] = df['text'].apply(lambda x: x.lower())"
   ]
  },
  {
   "cell_type": "code",
   "execution_count": 31,
   "metadata": {
    "ExecuteTime": {
     "end_time": "2018-07-05T19:02:31.359672Z",
     "start_time": "2018-07-05T19:02:31.355655Z"
    }
   },
   "outputs": [],
   "source": [
    "RE_WORD = re.compile(r'\\w+')\n",
    "def only_alpha(text):\n",
    "    return ' '.join(RE_WORD.findall(text))"
   ]
  },
  {
   "cell_type": "code",
   "execution_count": 32,
   "metadata": {
    "ExecuteTime": {
     "end_time": "2018-07-05T19:02:42.080415Z",
     "start_time": "2018-07-05T19:02:31.362801Z"
    }
   },
   "outputs": [],
   "source": [
    "df['clean_text'] = df['text'].apply(only_alpha)"
   ]
  },
  {
   "cell_type": "code",
   "execution_count": 33,
   "metadata": {
    "ExecuteTime": {
     "end_time": "2018-07-05T19:02:43.956389Z",
     "start_time": "2018-07-05T19:02:42.083522Z"
    }
   },
   "outputs": [],
   "source": [
    "df = df[df['clean_text'] != ''].copy()"
   ]
  },
  {
   "cell_type": "code",
   "execution_count": 34,
   "metadata": {
    "ExecuteTime": {
     "end_time": "2018-07-05T19:02:46.830404Z",
     "start_time": "2018-07-05T19:02:43.959792Z"
    }
   },
   "outputs": [],
   "source": [
    "df = df[~df['text'].str.contains('http://')].copy()"
   ]
  },
  {
   "cell_type": "code",
   "execution_count": 35,
   "metadata": {
    "ExecuteTime": {
     "end_time": "2018-07-05T19:02:52.500600Z",
     "start_time": "2018-07-05T19:02:46.833146Z"
    }
   },
   "outputs": [],
   "source": [
    "df = df[~df['text'].str.contains('https://')].copy()"
   ]
  },
  {
   "cell_type": "code",
   "execution_count": 36,
   "metadata": {
    "ExecuteTime": {
     "end_time": "2018-07-05T19:02:56.237781Z",
     "start_time": "2018-07-05T19:02:52.504034Z"
    }
   },
   "outputs": [],
   "source": [
    "df['words_count'] = df['clean_text'].apply(lambda x: len(x.split()))"
   ]
  },
  {
   "cell_type": "code",
   "execution_count": 37,
   "metadata": {
    "ExecuteTime": {
     "end_time": "2018-07-05T19:02:57.265499Z",
     "start_time": "2018-07-05T19:02:56.240559Z"
    }
   },
   "outputs": [
    {
     "data": {
      "image/png": "[encoded data removed]",
      "text/plain": [
       "<Figure size 432x288 with 1 Axes>"
      ]
     },
     "metadata": {},
     "output_type": "display_data"
    }
   ],
   "source": [
    "plt.hist(df['words_count'], bins=100)\n",
    "plt.show()"
   ]
  },
  {
   "cell_type": "code",
   "execution_count": 38,
   "metadata": {
    "ExecuteTime": {
     "end_time": "2018-07-05T19:02:57.478017Z",
     "start_time": "2018-07-05T19:02:57.277192Z"
    }
   },
   "outputs": [
    {
     "data": {
      "text/plain": [
       "672     pump_signal_bitcoin put in front of it and joi...\n",
       "673     pump_signal_bitcoin put in front of it and joi...\n",
       "3019    want to know about bitcoin the story of bitcoi...\n",
       "6879    chile s national energy commission launches et...\n",
       "7749    in light of recent rumors spread amongst our i...\n",
       "Name: clean_text, dtype: object"
      ]
     },
     "execution_count": 38,
     "metadata": {},
     "output_type": "execute_result"
    }
   ],
   "source": [
    "df[df['words_count'] > 200].head()['clean_text']"
   ]
  },
  {
   "cell_type": "code",
   "execution_count": 39,
   "metadata": {
    "ExecuteTime": {
     "end_time": "2018-07-05T19:02:58.501219Z",
     "start_time": "2018-07-05T19:02:57.480695Z"
    }
   },
   "outputs": [],
   "source": [
    "df = df[df['words_count'] < 200].copy()"
   ]
  },
  {
   "cell_type": "code",
   "execution_count": 40,
   "metadata": {
    "ExecuteTime": {
     "end_time": "2018-07-05T19:02:58.940238Z",
     "start_time": "2018-07-05T19:02:58.507830Z"
    }
   },
   "outputs": [
    {
     "data": {
      "image/png": "[encoded data removed]",
      "text/plain": [
       "<Figure size 432x288 with 1 Axes>"
      ]
     },
     "metadata": {},
     "output_type": "display_data"
    }
   ],
   "source": [
    "plt.hist(df['words_count'], bins=100)\n",
    "plt.show()"
   ]
  },
  {
   "cell_type": "code",
   "execution_count": 41,
   "metadata": {
    "ExecuteTime": {
     "end_time": "2018-07-05T19:02:59.188007Z",
     "start_time": "2018-07-05T19:02:58.946051Z"
    }
   },
   "outputs": [
    {
     "data": {
      "text/plain": [
       "'to all newcomers, welcome to ontology! please read the pinned message before posting.\\n\\nproject information will only be distributed through official channels. admins will never contact you to ask for your private key, to make a contribution to a wallet to receive ont tokens, and so on. please be extra cautious and keep an eye out for scams.'"
      ]
     },
     "execution_count": 41,
     "metadata": {},
     "output_type": "execute_result"
    }
   ],
   "source": [
    "df.loc[2887367]['text']"
   ]
  },
  {
   "cell_type": "code",
   "execution_count": 42,
   "metadata": {
    "ExecuteTime": {
     "end_time": "2018-07-05T19:02:59.248944Z",
     "start_time": "2018-07-05T19:02:59.201768Z"
    }
   },
   "outputs": [
    {
     "data": {
      "text/plain": [
       "'to all newcomers, welcome to ontology! please read the pinned message before posting.\\n\\nproject information will only be distributed through official channels. admins will never contact you to ask for your private key, to make a contribution to a wallet to receive ont tokens, and so on. please be extra cautious and keep an eye out for scams.'"
      ]
     },
     "execution_count": 42,
     "metadata": {},
     "output_type": "execute_result"
    }
   ],
   "source": [
    "df.loc[2887381]['text']"
   ]
  },
  {
   "cell_type": "code",
   "execution_count": 43,
   "metadata": {
    "ExecuteTime": {
     "end_time": "2018-07-05T19:02:59.287291Z",
     "start_time": "2018-07-05T19:02:59.254533Z"
    }
   },
   "outputs": [
    {
     "data": {
      "text/plain": [
       "chat_id                                                     1232812654\n",
       "chat_title                                          Ontology (English)\n",
       "emoji_list                                                          []\n",
       "sender_first_name                                         Group Butler\n",
       "sender_id                                                    461882516\n",
       "sender_is_bot                                                     True\n",
       "sender_last_name                                                  None\n",
       "sender_username                                           gbdummy1_bot\n",
       "text                 to all newcomers, welcome to ontology! please ...\n",
       "timestamp                                                   1520825255\n",
       "clean_text           to all newcomers welcome to ontology please re...\n",
       "words_count                                                         58\n",
       "Name: 2887381, dtype: object"
      ]
     },
     "execution_count": 43,
     "metadata": {},
     "output_type": "execute_result"
    }
   ],
   "source": [
    "df.loc[2887381]"
   ]
  },
  {
   "cell_type": "code",
   "execution_count": 44,
   "metadata": {
    "ExecuteTime": {
     "end_time": "2018-07-05T19:02:59.361159Z",
     "start_time": "2018-07-05T19:02:59.305256Z"
    }
   },
   "outputs": [
    {
     "data": {
      "text/plain": [
       "False    2539648\n",
       "True       47660\n",
       "Name: sender_is_bot, dtype: int64"
      ]
     },
     "execution_count": 44,
     "metadata": {},
     "output_type": "execute_result"
    }
   ],
   "source": [
    "df['sender_is_bot'].value_counts()"
   ]
  },
  {
   "cell_type": "code",
   "execution_count": 45,
   "metadata": {
    "ExecuteTime": {
     "end_time": "2018-07-05T19:03:01.070548Z",
     "start_time": "2018-07-05T19:02:59.366584Z"
    }
   },
   "outputs": [],
   "source": [
    "df = df[~df['sender_is_bot']].copy()"
   ]
  },
  {
   "cell_type": "markdown",
   "metadata": {
    "ExecuteTime": {
     "end_time": "2018-07-05T18:52:48.168800Z",
     "start_time": "2018-07-05T18:52:48.044946Z"
    }
   },
   "source": [
    "## find same texts"
   ]
  },
  {
   "cell_type": "code",
   "execution_count": 46,
   "metadata": {
    "ExecuteTime": {
     "end_time": "2018-07-05T19:03:03.531259Z",
     "start_time": "2018-07-05T19:03:01.106308Z"
    }
   },
   "outputs": [
    {
     "data": {
      "text/plain": [
       "[('none', 304273),\n",
       " ('lol', 20171),\n",
       " ('yes', 10725),\n",
       " ('hi', 7806),\n",
       " ('thanks', 5789),\n",
       " ('hello', 5781),\n",
       " ('no', 5170),\n",
       " ('ok', 4096),\n",
       " ('why', 3588),\n",
       " ('support binance_faq_bot', 3250)]"
      ]
     },
     "execution_count": 46,
     "metadata": {},
     "output_type": "execute_result"
    }
   ],
   "source": [
    "text_counter = Counter(df['clean_text'])\n",
    "text_counter.most_common(10)"
   ]
  },
  {
   "cell_type": "code",
   "execution_count": 47,
   "metadata": {
    "ExecuteTime": {
     "end_time": "2018-07-05T19:03:06.167484Z",
     "start_time": "2018-07-05T19:03:03.538618Z"
    }
   },
   "outputs": [
    {
     "data": {
      "text/plain": [
       "[('support binance_faq_bot', 3250),\n",
       " ('thank you', 2511),\n",
       " ('app binance_faq_bot', 1199),\n",
       " ('burn binance_faq_bot', 1066),\n",
       " ('me too', 1051),\n",
       " ('ok thanks', 1024),\n",
       " ('2fa binance_faq_bot', 941),\n",
       " ('list binance_faq_bot', 920),\n",
       " ('help groupbutler_bot', 837),\n",
       " ('when moon', 793)]"
      ]
     },
     "execution_count": 47,
     "metadata": {},
     "output_type": "execute_result"
    }
   ],
   "source": [
    "text_counter = Counter(df[df['words_count'] > 1]['clean_text'])\n",
    "text_counter.most_common(10)"
   ]
  },
  {
   "cell_type": "code",
   "execution_count": 48,
   "metadata": {
    "ExecuteTime": {
     "end_time": "2018-07-05T19:03:10.015814Z",
     "start_time": "2018-07-05T19:03:06.182810Z"
    }
   },
   "outputs": [
    {
     "data": {
      "text/plain": [
       "[('buy buy buy', 517),\n",
       " ('what do you mean', 437),\n",
       " ('you re welcome', 417),\n",
       " ('you are welcome', 402),\n",
       " ('warn no ads', 348),\n",
       " ('to the moon', 334),\n",
       " ('i hope so', 312),\n",
       " ('here we go', 266),\n",
       " ('any admin here', 257),\n",
       " ('important reminder the binance telegram group is a platform for discussion and there is no official customer support provided in the group if you need to contact binance customer support please open a ticket and we will respond as soon as possible remember that we will never ask you to send money to any address for any reason if someone asks you to do this they are trying to scam you and they should be ignored report these users to an administrator privately also bear in mind that this chat is meant for binance and related crypto topics advertising coins or projects unaffiliated with binance may result in a kick ban and the same will hold true for offensive imagery language thank you and happy chatting',\n",
       "  243)]"
      ]
     },
     "execution_count": 48,
     "metadata": {},
     "output_type": "execute_result"
    }
   ],
   "source": [
    "text_counter = Counter(df[df['words_count'] > 2]['clean_text'])\n",
    "text_counter.most_common(10)"
   ]
  },
  {
   "cell_type": "code",
   "execution_count": 49,
   "metadata": {
    "ExecuteTime": {
     "end_time": "2018-07-05T19:03:12.012085Z",
     "start_time": "2018-07-05T19:03:10.028015Z"
    }
   },
   "outputs": [
    {
     "data": {
      "text/plain": [
       "[('what do you mean', 437),\n",
       " ('important reminder the binance telegram group is a platform for discussion and there is no official customer support provided in the group if you need to contact binance customer support please open a ticket and we will respond as soon as possible remember that we will never ask you to send money to any address for any reason if someone asks you to do this they are trying to scam you and they should be ignored report these users to an administrator privately also bear in mind that this chat is meant for binance and related crypto topics advertising coins or projects unaffiliated with binance may result in a kick ban and the same will hold true for offensive imagery language thank you and happy chatting',\n",
       "  243),\n",
       " ('i don t think so', 196),\n",
       " ('how do you know', 192),\n",
       " ('while we appreciate discussions pls take note that any price discussions here cannot be taken as financial advice',\n",
       "  183)]"
      ]
     },
     "execution_count": 49,
     "metadata": {},
     "output_type": "execute_result"
    }
   ],
   "source": [
    "text_counter = Counter(df[df['words_count'] > 3]['clean_text'])\n",
    "text_counter.most_common(5)"
   ]
  },
  {
   "cell_type": "code",
   "execution_count": 50,
   "metadata": {
    "ExecuteTime": {
     "end_time": "2018-07-05T19:03:12.994763Z",
     "start_time": "2018-07-05T19:03:12.019145Z"
    }
   },
   "outputs": [],
   "source": [
    "df = df[df['words_count'] > 4].copy()"
   ]
  },
  {
   "cell_type": "code",
   "execution_count": 52,
   "metadata": {
    "ExecuteTime": {
     "end_time": "2018-07-05T19:03:37.433004Z",
     "start_time": "2018-07-05T19:03:37.425892Z"
    }
   },
   "outputs": [
    {
     "data": {
      "text/plain": [
       "(1324111, 12)"
      ]
     },
     "execution_count": 52,
     "metadata": {},
     "output_type": "execute_result"
    }
   ],
   "source": [
    "df.shape"
   ]
  },
  {
   "cell_type": "code",
   "execution_count": 53,
   "metadata": {
    "ExecuteTime": {
     "end_time": "2018-07-05T19:04:29.276761Z",
     "start_time": "2018-07-05T19:04:28.733343Z"
    }
   },
   "outputs": [],
   "source": [
    "text_counter = Counter(df['clean_text'])"
   ]
  },
  {
   "cell_type": "code",
   "execution_count": 58,
   "metadata": {
    "ExecuteTime": {
     "end_time": "2018-07-05T19:05:34.004700Z",
     "start_time": "2018-07-05T19:05:33.499296Z"
    }
   },
   "outputs": [
    {
     "data": {
      "image/png": "[encoded data removed]",
      "text/plain": [
       "<Figure size 432x288 with 1 Axes>"
      ]
     },
     "metadata": {},
     "output_type": "display_data"
    }
   ],
   "source": [
    "plt.hist(text_counter.values(), bins=100)\n",
    "plt.show()"
   ]
  },
  {
   "cell_type": "code",
   "execution_count": 59,
   "metadata": {
    "ExecuteTime": {
     "end_time": "2018-07-05T19:06:12.609526Z",
     "start_time": "2018-07-05T19:06:11.457078Z"
    }
   },
   "outputs": [],
   "source": [
    "df['repeats'] = df['clean_text'].apply(lambda x: text_counter[x])"
   ]
  },
  {
   "cell_type": "code",
   "execution_count": 61,
   "metadata": {
    "ExecuteTime": {
     "end_time": "2018-07-05T19:06:39.729512Z",
     "start_time": "2018-07-05T19:06:39.219211Z"
    }
   },
   "outputs": [],
   "source": [
    "df = df[df['repeats'] == 1].copy()"
   ]
  },
  {
   "cell_type": "code",
   "execution_count": 92,
   "metadata": {
    "ExecuteTime": {
     "end_time": "2018-07-05T19:45:01.677499Z",
     "start_time": "2018-07-05T19:45:01.670343Z"
    }
   },
   "outputs": [],
   "source": [
    "RE_DIGIT = re.compile(r'\\d')\n",
    "def has_digit(text):\n",
    "    return len(RE_DIGIT.findall(text)) > 0"
   ]
  },
  {
   "cell_type": "code",
   "execution_count": 93,
   "metadata": {
    "ExecuteTime": {
     "end_time": "2018-07-05T19:45:06.294621Z",
     "start_time": "2018-07-05T19:45:04.647980Z"
    }
   },
   "outputs": [],
   "source": [
    "df['has_digit'] = df['clean_text'].apply(has_digit)\n",
    "df = df[~df['has_digit']].copy()"
   ]
  },
  {
   "cell_type": "code",
   "execution_count": 102,
   "metadata": {
    "ExecuteTime": {
     "end_time": "2018-07-05T19:54:23.296128Z",
     "start_time": "2018-07-05T19:54:04.123774Z"
    }
   },
   "outputs": [],
   "source": [
    "df.to_csv('../data/clean_text.csv', index=False)"
   ]
  },
  {
   "cell_type": "markdown",
   "metadata": {},
   "source": [
    "# learn fasttext representations"
   ]
  },
  {
   "cell_type": "code",
   "execution_count": 94,
   "metadata": {
    "ExecuteTime": {
     "end_time": "2018-07-05T19:45:08.066271Z",
     "start_time": "2018-07-05T19:45:08.061594Z"
    }
   },
   "outputs": [],
   "source": [
    "class SentenceIterator(object):\n",
    "    texts = None\n",
    "\n",
    "    def __init__(self, texts):\n",
    "        self.texts = texts\n",
    "\n",
    "    def __iter__(self):\n",
    "        for text in self.texts:\n",
    "            yield text_to_word_sequence(text, lower=False)"
   ]
  },
  {
   "cell_type": "code",
   "execution_count": 95,
   "metadata": {
    "ExecuteTime": {
     "end_time": "2018-07-05T19:51:19.854906Z",
     "start_time": "2018-07-05T19:45:09.574921Z"
    }
   },
   "outputs": [],
   "source": [
    "fasttext_model = FastText(SentenceIterator(df['clean_text']), min_count=5)"
   ]
  },
  {
   "cell_type": "code",
   "execution_count": 96,
   "metadata": {
    "ExecuteTime": {
     "end_time": "2018-07-05T19:51:20.744113Z",
     "start_time": "2018-07-05T19:51:19.859195Z"
    }
   },
   "outputs": [],
   "source": [
    "fasttext_model.save('../data/fasttext_chats.bin')"
   ]
  },
  {
   "cell_type": "code",
   "execution_count": 104,
   "metadata": {
    "ExecuteTime": {
     "end_time": "2018-07-05T19:55:02.251072Z",
     "start_time": "2018-07-05T19:55:02.238980Z"
    }
   },
   "outputs": [
    {
     "data": {
      "text/plain": [
       "[('btcc', 0.9675153493881226),\n",
       " ('btcz', 0.9578822255134583),\n",
       " ('mbtc', 0.9530240297317505),\n",
       " ('gbtc', 0.9530173540115356),\n",
       " ('sbtc', 0.9456921815872192),\n",
       " ('btckrw', 0.9445890188217163),\n",
       " ('btcvix', 0.9370781183242798),\n",
       " ('ebtc', 0.935553252696991),\n",
       " ('btcs', 0.9274160861968994),\n",
       " ('aabtc', 0.9184903502464294)]"
      ]
     },
     "execution_count": 104,
     "metadata": {},
     "output_type": "execute_result"
    }
   ],
   "source": [
    "fasttext_model.wv.most_similar('btc')"
   ]
  },
  {
   "cell_type": "code",
   "execution_count": 103,
   "metadata": {
    "ExecuteTime": {
     "end_time": "2018-07-05T19:54:53.778628Z",
     "start_time": "2018-07-05T19:54:53.750746Z"
    }
   },
   "outputs": [
    {
     "data": {
      "text/plain": [
       "[('ethcc', 0.9419276714324951),\n",
       " ('ethbtc', 0.916924238204956),\n",
       " ('ethusd', 0.9133284091949463),\n",
       " ('etheos', 0.8910346627235413),\n",
       " ('eoseth', 0.881376326084137),\n",
       " ('eths', 0.8803436756134033),\n",
       " ('etheruem', 0.8739531636238098),\n",
       " ('ethreum', 0.8610535264015198),\n",
       " ('etherium', 0.8602708578109741),\n",
       " ('etherum', 0.8553624153137207)]"
      ]
     },
     "execution_count": 103,
     "metadata": {},
     "output_type": "execute_result"
    }
   ],
   "source": [
    "fasttext_model.wv.most_similar('eth')"
   ]
  },
  {
   "cell_type": "code",
   "execution_count": 100,
   "metadata": {
    "ExecuteTime": {
     "end_time": "2018-07-05T19:52:43.443691Z",
     "start_time": "2018-07-05T19:52:42.639885Z"
    }
   },
   "outputs": [
    {
     "data": {
      "text/html": [
       "<div>\n",
       "<style scoped>\n",
       "    .dataframe tbody tr th:only-of-type {\n",
       "        vertical-align: middle;\n",
       "    }\n",
       "\n",
       "    .dataframe tbody tr th {\n",
       "        vertical-align: top;\n",
       "    }\n",
       "\n",
       "    .dataframe thead th {\n",
       "        text-align: right;\n",
       "    }\n",
       "</style>\n",
       "<table border=\"1\" class=\"dataframe\">\n",
       "  <thead>\n",
       "    <tr style=\"text-align: right;\">\n",
       "      <th></th>\n",
       "      <th>chat_id</th>\n",
       "      <th>chat_title</th>\n",
       "      <th>emoji_list</th>\n",
       "      <th>sender_first_name</th>\n",
       "      <th>sender_id</th>\n",
       "      <th>sender_is_bot</th>\n",
       "      <th>sender_last_name</th>\n",
       "      <th>sender_username</th>\n",
       "      <th>text</th>\n",
       "      <th>timestamp</th>\n",
       "      <th>clean_text</th>\n",
       "      <th>words_count</th>\n",
       "      <th>repeats</th>\n",
       "      <th>has_digit</th>\n",
       "    </tr>\n",
       "  </thead>\n",
       "  <tbody>\n",
       "    <tr>\n",
       "      <th>1011578</th>\n",
       "      <td>1009909164</td>\n",
       "      <td>WhaleClub (Bitcoin ONLY) Traders</td>\n",
       "      <td>[]</td>\n",
       "      <td>Ben 📈</td>\n",
       "      <td>434441956</td>\n",
       "      <td>False</td>\n",
       "      <td>None</td>\n",
       "      <td>bencrypto</td>\n",
       "      <td>my fundamental analysis of eth: \\n-fears relat...</td>\n",
       "      <td>1521555764</td>\n",
       "      <td>my fundamental analysis of eth fears related t...</td>\n",
       "      <td>122</td>\n",
       "      <td>1</td>\n",
       "      <td>False</td>\n",
       "    </tr>\n",
       "    <tr>\n",
       "      <th>1525408</th>\n",
       "      <td>1012147388</td>\n",
       "      <td>Whalepool #longterminvestors</td>\n",
       "      <td>[]</td>\n",
       "      <td>Jose</td>\n",
       "      <td>406422301</td>\n",
       "      <td>False</td>\n",
       "      <td>Quavo</td>\n",
       "      <td>JoseQuavo</td>\n",
       "      <td>ethusd is drawing a h&amp;s</td>\n",
       "      <td>1520019510</td>\n",
       "      <td>ethusd is drawing a h s</td>\n",
       "      <td>6</td>\n",
       "      <td>1</td>\n",
       "      <td>False</td>\n",
       "    </tr>\n",
       "    <tr>\n",
       "      <th>1589382</th>\n",
       "      <td>1009909164</td>\n",
       "      <td>WhaleClub (Bitcoin ONLY) Traders</td>\n",
       "      <td>[]</td>\n",
       "      <td>Ben 📈</td>\n",
       "      <td>434441956</td>\n",
       "      <td>False</td>\n",
       "      <td>None</td>\n",
       "      <td>bencrypto</td>\n",
       "      <td>ethusd and ethbtc are good options for a long ...</td>\n",
       "      <td>1521385549</td>\n",
       "      <td>ethusd and ethbtc are good options for a long ...</td>\n",
       "      <td>10</td>\n",
       "      <td>1</td>\n",
       "      <td>False</td>\n",
       "    </tr>\n",
       "  </tbody>\n",
       "</table>\n",
       "</div>"
      ],
      "text/plain": [
       "            chat_id                        chat_title emoji_list  \\\n",
       "1011578  1009909164  WhaleClub (Bitcoin ONLY) Traders         []   \n",
       "1525408  1012147388      Whalepool #longterminvestors         []   \n",
       "1589382  1009909164  WhaleClub (Bitcoin ONLY) Traders         []   \n",
       "\n",
       "        sender_first_name  sender_id  sender_is_bot sender_last_name  \\\n",
       "1011578             Ben 📈  434441956          False             None   \n",
       "1525408              Jose  406422301          False            Quavo   \n",
       "1589382             Ben 📈  434441956          False             None   \n",
       "\n",
       "        sender_username                                               text  \\\n",
       "1011578       bencrypto  my fundamental analysis of eth: \\n-fears relat...   \n",
       "1525408       JoseQuavo                            ethusd is drawing a h&s   \n",
       "1589382       bencrypto  ethusd and ethbtc are good options for a long ...   \n",
       "\n",
       "          timestamp                                         clean_text  \\\n",
       "1011578  1521555764  my fundamental analysis of eth fears related t...   \n",
       "1525408  1520019510                            ethusd is drawing a h s   \n",
       "1589382  1521385549  ethusd and ethbtc are good options for a long ...   \n",
       "\n",
       "         words_count  repeats  has_digit  \n",
       "1011578          122        1      False  \n",
       "1525408            6        1      False  \n",
       "1589382           10        1      False  "
      ]
     },
     "execution_count": 100,
     "metadata": {},
     "output_type": "execute_result"
    }
   ],
   "source": [
    "df[df['clean_text'].str.contains('ethusd')].head(3)"
   ]
  },
  {
   "cell_type": "markdown",
   "metadata": {},
   "source": [
    "# to vectors"
   ]
  },
  {
   "cell_type": "code",
   "execution_count": 105,
   "metadata": {
    "ExecuteTime": {
     "end_time": "2018-07-05T19:55:19.258550Z",
     "start_time": "2018-07-05T19:55:19.248626Z"
    }
   },
   "outputs": [],
   "source": [
    "def text2vec(text):\n",
    "    vectors = []\n",
    "    for word in text_to_word_sequence(text):\n",
    "        try:\n",
    "            v = fasttext_model.wv[word]\n",
    "            vectors.append(v)\n",
    "        except Exception as e:\n",
    "            pass\n",
    "    if not vectors:\n",
    "        return np.zeros((100, ))\n",
    "    return sum(vectors) / len(vectors)"
   ]
  },
  {
   "cell_type": "code",
   "execution_count": 106,
   "metadata": {
    "ExecuteTime": {
     "end_time": "2018-07-05T19:56:44.850886Z",
     "start_time": "2018-07-05T19:55:29.010945Z"
    }
   },
   "outputs": [],
   "source": [
    "vectors = list(map(text2vec, df['clean_text']))"
   ]
  },
  {
   "cell_type": "code",
   "execution_count": 107,
   "metadata": {
    "ExecuteTime": {
     "end_time": "2018-07-05T19:56:47.301298Z",
     "start_time": "2018-07-05T19:56:44.854028Z"
    }
   },
   "outputs": [],
   "source": [
    "vectors = np.array(vectors)"
   ]
  },
  {
   "cell_type": "code",
   "execution_count": 108,
   "metadata": {
    "ExecuteTime": {
     "end_time": "2018-07-05T19:56:49.677944Z",
     "start_time": "2018-07-05T19:56:47.304022Z"
    }
   },
   "outputs": [],
   "source": [
    "np.save('../data/chat_vectors_100.npy', vectors)"
   ]
  },
  {
   "cell_type": "code",
   "execution_count": null,
   "metadata": {},
   "outputs": [],
   "source": []
  }
 ],
 "metadata": {
  "kernelspec": {
   "display_name": "Python 3",
   "language": "python",
   "name": "python3"
  },
  "language_info": {
   "codemirror_mode": {
    "name": "ipython",
    "version": 3
   },
   "file_extension": ".py",
   "mimetype": "text/x-python",
   "name": "python",
   "nbconvert_exporter": "python",
   "pygments_lexer": "ipython3",
   "version": "3.6.4"
  },
  "toc": {
   "nav_menu": {},
   "number_sections": true,
   "sideBar": true,
   "skip_h1_title": false,
   "toc_cell": true,
   "toc_position": {},
   "toc_section_display": "block",
   "toc_window_display": false
  }
 },
 "nbformat": 4,
 "nbformat_minor": 2
}
