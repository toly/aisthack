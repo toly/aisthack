{
 "cells": [
  {
   "cell_type": "markdown",
   "metadata": {
    "toc": true
   },
   "source": [
    "<h1>Table of Contents<span class=\"tocSkip\"></span></h1>\n",
    "<div class=\"toc\" style=\"margin-top: 1em;\"><ul class=\"toc-item\"><li><span><a href=\"#fasttext-models\" data-toc-modified-id=\"fasttext-models-1\"><span class=\"toc-item-num\">1&nbsp;&nbsp;</span>fasttext models</a></span></li><li><span><a href=\"#networks\" data-toc-modified-id=\"networks-2\"><span class=\"toc-item-num\">2&nbsp;&nbsp;</span>networks</a></span></li></ul></div>"
   ]
  },
  {
   "cell_type": "code",
   "execution_count": 1,
   "metadata": {},
   "outputs": [],
   "source": [
    "%load_ext autoreload\n",
    "%autoreload 2"
   ]
  },
  {
   "cell_type": "code",
   "execution_count": 2,
   "metadata": {
    "ExecuteTime": {
     "end_time": "2018-07-06T09:35:32.927211Z",
     "start_time": "2018-07-06T09:35:32.904387Z"
    }
   },
   "outputs": [
    {
     "name": "stderr",
     "output_type": "stream",
     "text": [
      "Using TensorFlow backend.\n"
     ]
    }
   ],
   "source": [
    "import os\n",
    "import numpy as np\n",
    "import pandas as pd\n",
    "import pickle\n",
    "\n",
    "from gensim.models.fasttext import FastText\n",
    "from keras.models import Sequential, Model\n",
    "from keras.layers import Dense, Embedding, Input, Concatenate, Reshape, LSTM, GRU\n",
    "from keras.optimizers import Adam\n",
    "from keras.preprocessing.text import text_to_word_sequence\n",
    "\n",
    "from sklearn.metrics import roc_curve, roc_auc_score\n",
    "from sklearn.cluster import KMeans\n",
    "from sklearn.manifold import TSNE\n",
    "\n",
    "from hyperopt import fmin, tpe, hp, STATUS_OK, Trials\n",
    "import hyperopt.pyll.stochastic\n",
    "\n",
    "from statsmodels.tsa.stattools import adfuller\n",
    "\n",
    "import matplotlib.pyplot as plt\n",
    "\n",
    "%matplotlib inline"
   ]
  },
  {
   "cell_type": "markdown",
   "metadata": {},
   "source": [
    "# fasttext models"
   ]
  },
  {
   "cell_type": "code",
   "execution_count": 37,
   "metadata": {
    "ExecuteTime": {
     "end_time": "2018-07-06T09:05:29.576292Z",
     "start_time": "2018-07-06T09:05:25.500344Z"
    }
   },
   "outputs": [],
   "source": [
    "data_type = 'news'\n",
    "df_chats_raw = pd.read_csv('../data/clean_{0}.csv'.format(data_type))\n",
    "\n",
    "if not 'timestamp' in df_chats_raw.columns:\n",
    "    df_chats_raw.rename(columns={'date':'timestamp'}, inplace=True)#.head()#['timestamp']"
   ]
  },
  {
   "cell_type": "code",
   "execution_count": 38,
   "metadata": {
    "ExecuteTime": {
     "end_time": "2018-07-06T09:05:29.583790Z",
     "start_time": "2018-07-06T09:05:29.579243Z"
    }
   },
   "outputs": [],
   "source": [
    "class SentenceIterator(object):\n",
    "    texts = None\n",
    "\n",
    "    def __init__(self, texts):\n",
    "        self.texts = texts\n",
    "\n",
    "    def __iter__(self):\n",
    "        for text in self.texts:\n",
    "            yield text_to_word_sequence(text, lower=False)"
   ]
  },
  {
   "cell_type": "code",
   "execution_count": 39,
   "metadata": {
    "ExecuteTime": {
     "end_time": "2018-07-06T09:25:56.515184Z",
     "start_time": "2018-07-06T09:25:56.507458Z"
    }
   },
   "outputs": [],
   "source": [
    "def build_fasttext(size=100):\n",
    "    path = '../data/fasttext_{0}_{1}.pkl'.format(data_type, size)\n",
    "    if os.path.exists(path):\n",
    "        m = FastText.load(path)\n",
    "    else:\n",
    "        m = FastText(SentenceIterator(df_chats_raw['clean_text']), min_count=5, size=size, workers=-1)\n",
    "        m.save(path)\n",
    "    return m"
   ]
  },
  {
   "cell_type": "code",
   "execution_count": 40,
   "metadata": {
    "ExecuteTime": {
     "end_time": "2018-07-06T09:25:58.273060Z",
     "start_time": "2018-07-06T09:25:58.265548Z"
    }
   },
   "outputs": [],
   "source": [
    "def text2vec(text, m=None, size=None):\n",
    "    vectors = []\n",
    "    for word in text_to_word_sequence(text):\n",
    "        try:\n",
    "            v = m.wv[word]\n",
    "            vectors.append(v)\n",
    "        except Exception as e:\n",
    "            pass\n",
    "    if not vectors:\n",
    "        return np.zeros((size, ))\n",
    "    return sum(vectors) / len(vectors)"
   ]
  },
  {
   "cell_type": "code",
   "execution_count": 41,
   "metadata": {
    "ExecuteTime": {
     "end_time": "2018-07-06T09:26:01.868804Z",
     "start_time": "2018-07-06T09:26:01.862321Z"
    }
   },
   "outputs": [],
   "source": [
    "def build_vectors(texts, size=None):\n",
    "    t_model = build_fasttext(size)\n",
    "    vectors = list(map(lambda x: text2vec(x, m=t_model, size=size), texts))\n",
    "    return np.array(vectors)"
   ]
  },
  {
   "cell_type": "markdown",
   "metadata": {},
   "source": [
    "# networks"
   ]
  },
  {
   "cell_type": "code",
   "execution_count": 42,
   "metadata": {
    "ExecuteTime": {
     "end_time": "2018-07-06T09:05:43.802284Z",
     "start_time": "2018-07-06T09:05:43.797519Z"
    }
   },
   "outputs": [],
   "source": [
    "TICKER = 'ETH'"
   ]
  },
  {
   "cell_type": "code",
   "execution_count": 43,
   "metadata": {
    "ExecuteTime": {
     "end_time": "2018-07-06T09:05:45.420756Z",
     "start_time": "2018-07-06T09:05:44.902276Z"
    }
   },
   "outputs": [],
   "source": [
    "df_prices_raw = pd.read_csv('../data/train/tickers_train.csv', index_col=0)"
   ]
  },
  {
   "cell_type": "code",
   "execution_count": 44,
   "metadata": {},
   "outputs": [],
   "source": [
    "df_prices_raw['timestamp'] = pd.to_datetime(df_prices_raw['datetime']).apply(lambda x: x.timestamp())"
   ]
  },
  {
   "cell_type": "code",
   "execution_count": 45,
   "metadata": {
    "ExecuteTime": {
     "end_time": "2018-07-06T09:05:48.080936Z",
     "start_time": "2018-07-06T09:05:48.043275Z"
    }
   },
   "outputs": [],
   "source": [
    "df_prices = df_prices_raw[df_prices_raw['ticker'] == TICKER].copy()"
   ]
  },
  {
   "cell_type": "code",
   "execution_count": 46,
   "metadata": {
    "ExecuteTime": {
     "end_time": "2018-07-06T09:06:25.338072Z",
     "start_time": "2018-07-06T09:06:24.574567Z"
    }
   },
   "outputs": [
    {
     "name": "stdout",
     "output_type": "stream",
     "text": [
      "df_chats.shape : (785, 11)\n"
     ]
    }
   ],
   "source": [
    "df_chats = df_chats_raw[df_chats_raw['clean_text'].str.contains(TICKER.lower())].copy()\n",
    "print('df_chats.shape :', df_chats.shape)"
   ]
  },
  {
   "cell_type": "code",
   "execution_count": 47,
   "metadata": {
    "ExecuteTime": {
     "end_time": "2018-07-06T09:25:08.068689Z",
     "start_time": "2018-07-06T09:25:08.040741Z"
    }
   },
   "outputs": [],
   "source": [
    "if 'chat_id' in df_chats.columns:\n",
    "    chat_ids = list(df_chats['chat_id'].unique())\n",
    "    chat_ids.sort()\n",
    "    chat2ind = {chat_id: i for i, chat_id in enumerate(chat_ids)}\n",
    "    df_chats['chat_ind'] = df_chats['chat_id'].apply(lambda x: chat2ind[x])\n",
    "else:\n",
    "    chat2ind = None\n",
    "\n",
    "if 'sender_id' in df_chats.columns:\n",
    "    sender_ids = list(df_chats['sender_id'].unique())\n",
    "    sender_ids.sort()\n",
    "    sender2ind = {sender_id: i for i, sender_id in enumerate(sender_ids)}\n",
    "    df_chats['sender_ind'] = df_chats['sender_id'].apply(lambda x: sender2ind[x])\n",
    "else:\n",
    "    sender2ind = None"
   ]
  },
  {
   "cell_type": "code",
   "execution_count": null,
   "metadata": {
    "ExecuteTime": {
     "end_time": "2018-07-06T09:25:08.159710Z",
     "start_time": "2018-07-06T09:25:08.072400Z"
    }
   },
   "outputs": [],
   "source": []
  },
  {
   "cell_type": "code",
   "execution_count": 48,
   "metadata": {},
   "outputs": [],
   "source": [
    "df_chats['ind'] = list(range(df_chats.shape[0]))"
   ]
  },
  {
   "cell_type": "code",
   "execution_count": 49,
   "metadata": {
    "ExecuteTime": {
     "end_time": "2018-07-06T09:30:59.535142Z",
     "start_time": "2018-07-06T09:26:10.782666Z"
    }
   },
   "outputs": [],
   "source": [
    "vectors100 = build_vectors(df_chats['clean_text'], size=100)"
   ]
  },
  {
   "cell_type": "code",
   "execution_count": 50,
   "metadata": {
    "ExecuteTime": {
     "end_time": "2018-07-06T09:35:32.880874Z",
     "start_time": "2018-07-06T09:30:59.537775Z"
    }
   },
   "outputs": [],
   "source": [
    "vectors160 = build_vectors(df_chats['clean_text'], size=160)"
   ]
  },
  {
   "cell_type": "code",
   "execution_count": 51,
   "metadata": {},
   "outputs": [],
   "source": [
    "vectors60 = build_vectors(df_chats['clean_text'], size=60)"
   ]
  },
  {
   "cell_type": "code",
   "execution_count": 240,
   "metadata": {
    "ExecuteTime": {
     "end_time": "2018-07-06T09:35:32.900895Z",
     "start_time": "2018-07-06T09:35:32.883607Z"
    }
   },
   "outputs": [],
   "source": [
    "def build_dataset(samples=5, steps=32, vectors=None):\n",
    "    \n",
    "    target_min_up=1.1\n",
    "    target_max_down=0.95\n",
    "    hours_before=48\n",
    "    hours_after=48\n",
    "    \n",
    "    np.random.seed(0)\n",
    "    \n",
    "    inp_fasttext = []\n",
    "    inp_chat_ind = []\n",
    "    inp_sender_ind = []\n",
    "    inp_timedelta_log = []\n",
    "    out_target = [] # grow more than 0.66 quantile, not drawdown less 0.33 quantile in period 48 hours\n",
    "    \n",
    "    for i, row in df_prices.iterrows():\n",
    "        ts = row['timestamp']\n",
    "        if df_chats[\n",
    "                (df_chats['timestamp'] > ts - hours_before * 3600) & \n",
    "                (df_chats['timestamp'] < ts)].shape[0] == 0:\n",
    "            continue\n",
    "\n",
    "        for sample in range(samples):\n",
    "            ts = row['timestamp']\n",
    "\n",
    "#             print(ts - hours_before * 3600, ts, hours_before)\n",
    "            df_chats_sample = df_chats[\n",
    "                (df_chats['timestamp'] > ts - hours_before * 3600) & \n",
    "                (df_chats['timestamp'] < ts)].sample(steps, replace=True)\n",
    "            df_chats_sample['timedelta'] = np.log(-(df_chats_sample['timestamp'] - ts))\n",
    "\n",
    "            chat_indexes = df_chats_sample['ind'].values\n",
    "\n",
    "            batch_fasttext = vectors[chat_indexes]\n",
    "            batch_timedelta = df_chats_sample['timedelta'].values\n",
    "\n",
    "            if not chat2ind is None:\n",
    "                batch_chat_ind = df_chats.iloc[chat_indexes]['chat_ind'].values\n",
    "                inp_chat_ind.append(batch_chat_ind)\n",
    "\n",
    "            if not sender2ind is None:\n",
    "                batch_sender_ind = df_chats.iloc[chat_indexes]['sender_ind'].values\n",
    "                inp_sender_ind.append(batch_sender_ind)\n",
    "\n",
    "            df_prices_forward = df_prices[\n",
    "                (df_prices['timestamp'] > ts) & \n",
    "                (df_prices['timestamp'] <= ts + hours_after * 3600)].copy()\n",
    "            df_prices_forward = df_prices_forward.sort_values('timestamp')\n",
    "\n",
    "            if df_prices_forward.shape[0] < int(hours_after / 2):\n",
    "                continue\n",
    "            df_prices_forward['priceUsd'] /= df_prices_forward['priceUsd'].values[0]\n",
    "\n",
    "            target = False\n",
    "            for price_relative in df_prices_forward['priceUsd'].values:\n",
    "                if price_relative < target_max_down:\n",
    "                    target = False\n",
    "                    break\n",
    "                if price_relative > target_min_up:\n",
    "                    target = True\n",
    "                    break\n",
    "\n",
    "            inp_fasttext.append(batch_fasttext)\n",
    "#             inp_chat_ind.append(batch_chat_ind)\n",
    "#             inp_sender_ind.append(batch_sender_ind)\n",
    "            inp_timedelta_log.append(batch_timedelta)\n",
    "            out_target.append(target)\n",
    "    \n",
    "    inp_fasttext = np.array(inp_fasttext)\n",
    "    inp_chat_ind = np.array(inp_chat_ind)\n",
    "    inp_sender_ind = np.array(inp_sender_ind)\n",
    "    inp_timedelta_log = np.array(inp_timedelta_log)\n",
    "\n",
    "    out_target = np.array(out_target)\n",
    "    \n",
    "    inp_chat_ind = np.expand_dims(inp_chat_ind, 2)\n",
    "    inp_sender_ind = np.expand_dims(inp_sender_ind, 2)\n",
    "    inp_timedelta_log = np.expand_dims(inp_timedelta_log, 2)\n",
    "\n",
    "    test_size = int(inp_fasttext.shape[0] * 0.1)\n",
    "    \n",
    "    X_train = [inp_fasttext[:-test_size]]\\\n",
    "        + ([] if chat2ind is None else inp_chat_ind[:-test_size])\\\n",
    "        + ([] if sender2ind is None else inp_sender_ind[:-test_size])\\\n",
    "        + [inp_timedelta_log[:-test_size]]\n",
    "\n",
    "    Y_train = out_target[:-test_size]\n",
    "    validation_data=[\n",
    "\n",
    "        [inp_fasttext[-test_size:]]\n",
    "        + ([] if chat2ind is None else inp_chat_ind[-test_size:])\\\n",
    "        + ([] if sender2ind is None else inp_sender_ind[-test_size:])\\\n",
    "        + [inp_timedelta_log[-test_size:]],\n",
    "\n",
    "        out_target[-test_size:]\n",
    "\n",
    "    ]\n",
    "    \n",
    "    return X_train, Y_train, validation_data\n",
    "\n",
    "# X1, Y1, val1 = build_dataset(samples=5, steps=32, vectors=vectors100)\n",
    "# # # 1519689600.0 1519862400.0 48\n",
    "# ts = 1519862400.0\n",
    "# hours_before = 48\n",
    "# steps=32\n",
    "# # df_chats[(df_chats['timestamp'] > ts - hours_before * 3600) &\n",
    "# #     (df_chats['timestamp'] < ts)].sample(steps, replace=True)\n",
    "# # df = pd.DataFrame(np.random.randn(50, 4), columns=list('ABCD'))\n",
    "# print(df.head())\n",
    "# print(df.sample(n=2, replace=True))\n",
    "# print(df.head())"
   ]
  },
  {
   "cell_type": "code",
   "execution_count": 53,
   "metadata": {},
   "outputs": [],
   "source": [
    "def build_nn(sender_size=128, chat_size=4, STEPS=None, lr=0.0001, fasttext_size=100):\n",
    "\n",
    "    SENDER_EMBEDDING_SIZE = sender_size\n",
    "    CHAT_EMBEDDING_SIZE = chat_size\n",
    "\n",
    "    inp_layer_fasttext = Input(shape=(STEPS, fasttext_size, ), name='inp_layer_fasttext')\n",
    "    # inp_layer_sender_bot = Input(shape=(STEPS, 1, ), name='inp_layer_sender_bot')\n",
    "\n",
    "    inp_layer_timedelta = Input(shape=(STEPS, 1, ), name='inp_layer_timedelta')\n",
    "\n",
    "    common_layer = Concatenate(axis=-1)([\n",
    "        inp_layer_fasttext, inp_layer_timedelta])\n",
    "\n",
    "    if not chat2ind is None:\n",
    "        inp_layer_chat = Input(shape=(STEPS, 1, ), name='inp_layer_chat')\n",
    "        chat_embedding = Embedding(len(chat2ind), CHAT_EMBEDDING_SIZE)(inp_layer_chat)\n",
    "        chat_embedding = Reshape((STEPS, CHAT_EMBEDDING_SIZE))(chat_embedding)\n",
    "        common_layer = Concatenate(axis=-1)([common_layer, chat_embedding])\n",
    "\n",
    "    if not sender2ind is None:\n",
    "        inp_layer_sender = Input(shape=(STEPS, 1, ), name='inp_layer_sender')\n",
    "        sender_embedding = Embedding(len(sender2ind), SENDER_EMBEDDING_SIZE)(inp_layer_sender)\n",
    "        sender_embedding = Reshape((STEPS, SENDER_EMBEDDING_SIZE))(sender_embedding)\n",
    "        common_layer = Concatenate(axis=-1)([common_layer, sender_embedding])\n",
    "        \n",
    "#     common_layer = Concatenate(axis=-1)([\n",
    "#         inp_layer_fasttext, chat_embedding, sender_embedding, inp_layer_timedelta])\n",
    "    \n",
    "    lstm = LSTM(8)(common_layer)\n",
    "    # lstm = LSTM(8)(lstm)\n",
    "\n",
    "    dense = Dense(1, activation='sigmoid')(lstm)\n",
    "\n",
    "    model = Model( inputs=[inp_layer_fasttext, inp_layer_timedelta]\n",
    "                            + [] if chat2ind is None else [inp_layer_chat]\n",
    "                            + [] if sender2ind is None else [inp_layer_sender]\n",
    "                    , outputs=dense\n",
    "                )\n",
    "\n",
    "    opt = Adam(lr=lr)\n",
    "    model.compile(optimizer=opt, loss='binary_crossentropy', metrics=['accuracy'])\n",
    "    \n",
    "    return model\n",
    "# model.compile(optimizer='sgd', loss='binary_crossentropy')"
   ]
  },
  {
   "cell_type": "code",
   "execution_count": 241,
   "metadata": {},
   "outputs": [
    {
     "name": "stderr",
     "output_type": "stream",
     "text": [
      "/usr/local/lib/python3.6/dist-packages/ipykernel_launcher.py:76: DeprecationWarning: Both axis > a.ndim and axis < -a.ndim - 1 are deprecated and will raise an AxisError in the future.\n",
      "/usr/local/lib/python3.6/dist-packages/ipykernel_launcher.py:77: DeprecationWarning: Both axis > a.ndim and axis < -a.ndim - 1 are deprecated and will raise an AxisError in the future.\n"
     ]
    },
    {
     "data": {
      "image/png": "[encoded data removed]",
      "text/plain": [
       "<Figure size 432x288 with 1 Axes>"
      ]
     },
     "metadata": {},
     "output_type": "display_data"
    },
    {
     "name": "stdout",
     "output_type": "stream",
     "text": [
      "CPU times: user 1min 11s, sys: 13.4 s, total: 1min 24s\n",
      "Wall time: 26 s\n"
     ]
    }
   ],
   "source": [
    "%%time \n",
    "\n",
    "np.random.seed(0)\n",
    "\n",
    "model = build_nn(sender_size=128, chat_size=4, STEPS=32, lr=0.0001, fasttext_size=100)\n",
    "X1, Y1, val1 = build_dataset(samples=5, steps=32, vectors=vectors100)\n",
    "model.fit(X1, Y1, validation_data=val1, epochs=20, verbose=0)\n",
    "\n",
    "plt.plot(model.history.history['loss'], label='loss')\n",
    "plt.plot(model.history.history['val_loss'], label='val_loss')\n",
    "plt.legend()\n",
    "plt.show()\n",
    "\n",
    "y_pred = model.predict(val1[0])\n",
    "roc_auc_score(val1[1], y_pred)"
   ]
  },
  {
   "cell_type": "code",
   "execution_count": 242,
   "metadata": {},
   "outputs": [
    {
     "name": "stderr",
     "output_type": "stream",
     "text": [
      "/usr/local/lib/python3.6/dist-packages/ipykernel_launcher.py:76: DeprecationWarning: Both axis > a.ndim and axis < -a.ndim - 1 are deprecated and will raise an AxisError in the future.\n",
      "/usr/local/lib/python3.6/dist-packages/ipykernel_launcher.py:77: DeprecationWarning: Both axis > a.ndim and axis < -a.ndim - 1 are deprecated and will raise an AxisError in the future.\n"
     ]
    },
    {
     "data": {
      "image/png": "[encoded data removed]",
      "text/plain": [
       "<Figure size 432x288 with 1 Axes>"
      ]
     },
     "metadata": {},
     "output_type": "display_data"
    },
    {
     "name": "stdout",
     "output_type": "stream",
     "text": [
      "CPU times: user 1min 15s, sys: 14.1 s, total: 1min 29s\n",
      "Wall time: 26.7 s\n"
     ]
    }
   ],
   "source": [
    "%%time \n",
    "\n",
    "np.random.seed(0)\n",
    "\n",
    "model = build_nn(sender_size=128, chat_size=4, STEPS=32, lr=0.0001, fasttext_size=160)\n",
    "X1, Y1, val1 = build_dataset(samples=5, steps=32, vectors=vectors160)\n",
    "model.fit(X1, Y1, validation_data=val1, epochs=20, verbose=0)\n",
    "\n",
    "plt.plot(model.history.history['loss'], label='loss')\n",
    "plt.plot(model.history.history['val_loss'], label='val_loss')\n",
    "plt.legend()\n",
    "plt.show()\n",
    "\n",
    "y_pred = model.predict(val1[0])\n",
    "roc_auc_score(val1[1], y_pred)"
   ]
  },
  {
   "cell_type": "code",
   "execution_count": 243,
   "metadata": {},
   "outputs": [
    {
     "name": "stderr",
     "output_type": "stream",
     "text": [
      "/usr/local/lib/python3.6/dist-packages/ipykernel_launcher.py:76: DeprecationWarning: Both axis > a.ndim and axis < -a.ndim - 1 are deprecated and will raise an AxisError in the future.\n",
      "/usr/local/lib/python3.6/dist-packages/ipykernel_launcher.py:77: DeprecationWarning: Both axis > a.ndim and axis < -a.ndim - 1 are deprecated and will raise an AxisError in the future.\n"
     ]
    },
    {
     "data": {
      "image/png": "[encoded data removed]",
      "text/plain": [
       "<Figure size 432x288 with 1 Axes>"
      ]
     },
     "metadata": {},
     "output_type": "display_data"
    },
    {
     "name": "stdout",
     "output_type": "stream",
     "text": [
      "CPU times: user 1min 21s, sys: 15 s, total: 1min 36s\n",
      "Wall time: 27.5 s\n"
     ]
    }
   ],
   "source": [
    "%%time \n",
    "\n",
    "np.random.seed(0)\n",
    "\n",
    "model = build_nn(sender_size=128, chat_size=4, STEPS=32, lr=0.0001, fasttext_size=260)\n",
    "X1, Y1, val1 = build_dataset(samples=5, steps=32, vectors=np.concatenate([vectors100, vectors160], axis=1))\n",
    "model.fit(X1, Y1, validation_data=val1, epochs=20, verbose=0)\n",
    "\n",
    "plt.plot(model.history.history['loss'], label='loss')\n",
    "plt.plot(model.history.history['val_loss'], label='val_loss')\n",
    "plt.legend()\n",
    "plt.show()\n",
    "\n",
    "y_pred = model.predict(val1[0])\n",
    "roc_auc_score(val1[1], y_pred)"
   ]
  },
  {
   "cell_type": "code",
   "execution_count": 244,
   "metadata": {},
   "outputs": [
    {
     "name": "stderr",
     "output_type": "stream",
     "text": [
      "/usr/local/lib/python3.6/dist-packages/ipykernel_launcher.py:76: DeprecationWarning: Both axis > a.ndim and axis < -a.ndim - 1 are deprecated and will raise an AxisError in the future.\n",
      "/usr/local/lib/python3.6/dist-packages/ipykernel_launcher.py:77: DeprecationWarning: Both axis > a.ndim and axis < -a.ndim - 1 are deprecated and will raise an AxisError in the future.\n"
     ]
    },
    {
     "data": {
      "image/png": "[encoded data removed]",
      "text/plain": [
       "<Figure size 432x288 with 1 Axes>"
      ]
     },
     "metadata": {},
     "output_type": "display_data"
    },
    {
     "name": "stdout",
     "output_type": "stream",
     "text": [
      "CPU times: user 1min 15s, sys: 14 s, total: 1min 29s\n",
      "Wall time: 26.7 s\n"
     ]
    }
   ],
   "source": [
    "%%time \n",
    "\n",
    "np.random.seed(0)\n",
    "\n",
    "model = build_nn(sender_size=128, chat_size=4, STEPS=32, lr=0.0001, fasttext_size=160)\n",
    "X1, Y1, val1 = build_dataset(samples=5, steps=32, vectors=np.concatenate([vectors100, vectors60], axis=1))\n",
    "model.fit(X1, Y1, validation_data=val1, epochs=20, verbose=0)\n",
    "\n",
    "plt.plot(model.history.history['loss'], label='loss')\n",
    "plt.plot(model.history.history['val_loss'], label='val_loss')\n",
    "plt.legend()\n",
    "plt.show()\n",
    "\n",
    "y_pred = model.predict(val1[0])\n",
    "roc_auc_score(val1[1], y_pred)"
   ]
  },
  {
   "cell_type": "code",
   "execution_count": 247,
   "metadata": {},
   "outputs": [
    {
     "name": "stderr",
     "output_type": "stream",
     "text": [
      "/usr/local/lib/python3.6/dist-packages/ipykernel_launcher.py:76: DeprecationWarning: Both axis > a.ndim and axis < -a.ndim - 1 are deprecated and will raise an AxisError in the future.\n",
      "/usr/local/lib/python3.6/dist-packages/ipykernel_launcher.py:77: DeprecationWarning: Both axis > a.ndim and axis < -a.ndim - 1 are deprecated and will raise an AxisError in the future.\n"
     ]
    },
    {
     "data": {
      "image/png": "[encoded data removed]",
      "text/plain": [
       "<Figure size 432x288 with 1 Axes>"
      ]
     },
     "metadata": {},
     "output_type": "display_data"
    },
    {
     "name": "stdout",
     "output_type": "stream",
     "text": [
      "CPU times: user 1min 9s, sys: 13.4 s, total: 1min 22s\n",
      "Wall time: 26.2 s\n"
     ]
    }
   ],
   "source": [
    "%%time \n",
    "\n",
    "np.random.seed(0)\n",
    "\n",
    "model = build_nn(sender_size=128, chat_size=4, STEPS=32, lr=0.0001, fasttext_size=60)\n",
    "X1, Y1, val1 = build_dataset(samples=5, steps=32, vectors=vectors60)\n",
    "model.fit(X1, Y1, validation_data=val1, epochs=20, verbose=0)\n",
    "\n",
    "plt.plot(model.history.history['loss'], label='loss')\n",
    "plt.plot(model.history.history['val_loss'], label='val_loss')\n",
    "plt.legend()\n",
    "plt.show()\n",
    "\n",
    "y_pred = model.predict(val1[0])\n",
    "roc_auc_score(val1[1], y_pred)"
   ]
  },
  {
   "cell_type": "code",
   "execution_count": 249,
   "metadata": {},
   "outputs": [],
   "source": [
    "with open('../data/train_test_{0}.pkl'.format(data_type), 'wb') as f:\n",
    "    f.write(pickle.dumps({\n",
    "        'x': X1,\n",
    "        'y': Y1,\n",
    "        'validation': val1,\n",
    "    }))"
   ]
  },
  {
   "cell_type": "markdown",
   "metadata": {},
   "source": [
    "# tune hyperparams"
   ]
  },
  {
   "cell_type": "code",
   "execution_count": 250,
   "metadata": {},
   "outputs": [],
   "source": [
    "space = {\n",
    "    'sender_size': hp.choice('sender_size', list(range(8, 256))),\n",
    "    'chat_size': hp.choice('chat_size', list(range(2, 10))),\n",
    "    'steps': hp.choice('steps', [32, 64, 128]),\n",
    "    'lr': 10**hp.uniform('lr', -8, -2),\n",
    "    'samples': hp.choice('samples', list(range(1, 10))),\n",
    "}"
   ]
  },
  {
   "cell_type": "code",
   "execution_count": 251,
   "metadata": {},
   "outputs": [],
   "source": [
    "x = hyperopt.pyll.stochastic.sample(space)"
   ]
  },
  {
   "cell_type": "code",
   "execution_count": 252,
   "metadata": {},
   "outputs": [
    {
     "data": {
      "text/plain": [
       "{'chat_size': 5,\n",
       " 'lr': 9.26945643312855e-07,\n",
       " 'samples': 7,\n",
       " 'sender_size': 63,\n",
       " 'steps': 64}"
      ]
     },
     "execution_count": 252,
     "metadata": {},
     "output_type": "execute_result"
    }
   ],
   "source": [
    "x"
   ]
  },
  {
   "cell_type": "code",
   "execution_count": 253,
   "metadata": {},
   "outputs": [],
   "source": [
    "del x"
   ]
  },
  {
   "cell_type": "code",
   "execution_count": 254,
   "metadata": {},
   "outputs": [],
   "source": [
    "def objective(x):\n",
    "    \n",
    "    np.random.seed(0)\n",
    "    \n",
    "    print(x)\n",
    "    \n",
    "    model = build_nn(\n",
    "        sender_size=x['sender_size'], chat_size=x['chat_size'], STEPS=x['steps'], \n",
    "        lr=x['lr'], fasttext_size=100)\n",
    "    X1, Y1, val1 = build_dataset(samples=x['samples'], steps=x['steps'], vectors=vectors100)\n",
    "    model.fit(X1, Y1, validation_data=val1, epochs=20, verbose=0)\n",
    "    \n",
    "    y_pred = model.predict(val1[0])\n",
    "    score = roc_auc_score(val1[1], y_pred)\n",
    "    \n",
    "    print('roc_auc', score)\n",
    "    \n",
    "    return {'loss': -score, 'status': STATUS_OK}"
   ]
  },
  {
   "cell_type": "code",
   "execution_count": 255,
   "metadata": {},
   "outputs": [],
   "source": [
    "trials = Trials()"
   ]
  },
  {
   "cell_type": "code",
   "execution_count": 256,
   "metadata": {},
   "outputs": [
    {
     "name": "stdout",
     "output_type": "stream",
     "text": [
      "{'chat_size': 5, 'lr': 7.880351302781298e-07, 'samples': 8, 'sender_size': 216, 'steps': 32}\n"
     ]
    },
    {
     "name": "stderr",
     "output_type": "stream",
     "text": [
      "/usr/local/lib/python3.6/dist-packages/ipykernel_launcher.py:76: DeprecationWarning: Both axis > a.ndim and axis < -a.ndim - 1 are deprecated and will raise an AxisError in the future.\n",
      "/usr/local/lib/python3.6/dist-packages/ipykernel_launcher.py:77: DeprecationWarning: Both axis > a.ndim and axis < -a.ndim - 1 are deprecated and will raise an AxisError in the future.\n"
     ]
    },
    {
     "name": "stdout",
     "output_type": "stream",
     "text": [
      "roc_auc 0.3241136128364389\n",
      "{'chat_size': 8, 'lr': 0.0022476256369129395, 'samples': 5, 'sender_size': 200, 'steps': 32}\n",
      "roc_auc 0.7983443708609271\n",
      "{'chat_size': 9, 'lr': 9.598404173549202e-07, 'samples': 8, 'sender_size': 118, 'steps': 32}\n",
      "roc_auc 0.30884446169772256\n",
      "{'chat_size': 2, 'lr': 0.0021586517607293317, 'samples': 8, 'sender_size': 210, 'steps': 64}\n",
      "roc_auc 0.8045419254658385\n",
      "{'chat_size': 3, 'lr': 7.51036279571022e-05, 'samples': 4, 'sender_size': 158, 'steps': 32}\n",
      "roc_auc 0.7684128630705394\n",
      "{'chat_size': 9, 'lr': 3.576714829120848e-08, 'samples': 1, 'sender_size': 155, 'steps': 64}\n",
      "roc_auc 0.3833333333333333\n",
      "{'chat_size': 8, 'lr': 2.0116933880343217e-05, 'samples': 7, 'sender_size': 18, 'steps': 32}\n",
      "roc_auc 0.8025558564658091\n",
      "{'chat_size': 6, 'lr': 0.0025405417861579377, 'samples': 9, 'sender_size': 124, 'steps': 32}\n",
      "roc_auc 0.8005422549621445\n",
      "{'chat_size': 6, 'lr': 1.5190587913557036e-08, 'samples': 3, 'sender_size': 129, 'steps': 32}\n",
      "roc_auc 0.5161141804788214\n",
      "{'chat_size': 3, 'lr': 1.3118000172001196e-06, 'samples': 8, 'sender_size': 218, 'steps': 64}\n",
      "roc_auc 0.43798524844720493\n",
      "{'chat_size': 9, 'lr': 1.1348618639785357e-07, 'samples': 8, 'sender_size': 123, 'steps': 64}\n",
      "roc_auc 0.48515139751552794\n",
      "{'chat_size': 6, 'lr': 1.4816489976118124e-08, 'samples': 2, 'sender_size': 218, 'steps': 64}\n",
      "roc_auc 0.26145833333333335\n",
      "{'chat_size': 6, 'lr': 0.00028404235120093593, 'samples': 2, 'sender_size': 233, 'steps': 64}\n",
      "roc_auc 0.703125\n",
      "{'chat_size': 9, 'lr': 0.0007927893272311552, 'samples': 7, 'sender_size': 24, 'steps': 64}\n",
      "roc_auc 0.7610866621530128\n",
      "{'chat_size': 5, 'lr': 0.0059962897351561505, 'samples': 1, 'sender_size': 127, 'steps': 32}\n",
      "roc_auc 0.8166666666666667\n",
      "{'chat_size': 9, 'lr': 0.0020348734683591657, 'samples': 4, 'sender_size': 15, 'steps': 32}\n",
      "roc_auc 0.754149377593361\n",
      "{'chat_size': 4, 'lr': 4.670851814838956e-07, 'samples': 4, 'sender_size': 237, 'steps': 64}\n",
      "roc_auc 0.3926348547717843\n",
      "{'chat_size': 4, 'lr': 1.0978097095157329e-05, 'samples': 4, 'sender_size': 53, 'steps': 32}\n",
      "roc_auc 0.3617738589211619\n",
      "{'chat_size': 6, 'lr': 8.405049101323497e-07, 'samples': 1, 'sender_size': 152, 'steps': 64}\n",
      "roc_auc 0.39166666666666666\n",
      "{'chat_size': 7, 'lr': 3.682995903815708e-07, 'samples': 6, 'sender_size': 180, 'steps': 64}\n",
      "roc_auc 0.3859346224677716\n"
     ]
    }
   ],
   "source": [
    "best = fmin(objective, space, algo=tpe.suggest, max_evals=20, trials=trials)"
   ]
  },
  {
   "cell_type": "code",
   "execution_count": 257,
   "metadata": {},
   "outputs": [
    {
     "data": {
      "text/plain": [
       "{'chat_size': 3,\n",
       " 'lr': -2.2221173906103697,\n",
       " 'samples': 0,\n",
       " 'sender_size': 119,\n",
       " 'steps': 0}"
      ]
     },
     "execution_count": 257,
     "metadata": {},
     "output_type": "execute_result"
    }
   ],
   "source": [
    "best"
   ]
  },
  {
   "cell_type": "code",
   "execution_count": 258,
   "metadata": {},
   "outputs": [
    {
     "data": {
      "text/plain": [
       "{'chat_size': 5,\n",
       " 'lr': 3.3215565785761354e-05,\n",
       " 'samples': 5,\n",
       " 'sender_size': 213,\n",
       " 'steps': 128}"
      ]
     },
     "execution_count": 258,
     "metadata": {},
     "output_type": "execute_result"
    }
   ],
   "source": [
    "{'chat_size': 5, 'lr': 0.000033215565785761354, 'samples': 5, 'sender_size': 213, 'steps': 128}\n",
    "# roc_auc 0.7789987789987789"
   ]
  },
  {
   "cell_type": "code",
   "execution_count": 259,
   "metadata": {},
   "outputs": [
    {
     "name": "stderr",
     "output_type": "stream",
     "text": [
      "/usr/local/lib/python3.6/dist-packages/ipykernel_launcher.py:76: DeprecationWarning: Both axis > a.ndim and axis < -a.ndim - 1 are deprecated and will raise an AxisError in the future.\n",
      "/usr/local/lib/python3.6/dist-packages/ipykernel_launcher.py:77: DeprecationWarning: Both axis > a.ndim and axis < -a.ndim - 1 are deprecated and will raise an AxisError in the future.\n"
     ]
    },
    {
     "name": "stdout",
     "output_type": "stream",
     "text": [
      "Train on 2898 samples, validate on 322 samples\n",
      "Epoch 1/20\n",
      "2898/2898 [==============================] - 5s 2ms/step - loss: 0.5728 - acc: 0.8758 - val_loss: 0.5412 - val_acc: 0.9379\n",
      "Epoch 2/20\n",
      "2898/2898 [==============================] - 3s 1ms/step - loss: 0.5587 - acc: 0.8758 - val_loss: 0.5245 - val_acc: 0.9379\n",
      "Epoch 3/20\n",
      "2898/2898 [==============================] - 3s 1ms/step - loss: 0.5453 - acc: 0.8758 - val_loss: 0.5084 - val_acc: 0.9379\n",
      "Epoch 4/20\n",
      "2898/2898 [==============================] - 3s 1ms/step - loss: 0.5324 - acc: 0.8758 - val_loss: 0.4924 - val_acc: 0.9379\n",
      "Epoch 5/20\n",
      "2898/2898 [==============================] - 3s 1ms/step - loss: 0.5195 - acc: 0.8758 - val_loss: 0.4756 - val_acc: 0.9379\n",
      "Epoch 6/20\n",
      "2898/2898 [==============================] - 3s 1ms/step - loss: 0.5057 - acc: 0.8758 - val_loss: 0.4572 - val_acc: 0.9379\n",
      "Epoch 7/20\n",
      "2898/2898 [==============================] - 3s 1ms/step - loss: 0.4908 - acc: 0.8758 - val_loss: 0.4372 - val_acc: 0.9379\n",
      "Epoch 8/20\n",
      "2898/2898 [==============================] - 3s 1ms/step - loss: 0.4757 - acc: 0.8758 - val_loss: 0.4181 - val_acc: 0.9379\n",
      "Epoch 9/20\n",
      "2898/2898 [==============================] - 3s 1ms/step - loss: 0.4626 - acc: 0.8758 - val_loss: 0.4023 - val_acc: 0.9379\n",
      "Epoch 10/20\n",
      "2898/2898 [==============================] - 3s 1ms/step - loss: 0.4520 - acc: 0.8758 - val_loss: 0.3892 - val_acc: 0.9379\n",
      "Epoch 11/20\n",
      "2898/2898 [==============================] - 3s 1ms/step - loss: 0.4435 - acc: 0.8758 - val_loss: 0.3783 - val_acc: 0.9379\n",
      "Epoch 12/20\n",
      "2898/2898 [==============================] - 3s 1ms/step - loss: 0.4364 - acc: 0.8758 - val_loss: 0.3689 - val_acc: 0.9379\n",
      "Epoch 13/20\n",
      "2898/2898 [==============================] - 3s 1ms/step - loss: 0.4303 - acc: 0.8758 - val_loss: 0.3605 - val_acc: 0.9379\n",
      "Epoch 14/20\n",
      "2898/2898 [==============================] - 3s 1ms/step - loss: 0.4250 - acc: 0.8758 - val_loss: 0.3532 - val_acc: 0.9379\n",
      "Epoch 15/20\n",
      "2898/2898 [==============================] - 3s 1ms/step - loss: 0.4203 - acc: 0.8758 - val_loss: 0.3463 - val_acc: 0.9379\n",
      "Epoch 16/20\n",
      "2898/2898 [==============================] - 3s 1ms/step - loss: 0.4161 - acc: 0.8758 - val_loss: 0.3402 - val_acc: 0.9379\n",
      "Epoch 17/20\n",
      "2898/2898 [==============================] - 3s 1ms/step - loss: 0.4123 - acc: 0.8758 - val_loss: 0.3345 - val_acc: 0.9379\n",
      "Epoch 18/20\n",
      "2898/2898 [==============================] - 3s 1ms/step - loss: 0.4089 - acc: 0.8758 - val_loss: 0.3295 - val_acc: 0.9379\n",
      "Epoch 19/20\n",
      "2898/2898 [==============================] - 3s 1ms/step - loss: 0.4059 - acc: 0.8758 - val_loss: 0.3246 - val_acc: 0.9379\n",
      "Epoch 20/20\n",
      "2898/2898 [==============================] - 3s 1ms/step - loss: 0.4031 - acc: 0.8758 - val_loss: 0.3202 - val_acc: 0.9379\n"
     ]
    },
    {
     "data": {
      "image/png": "[encoded data removed]",
      "text/plain": [
       "<Figure size 432x288 with 1 Axes>"
      ]
     },
     "metadata": {},
     "output_type": "display_data"
    },
    {
     "name": "stdout",
     "output_type": "stream",
     "text": [
      "roc auc 0.508774834437086\n",
      "CPU times: user 4min 8s, sys: 56.4 s, total: 5min 5s\n",
      "Wall time: 1min 16s\n"
     ]
    }
   ],
   "source": [
    "%%time \n",
    "\n",
    "np.random.seed(0)\n",
    "\n",
    "model = build_nn(sender_size=213, chat_size=5, STEPS=128, lr=0.00003, fasttext_size=100)\n",
    "X1, Y1, val1 = build_dataset(samples=5, steps=128, vectors=vectors100)\n",
    "model.fit(X1, Y1, validation_data=val1, epochs=20)\n",
    "\n",
    "plt.plot(model.history.history['loss'], label='loss')\n",
    "plt.plot(model.history.history['val_loss'], label='val_loss')\n",
    "plt.legend()\n",
    "plt.show()\n",
    "\n",
    "y_pred = model.predict(val1[0])\n",
    "score = roc_auc_score(val1[1], y_pred)\n",
    "\n",
    "print('roc auc', score)"
   ]
  },
  {
   "cell_type": "code",
   "execution_count": 260,
   "metadata": {},
   "outputs": [
    {
     "data": {
      "text/plain": [
       "[]"
      ]
     },
     "execution_count": 260,
     "metadata": {},
     "output_type": "execute_result"
    },
    {
     "data": {
      "image/png": "[encoded data removed]",
      "text/plain": [
       "<Figure size 432x288 with 1 Axes>"
      ]
     },
     "metadata": {},
     "output_type": "display_data"
    }
   ],
   "source": [
    "fpr, tpr, thresholds = roc_curve(val1[1], y_pred)\n",
    "\n",
    "plt.plot(fpr, tpr)\n",
    "plt.plot([0, 1], [0, 1], color='navy', linestyle='--')\n",
    "plt.xlim([0.0, 1.0])\n",
    "plt.ylim([0.0, 1.05])\n",
    "plt.xlabel('False Positive Rate')\n",
    "plt.ylabel('True Positive Rate')\n",
    "plt.plot()"
   ]
  },
  {
   "cell_type": "code",
   "execution_count": 261,
   "metadata": {},
   "outputs": [
    {
     "name": "stderr",
     "output_type": "stream",
     "text": [
      "/usr/local/lib/python3.6/dist-packages/ipykernel_launcher.py:76: DeprecationWarning: Both axis > a.ndim and axis < -a.ndim - 1 are deprecated and will raise an AxisError in the future.\n",
      "/usr/local/lib/python3.6/dist-packages/ipykernel_launcher.py:77: DeprecationWarning: Both axis > a.ndim and axis < -a.ndim - 1 are deprecated and will raise an AxisError in the future.\n"
     ]
    }
   ],
   "source": [
    "X2, Y2, val2 = build_dataset(samples=1, steps=128, vectors=vectors100)\n",
    "y2_pred = model.predict(val2[0])[:, 0]"
   ]
  },
  {
   "cell_type": "code",
   "execution_count": 262,
   "metadata": {},
   "outputs": [
    {
     "name": "stdout",
     "output_type": "stream",
     "text": [
      "0.2118088\n"
     ]
    }
   ],
   "source": [
    "for fp, tp, th in zip(fpr, tpr, thresholds):\n",
    "    if tp > 0.6:\n",
    "        print(th)\n",
    "        break"
   ]
  },
  {
   "cell_type": "code",
   "execution_count": 263,
   "metadata": {},
   "outputs": [
    {
     "data": {
      "text/plain": [
       "(64,)"
      ]
     },
     "execution_count": 263,
     "metadata": {},
     "output_type": "execute_result"
    }
   ],
   "source": [
    "(y2_pred > th).astype(np.int).shape"
   ]
  },
  {
   "cell_type": "code",
   "execution_count": 264,
   "metadata": {},
   "outputs": [
    {
     "data": {
      "text/plain": [
       "array([0, 1, 0, 0, 0, 0, 1, 0, 1, 0, 1, 1, 1, 1, 1, 0, 1, 0, 0, 0, 0, 0,\n",
       "       1, 1, 0, 1, 1, 0, 1, 1, 1, 0, 0, 0, 1, 1, 1, 1, 0, 1, 0, 1, 1, 1,\n",
       "       1, 1, 0, 0, 0, 0, 1, 0, 0, 0, 0, 1, 1, 0, 0, 1, 0, 1, 1, 1])"
      ]
     },
     "execution_count": 264,
     "metadata": {},
     "output_type": "execute_result"
    }
   ],
   "source": [
    "(y2_pred > th).astype(np.int)"
   ]
  },
  {
   "cell_type": "code",
   "execution_count": 265,
   "metadata": {},
   "outputs": [],
   "source": [
    "model.save('../data/model_{0}_eth.pkl'.format(data_type))"
   ]
  },
  {
   "cell_type": "markdown",
   "metadata": {},
   "source": [
    "# visualizations"
   ]
  },
  {
   "cell_type": "code",
   "execution_count": 266,
   "metadata": {},
   "outputs": [],
   "source": [
    "e = model.layers[3]"
   ]
  },
  {
   "cell_type": "code",
   "execution_count": 267,
   "metadata": {},
   "outputs": [],
   "source": [
    "weights = e.get_weights()[0]"
   ]
  },
  {
   "cell_type": "code",
   "execution_count": 268,
   "metadata": {},
   "outputs": [
    {
     "data": {
      "text/plain": [
       "(101, 32)"
      ]
     },
     "execution_count": 268,
     "metadata": {},
     "output_type": "execute_result"
    }
   ],
   "source": [
    "weights.shape"
   ]
  },
  {
   "cell_type": "code",
   "execution_count": 269,
   "metadata": {},
   "outputs": [],
   "source": [
    "tsne = TSNE()"
   ]
  },
  {
   "cell_type": "code",
   "execution_count": 270,
   "metadata": {},
   "outputs": [
    {
     "name": "stdout",
     "output_type": "stream",
     "text": [
      "CPU times: user 874 ms, sys: 652 ms, total: 1.53 s\n",
      "Wall time: 852 ms\n"
     ]
    }
   ],
   "source": [
    "%%time\n",
    "weights_tsne = tsne.fit_transform(weights)"
   ]
  },
  {
   "cell_type": "code",
   "execution_count": 271,
   "metadata": {},
   "outputs": [
    {
     "data": {
      "image/png": "[encoded data removed]",
      "text/plain": [
       "<Figure size 432x288 with 1 Axes>"
      ]
     },
     "metadata": {},
     "output_type": "display_data"
    }
   ],
   "source": [
    "plt.scatter(weights_tsne[:, 0], weights_tsne[:, 1], alpha=0.05)\n",
    "plt.show()"
   ]
  },
  {
   "cell_type": "code",
   "execution_count": 272,
   "metadata": {},
   "outputs": [],
   "source": [
    "d = pd.DataFrame(weights_tsne, columns=['x', 'y'])"
   ]
  },
  {
   "cell_type": "code",
   "execution_count": 273,
   "metadata": {},
   "outputs": [],
   "source": [
    "d['index'] = list(range(d.shape[0]))"
   ]
  },
  {
   "cell_type": "code",
   "execution_count": 274,
   "metadata": {},
   "outputs": [],
   "source": [
    "center1 = [-10, 0]\n",
    "center2 = [-20, 40]"
   ]
  },
  {
   "cell_type": "code",
   "execution_count": 275,
   "metadata": {},
   "outputs": [],
   "source": [
    "d1 = []\n",
    "d2 = []\n",
    "for i, row in d.iterrows():\n",
    "    d1.append((center1[0] - row['x']) ** 2 + (center1[1] - row['y']) ** 2)\n",
    "    d2.append((center2[0] - row['x']) ** 2 + (center2[1] - row['y']) ** 2)\n",
    "    \n",
    "d['d1'] = d1\n",
    "d['d2'] = d2"
   ]
  },
  {
   "cell_type": "code",
   "execution_count": 276,
   "metadata": {},
   "outputs": [
    {
     "data": {
      "text/html": [
       "<div>\n",
       "<style scoped>\n",
       "    .dataframe tbody tr th:only-of-type {\n",
       "        vertical-align: middle;\n",
       "    }\n",
       "\n",
       "    .dataframe tbody tr th {\n",
       "        vertical-align: top;\n",
       "    }\n",
       "\n",
       "    .dataframe thead th {\n",
       "        text-align: right;\n",
       "    }\n",
       "</style>\n",
       "<table border=\"1\" class=\"dataframe\">\n",
       "  <thead>\n",
       "    <tr style=\"text-align: right;\">\n",
       "      <th></th>\n",
       "      <th>x</th>\n",
       "      <th>y</th>\n",
       "      <th>index</th>\n",
       "      <th>d1</th>\n",
       "      <th>d2</th>\n",
       "    </tr>\n",
       "  </thead>\n",
       "  <tbody>\n",
       "    <tr>\n",
       "      <th>66</th>\n",
       "      <td>-1.425139</td>\n",
       "      <td>-2.058791</td>\n",
       "      <td>66</td>\n",
       "      <td>77.766856</td>\n",
       "      <td>2113.967344</td>\n",
       "    </tr>\n",
       "    <tr>\n",
       "      <th>46</th>\n",
       "      <td>-2.071774</td>\n",
       "      <td>-3.884500</td>\n",
       "      <td>46</td>\n",
       "      <td>77.946108</td>\n",
       "      <td>2247.270630</td>\n",
       "    </tr>\n",
       "    <tr>\n",
       "      <th>32</th>\n",
       "      <td>-1.853435</td>\n",
       "      <td>-3.958769</td>\n",
       "      <td>32</td>\n",
       "      <td>82.038366</td>\n",
       "      <td>2261.671165</td>\n",
       "    </tr>\n",
       "    <tr>\n",
       "      <th>97</th>\n",
       "      <td>-1.577859</td>\n",
       "      <td>-3.686393</td>\n",
       "      <td>97</td>\n",
       "      <td>84.521950</td>\n",
       "      <td>2247.876192</td>\n",
       "    </tr>\n",
       "    <tr>\n",
       "      <th>35</th>\n",
       "      <td>-0.826111</td>\n",
       "      <td>-2.892995</td>\n",
       "      <td>35</td>\n",
       "      <td>92.529657</td>\n",
       "      <td>2207.447060</td>\n",
       "    </tr>\n",
       "  </tbody>\n",
       "</table>\n",
       "</div>"
      ],
      "text/plain": [
       "           x         y  index         d1           d2\n",
       "66 -1.425139 -2.058791     66  77.766856  2113.967344\n",
       "46 -2.071774 -3.884500     46  77.946108  2247.270630\n",
       "32 -1.853435 -3.958769     32  82.038366  2261.671165\n",
       "97 -1.577859 -3.686393     97  84.521950  2247.876192\n",
       "35 -0.826111 -2.892995     35  92.529657  2207.447060"
      ]
     },
     "execution_count": 276,
     "metadata": {},
     "output_type": "execute_result"
    }
   ],
   "source": [
    "d.sort_values('d1')[:5]"
   ]
  },
  {
   "cell_type": "code",
   "execution_count": 277,
   "metadata": {},
   "outputs": [
    {
     "data": {
      "text/html": [
       "<div>\n",
       "<style scoped>\n",
       "    .dataframe tbody tr th:only-of-type {\n",
       "        vertical-align: middle;\n",
       "    }\n",
       "\n",
       "    .dataframe tbody tr th {\n",
       "        vertical-align: top;\n",
       "    }\n",
       "\n",
       "    .dataframe thead th {\n",
       "        text-align: right;\n",
       "    }\n",
       "</style>\n",
       "<table border=\"1\" class=\"dataframe\">\n",
       "  <thead>\n",
       "    <tr style=\"text-align: right;\">\n",
       "      <th></th>\n",
       "      <th>x</th>\n",
       "      <th>y</th>\n",
       "      <th>index</th>\n",
       "      <th>d1</th>\n",
       "      <th>d2</th>\n",
       "    </tr>\n",
       "  </thead>\n",
       "  <tbody>\n",
       "    <tr>\n",
       "      <th>2</th>\n",
       "      <td>0.329502</td>\n",
       "      <td>0.433391</td>\n",
       "      <td>2</td>\n",
       "      <td>106.886448</td>\n",
       "      <td>1978.805208</td>\n",
       "    </tr>\n",
       "    <tr>\n",
       "      <th>57</th>\n",
       "      <td>0.301665</td>\n",
       "      <td>0.369683</td>\n",
       "      <td>57</td>\n",
       "      <td>106.260968</td>\n",
       "      <td>1982.719664</td>\n",
       "    </tr>\n",
       "    <tr>\n",
       "      <th>77</th>\n",
       "      <td>1.874397</td>\n",
       "      <td>0.810626</td>\n",
       "      <td>77</td>\n",
       "      <td>141.658408</td>\n",
       "      <td>2014.296248</td>\n",
       "    </tr>\n",
       "    <tr>\n",
       "      <th>26</th>\n",
       "      <td>-0.223566</td>\n",
       "      <td>-0.411785</td>\n",
       "      <td>26</td>\n",
       "      <td>95.748230</td>\n",
       "      <td>2024.219692</td>\n",
       "    </tr>\n",
       "    <tr>\n",
       "      <th>10</th>\n",
       "      <td>2.659161</td>\n",
       "      <td>0.521192</td>\n",
       "      <td>10</td>\n",
       "      <td>160.525995</td>\n",
       "      <td>2072.013841</td>\n",
       "    </tr>\n",
       "  </tbody>\n",
       "</table>\n",
       "</div>"
      ],
      "text/plain": [
       "           x         y  index          d1           d2\n",
       "2   0.329502  0.433391      2  106.886448  1978.805208\n",
       "57  0.301665  0.369683     57  106.260968  1982.719664\n",
       "77  1.874397  0.810626     77  141.658408  2014.296248\n",
       "26 -0.223566 -0.411785     26   95.748230  2024.219692\n",
       "10  2.659161  0.521192     10  160.525995  2072.013841"
      ]
     },
     "execution_count": 277,
     "metadata": {},
     "output_type": "execute_result"
    }
   ],
   "source": [
    "d.sort_values('d2')[:5]"
   ]
  },
  {
   "cell_type": "code",
   "execution_count": 279,
   "metadata": {},
   "outputs": [],
   "source": [
    "# df_chats[df_chats['sender_ind'].isin(d.sort_values('d1')[:5]['index'])]['text'].values"
   ]
  },
  {
   "cell_type": "code",
   "execution_count": 280,
   "metadata": {},
   "outputs": [
    {
     "ename": "KeyError",
     "evalue": "'sender_ind'",
     "output_type": "error",
     "traceback": [
      "\u001b[0;31m---------------------------------------------------------------------------\u001b[0m",
      "\u001b[0;31mKeyError\u001b[0m                                  Traceback (most recent call last)",
      "\u001b[0;32m/usr/local/lib/python3.6/dist-packages/pandas/core/indexes/base.py\u001b[0m in \u001b[0;36mget_loc\u001b[0;34m(self, key, method, tolerance)\u001b[0m\n\u001b[1;32m   3063\u001b[0m             \u001b[0;32mtry\u001b[0m\u001b[0;34m:\u001b[0m\u001b[0;34m\u001b[0m\u001b[0m\n\u001b[0;32m-> 3064\u001b[0;31m                 \u001b[0;32mreturn\u001b[0m \u001b[0mself\u001b[0m\u001b[0;34m.\u001b[0m\u001b[0m_engine\u001b[0m\u001b[0;34m.\u001b[0m\u001b[0mget_loc\u001b[0m\u001b[0;34m(\u001b[0m\u001b[0mkey\u001b[0m\u001b[0;34m)\u001b[0m\u001b[0;34m\u001b[0m\u001b[0m\n\u001b[0m\u001b[1;32m   3065\u001b[0m             \u001b[0;32mexcept\u001b[0m \u001b[0mKeyError\u001b[0m\u001b[0;34m:\u001b[0m\u001b[0;34m\u001b[0m\u001b[0m\n",
      "\u001b[0;32mpandas/_libs/index.pyx\u001b[0m in \u001b[0;36mpandas._libs.index.IndexEngine.get_loc\u001b[0;34m()\u001b[0m\n",
      "\u001b[0;32mpandas/_libs/index.pyx\u001b[0m in \u001b[0;36mpandas._libs.index.IndexEngine.get_loc\u001b[0;34m()\u001b[0m\n",
      "\u001b[0;32mpandas/_libs/hashtable_class_helper.pxi\u001b[0m in \u001b[0;36mpandas._libs.hashtable.PyObjectHashTable.get_item\u001b[0;34m()\u001b[0m\n",
      "\u001b[0;32mpandas/_libs/hashtable_class_helper.pxi\u001b[0m in \u001b[0;36mpandas._libs.hashtable.PyObjectHashTable.get_item\u001b[0;34m()\u001b[0m\n",
      "\u001b[0;31mKeyError\u001b[0m: 'sender_ind'",
      "\nDuring handling of the above exception, another exception occurred:\n",
      "\u001b[0;31mKeyError\u001b[0m                                  Traceback (most recent call last)",
      "\u001b[0;32m<ipython-input-280-2e0c6b2dd3bf>\u001b[0m in \u001b[0;36m<module>\u001b[0;34m()\u001b[0m\n\u001b[0;32m----> 1\u001b[0;31m \u001b[0mdf_chats\u001b[0m\u001b[0;34m[\u001b[0m\u001b[0mdf_chats\u001b[0m\u001b[0;34m[\u001b[0m\u001b[0;34m'sender_ind'\u001b[0m\u001b[0;34m]\u001b[0m\u001b[0;34m.\u001b[0m\u001b[0misin\u001b[0m\u001b[0;34m(\u001b[0m\u001b[0md\u001b[0m\u001b[0;34m.\u001b[0m\u001b[0msort_values\u001b[0m\u001b[0;34m(\u001b[0m\u001b[0;34m'd2'\u001b[0m\u001b[0;34m)\u001b[0m\u001b[0;34m[\u001b[0m\u001b[0;34m:\u001b[0m\u001b[0;36m5\u001b[0m\u001b[0;34m]\u001b[0m\u001b[0;34m[\u001b[0m\u001b[0;34m'index'\u001b[0m\u001b[0;34m]\u001b[0m\u001b[0;34m)\u001b[0m\u001b[0;34m]\u001b[0m\u001b[0;34m[\u001b[0m\u001b[0;34m'text'\u001b[0m\u001b[0;34m]\u001b[0m\u001b[0;34m.\u001b[0m\u001b[0mvalues\u001b[0m\u001b[0;34m\u001b[0m\u001b[0m\n\u001b[0m",
      "\u001b[0;32m/usr/local/lib/python3.6/dist-packages/pandas/core/frame.py\u001b[0m in \u001b[0;36m__getitem__\u001b[0;34m(self, key)\u001b[0m\n\u001b[1;32m   2686\u001b[0m             \u001b[0;32mreturn\u001b[0m \u001b[0mself\u001b[0m\u001b[0;34m.\u001b[0m\u001b[0m_getitem_multilevel\u001b[0m\u001b[0;34m(\u001b[0m\u001b[0mkey\u001b[0m\u001b[0;34m)\u001b[0m\u001b[0;34m\u001b[0m\u001b[0m\n\u001b[1;32m   2687\u001b[0m         \u001b[0;32melse\u001b[0m\u001b[0;34m:\u001b[0m\u001b[0;34m\u001b[0m\u001b[0m\n\u001b[0;32m-> 2688\u001b[0;31m             \u001b[0;32mreturn\u001b[0m \u001b[0mself\u001b[0m\u001b[0;34m.\u001b[0m\u001b[0m_getitem_column\u001b[0m\u001b[0;34m(\u001b[0m\u001b[0mkey\u001b[0m\u001b[0;34m)\u001b[0m\u001b[0;34m\u001b[0m\u001b[0m\n\u001b[0m\u001b[1;32m   2689\u001b[0m \u001b[0;34m\u001b[0m\u001b[0m\n\u001b[1;32m   2690\u001b[0m     \u001b[0;32mdef\u001b[0m \u001b[0m_getitem_column\u001b[0m\u001b[0;34m(\u001b[0m\u001b[0mself\u001b[0m\u001b[0;34m,\u001b[0m \u001b[0mkey\u001b[0m\u001b[0;34m)\u001b[0m\u001b[0;34m:\u001b[0m\u001b[0;34m\u001b[0m\u001b[0m\n",
      "\u001b[0;32m/usr/local/lib/python3.6/dist-packages/pandas/core/frame.py\u001b[0m in \u001b[0;36m_getitem_column\u001b[0;34m(self, key)\u001b[0m\n\u001b[1;32m   2693\u001b[0m         \u001b[0;31m# get column\u001b[0m\u001b[0;34m\u001b[0m\u001b[0;34m\u001b[0m\u001b[0m\n\u001b[1;32m   2694\u001b[0m         \u001b[0;32mif\u001b[0m \u001b[0mself\u001b[0m\u001b[0;34m.\u001b[0m\u001b[0mcolumns\u001b[0m\u001b[0;34m.\u001b[0m\u001b[0mis_unique\u001b[0m\u001b[0;34m:\u001b[0m\u001b[0;34m\u001b[0m\u001b[0m\n\u001b[0;32m-> 2695\u001b[0;31m             \u001b[0;32mreturn\u001b[0m \u001b[0mself\u001b[0m\u001b[0;34m.\u001b[0m\u001b[0m_get_item_cache\u001b[0m\u001b[0;34m(\u001b[0m\u001b[0mkey\u001b[0m\u001b[0;34m)\u001b[0m\u001b[0;34m\u001b[0m\u001b[0m\n\u001b[0m\u001b[1;32m   2696\u001b[0m \u001b[0;34m\u001b[0m\u001b[0m\n\u001b[1;32m   2697\u001b[0m         \u001b[0;31m# duplicate columns & possible reduce dimensionality\u001b[0m\u001b[0;34m\u001b[0m\u001b[0;34m\u001b[0m\u001b[0m\n",
      "\u001b[0;32m/usr/local/lib/python3.6/dist-packages/pandas/core/generic.py\u001b[0m in \u001b[0;36m_get_item_cache\u001b[0;34m(self, item)\u001b[0m\n\u001b[1;32m   2484\u001b[0m         \u001b[0mres\u001b[0m \u001b[0;34m=\u001b[0m \u001b[0mcache\u001b[0m\u001b[0;34m.\u001b[0m\u001b[0mget\u001b[0m\u001b[0;34m(\u001b[0m\u001b[0mitem\u001b[0m\u001b[0;34m)\u001b[0m\u001b[0;34m\u001b[0m\u001b[0m\n\u001b[1;32m   2485\u001b[0m         \u001b[0;32mif\u001b[0m \u001b[0mres\u001b[0m \u001b[0;32mis\u001b[0m \u001b[0;32mNone\u001b[0m\u001b[0;34m:\u001b[0m\u001b[0;34m\u001b[0m\u001b[0m\n\u001b[0;32m-> 2486\u001b[0;31m             \u001b[0mvalues\u001b[0m \u001b[0;34m=\u001b[0m \u001b[0mself\u001b[0m\u001b[0;34m.\u001b[0m\u001b[0m_data\u001b[0m\u001b[0;34m.\u001b[0m\u001b[0mget\u001b[0m\u001b[0;34m(\u001b[0m\u001b[0mitem\u001b[0m\u001b[0;34m)\u001b[0m\u001b[0;34m\u001b[0m\u001b[0m\n\u001b[0m\u001b[1;32m   2487\u001b[0m             \u001b[0mres\u001b[0m \u001b[0;34m=\u001b[0m \u001b[0mself\u001b[0m\u001b[0;34m.\u001b[0m\u001b[0m_box_item_values\u001b[0m\u001b[0;34m(\u001b[0m\u001b[0mitem\u001b[0m\u001b[0;34m,\u001b[0m \u001b[0mvalues\u001b[0m\u001b[0;34m)\u001b[0m\u001b[0;34m\u001b[0m\u001b[0m\n\u001b[1;32m   2488\u001b[0m             \u001b[0mcache\u001b[0m\u001b[0;34m[\u001b[0m\u001b[0mitem\u001b[0m\u001b[0;34m]\u001b[0m \u001b[0;34m=\u001b[0m \u001b[0mres\u001b[0m\u001b[0;34m\u001b[0m\u001b[0m\n",
      "\u001b[0;32m/usr/local/lib/python3.6/dist-packages/pandas/core/internals.py\u001b[0m in \u001b[0;36mget\u001b[0;34m(self, item, fastpath)\u001b[0m\n\u001b[1;32m   4113\u001b[0m \u001b[0;34m\u001b[0m\u001b[0m\n\u001b[1;32m   4114\u001b[0m             \u001b[0;32mif\u001b[0m \u001b[0;32mnot\u001b[0m \u001b[0misna\u001b[0m\u001b[0;34m(\u001b[0m\u001b[0mitem\u001b[0m\u001b[0;34m)\u001b[0m\u001b[0;34m:\u001b[0m\u001b[0;34m\u001b[0m\u001b[0m\n\u001b[0;32m-> 4115\u001b[0;31m                 \u001b[0mloc\u001b[0m \u001b[0;34m=\u001b[0m \u001b[0mself\u001b[0m\u001b[0;34m.\u001b[0m\u001b[0mitems\u001b[0m\u001b[0;34m.\u001b[0m\u001b[0mget_loc\u001b[0m\u001b[0;34m(\u001b[0m\u001b[0mitem\u001b[0m\u001b[0;34m)\u001b[0m\u001b[0;34m\u001b[0m\u001b[0m\n\u001b[0m\u001b[1;32m   4116\u001b[0m             \u001b[0;32melse\u001b[0m\u001b[0;34m:\u001b[0m\u001b[0;34m\u001b[0m\u001b[0m\n\u001b[1;32m   4117\u001b[0m                 \u001b[0mindexer\u001b[0m \u001b[0;34m=\u001b[0m \u001b[0mnp\u001b[0m\u001b[0;34m.\u001b[0m\u001b[0marange\u001b[0m\u001b[0;34m(\u001b[0m\u001b[0mlen\u001b[0m\u001b[0;34m(\u001b[0m\u001b[0mself\u001b[0m\u001b[0;34m.\u001b[0m\u001b[0mitems\u001b[0m\u001b[0;34m)\u001b[0m\u001b[0;34m)\u001b[0m\u001b[0;34m[\u001b[0m\u001b[0misna\u001b[0m\u001b[0;34m(\u001b[0m\u001b[0mself\u001b[0m\u001b[0;34m.\u001b[0m\u001b[0mitems\u001b[0m\u001b[0;34m)\u001b[0m\u001b[0;34m]\u001b[0m\u001b[0;34m\u001b[0m\u001b[0m\n",
      "\u001b[0;32m/usr/local/lib/python3.6/dist-packages/pandas/core/indexes/base.py\u001b[0m in \u001b[0;36mget_loc\u001b[0;34m(self, key, method, tolerance)\u001b[0m\n\u001b[1;32m   3064\u001b[0m                 \u001b[0;32mreturn\u001b[0m \u001b[0mself\u001b[0m\u001b[0;34m.\u001b[0m\u001b[0m_engine\u001b[0m\u001b[0;34m.\u001b[0m\u001b[0mget_loc\u001b[0m\u001b[0;34m(\u001b[0m\u001b[0mkey\u001b[0m\u001b[0;34m)\u001b[0m\u001b[0;34m\u001b[0m\u001b[0m\n\u001b[1;32m   3065\u001b[0m             \u001b[0;32mexcept\u001b[0m \u001b[0mKeyError\u001b[0m\u001b[0;34m:\u001b[0m\u001b[0;34m\u001b[0m\u001b[0m\n\u001b[0;32m-> 3066\u001b[0;31m                 \u001b[0;32mreturn\u001b[0m \u001b[0mself\u001b[0m\u001b[0;34m.\u001b[0m\u001b[0m_engine\u001b[0m\u001b[0;34m.\u001b[0m\u001b[0mget_loc\u001b[0m\u001b[0;34m(\u001b[0m\u001b[0mself\u001b[0m\u001b[0;34m.\u001b[0m\u001b[0m_maybe_cast_indexer\u001b[0m\u001b[0;34m(\u001b[0m\u001b[0mkey\u001b[0m\u001b[0;34m)\u001b[0m\u001b[0;34m)\u001b[0m\u001b[0;34m\u001b[0m\u001b[0m\n\u001b[0m\u001b[1;32m   3067\u001b[0m \u001b[0;34m\u001b[0m\u001b[0m\n\u001b[1;32m   3068\u001b[0m         \u001b[0mindexer\u001b[0m \u001b[0;34m=\u001b[0m \u001b[0mself\u001b[0m\u001b[0;34m.\u001b[0m\u001b[0mget_indexer\u001b[0m\u001b[0;34m(\u001b[0m\u001b[0;34m[\u001b[0m\u001b[0mkey\u001b[0m\u001b[0;34m]\u001b[0m\u001b[0;34m,\u001b[0m \u001b[0mmethod\u001b[0m\u001b[0;34m=\u001b[0m\u001b[0mmethod\u001b[0m\u001b[0;34m,\u001b[0m \u001b[0mtolerance\u001b[0m\u001b[0;34m=\u001b[0m\u001b[0mtolerance\u001b[0m\u001b[0;34m)\u001b[0m\u001b[0;34m\u001b[0m\u001b[0m\n",
      "\u001b[0;32mpandas/_libs/index.pyx\u001b[0m in \u001b[0;36mpandas._libs.index.IndexEngine.get_loc\u001b[0;34m()\u001b[0m\n",
      "\u001b[0;32mpandas/_libs/index.pyx\u001b[0m in \u001b[0;36mpandas._libs.index.IndexEngine.get_loc\u001b[0;34m()\u001b[0m\n",
      "\u001b[0;32mpandas/_libs/hashtable_class_helper.pxi\u001b[0m in \u001b[0;36mpandas._libs.hashtable.PyObjectHashTable.get_item\u001b[0;34m()\u001b[0m\n",
      "\u001b[0;32mpandas/_libs/hashtable_class_helper.pxi\u001b[0m in \u001b[0;36mpandas._libs.hashtable.PyObjectHashTable.get_item\u001b[0;34m()\u001b[0m\n",
      "\u001b[0;31mKeyError\u001b[0m: 'sender_ind'"
     ]
    }
   ],
   "source": [
    "# df_chats[df_chats['sender_ind'].isin(d.sort_values('d2')[:5]['index'])]['text'].values"
   ]
  },
  {
   "cell_type": "code",
   "execution_count": null,
   "metadata": {},
   "outputs": [],
   "source": [
    "prices = df_prices['priceUsd'].pct_change()[1:].values"
   ]
  },
  {
   "cell_type": "code",
   "execution_count": null,
   "metadata": {},
   "outputs": [],
   "source": [
    "plt.hist(prices, bins=20)\n",
    "plt.show()"
   ]
  },
  {
   "cell_type": "code",
   "execution_count": 134,
   "metadata": {},
   "outputs": [
    {
     "data": {
      "text/plain": [
       "[<matplotlib.lines.Line2D at 0x7fe8a8e5ea90>]"
      ]
     },
     "execution_count": 134,
     "metadata": {},
     "output_type": "execute_result"
    },
    {
     "data": {
      "image/png": "[encoded data removed]",
      "text/plain": [
       "<Figure size 432x288 with 1 Axes>"
      ]
     },
     "metadata": {},
     "output_type": "display_data"
    }
   ],
   "source": [
    "plt.plot(prices)"
   ]
  },
  {
   "cell_type": "code",
   "execution_count": 138,
   "metadata": {},
   "outputs": [
    {
     "data": {
      "text/plain": [
       "(-8.535428772025405,\n",
       " 1.0110438004829059e-13,\n",
       " 6,\n",
       " 724,\n",
       " {'1%': -3.4394144152232995,\n",
       "  '5%': -2.8655403100177566,\n",
       "  '10%': -2.5689002207655443},\n",
       " -4169.700082124158)"
      ]
     },
     "execution_count": 138,
     "metadata": {},
     "output_type": "execute_result"
    }
   ],
   "source": [
    "adfuller(prices)"
   ]
  },
  {
   "cell_type": "code",
   "execution_count": 246,
   "metadata": {},
   "outputs": [
    {
     "data": {
      "text/plain": [
       "(322,)"
      ]
     },
     "execution_count": 246,
     "metadata": {},
     "output_type": "execute_result"
    }
   ],
   "source": [
    "val1[-1].shape"
   ]
  }
 ],
 "metadata": {
  "kernelspec": {
   "display_name": "Python 3",
   "language": "python",
   "name": "python3"
  },
  "language_info": {
   "codemirror_mode": {
    "name": "ipython",
    "version": 3
   },
   "file_extension": ".py",
   "mimetype": "text/x-python",
   "name": "python",
   "nbconvert_exporter": "python",
   "pygments_lexer": "ipython3",
   "version": "3.6.5"
  },
  "toc": {
   "nav_menu": {},
   "number_sections": true,
   "sideBar": true,
   "skip_h1_title": false,
   "toc_cell": true,
   "toc_position": {},
   "toc_section_display": "block",
   "toc_window_display": false
  }
 },
 "nbformat": 4,
 "nbformat_minor": 2
}
