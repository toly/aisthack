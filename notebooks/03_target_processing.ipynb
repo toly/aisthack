{
 "cells": [
  {
   "cell_type": "code",
   "execution_count": 1,
   "metadata": {
    "collapsed": true
   },
   "outputs": [],
   "source": [
    "import pandas as pd\n",
    "import numpy as np\n",
    "from datetime import datetime"
   ]
  },
  {
   "cell_type": "code",
   "execution_count": 8,
   "metadata": {
    "collapsed": true
   },
   "outputs": [],
   "source": [
    "data = pd.read_csv('tickers_train.csv')"
   ]
  },
  {
   "cell_type": "code",
   "execution_count": 9,
   "metadata": {
    "collapsed": false
   },
   "outputs": [
    {
     "data": {
      "text/html": [
       "<div>\n",
       "<style>\n",
       "    .dataframe thead tr:only-child th {\n",
       "        text-align: right;\n",
       "    }\n",
       "\n",
       "    .dataframe thead th {\n",
       "        text-align: left;\n",
       "    }\n",
       "\n",
       "    .dataframe tbody tr th {\n",
       "        vertical-align: top;\n",
       "    }\n",
       "</style>\n",
       "<table border=\"1\" class=\"dataframe\">\n",
       "  <thead>\n",
       "    <tr style=\"text-align: right;\">\n",
       "      <th></th>\n",
       "      <th>Unnamed: 0</th>\n",
       "      <th>datetime</th>\n",
       "      <th>name</th>\n",
       "      <th>priceBtc</th>\n",
       "      <th>priceUsd</th>\n",
       "      <th>ticker</th>\n",
       "      <th>volume</th>\n",
       "    </tr>\n",
       "  </thead>\n",
       "  <tbody>\n",
       "    <tr>\n",
       "      <th>0</th>\n",
       "      <td>0</td>\n",
       "      <td>2018-03-01T00:00:00Z</td>\n",
       "      <td>0x</td>\n",
       "      <td>0.000087</td>\n",
       "      <td>0.902278</td>\n",
       "      <td>ZRX</td>\n",
       "      <td>8127100.0</td>\n",
       "    </tr>\n",
       "    <tr>\n",
       "      <th>1</th>\n",
       "      <td>1</td>\n",
       "      <td>2018-03-01T02:00:00Z</td>\n",
       "      <td>0x</td>\n",
       "      <td>0.000086</td>\n",
       "      <td>0.895107</td>\n",
       "      <td>ZRX</td>\n",
       "      <td>7962720.0</td>\n",
       "    </tr>\n",
       "    <tr>\n",
       "      <th>2</th>\n",
       "      <td>2</td>\n",
       "      <td>2018-03-01T04:00:00Z</td>\n",
       "      <td>0x</td>\n",
       "      <td>0.000088</td>\n",
       "      <td>0.917095</td>\n",
       "      <td>ZRX</td>\n",
       "      <td>7980440.0</td>\n",
       "    </tr>\n",
       "    <tr>\n",
       "      <th>3</th>\n",
       "      <td>3</td>\n",
       "      <td>2018-03-01T06:00:00Z</td>\n",
       "      <td>0x</td>\n",
       "      <td>0.000087</td>\n",
       "      <td>0.910295</td>\n",
       "      <td>ZRX</td>\n",
       "      <td>7554380.0</td>\n",
       "    </tr>\n",
       "    <tr>\n",
       "      <th>4</th>\n",
       "      <td>4</td>\n",
       "      <td>2018-03-01T08:00:00Z</td>\n",
       "      <td>0x</td>\n",
       "      <td>0.000087</td>\n",
       "      <td>0.927460</td>\n",
       "      <td>ZRX</td>\n",
       "      <td>7468790.0</td>\n",
       "    </tr>\n",
       "  </tbody>\n",
       "</table>\n",
       "</div>"
      ],
      "text/plain": [
       "   Unnamed: 0              datetime name  priceBtc  priceUsd ticker     volume\n",
       "0           0  2018-03-01T00:00:00Z   0x  0.000087  0.902278    ZRX  8127100.0\n",
       "1           1  2018-03-01T02:00:00Z   0x  0.000086  0.895107    ZRX  7962720.0\n",
       "2           2  2018-03-01T04:00:00Z   0x  0.000088  0.917095    ZRX  7980440.0\n",
       "3           3  2018-03-01T06:00:00Z   0x  0.000087  0.910295    ZRX  7554380.0\n",
       "4           4  2018-03-01T08:00:00Z   0x  0.000087  0.927460    ZRX  7468790.0"
      ]
     },
     "execution_count": 9,
     "metadata": {},
     "output_type": "execute_result"
    }
   ],
   "source": [
    "data.head()"
   ]
  },
  {
   "cell_type": "code",
   "execution_count": 10,
   "metadata": {
    "collapsed": true
   },
   "outputs": [],
   "source": [
    "ALL_TOKENS = list(set(data['ticker']))"
   ]
  },
  {
   "cell_type": "code",
   "execution_count": 11,
   "metadata": {
    "collapsed": false
   },
   "outputs": [
    {
     "name": "stdout",
     "output_type": "stream",
     "text": [
      "TOKEN: ZRX\n",
      "Start: 2018-03-01 00:00:00\n",
      "End: 2018-04-30 22:00:00\n"
     ]
    },
    {
     "name": "stderr",
     "output_type": "stream",
     "text": [
      "C:\\Users\\123\\Anaconda3\\lib\\site-packages\\ipykernel\\__main__.py:4: DeprecationWarning: \n",
      ".ix is deprecated. Please use\n",
      ".loc for label based indexing or\n",
      ".iloc for positional indexing\n",
      "\n",
      "See the documentation here:\n",
      "http://pandas.pydata.org/pandas-docs/stable/indexing.html#deprecate_ix\n"
     ]
    }
   ],
   "source": [
    "TOKEN = 'ZRX'\n",
    "print(\"TOKEN:\",TOKEN)\n",
    "token_inds = np.where(data['ticker'] == TOKEN)[0]\n",
    "date1 = datetime.strptime(data['datetime'].ix[token_inds][0], '%Y-%m-%dT%H:%M:%SZ')\n",
    "print(\"Start:\",date1)\n",
    "for i in data['datetime'].ix[token_inds][1:]:\n",
    "    date2 = datetime.strptime(i, '%Y-%m-%dT%H:%M:%SZ')\n",
    "    if (date2-date1).seconds != 7200:\n",
    "        print(\"Mismatch\")\n",
    "    date1 = date2\n",
    "print(\"End:\",date2)"
   ]
  },
  {
   "cell_type": "code",
   "execution_count": 12,
   "metadata": {
    "collapsed": false
   },
   "outputs": [
    {
     "name": "stderr",
     "output_type": "stream",
     "text": [
      "C:\\Users\\123\\Anaconda3\\lib\\site-packages\\ipykernel\\__main__.py:1: DeprecationWarning: \n",
      ".ix is deprecated. Please use\n",
      ".loc for label based indexing or\n",
      ".iloc for positional indexing\n",
      "\n",
      "See the documentation here:\n",
      "http://pandas.pydata.org/pandas-docs/stable/indexing.html#deprecate_ix\n",
      "  if __name__ == '__main__':\n"
     ]
    }
   ],
   "source": [
    "btc_prices = data.ix[token_inds][['datetime','priceBtc']]\n",
    "btc_prices = btc_prices.rename(columns={\"priceBtc\": TOKEN})\n",
    "\n",
    "usd_prices = data.ix[token_inds][['datetime','priceUsd']]\n",
    "usd_prices = usd_prices.rename(columns={\"priceUsd\": TOKEN})\n",
    "\n",
    "volumes = data.ix[token_inds][['datetime','volume']]\n",
    "volumes = volumes.rename(columns={\"volume\": TOKEN})\n",
    "\n",
    "names = pd.DataFrame(data=[[TOKEN,data.ix[token_inds]['name'][0]]],index=[0],columns=['ticker','name'])"
   ]
  },
  {
   "cell_type": "code",
   "execution_count": 13,
   "metadata": {
    "collapsed": true
   },
   "outputs": [],
   "source": [
    "del ALL_TOKENS[ALL_TOKENS.index(TOKEN)]"
   ]
  },
  {
   "cell_type": "code",
   "execution_count": 17,
   "metadata": {
    "collapsed": false
   },
   "outputs": [
    {
     "name": "stdout",
     "output_type": "stream",
     "text": [
      "TOKEN: BCO\n",
      "Start: 2018-03-01 00:00:00\n",
      "End: 2018-04-30 22:00:00\n",
      "TOKEN: DNA\n",
      "Start: 2018-03-01 00:00:00\n",
      "End: 2018-04-30 22:00:00\n",
      "TOKEN: ETC\n",
      "Start: 2018-03-01 00:00:00\n",
      "End: 2018-04-30 22:00:00\n",
      "TOKEN: PPP\n",
      "Start: 2018-03-01 00:00:00\n",
      "End: 2018-04-30 22:00:00\n",
      "TOKEN: SALT\n",
      "Start: 2018-03-01 00:00:00\n",
      "End: 2018-04-30 22:00:00\n",
      "TOKEN: ZIL\n",
      "Start: 2018-03-01 00:00:00\n",
      "End: 2018-04-30 22:00:00\n",
      "TOKEN: ADST\n",
      "Start: 2018-03-01 00:00:00\n",
      "End: 2018-04-30 22:00:00\n",
      "TOKEN: NLG\n",
      "Start: 2018-03-01 00:00:00\n",
      "End: 2018-04-30 22:00:00\n",
      "TOKEN: AST\n",
      "Start: 2018-03-01 00:00:00\n",
      "End: 2018-04-30 22:00:00\n",
      "TOKEN: BCD\n",
      "Start: 2018-03-01 00:00:00\n",
      "End: 2018-04-30 22:00:00\n",
      "TOKEN: TRX\n",
      "Start: 2018-03-01 00:00:00\n",
      "End: 2018-04-30 22:00:00\n",
      "TOKEN: GAT\n",
      "Start: 2018-03-01 00:00:00\n",
      "End: 2018-04-30 22:00:00\n",
      "TOKEN: ACAT\n",
      "Start: 2018-03-01 00:00:00\n",
      "End: 2018-04-30 22:00:00\n",
      "TOKEN: NEO\n",
      "Start: 2018-03-01 00:00:00\n",
      "End: 2018-04-30 22:00:00\n",
      "TOKEN: CVH\n",
      "Start: 2018-04-20 18:00:00\n",
      "End: 2018-04-30 22:00:00\n"
     ]
    },
    {
     "ename": "ValueError",
     "evalue": "Length of values does not match length of index",
     "output_type": "error",
     "traceback": [
      "\u001b[1;31m---------------------------------------------------------------------------\u001b[0m",
      "\u001b[1;31mValueError\u001b[0m                                Traceback (most recent call last)",
      "\u001b[1;32m<ipython-input-17-4f17b1aa5198>\u001b[0m in \u001b[0;36m<module>\u001b[1;34m()\u001b[0m\n\u001b[0;32m     11\u001b[0m     \u001b[0mprint\u001b[0m\u001b[1;33m(\u001b[0m\u001b[1;34m\"End:\"\u001b[0m\u001b[1;33m,\u001b[0m\u001b[0mdate2\u001b[0m\u001b[1;33m)\u001b[0m\u001b[1;33m\u001b[0m\u001b[0m\n\u001b[0;32m     12\u001b[0m \u001b[1;33m\u001b[0m\u001b[0m\n\u001b[1;32m---> 13\u001b[1;33m     \u001b[0mbtc_prices\u001b[0m\u001b[1;33m[\u001b[0m\u001b[0mTOKEN\u001b[0m\u001b[1;33m]\u001b[0m \u001b[1;33m=\u001b[0m \u001b[0mnp\u001b[0m\u001b[1;33m.\u001b[0m\u001b[0marray\u001b[0m\u001b[1;33m(\u001b[0m\u001b[0mdata\u001b[0m\u001b[1;33m.\u001b[0m\u001b[0mix\u001b[0m\u001b[1;33m[\u001b[0m\u001b[0mtoken_inds\u001b[0m\u001b[1;33m]\u001b[0m\u001b[1;33m[\u001b[0m\u001b[1;34m'priceBtc'\u001b[0m\u001b[1;33m]\u001b[0m\u001b[1;33m)\u001b[0m\u001b[1;33m\u001b[0m\u001b[0m\n\u001b[0m\u001b[0;32m     14\u001b[0m \u001b[1;33m\u001b[0m\u001b[0m\n\u001b[0;32m     15\u001b[0m     \u001b[0musd_prices\u001b[0m\u001b[1;33m[\u001b[0m\u001b[0mTOKEN\u001b[0m\u001b[1;33m]\u001b[0m \u001b[1;33m=\u001b[0m \u001b[0mnp\u001b[0m\u001b[1;33m.\u001b[0m\u001b[0marray\u001b[0m\u001b[1;33m(\u001b[0m\u001b[0mdata\u001b[0m\u001b[1;33m.\u001b[0m\u001b[0mix\u001b[0m\u001b[1;33m[\u001b[0m\u001b[0mtoken_inds\u001b[0m\u001b[1;33m]\u001b[0m\u001b[1;33m[\u001b[0m\u001b[1;34m'priceUsd'\u001b[0m\u001b[1;33m]\u001b[0m\u001b[1;33m)\u001b[0m\u001b[1;33m\u001b[0m\u001b[0m\n",
      "\u001b[1;32mC:\\Users\\123\\Anaconda3\\lib\\site-packages\\pandas\\core\\frame.py\u001b[0m in \u001b[0;36m__setitem__\u001b[1;34m(self, key, value)\u001b[0m\n\u001b[0;32m   2427\u001b[0m         \u001b[1;32melse\u001b[0m\u001b[1;33m:\u001b[0m\u001b[1;33m\u001b[0m\u001b[0m\n\u001b[0;32m   2428\u001b[0m             \u001b[1;31m# set column\u001b[0m\u001b[1;33m\u001b[0m\u001b[1;33m\u001b[0m\u001b[0m\n\u001b[1;32m-> 2429\u001b[1;33m             \u001b[0mself\u001b[0m\u001b[1;33m.\u001b[0m\u001b[0m_set_item\u001b[0m\u001b[1;33m(\u001b[0m\u001b[0mkey\u001b[0m\u001b[1;33m,\u001b[0m \u001b[0mvalue\u001b[0m\u001b[1;33m)\u001b[0m\u001b[1;33m\u001b[0m\u001b[0m\n\u001b[0m\u001b[0;32m   2430\u001b[0m \u001b[1;33m\u001b[0m\u001b[0m\n\u001b[0;32m   2431\u001b[0m     \u001b[1;32mdef\u001b[0m \u001b[0m_setitem_slice\u001b[0m\u001b[1;33m(\u001b[0m\u001b[0mself\u001b[0m\u001b[1;33m,\u001b[0m \u001b[0mkey\u001b[0m\u001b[1;33m,\u001b[0m \u001b[0mvalue\u001b[0m\u001b[1;33m)\u001b[0m\u001b[1;33m:\u001b[0m\u001b[1;33m\u001b[0m\u001b[0m\n",
      "\u001b[1;32mC:\\Users\\123\\Anaconda3\\lib\\site-packages\\pandas\\core\\frame.py\u001b[0m in \u001b[0;36m_set_item\u001b[1;34m(self, key, value)\u001b[0m\n\u001b[0;32m   2493\u001b[0m \u001b[1;33m\u001b[0m\u001b[0m\n\u001b[0;32m   2494\u001b[0m         \u001b[0mself\u001b[0m\u001b[1;33m.\u001b[0m\u001b[0m_ensure_valid_index\u001b[0m\u001b[1;33m(\u001b[0m\u001b[0mvalue\u001b[0m\u001b[1;33m)\u001b[0m\u001b[1;33m\u001b[0m\u001b[0m\n\u001b[1;32m-> 2495\u001b[1;33m         \u001b[0mvalue\u001b[0m \u001b[1;33m=\u001b[0m \u001b[0mself\u001b[0m\u001b[1;33m.\u001b[0m\u001b[0m_sanitize_column\u001b[0m\u001b[1;33m(\u001b[0m\u001b[0mkey\u001b[0m\u001b[1;33m,\u001b[0m \u001b[0mvalue\u001b[0m\u001b[1;33m)\u001b[0m\u001b[1;33m\u001b[0m\u001b[0m\n\u001b[0m\u001b[0;32m   2496\u001b[0m         \u001b[0mNDFrame\u001b[0m\u001b[1;33m.\u001b[0m\u001b[0m_set_item\u001b[0m\u001b[1;33m(\u001b[0m\u001b[0mself\u001b[0m\u001b[1;33m,\u001b[0m \u001b[0mkey\u001b[0m\u001b[1;33m,\u001b[0m \u001b[0mvalue\u001b[0m\u001b[1;33m)\u001b[0m\u001b[1;33m\u001b[0m\u001b[0m\n\u001b[0;32m   2497\u001b[0m \u001b[1;33m\u001b[0m\u001b[0m\n",
      "\u001b[1;32mC:\\Users\\123\\Anaconda3\\lib\\site-packages\\pandas\\core\\frame.py\u001b[0m in \u001b[0;36m_sanitize_column\u001b[1;34m(self, key, value, broadcast)\u001b[0m\n\u001b[0;32m   2664\u001b[0m \u001b[1;33m\u001b[0m\u001b[0m\n\u001b[0;32m   2665\u001b[0m             \u001b[1;31m# turn me into an ndarray\u001b[0m\u001b[1;33m\u001b[0m\u001b[1;33m\u001b[0m\u001b[0m\n\u001b[1;32m-> 2666\u001b[1;33m             \u001b[0mvalue\u001b[0m \u001b[1;33m=\u001b[0m \u001b[0m_sanitize_index\u001b[0m\u001b[1;33m(\u001b[0m\u001b[0mvalue\u001b[0m\u001b[1;33m,\u001b[0m \u001b[0mself\u001b[0m\u001b[1;33m.\u001b[0m\u001b[0mindex\u001b[0m\u001b[1;33m,\u001b[0m \u001b[0mcopy\u001b[0m\u001b[1;33m=\u001b[0m\u001b[1;32mFalse\u001b[0m\u001b[1;33m)\u001b[0m\u001b[1;33m\u001b[0m\u001b[0m\n\u001b[0m\u001b[0;32m   2667\u001b[0m             \u001b[1;32mif\u001b[0m \u001b[1;32mnot\u001b[0m \u001b[0misinstance\u001b[0m\u001b[1;33m(\u001b[0m\u001b[0mvalue\u001b[0m\u001b[1;33m,\u001b[0m \u001b[1;33m(\u001b[0m\u001b[0mnp\u001b[0m\u001b[1;33m.\u001b[0m\u001b[0mndarray\u001b[0m\u001b[1;33m,\u001b[0m \u001b[0mIndex\u001b[0m\u001b[1;33m)\u001b[0m\u001b[1;33m)\u001b[0m\u001b[1;33m:\u001b[0m\u001b[1;33m\u001b[0m\u001b[0m\n\u001b[0;32m   2668\u001b[0m                 \u001b[1;32mif\u001b[0m \u001b[0misinstance\u001b[0m\u001b[1;33m(\u001b[0m\u001b[0mvalue\u001b[0m\u001b[1;33m,\u001b[0m \u001b[0mlist\u001b[0m\u001b[1;33m)\u001b[0m \u001b[1;32mand\u001b[0m \u001b[0mlen\u001b[0m\u001b[1;33m(\u001b[0m\u001b[0mvalue\u001b[0m\u001b[1;33m)\u001b[0m \u001b[1;33m>\u001b[0m \u001b[1;36m0\u001b[0m\u001b[1;33m:\u001b[0m\u001b[1;33m\u001b[0m\u001b[0m\n",
      "\u001b[1;32mC:\\Users\\123\\Anaconda3\\lib\\site-packages\\pandas\\core\\series.py\u001b[0m in \u001b[0;36m_sanitize_index\u001b[1;34m(data, index, copy)\u001b[0m\n\u001b[0;32m   2877\u001b[0m \u001b[1;33m\u001b[0m\u001b[0m\n\u001b[0;32m   2878\u001b[0m     \u001b[1;32mif\u001b[0m \u001b[0mlen\u001b[0m\u001b[1;33m(\u001b[0m\u001b[0mdata\u001b[0m\u001b[1;33m)\u001b[0m \u001b[1;33m!=\u001b[0m \u001b[0mlen\u001b[0m\u001b[1;33m(\u001b[0m\u001b[0mindex\u001b[0m\u001b[1;33m)\u001b[0m\u001b[1;33m:\u001b[0m\u001b[1;33m\u001b[0m\u001b[0m\n\u001b[1;32m-> 2879\u001b[1;33m         \u001b[1;32mraise\u001b[0m \u001b[0mValueError\u001b[0m\u001b[1;33m(\u001b[0m\u001b[1;34m'Length of values does not match length of '\u001b[0m \u001b[1;34m'index'\u001b[0m\u001b[1;33m)\u001b[0m\u001b[1;33m\u001b[0m\u001b[0m\n\u001b[0m\u001b[0;32m   2880\u001b[0m \u001b[1;33m\u001b[0m\u001b[0m\n\u001b[0;32m   2881\u001b[0m     \u001b[1;32mif\u001b[0m \u001b[0misinstance\u001b[0m\u001b[1;33m(\u001b[0m\u001b[0mdata\u001b[0m\u001b[1;33m,\u001b[0m \u001b[0mPeriodIndex\u001b[0m\u001b[1;33m)\u001b[0m\u001b[1;33m:\u001b[0m\u001b[1;33m\u001b[0m\u001b[0m\n",
      "\u001b[1;31mValueError\u001b[0m: Length of values does not match length of index"
     ]
    }
   ],
   "source": [
    "for TOKEN in ALL_TOKENS[:20]:\n",
    "    print(\"TOKEN:\",TOKEN)\n",
    "    token_inds = np.where(data['ticker'] == TOKEN)[0]\n",
    "    date1 = datetime.strptime(list(data['datetime'].ix[token_inds])[0], '%Y-%m-%dT%H:%M:%SZ')\n",
    "    print(\"Start:\",date1)\n",
    "    for i in data['datetime'].ix[token_inds][1:]:\n",
    "        date2 = datetime.strptime(i, '%Y-%m-%dT%H:%M:%SZ')\n",
    "        if (date2-date1).seconds != 7200:\n",
    "            print(\"Mismatch\")\n",
    "        date1 = date2\n",
    "    print(\"End:\",date2)\n",
    "    \n",
    "    btc_prices[TOKEN] = np.array(data.ix[token_inds]['priceBtc'])\n",
    "\n",
    "    usd_prices[TOKEN] = np.array(data.ix[token_inds]['priceUsd'])\n",
    "\n",
    "    volumes[TOKEN] = np.array(data.ix[token_inds]['volume'])\n",
    "\n",
    "    names = pd.concat([names,pd.DataFrame(data=[[TOKEN,list(data.ix[token_inds]['name'])[0]]],index=[0],columns=['ticker','name'])],ignore_index=True)"
   ]
  },
  {
   "cell_type": "code",
   "execution_count": 21,
   "metadata": {
    "collapsed": false
   },
   "outputs": [
    {
     "data": {
      "text/html": [
       "<div>\n",
       "<style>\n",
       "    .dataframe thead tr:only-child th {\n",
       "        text-align: right;\n",
       "    }\n",
       "\n",
       "    .dataframe thead th {\n",
       "        text-align: left;\n",
       "    }\n",
       "\n",
       "    .dataframe tbody tr th {\n",
       "        vertical-align: top;\n",
       "    }\n",
       "</style>\n",
       "<table border=\"1\" class=\"dataframe\">\n",
       "  <thead>\n",
       "    <tr style=\"text-align: right;\">\n",
       "      <th></th>\n",
       "      <th>ticker</th>\n",
       "      <th>name</th>\n",
       "    </tr>\n",
       "  </thead>\n",
       "  <tbody>\n",
       "    <tr>\n",
       "      <th>0</th>\n",
       "      <td>ZRX</td>\n",
       "      <td>0x</td>\n",
       "    </tr>\n",
       "    <tr>\n",
       "      <th>1</th>\n",
       "      <td>BCO</td>\n",
       "      <td>BridgeCoin</td>\n",
       "    </tr>\n",
       "    <tr>\n",
       "      <th>2</th>\n",
       "      <td>DNA</td>\n",
       "      <td>EncrypGen</td>\n",
       "    </tr>\n",
       "    <tr>\n",
       "      <th>3</th>\n",
       "      <td>ETC</td>\n",
       "      <td>Ethereum Classic</td>\n",
       "    </tr>\n",
       "    <tr>\n",
       "      <th>4</th>\n",
       "      <td>PPP</td>\n",
       "      <td>PayPie</td>\n",
       "    </tr>\n",
       "    <tr>\n",
       "      <th>5</th>\n",
       "      <td>SALT</td>\n",
       "      <td>SALT</td>\n",
       "    </tr>\n",
       "    <tr>\n",
       "      <th>6</th>\n",
       "      <td>ZIL</td>\n",
       "      <td>Zilliqa</td>\n",
       "    </tr>\n",
       "    <tr>\n",
       "      <th>7</th>\n",
       "      <td>ADST</td>\n",
       "      <td>AdShares</td>\n",
       "    </tr>\n",
       "    <tr>\n",
       "      <th>8</th>\n",
       "      <td>NLG</td>\n",
       "      <td>Gulden</td>\n",
       "    </tr>\n",
       "    <tr>\n",
       "      <th>9</th>\n",
       "      <td>AST</td>\n",
       "      <td>AirSwap</td>\n",
       "    </tr>\n",
       "    <tr>\n",
       "      <th>10</th>\n",
       "      <td>BCD</td>\n",
       "      <td>Bitcoin Diamond</td>\n",
       "    </tr>\n",
       "    <tr>\n",
       "      <th>11</th>\n",
       "      <td>TRX</td>\n",
       "      <td>TRON</td>\n",
       "    </tr>\n",
       "    <tr>\n",
       "      <th>12</th>\n",
       "      <td>GAT</td>\n",
       "      <td>Gatcoin</td>\n",
       "    </tr>\n",
       "    <tr>\n",
       "      <th>13</th>\n",
       "      <td>ACAT</td>\n",
       "      <td>Alphacat</td>\n",
       "    </tr>\n",
       "    <tr>\n",
       "      <th>14</th>\n",
       "      <td>NEO</td>\n",
       "      <td>NEO</td>\n",
       "    </tr>\n",
       "  </tbody>\n",
       "</table>\n",
       "</div>"
      ],
      "text/plain": [
       "   ticker              name\n",
       "0     ZRX                0x\n",
       "1     BCO        BridgeCoin\n",
       "2     DNA         EncrypGen\n",
       "3     ETC  Ethereum Classic\n",
       "4     PPP            PayPie\n",
       "5    SALT              SALT\n",
       "6     ZIL           Zilliqa\n",
       "7    ADST          AdShares\n",
       "8     NLG            Gulden\n",
       "9     AST           AirSwap\n",
       "10    BCD   Bitcoin Diamond\n",
       "11    TRX              TRON\n",
       "12    GAT           Gatcoin\n",
       "13   ACAT          Alphacat\n",
       "14    NEO               NEO"
      ]
     },
     "execution_count": 21,
     "metadata": {},
     "output_type": "execute_result"
    }
   ],
   "source": [
    "names"
   ]
  },
  {
   "cell_type": "code",
   "execution_count": null,
   "metadata": {
    "collapsed": true
   },
   "outputs": [],
   "source": []
  }
 ],
 "metadata": {
  "anaconda-cloud": {},
  "kernelspec": {
   "display_name": "Python 3",
   "language": "python",
   "name": "python3"
  },
  "language_info": {
   "codemirror_mode": {
    "name": "ipython",
    "version": 3
   },
   "file_extension": ".py",
   "mimetype": "text/x-python",
   "name": "python",
   "nbconvert_exporter": "python",
   "pygments_lexer": "ipython3",
   "version": "3.5.2"
  }
 },
 "nbformat": 4,
 "nbformat_minor": 1
}
