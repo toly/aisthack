{
 "cells": [
  {
   "cell_type": "markdown",
   "metadata": {
    "toc": true
   },
   "source": [
    "<h1>Table of Contents<span class=\"tocSkip\"></span></h1>\n",
    "<div class=\"toc\" style=\"margin-top: 1em;\"><ul class=\"toc-item\"><li><span><a href=\"#fasttext-models\" data-toc-modified-id=\"fasttext-models-1\"><span class=\"toc-item-num\">1&nbsp;&nbsp;</span>fasttext models</a></span></li><li><span><a href=\"#networks\" data-toc-modified-id=\"networks-2\"><span class=\"toc-item-num\">2&nbsp;&nbsp;</span>networks</a></span></li></ul></div>"
   ]
  },
  {
   "cell_type": "code",
   "execution_count": 26,
   "metadata": {},
   "outputs": [
    {
     "name": "stdout",
     "output_type": "stream",
     "text": [
      "The autoreload extension is already loaded. To reload it, use:\n",
      "  %reload_ext autoreload\n"
     ]
    }
   ],
   "source": [
    "%load_ext autoreload\n",
    "%autoreload 2"
   ]
  },
  {
   "cell_type": "code",
   "execution_count": 27,
   "metadata": {
    "ExecuteTime": {
     "end_time": "2018-07-06T09:35:32.927211Z",
     "start_time": "2018-07-06T09:35:32.904387Z"
    }
   },
   "outputs": [],
   "source": [
    "import os\n",
    "import numpy as np\n",
    "import pandas as pd\n",
    "import pickle\n",
    "\n",
    "from gensim.models.fasttext import FastText\n",
    "from keras.models import Sequential, Model\n",
    "from keras.layers import Dense, Embedding, Input, Concatenate, Reshape, LSTM, GRU\n",
    "from keras.optimizers import Adam\n",
    "from keras.preprocessing.text import text_to_word_sequence\n",
    "\n",
    "from sklearn.metrics import roc_curve, roc_auc_score\n",
    "from sklearn.cluster import KMeans\n",
    "from sklearn.manifold import TSNE\n",
    "\n",
    "from hyperopt import fmin, tpe, hp, STATUS_OK, Trials\n",
    "import hyperopt.pyll.stochastic\n",
    "\n",
    "from statsmodels.tsa.stattools import adfuller\n",
    "\n",
    "import matplotlib.pyplot as plt\n",
    "# !pip3.6 install pydot\n",
    "\n",
    "from keras.utils import plot_model\n",
    "from IPython.display import SVG\n",
    "from keras.utils.vis_utils import model_to_dot\n",
    "\n",
    "%matplotlib inline"
   ]
  },
  {
   "cell_type": "markdown",
   "metadata": {},
   "source": [
    "# fasttext models"
   ]
  },
  {
   "cell_type": "code",
   "execution_count": 3,
   "metadata": {
    "ExecuteTime": {
     "end_time": "2018-07-06T09:05:29.576292Z",
     "start_time": "2018-07-06T09:05:25.500344Z"
    }
   },
   "outputs": [],
   "source": [
    "data_type = 'news'\n",
    "df_chats_raw = pd.read_csv('../data/clean_{0}.csv'.format(data_type))\n",
    "\n",
    "if not 'timestamp' in df_chats_raw.columns:\n",
    "    df_chats_raw.rename(columns={'date':'timestamp'}, inplace=True)#.head()#['timestamp']"
   ]
  },
  {
   "cell_type": "code",
   "execution_count": 4,
   "metadata": {
    "ExecuteTime": {
     "end_time": "2018-07-06T09:05:29.583790Z",
     "start_time": "2018-07-06T09:05:29.579243Z"
    }
   },
   "outputs": [],
   "source": [
    "class SentenceIterator(object):\n",
    "    texts = None\n",
    "\n",
    "    def __init__(self, texts):\n",
    "        self.texts = texts\n",
    "\n",
    "    def __iter__(self):\n",
    "        for text in self.texts:\n",
    "            yield text_to_word_sequence(text, lower=False)"
   ]
  },
  {
   "cell_type": "code",
   "execution_count": 5,
   "metadata": {
    "ExecuteTime": {
     "end_time": "2018-07-06T09:25:56.515184Z",
     "start_time": "2018-07-06T09:25:56.507458Z"
    }
   },
   "outputs": [],
   "source": [
    "def build_fasttext(size=100):\n",
    "    path = '../data/fasttext_{0}_{1}.pkl'.format(data_type, size)\n",
    "    if os.path.exists(path):\n",
    "        m = FastText.load(path)\n",
    "    else:\n",
    "        m = FastText(SentenceIterator(df_chats_raw['clean_text']), min_count=5, size=size, workers=-1)\n",
    "        m.save(path)\n",
    "    return m"
   ]
  },
  {
   "cell_type": "code",
   "execution_count": 6,
   "metadata": {
    "ExecuteTime": {
     "end_time": "2018-07-06T09:25:58.273060Z",
     "start_time": "2018-07-06T09:25:58.265548Z"
    }
   },
   "outputs": [],
   "source": [
    "def text2vec(text, m=None, size=None):\n",
    "    vectors = []\n",
    "    for word in text_to_word_sequence(text):\n",
    "        try:\n",
    "            v = m.wv[word]\n",
    "            vectors.append(v)\n",
    "        except Exception as e:\n",
    "            pass\n",
    "    if not vectors:\n",
    "        return np.zeros((size, ))\n",
    "    return sum(vectors) / len(vectors)"
   ]
  },
  {
   "cell_type": "code",
   "execution_count": 7,
   "metadata": {
    "ExecuteTime": {
     "end_time": "2018-07-06T09:26:01.868804Z",
     "start_time": "2018-07-06T09:26:01.862321Z"
    }
   },
   "outputs": [],
   "source": [
    "def build_vectors(texts, size=None):\n",
    "    t_model = build_fasttext(size)\n",
    "    vectors = list(map(lambda x: text2vec(x, m=t_model, size=size), texts))\n",
    "    return np.array(vectors)"
   ]
  },
  {
   "cell_type": "markdown",
   "metadata": {},
   "source": [
    "# networks"
   ]
  },
  {
   "cell_type": "code",
   "execution_count": 8,
   "metadata": {
    "ExecuteTime": {
     "end_time": "2018-07-06T09:05:43.802284Z",
     "start_time": "2018-07-06T09:05:43.797519Z"
    }
   },
   "outputs": [],
   "source": [
    "TICKER = 'ETH'"
   ]
  },
  {
   "cell_type": "code",
   "execution_count": 9,
   "metadata": {
    "ExecuteTime": {
     "end_time": "2018-07-06T09:05:45.420756Z",
     "start_time": "2018-07-06T09:05:44.902276Z"
    }
   },
   "outputs": [],
   "source": [
    "df_prices_raw = pd.read_csv('../data/train/tickers_train.csv', index_col=0)"
   ]
  },
  {
   "cell_type": "code",
   "execution_count": 10,
   "metadata": {},
   "outputs": [],
   "source": [
    "df_prices_raw['timestamp'] = pd.to_datetime(df_prices_raw['datetime']).apply(lambda x: x.timestamp())"
   ]
  },
  {
   "cell_type": "code",
   "execution_count": 11,
   "metadata": {
    "ExecuteTime": {
     "end_time": "2018-07-06T09:05:48.080936Z",
     "start_time": "2018-07-06T09:05:48.043275Z"
    }
   },
   "outputs": [],
   "source": [
    "df_prices = df_prices_raw[df_prices_raw['ticker'] == TICKER].copy()"
   ]
  },
  {
   "cell_type": "code",
   "execution_count": 12,
   "metadata": {
    "ExecuteTime": {
     "end_time": "2018-07-06T09:06:25.338072Z",
     "start_time": "2018-07-06T09:06:24.574567Z"
    }
   },
   "outputs": [
    {
     "name": "stdout",
     "output_type": "stream",
     "text": [
      "df_chats.shape : (785, 11)\n"
     ]
    }
   ],
   "source": [
    "df_chats = df_chats_raw[df_chats_raw['clean_text'].str.contains(TICKER.lower())].copy()\n",
    "print('df_chats.shape :', df_chats.shape)"
   ]
  },
  {
   "cell_type": "code",
   "execution_count": 13,
   "metadata": {
    "ExecuteTime": {
     "end_time": "2018-07-06T09:25:08.068689Z",
     "start_time": "2018-07-06T09:25:08.040741Z"
    }
   },
   "outputs": [],
   "source": [
    "if 'chat_id' in df_chats.columns:\n",
    "    chat_ids = list(df_chats['chat_id'].unique())\n",
    "    chat_ids.sort()\n",
    "    chat2ind = {chat_id: i for i, chat_id in enumerate(chat_ids)}\n",
    "    df_chats['chat_ind'] = df_chats['chat_id'].apply(lambda x: chat2ind[x])\n",
    "else:\n",
    "    chat2ind = None\n",
    "\n",
    "if 'sender_id' in df_chats.columns:\n",
    "    sender_ids = list(df_chats['sender_id'].unique())\n",
    "    sender_ids.sort()\n",
    "    sender2ind = {sender_id: i for i, sender_id in enumerate(sender_ids)}\n",
    "    df_chats['sender_ind'] = df_chats['sender_id'].apply(lambda x: sender2ind[x])\n",
    "else:\n",
    "    sender2ind = None"
   ]
  },
  {
   "cell_type": "code",
   "execution_count": null,
   "metadata": {
    "ExecuteTime": {
     "end_time": "2018-07-06T09:25:08.159710Z",
     "start_time": "2018-07-06T09:25:08.072400Z"
    }
   },
   "outputs": [],
   "source": []
  },
  {
   "cell_type": "code",
   "execution_count": 14,
   "metadata": {},
   "outputs": [],
   "source": [
    "df_chats['ind'] = list(range(df_chats.shape[0]))"
   ]
  },
  {
   "cell_type": "code",
   "execution_count": 15,
   "metadata": {
    "ExecuteTime": {
     "end_time": "2018-07-06T09:30:59.535142Z",
     "start_time": "2018-07-06T09:26:10.782666Z"
    }
   },
   "outputs": [],
   "source": [
    "vectors100 = build_vectors(df_chats['clean_text'], size=100)"
   ]
  },
  {
   "cell_type": "code",
   "execution_count": 16,
   "metadata": {
    "ExecuteTime": {
     "end_time": "2018-07-06T09:35:32.880874Z",
     "start_time": "2018-07-06T09:30:59.537775Z"
    }
   },
   "outputs": [],
   "source": [
    "vectors160 = build_vectors(df_chats['clean_text'], size=160)"
   ]
  },
  {
   "cell_type": "code",
   "execution_count": 17,
   "metadata": {},
   "outputs": [],
   "source": [
    "vectors60 = build_vectors(df_chats['clean_text'], size=60)"
   ]
  },
  {
   "cell_type": "code",
   "execution_count": 18,
   "metadata": {
    "ExecuteTime": {
     "end_time": "2018-07-06T09:35:32.900895Z",
     "start_time": "2018-07-06T09:35:32.883607Z"
    }
   },
   "outputs": [],
   "source": [
    "def build_dataset(samples=5, steps=32, vectors=None):\n",
    "    \n",
    "    target_min_up=1.1\n",
    "    target_max_down=0.95\n",
    "    hours_before=48\n",
    "    hours_after=48\n",
    "    \n",
    "    np.random.seed(0)\n",
    "    \n",
    "    inp_fasttext = []\n",
    "    inp_chat_ind = []\n",
    "    inp_sender_ind = []\n",
    "    inp_timedelta_log = []\n",
    "    out_target = [] # grow more than 0.66 quantile, not drawdown less 0.33 quantile in period 48 hours\n",
    "    \n",
    "    for i, row in df_prices.iterrows():\n",
    "        ts = row['timestamp']\n",
    "        if df_chats[\n",
    "                (df_chats['timestamp'] > ts - hours_before * 3600) & \n",
    "                (df_chats['timestamp'] < ts)].shape[0] == 0:\n",
    "            continue\n",
    "\n",
    "        for sample in range(samples):\n",
    "            ts = row['timestamp']\n",
    "\n",
    "#             print(ts - hours_before * 3600, ts, hours_before)\n",
    "            df_chats_sample = df_chats[\n",
    "                (df_chats['timestamp'] > ts - hours_before * 3600) & \n",
    "                (df_chats['timestamp'] < ts)].sample(steps, replace=True)\n",
    "            df_chats_sample['timedelta'] = np.log(-(df_chats_sample['timestamp'] - ts))\n",
    "\n",
    "            chat_indexes = df_chats_sample['ind'].values\n",
    "\n",
    "            batch_fasttext = vectors[chat_indexes]\n",
    "            batch_timedelta = df_chats_sample['timedelta'].values\n",
    "\n",
    "            if not chat2ind is None:\n",
    "                batch_chat_ind = df_chats.iloc[chat_indexes]['chat_ind'].values\n",
    "                inp_chat_ind.append(batch_chat_ind)\n",
    "\n",
    "            if not sender2ind is None:\n",
    "                batch_sender_ind = df_chats.iloc[chat_indexes]['sender_ind'].values\n",
    "                inp_sender_ind.append(batch_sender_ind)\n",
    "\n",
    "            df_prices_forward = df_prices[\n",
    "                (df_prices['timestamp'] > ts) & \n",
    "                (df_prices['timestamp'] <= ts + hours_after * 3600)].copy()\n",
    "            df_prices_forward = df_prices_forward.sort_values('timestamp')\n",
    "\n",
    "            if df_prices_forward.shape[0] < int(hours_after / 2):\n",
    "                continue\n",
    "            df_prices_forward['priceUsd'] /= df_prices_forward['priceUsd'].values[0]\n",
    "\n",
    "            target = False\n",
    "            for price_relative in df_prices_forward['priceUsd'].values:\n",
    "                if price_relative < target_max_down:\n",
    "                    target = False\n",
    "                    break\n",
    "                if price_relative > target_min_up:\n",
    "                    target = True\n",
    "                    break\n",
    "\n",
    "            inp_fasttext.append(batch_fasttext)\n",
    "#             inp_chat_ind.append(batch_chat_ind)\n",
    "#             inp_sender_ind.append(batch_sender_ind)\n",
    "            inp_timedelta_log.append(batch_timedelta)\n",
    "            out_target.append(target)\n",
    "    \n",
    "    inp_fasttext = np.array(inp_fasttext)\n",
    "    inp_chat_ind = np.array(inp_chat_ind)\n",
    "    inp_sender_ind = np.array(inp_sender_ind)\n",
    "    inp_timedelta_log = np.array(inp_timedelta_log)\n",
    "\n",
    "    out_target = np.array(out_target)\n",
    "    \n",
    "    inp_chat_ind = np.expand_dims(inp_chat_ind, 2)\n",
    "    inp_sender_ind = np.expand_dims(inp_sender_ind, 2)\n",
    "    inp_timedelta_log = np.expand_dims(inp_timedelta_log, 2)\n",
    "\n",
    "    test_size = int(inp_fasttext.shape[0] * 0.1)\n",
    "    \n",
    "    X_train = [inp_fasttext[:-test_size]]\\\n",
    "        + ([] if chat2ind is None else inp_chat_ind[:-test_size])\\\n",
    "        + ([] if sender2ind is None else inp_sender_ind[:-test_size])\\\n",
    "        + [inp_timedelta_log[:-test_size]]\n",
    "\n",
    "    Y_train = out_target[:-test_size]\n",
    "    validation_data=[\n",
    "\n",
    "        [inp_fasttext[-test_size:]]\n",
    "        + ([] if chat2ind is None else inp_chat_ind[-test_size:])\\\n",
    "        + ([] if sender2ind is None else inp_sender_ind[-test_size:])\\\n",
    "        + [inp_timedelta_log[-test_size:]],\n",
    "\n",
    "        out_target[-test_size:]\n",
    "\n",
    "    ]\n",
    "    \n",
    "    return X_train, Y_train, validation_data\n",
    "\n",
    "# X1, Y1, val1 = build_dataset(samples=5, steps=32, vectors=vectors100)\n",
    "# # # 1519689600.0 1519862400.0 48\n",
    "# ts = 1519862400.0\n",
    "# hours_before = 48\n",
    "# steps=32\n",
    "# # df_chats[(df_chats['timestamp'] > ts - hours_before * 3600) &\n",
    "# #     (df_chats['timestamp'] < ts)].sample(steps, replace=True)\n",
    "# # df = pd.DataFrame(np.random.randn(50, 4), columns=list('ABCD'))\n",
    "# print(df.head())\n",
    "# print(df.sample(n=2, replace=True))\n",
    "# print(df.head())"
   ]
  },
  {
   "cell_type": "code",
   "execution_count": 41,
   "metadata": {},
   "outputs": [
    {
     "data": {
      "image/svg+xml": [
       "<svg height=\"410pt\" viewBox=\"0.00 0.00 559.50 410.00\" width=\"560pt\" xmlns=\"http://www.w3.org/2000/svg\" xmlns:xlink=\"http://www.w3.org/1999/xlink\">\n",
       "<g class=\"graph\" id=\"graph0\" transform=\"scale(1 1) rotate(0) translate(4 406)\">\n",
       "<title>G</title>\n",
       "<polygon fill=\"white\" points=\"-4,4 -4,-406 555.5,-406 555.5,4 -4,4\" stroke=\"none\"/>\n",
       "<!-- 140162917478016 -->\n",
       "<g class=\"node\" id=\"node1\"><title>140162917478016</title>\n",
       "<polygon fill=\"none\" points=\"0,-365.5 0,-401.5 269,-401.5 269,-365.5 0,-365.5\" stroke=\"black\"/>\n",
       "<text font-family=\"Times,serif\" font-size=\"14.00\" text-anchor=\"middle\" x=\"134.5\" y=\"-379.8\">inp_layer_fasttext_100: InputLayer</text>\n",
       "</g>\n",
       "<!-- 140162917474544 -->\n",
       "<g class=\"node\" id=\"node3\"><title>140162917474544</title>\n",
       "<polygon fill=\"none\" points=\"161.5,-292.5 161.5,-328.5 391.5,-328.5 391.5,-292.5 161.5,-292.5\" stroke=\"black\"/>\n",
       "<text font-family=\"Times,serif\" font-size=\"14.00\" text-anchor=\"middle\" x=\"276.5\" y=\"-306.8\">concatenate_10: Concatenate</text>\n",
       "</g>\n",
       "<!-- 140162917478016&#45;&gt;140162917474544 -->\n",
       "<g class=\"edge\" id=\"edge1\"><title>140162917478016-&gt;140162917474544</title>\n",
       "<path d=\"M168.513,-365.494C187.953,-355.773 212.527,-343.487 233.319,-333.09\" fill=\"none\" stroke=\"black\"/>\n",
       "<polygon fill=\"black\" points=\"234.894,-336.216 242.273,-328.614 231.763,-329.955 234.894,-336.216\" stroke=\"black\"/>\n",
       "</g>\n",
       "<!-- 140162917478352 -->\n",
       "<g class=\"node\" id=\"node2\"><title>140162917478352</title>\n",
       "<polygon fill=\"none\" points=\"287.5,-365.5 287.5,-401.5 551.5,-401.5 551.5,-365.5 287.5,-365.5\" stroke=\"black\"/>\n",
       "<text font-family=\"Times,serif\" font-size=\"14.00\" text-anchor=\"middle\" x=\"419.5\" y=\"-379.8\">inp_layer_timedelta_1: InputLayer</text>\n",
       "</g>\n",
       "<!-- 140162917478352&#45;&gt;140162917474544 -->\n",
       "<g class=\"edge\" id=\"edge2\"><title>140162917478352-&gt;140162917474544</title>\n",
       "<path d=\"M385.248,-365.494C365.67,-355.773 340.924,-343.487 319.985,-333.09\" fill=\"none\" stroke=\"black\"/>\n",
       "<polygon fill=\"black\" points=\"321.481,-329.926 310.968,-328.614 318.368,-336.196 321.481,-329.926\" stroke=\"black\"/>\n",
       "</g>\n",
       "<!-- 140162917475104 -->\n",
       "<g class=\"node\" id=\"node4\"><title>140162917475104</title>\n",
       "<polygon fill=\"none\" points=\"218.5,-219.5 218.5,-255.5 334.5,-255.5 334.5,-219.5 218.5,-219.5\" stroke=\"black\"/>\n",
       "<text font-family=\"Times,serif\" font-size=\"14.00\" text-anchor=\"middle\" x=\"276.5\" y=\"-233.8\">lstm_9: LSTM</text>\n",
       "</g>\n",
       "<!-- 140162917474544&#45;&gt;140162917475104 -->\n",
       "<g class=\"edge\" id=\"edge3\"><title>140162917474544-&gt;140162917475104</title>\n",
       "<path d=\"M276.5,-292.313C276.5,-284.289 276.5,-274.547 276.5,-265.569\" fill=\"none\" stroke=\"black\"/>\n",
       "<polygon fill=\"black\" points=\"280,-265.529 276.5,-255.529 273,-265.529 280,-265.529\" stroke=\"black\"/>\n",
       "</g>\n",
       "<!-- 140162917476840 -->\n",
       "<g class=\"node\" id=\"node5\"><title>140162917476840</title>\n",
       "<polygon fill=\"none\" points=\"166.5,-146.5 166.5,-182.5 294.5,-182.5 294.5,-146.5 166.5,-146.5\" stroke=\"black\"/>\n",
       "<text font-family=\"Times,serif\" font-size=\"14.00\" text-anchor=\"middle\" x=\"230.5\" y=\"-160.8\">dense_9: Dense</text>\n",
       "</g>\n",
       "<!-- 140162917475104&#45;&gt;140162917476840 -->\n",
       "<g class=\"edge\" id=\"edge4\"><title>140162917475104-&gt;140162917476840</title>\n",
       "<path d=\"M265.365,-219.313C259.884,-210.853 253.165,-200.484 247.094,-191.112\" fill=\"none\" stroke=\"black\"/>\n",
       "<polygon fill=\"black\" points=\"249.908,-189.018 241.533,-182.529 244.033,-192.824 249.908,-189.018\" stroke=\"black\"/>\n",
       "</g>\n",
       "<!-- 140162930110360 -->\n",
       "<g class=\"node\" id=\"node6\"><title>140162930110360</title>\n",
       "<polygon fill=\"none\" points=\"161.5,-73.5 161.5,-109.5 391.5,-109.5 391.5,-73.5 161.5,-73.5\" stroke=\"black\"/>\n",
       "<text font-family=\"Times,serif\" font-size=\"14.00\" text-anchor=\"middle\" x=\"276.5\" y=\"-87.8\">concatenate_11: Concatenate</text>\n",
       "</g>\n",
       "<!-- 140162917475104&#45;&gt;140162930110360 -->\n",
       "<g class=\"edge\" id=\"edge5\"><title>140162917475104-&gt;140162930110360</title>\n",
       "<path d=\"M287.687,-219.466C293.666,-209.33 300.416,-195.955 303.5,-183 307.308,-167.003 307.308,-161.997 303.5,-146 301.259,-136.587 297.083,-126.953 292.674,-118.5\" fill=\"none\" stroke=\"black\"/>\n",
       "<polygon fill=\"black\" points=\"295.606,-116.572 287.687,-109.534 289.489,-119.974 295.606,-116.572\" stroke=\"black\"/>\n",
       "</g>\n",
       "<!-- 140162917476840&#45;&gt;140162930110360 -->\n",
       "<g class=\"edge\" id=\"edge6\"><title>140162917476840-&gt;140162930110360</title>\n",
       "<path d=\"M241.635,-146.313C247.116,-137.853 253.835,-127.484 259.906,-118.112\" fill=\"none\" stroke=\"black\"/>\n",
       "<polygon fill=\"black\" points=\"262.967,-119.824 265.467,-109.529 257.092,-116.018 262.967,-119.824\" stroke=\"black\"/>\n",
       "</g>\n",
       "<!-- 140162929932440 -->\n",
       "<g class=\"node\" id=\"node7\"><title>140162929932440</title>\n",
       "<polygon fill=\"none\" points=\"208,-0.5 208,-36.5 345,-36.5 345,-0.5 208,-0.5\" stroke=\"black\"/>\n",
       "<text font-family=\"Times,serif\" font-size=\"14.00\" text-anchor=\"middle\" x=\"276.5\" y=\"-14.8\">dense_10: Dense</text>\n",
       "</g>\n",
       "<!-- 140162930110360&#45;&gt;140162929932440 -->\n",
       "<g class=\"edge\" id=\"edge7\"><title>140162930110360-&gt;140162929932440</title>\n",
       "<path d=\"M276.5,-73.3129C276.5,-65.2895 276.5,-55.5475 276.5,-46.5691\" fill=\"none\" stroke=\"black\"/>\n",
       "<polygon fill=\"black\" points=\"280,-46.5288 276.5,-36.5288 273,-46.5289 280,-46.5288\" stroke=\"black\"/>\n",
       "</g>\n",
       "</g>\n",
       "</svg>"
      ],
      "text/plain": [
       "<IPython.core.display.SVG object>"
      ]
     },
     "execution_count": 41,
     "metadata": {},
     "output_type": "execute_result"
    }
   ],
   "source": [
    "def build_nn(sender_size=128, chat_size=4, STEPS=None, lr=0.0001, fasttext_size=100):\n",
    "\n",
    "    SENDER_EMBEDDING_SIZE = sender_size\n",
    "    CHAT_EMBEDDING_SIZE = chat_size\n",
    "\n",
    "    inp_layer_fasttext = Input(shape=(STEPS, fasttext_size, ), name='inp_layer_fasttext_{0}'.format(fasttext_size))\n",
    "    # inp_layer_sender_bot = Input(shape=(STEPS, 1, ), name='inp_layer_sender_bot')\n",
    "\n",
    "    inp_layer_timedelta = Input(shape=(STEPS, 1, ), name='inp_layer_timedelta_{0}'.format(1))\n",
    "\n",
    "    common_layer = Concatenate(axis=-1)([\n",
    "        inp_layer_fasttext, inp_layer_timedelta])\n",
    "\n",
    "    if not chat2ind is None:\n",
    "        inp_layer_chat = Input(shape=(STEPS, 1, ), name='inp_layer_chat')\n",
    "        chat_embedding = Embedding(len(chat2ind), CHAT_EMBEDDING_SIZE)(inp_layer_chat)\n",
    "        chat_embedding = Reshape((STEPS, CHAT_EMBEDDING_SIZE))(chat_embedding)\n",
    "        common_layer = Concatenate(axis=-1)([common_layer, chat_embedding])\n",
    "\n",
    "    if not sender2ind is None:\n",
    "        inp_layer_sender = Input(shape=(STEPS, 1, ), name='inp_layer_sender')\n",
    "        sender_embedding = Embedding(len(sender2ind), SENDER_EMBEDDING_SIZE)(inp_layer_sender)\n",
    "        sender_embedding = Reshape((STEPS, SENDER_EMBEDDING_SIZE))(sender_embedding)\n",
    "        common_layer = Concatenate(axis=-1)([common_layer, sender_embedding])\n",
    "        \n",
    "#     common_layer = Concatenate(axis=-1)([\n",
    "#         inp_layer_fasttext, chat_embedding, sender_embedding, inp_layer_timedelta])\n",
    "    \n",
    "#     lstm = LSTM(8)(common_layer)\n",
    "#     # lstm = LSTM(8)(lstm)\n",
    "\n",
    "    lstm_in = LSTM(32)(common_layer)\n",
    "    # lstm = LSTM(8)(lstm)\n",
    "\n",
    "    dense_0 = Dense(16, activation='relu')(lstm_in)\n",
    "    common_layer_out = Concatenate(axis=-1)([lstm_in, dense_0])\n",
    "\n",
    "#     lstm_0 = Conv2D((3.3))(lstm_in)\n",
    "#     common_layer_out = Concatenate(axis=-1)([lstm_in, dense_0])\n",
    "    \n",
    "    dense_out = Dense(1, activation='sigmoid')(common_layer_out)\n",
    "\n",
    "    model = Model( inputs=[inp_layer_fasttext, inp_layer_timedelta]\n",
    "                            + [] if chat2ind is None else [inp_layer_chat]\n",
    "                            + [] if sender2ind is None else [inp_layer_sender]\n",
    "                    , outputs=dense_out\n",
    "                )\n",
    "\n",
    "    opt = Adam(lr=lr)\n",
    "    model.compile(optimizer=opt, loss='binary_crossentropy', metrics=['accuracy'])\n",
    "    \n",
    "    return model\n",
    "# keras.layers.Conv2D(filters, kernel_size, strides=(1, 1), padding='valid', data_format=None, dilation_rate=(1, 1), activation=None, use_bias=True, kernel_initializer='glorot_uniform', bias_initializer='zeros', kernel_regularizer=None, bias_regularizer=None, activity_regularizer=None, kernel_constraint=None, bias_constraint=None)\n",
    "# from keras.layers import Conv2D\n",
    "\n",
    "# model.compile(optimizer='sgd', loss='binary_crossentropy')\n",
    "model = build_nn(sender_size=128, chat_size=4, STEPS=32, lr=0.0001, fasttext_size=100)\n",
    "# plot_model(model, to_file='model.png')\n",
    "SVG(model_to_dot(model).create(prog='dot', format='svg'))"
   ]
  },
  {
   "cell_type": "code",
   "execution_count": null,
   "metadata": {},
   "outputs": [],
   "source": [
    "%%time \n",
    "\n",
    "np.random.seed(0)\n",
    "\n",
    "model = build_nn(sender_size=128, chat_size=4, STEPS=32, lr=0.0001, fasttext_size=100)\n",
    "X1, Y1, val1 = build_dataset(samples=5, steps=32, vectors=vectors100)\n",
    "model.fit(X1, Y1, validation_data=val1, epochs=20, verbose=0)"
   ]
  },
  {
   "cell_type": "code",
   "execution_count": 43,
   "metadata": {},
   "outputs": [
    {
     "data": {
      "image/png": "[encoded data removed]",
      "text/plain": [
       "<Figure size 432x288 with 1 Axes>"
      ]
     },
     "metadata": {},
     "output_type": "display_data"
    }
   ],
   "source": [
    "def model_report(model, val1):\n",
    "    y_pred = model.predict(val1[0])\n",
    "    model_roc_auc_score = roc_auc_score(val1[1], y_pred)\n",
    "    # print('roc_auc = {0}'.format(model_roc_auc_score))\n",
    "\n",
    "    plt.plot(model.history.history['loss'], label='loss')\n",
    "    plt.plot(model.history.history['val_loss'], label='val_loss')\n",
    "    plt.title(model_roc_auc_score)\n",
    "    plt.legend()\n",
    "    plt.show()\n",
    "model_report(model, val1)"
   ]
  },
  {
   "cell_type": "code",
   "execution_count": 44,
   "metadata": {},
   "outputs": [
    {
     "name": "stderr",
     "output_type": "stream",
     "text": [
      "/usr/local/lib/python3.6/dist-packages/ipykernel_launcher.py:76: DeprecationWarning: Both axis > a.ndim and axis < -a.ndim - 1 are deprecated and will raise an AxisError in the future.\n",
      "/usr/local/lib/python3.6/dist-packages/ipykernel_launcher.py:77: DeprecationWarning: Both axis > a.ndim and axis < -a.ndim - 1 are deprecated and will raise an AxisError in the future.\n"
     ]
    },
    {
     "data": {
      "image/png": "[encoded data removed]",
      "text/plain": [
       "<Figure size 432x288 with 1 Axes>"
      ]
     },
     "metadata": {},
     "output_type": "display_data"
    },
    {
     "name": "stdout",
     "output_type": "stream",
     "text": [
      "CPU times: user 1min 22s, sys: 14.2 s, total: 1min 36s\n",
      "Wall time: 27.1 s\n"
     ]
    }
   ],
   "source": [
    "%%time \n",
    "\n",
    "np.random.seed(0)\n",
    "\n",
    "model = build_nn(sender_size=128, chat_size=4, STEPS=32, lr=0.0001, fasttext_size=160)\n",
    "X1, Y1, val1 = build_dataset(samples=5, steps=32, vectors=vectors160)\n",
    "model.fit(X1, Y1, validation_data=val1, epochs=20, verbose=0)\n",
    "\n",
    "model_report(model, val1)"
   ]
  },
  {
   "cell_type": "code",
   "execution_count": 45,
   "metadata": {},
   "outputs": [
    {
     "name": "stderr",
     "output_type": "stream",
     "text": [
      "/usr/local/lib/python3.6/dist-packages/ipykernel_launcher.py:76: DeprecationWarning: Both axis > a.ndim and axis < -a.ndim - 1 are deprecated and will raise an AxisError in the future.\n",
      "/usr/local/lib/python3.6/dist-packages/ipykernel_launcher.py:77: DeprecationWarning: Both axis > a.ndim and axis < -a.ndim - 1 are deprecated and will raise an AxisError in the future.\n"
     ]
    },
    {
     "data": {
      "image/png": "[encoded data removed]",
      "text/plain": [
       "<Figure size 432x288 with 1 Axes>"
      ]
     },
     "metadata": {},
     "output_type": "display_data"
    },
    {
     "name": "stdout",
     "output_type": "stream",
     "text": [
      "CPU times: user 1min 31s, sys: 15.1 s, total: 1min 46s\n",
      "Wall time: 28.3 s\n"
     ]
    }
   ],
   "source": [
    "%%time \n",
    "\n",
    "np.random.seed(0)\n",
    "\n",
    "model = build_nn(sender_size=128, chat_size=4, STEPS=32, lr=0.0001, fasttext_size=260)\n",
    "X1, Y1, val1 = build_dataset(samples=5, steps=32, vectors=np.concatenate([vectors100, vectors160], axis=1))\n",
    "model.fit(X1, Y1, validation_data=val1, epochs=20, verbose=0)\n",
    "\n",
    "model_report(model, val1)"
   ]
  },
  {
   "cell_type": "code",
   "execution_count": 46,
   "metadata": {},
   "outputs": [
    {
     "name": "stderr",
     "output_type": "stream",
     "text": [
      "/usr/local/lib/python3.6/dist-packages/ipykernel_launcher.py:76: DeprecationWarning: Both axis > a.ndim and axis < -a.ndim - 1 are deprecated and will raise an AxisError in the future.\n",
      "/usr/local/lib/python3.6/dist-packages/ipykernel_launcher.py:77: DeprecationWarning: Both axis > a.ndim and axis < -a.ndim - 1 are deprecated and will raise an AxisError in the future.\n"
     ]
    },
    {
     "data": {
      "image/png": "[encoded data removed]",
      "text/plain": [
       "<Figure size 432x288 with 1 Axes>"
      ]
     },
     "metadata": {},
     "output_type": "display_data"
    },
    {
     "name": "stdout",
     "output_type": "stream",
     "text": [
      "CPU times: user 1min 22s, sys: 14.5 s, total: 1min 37s\n",
      "Wall time: 27.7 s\n"
     ]
    }
   ],
   "source": [
    "%%time \n",
    "\n",
    "np.random.seed(0)\n",
    "\n",
    "model = build_nn(sender_size=128, chat_size=4, STEPS=32, lr=0.0001, fasttext_size=160)\n",
    "X1, Y1, val1 = build_dataset(samples=5, steps=32, vectors=np.concatenate([vectors100, vectors60], axis=1))\n",
    "model.fit(X1, Y1, validation_data=val1, epochs=20, verbose=0)\n",
    "\n",
    "model_report(model, val1)"
   ]
  },
  {
   "cell_type": "code",
   "execution_count": 47,
   "metadata": {},
   "outputs": [
    {
     "name": "stderr",
     "output_type": "stream",
     "text": [
      "/usr/local/lib/python3.6/dist-packages/ipykernel_launcher.py:76: DeprecationWarning: Both axis > a.ndim and axis < -a.ndim - 1 are deprecated and will raise an AxisError in the future.\n",
      "/usr/local/lib/python3.6/dist-packages/ipykernel_launcher.py:77: DeprecationWarning: Both axis > a.ndim and axis < -a.ndim - 1 are deprecated and will raise an AxisError in the future.\n"
     ]
    },
    {
     "data": {
      "image/png": "[encoded data removed]",
      "text/plain": [
       "<Figure size 432x288 with 1 Axes>"
      ]
     },
     "metadata": {},
     "output_type": "display_data"
    },
    {
     "name": "stdout",
     "output_type": "stream",
     "text": [
      "CPU times: user 1min 13s, sys: 13.6 s, total: 1min 27s\n",
      "Wall time: 26.5 s\n"
     ]
    }
   ],
   "source": [
    "%%time \n",
    "\n",
    "np.random.seed(0)\n",
    "\n",
    "model = build_nn(sender_size=128, chat_size=4, STEPS=32, lr=0.0001, fasttext_size=60)\n",
    "X1, Y1, val1 = build_dataset(samples=5, steps=32, vectors=vectors60)\n",
    "model.fit(X1, Y1, validation_data=val1, epochs=20, verbose=0)\n",
    "\n",
    "model_report(model, val1)"
   ]
  },
  {
   "cell_type": "code",
   "execution_count": 48,
   "metadata": {},
   "outputs": [],
   "source": [
    "with open('../data/train_test_{0}_U.pkl'.format(data_type), 'wb') as f:\n",
    "    f.write(pickle.dumps({\n",
    "        'x': X1,\n",
    "        'y': Y1,\n",
    "        'validation': val1,\n",
    "    }))"
   ]
  },
  {
   "cell_type": "markdown",
   "metadata": {},
   "source": [
    "# tune hyperparams"
   ]
  },
  {
   "cell_type": "code",
   "execution_count": 59,
   "metadata": {},
   "outputs": [],
   "source": [
    "space = {\n",
    "#     'sender_size': hp.choice('sender_size', list(range(8, 256))),\n",
    "#     'chat_size': hp.choice('chat_size', list(range(2, 10))),\n",
    "    'sender_size': hp.choice('sender_size', [0]),\n",
    "    'chat_size': hp.choice('chat_size', [0]),\n",
    "    'steps': hp.choice('steps', [32, 64, 128]),\n",
    "    'lr': 10**hp.uniform('lr', -8, -2),\n",
    "    'samples': hp.choice('samples', list(range(1, 10))),\n",
    "}"
   ]
  },
  {
   "cell_type": "code",
   "execution_count": 60,
   "metadata": {},
   "outputs": [],
   "source": [
    "x = hyperopt.pyll.stochastic.sample(space)"
   ]
  },
  {
   "cell_type": "code",
   "execution_count": 61,
   "metadata": {},
   "outputs": [
    {
     "data": {
      "text/plain": [
       "{'chat_size': 0,\n",
       " 'lr': 5.353573095591712e-06,\n",
       " 'samples': 1,\n",
       " 'sender_size': 0,\n",
       " 'steps': 32}"
      ]
     },
     "execution_count": 61,
     "metadata": {},
     "output_type": "execute_result"
    }
   ],
   "source": [
    "x"
   ]
  },
  {
   "cell_type": "code",
   "execution_count": 62,
   "metadata": {},
   "outputs": [],
   "source": [
    "del x"
   ]
  },
  {
   "cell_type": "code",
   "execution_count": 63,
   "metadata": {},
   "outputs": [],
   "source": [
    "def objective(x):\n",
    "    \n",
    "    np.random.seed(0)\n",
    "    \n",
    "    print(x)\n",
    "    \n",
    "    model = build_nn(\n",
    "        sender_size=x['sender_size'], chat_size=x['chat_size'], STEPS=x['steps'], \n",
    "        lr=x['lr'], fasttext_size=100)\n",
    "    X1, Y1, val1 = build_dataset(samples=x['samples'], steps=x['steps'], vectors=vectors100)\n",
    "    model.fit(X1, Y1, validation_data=val1, epochs=20, verbose=0)\n",
    "    \n",
    "    y_pred = model.predict(val1[0])\n",
    "    score = roc_auc_score(val1[1], y_pred)\n",
    "    \n",
    "    print('roc_auc', score)\n",
    "    \n",
    "    return {'loss': -score, 'status': STATUS_OK}"
   ]
  },
  {
   "cell_type": "code",
   "execution_count": 66,
   "metadata": {},
   "outputs": [],
   "source": [
    "trials = Trials()"
   ]
  },
  {
   "cell_type": "code",
   "execution_count": null,
   "metadata": {},
   "outputs": [
    {
     "name": "stdout",
     "output_type": "stream",
     "text": [
      "{'chat_size': 0, 'lr': 2.5389651409503606e-08, 'samples': 2, 'sender_size': 0, 'steps': 32}\n"
     ]
    },
    {
     "name": "stderr",
     "output_type": "stream",
     "text": [
      "/usr/local/lib/python3.6/dist-packages/ipykernel_launcher.py:76: DeprecationWarning: Both axis > a.ndim and axis < -a.ndim - 1 are deprecated and will raise an AxisError in the future.\n",
      "/usr/local/lib/python3.6/dist-packages/ipykernel_launcher.py:77: DeprecationWarning: Both axis > a.ndim and axis < -a.ndim - 1 are deprecated and will raise an AxisError in the future.\n"
     ]
    },
    {
     "name": "stdout",
     "output_type": "stream",
     "text": [
      "roc_auc 0.3416666666666667\n",
      "{'chat_size': 0, 'lr': 0.0009845138599772058, 'samples': 3, 'sender_size': 0, 'steps': 64}\n",
      "roc_auc 0.6781767955801105\n",
      "{'chat_size': 0, 'lr': 0.00024484575874470416, 'samples': 5, 'sender_size': 0, 'steps': 64}\n",
      "roc_auc 0.8539735099337749\n",
      "{'chat_size': 0, 'lr': 5.32843823246512e-05, 'samples': 9, 'sender_size': 0, 'steps': 32}\n",
      "roc_auc 0.7936873337425824\n",
      "{'chat_size': 0, 'lr': 1.1025332574673645e-07, 'samples': 7, 'sender_size': 0, 'steps': 32}\n",
      "roc_auc 0.3990352064996614\n",
      "{'chat_size': 0, 'lr': 1.61992213641183e-06, 'samples': 5, 'sender_size': 0, 'steps': 64}\n",
      "roc_auc 0.29619205298013246\n",
      "{'chat_size': 0, 'lr': 0.0018025173586739141, 'samples': 5, 'sender_size': 0, 'steps': 32}\n",
      "roc_auc 0.7582781456953642\n",
      "{'chat_size': 0, 'lr': 0.002414996479563641, 'samples': 1, 'sender_size': 0, 'steps': 128}\n",
      "roc_auc 0.6791666666666667\n",
      "{'chat_size': 0, 'lr': 6.268296093751154e-05, 'samples': 2, 'sender_size': 0, 'steps': 64}\n",
      "roc_auc 0.7416666666666666\n",
      "{'chat_size': 0, 'lr': 6.261547891126478e-05, 'samples': 8, 'sender_size': 0, 'steps': 64}\n",
      "roc_auc 0.8328157349896481\n",
      "{'chat_size': 0, 'lr': 0.0004770536634334272, 'samples': 6, 'sender_size': 0, 'steps': 64}\n",
      "roc_auc 0.7927025782688768\n",
      "{'chat_size': 0, 'lr': 4.2284915525456995e-08, 'samples': 9, 'sender_size': 0, 'steps': 32}\n",
      "roc_auc 0.3225905463474524\n",
      "{'chat_size': 0, 'lr': 5.976199978397554e-07, 'samples': 3, 'sender_size': 0, 'steps': 128}\n",
      "roc_auc 0.38167587476979736\n",
      "{'chat_size': 0, 'lr': 0.0022000908276190567, 'samples': 8, 'sender_size': 0, 'steps': 64}\n"
     ]
    }
   ],
   "source": [
    "best = fmin(objective, space, algo=tpe.suggest, max_evals=20, trials=trials)"
   ]
  },
  {
   "cell_type": "code",
   "execution_count": null,
   "metadata": {},
   "outputs": [],
   "source": [
    "best"
   ]
  },
  {
   "cell_type": "code",
   "execution_count": null,
   "metadata": {},
   "outputs": [],
   "source": [
    "{'chat_size': 5, 'lr': 0.000033215565785761354, 'samples': 5, 'sender_size': 213, 'steps': 128}\n",
    "# roc_auc 0.7789987789987789"
   ]
  },
  {
   "cell_type": "code",
   "execution_count": null,
   "metadata": {},
   "outputs": [],
   "source": [
    "%%time \n",
    "\n",
    "np.random.seed(0)\n",
    "\n",
    "model = build_nn(sender_size=213, chat_size=5, STEPS=128, lr=0.00003, fasttext_size=100)\n",
    "X1, Y1, val1 = build_dataset(samples=5, steps=128, vectors=vectors100)\n",
    "model.fit(X1, Y1, validation_data=val1, epochs=20)\n",
    "\n",
    "plt.plot(model.history.history['loss'], label='loss')\n",
    "plt.plot(model.history.history['val_loss'], label='val_loss')\n",
    "plt.legend()\n",
    "plt.show()\n",
    "\n",
    "y_pred = model.predict(val1[0])\n",
    "score = roc_auc_score(val1[1], y_pred)\n",
    "\n",
    "print('roc auc', score)"
   ]
  },
  {
   "cell_type": "code",
   "execution_count": null,
   "metadata": {},
   "outputs": [],
   "source": [
    "fpr, tpr, thresholds = roc_curve(val1[1], y_pred)\n",
    "\n",
    "plt.plot(fpr, tpr)\n",
    "plt.plot([0, 1], [0, 1], color='navy', linestyle='--')\n",
    "plt.xlim([0.0, 1.0])\n",
    "plt.ylim([0.0, 1.05])\n",
    "plt.xlabel('False Positive Rate')\n",
    "plt.ylabel('True Positive Rate')\n",
    "plt.plot()"
   ]
  },
  {
   "cell_type": "code",
   "execution_count": null,
   "metadata": {},
   "outputs": [],
   "source": [
    "X2, Y2, val2 = build_dataset(samples=1, steps=128, vectors=vectors100)\n",
    "y2_pred = model.predict(val2[0])[:, 0]"
   ]
  },
  {
   "cell_type": "code",
   "execution_count": null,
   "metadata": {},
   "outputs": [],
   "source": [
    "for fp, tp, th in zip(fpr, tpr, thresholds):\n",
    "    if tp > 0.6:\n",
    "        print(th)\n",
    "        break"
   ]
  },
  {
   "cell_type": "code",
   "execution_count": null,
   "metadata": {},
   "outputs": [],
   "source": [
    "(y2_pred > th).astype(np.int).shape"
   ]
  },
  {
   "cell_type": "code",
   "execution_count": null,
   "metadata": {},
   "outputs": [],
   "source": [
    "(y2_pred > th).astype(np.int)"
   ]
  },
  {
   "cell_type": "code",
   "execution_count": null,
   "metadata": {},
   "outputs": [],
   "source": [
    "model.save('../data/model_{0}_eth.pkl'.format(data_type))"
   ]
  },
  {
   "cell_type": "markdown",
   "metadata": {},
   "source": [
    "# visualizations"
   ]
  },
  {
   "cell_type": "code",
   "execution_count": null,
   "metadata": {},
   "outputs": [],
   "source": [
    "e = model.layers[3]"
   ]
  },
  {
   "cell_type": "code",
   "execution_count": null,
   "metadata": {},
   "outputs": [],
   "source": [
    "weights = e.get_weights()[0]"
   ]
  },
  {
   "cell_type": "code",
   "execution_count": null,
   "metadata": {},
   "outputs": [],
   "source": [
    "weights.shape"
   ]
  },
  {
   "cell_type": "code",
   "execution_count": null,
   "metadata": {},
   "outputs": [],
   "source": [
    "tsne = TSNE()"
   ]
  },
  {
   "cell_type": "code",
   "execution_count": null,
   "metadata": {},
   "outputs": [],
   "source": [
    "%%time\n",
    "weights_tsne = tsne.fit_transform(weights)"
   ]
  },
  {
   "cell_type": "code",
   "execution_count": null,
   "metadata": {},
   "outputs": [],
   "source": [
    "plt.scatter(weights_tsne[:, 0], weights_tsne[:, 1], alpha=0.05)\n",
    "plt.show()"
   ]
  },
  {
   "cell_type": "code",
   "execution_count": null,
   "metadata": {},
   "outputs": [],
   "source": [
    "d = pd.DataFrame(weights_tsne, columns=['x', 'y'])"
   ]
  },
  {
   "cell_type": "code",
   "execution_count": null,
   "metadata": {},
   "outputs": [],
   "source": [
    "d['index'] = list(range(d.shape[0]))"
   ]
  },
  {
   "cell_type": "code",
   "execution_count": null,
   "metadata": {},
   "outputs": [],
   "source": [
    "center1 = [-10, 0]\n",
    "center2 = [-20, 40]"
   ]
  },
  {
   "cell_type": "code",
   "execution_count": null,
   "metadata": {},
   "outputs": [],
   "source": [
    "d1 = []\n",
    "d2 = []\n",
    "for i, row in d.iterrows():\n",
    "    d1.append((center1[0] - row['x']) ** 2 + (center1[1] - row['y']) ** 2)\n",
    "    d2.append((center2[0] - row['x']) ** 2 + (center2[1] - row['y']) ** 2)\n",
    "    \n",
    "d['d1'] = d1\n",
    "d['d2'] = d2"
   ]
  },
  {
   "cell_type": "code",
   "execution_count": null,
   "metadata": {},
   "outputs": [],
   "source": [
    "d.sort_values('d1')[:5]"
   ]
  },
  {
   "cell_type": "code",
   "execution_count": null,
   "metadata": {},
   "outputs": [],
   "source": [
    "d.sort_values('d2')[:5]"
   ]
  },
  {
   "cell_type": "code",
   "execution_count": null,
   "metadata": {},
   "outputs": [],
   "source": [
    "df_chats[df_chats['sender_ind'].isin(d.sort_values('d1')[:5]['index'])]['text'].values"
   ]
  },
  {
   "cell_type": "code",
   "execution_count": null,
   "metadata": {},
   "outputs": [],
   "source": [
    "df_chats[df_chats['sender_ind'].isin(d.sort_values('d2')[:5]['index'])]['text'].values"
   ]
  },
  {
   "cell_type": "code",
   "execution_count": null,
   "metadata": {},
   "outputs": [],
   "source": [
    "prices = df_prices['priceUsd'].pct_change()[1:].values"
   ]
  },
  {
   "cell_type": "code",
   "execution_count": null,
   "metadata": {},
   "outputs": [],
   "source": [
    "plt.hist(prices, bins=20)\n",
    "plt.show()"
   ]
  },
  {
   "cell_type": "code",
   "execution_count": 134,
   "metadata": {},
   "outputs": [
    {
     "data": {
      "text/plain": [
       "[<matplotlib.lines.Line2D at 0x7fe8a8e5ea90>]"
      ]
     },
     "execution_count": 134,
     "metadata": {},
     "output_type": "execute_result"
    },
    {
     "data": {
      "image/png": "[encoded data removed]",
      "text/plain": [
       "<Figure size 432x288 with 1 Axes>"
      ]
     },
     "metadata": {},
     "output_type": "display_data"
    }
   ],
   "source": [
    "plt.plot(prices)"
   ]
  },
  {
   "cell_type": "code",
   "execution_count": 138,
   "metadata": {},
   "outputs": [
    {
     "data": {
      "text/plain": [
       "(-8.535428772025405,\n",
       " 1.0110438004829059e-13,\n",
       " 6,\n",
       " 724,\n",
       " {'1%': -3.4394144152232995,\n",
       "  '5%': -2.8655403100177566,\n",
       "  '10%': -2.5689002207655443},\n",
       " -4169.700082124158)"
      ]
     },
     "execution_count": 138,
     "metadata": {},
     "output_type": "execute_result"
    }
   ],
   "source": [
    "adfuller(prices)"
   ]
  },
  {
   "cell_type": "code",
   "execution_count": 246,
   "metadata": {},
   "outputs": [
    {
     "data": {
      "text/plain": [
       "(322,)"
      ]
     },
     "execution_count": 246,
     "metadata": {},
     "output_type": "execute_result"
    }
   ],
   "source": [
    "val1[-1].shape"
   ]
  }
 ],
 "metadata": {
  "kernelspec": {
   "display_name": "Python 3",
   "language": "python",
   "name": "python3"
  },
  "language_info": {
   "codemirror_mode": {
    "name": "ipython",
    "version": 3
   },
   "file_extension": ".py",
   "mimetype": "text/x-python",
   "name": "python",
   "nbconvert_exporter": "python",
   "pygments_lexer": "ipython3",
   "version": "3.6.5"
  },
  "toc": {
   "nav_menu": {},
   "number_sections": true,
   "sideBar": true,
   "skip_h1_title": false,
   "toc_cell": true,
   "toc_position": {},
   "toc_section_display": "block",
   "toc_window_display": false
  }
 },
 "nbformat": 4,
 "nbformat_minor": 2
}
