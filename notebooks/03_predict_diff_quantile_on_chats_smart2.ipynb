{
 "cells": [
  {
   "cell_type": "markdown",
   "metadata": {
    "toc": true
   },
   "source": [
    "<h1>Table of Contents<span class=\"tocSkip\"></span></h1>\n",
    "<div class=\"toc\" style=\"margin-top: 1em;\"><ul class=\"toc-item\"><li><span><a href=\"#load-data\" data-toc-modified-id=\"load-data-1\"><span class=\"toc-item-num\">1&nbsp;&nbsp;</span>load data</a></span><ul class=\"toc-item\"><li><span><a href=\"#prepare-price-data\" data-toc-modified-id=\"prepare-price-data-1.1\"><span class=\"toc-item-num\">1.1&nbsp;&nbsp;</span>prepare price data</a></span></li><li><span><a href=\"#prepare-chat-data\" data-toc-modified-id=\"prepare-chat-data-1.2\"><span class=\"toc-item-num\">1.2&nbsp;&nbsp;</span>prepare chat data</a></span><ul class=\"toc-item\"><li><span><a href=\"#load-fasttext-vectors\" data-toc-modified-id=\"load-fasttext-vectors-1.2.1\"><span class=\"toc-item-num\">1.2.1&nbsp;&nbsp;</span>load fasttext vectors</a></span></li><li><span><a href=\"#prepare-data-for-buy-model\" data-toc-modified-id=\"prepare-data-for-buy-model-1.2.2\"><span class=\"toc-item-num\">1.2.2&nbsp;&nbsp;</span>prepare data for buy model</a></span></li></ul></li></ul></li></ul></div>"
   ]
  },
  {
   "cell_type": "code",
   "execution_count": 136,
   "metadata": {
    "ExecuteTime": {
     "end_time": "2018-07-05T20:29:54.902396Z",
     "start_time": "2018-07-05T20:29:54.889028Z"
    }
   },
   "outputs": [],
   "source": [
    "import numpy as np\n",
    "import pandas as pd\n",
    "\n",
    "from gensim.models.fasttext import FastText\n",
    "from keras.models import Sequential, Model\n",
    "from keras.layers import Dense, Embedding, Input, Concatenate, Reshape, LSTM, GRU\n",
    "from keras.optimizers import Adam\n",
    "\n",
    "from sklearn.metrics import roc_curve, roc_auc_score\n",
    "\n",
    "import matplotlib.pyplot as plt\n",
    "\n",
    "%matplotlib inline"
   ]
  },
  {
   "cell_type": "markdown",
   "metadata": {},
   "source": [
    "# load data"
   ]
  },
  {
   "cell_type": "code",
   "execution_count": 2,
   "metadata": {
    "ExecuteTime": {
     "end_time": "2018-07-05T19:58:23.194535Z",
     "start_time": "2018-07-05T19:58:18.069858Z"
    }
   },
   "outputs": [],
   "source": [
    "# df_chats = pd.read_csv('../data/train/chats_train.csv')\n",
    "df_chats = pd.read_csv('../data/clean_text.csv')\n",
    "df_prices = pd.read_csv('../data/train/tickers_train.csv', index_col=0)"
   ]
  },
  {
   "cell_type": "markdown",
   "metadata": {},
   "source": [
    "## prepare price data"
   ]
  },
  {
   "cell_type": "code",
   "execution_count": 3,
   "metadata": {
    "ExecuteTime": {
     "end_time": "2018-07-05T19:58:24.467436Z",
     "start_time": "2018-07-05T19:58:24.422581Z"
    }
   },
   "outputs": [],
   "source": [
    "TICKER = 'ETH'\n",
    "df_prices = df_prices[df_prices['ticker'] == TICKER].copy()"
   ]
  },
  {
   "cell_type": "code",
   "execution_count": 4,
   "metadata": {
    "ExecuteTime": {
     "end_time": "2018-07-05T19:58:25.185711Z",
     "start_time": "2018-07-05T19:58:25.152911Z"
    }
   },
   "outputs": [
    {
     "data": {
      "text/html": [
       "<div>\n",
       "<style scoped>\n",
       "    .dataframe tbody tr th:only-of-type {\n",
       "        vertical-align: middle;\n",
       "    }\n",
       "\n",
       "    .dataframe tbody tr th {\n",
       "        vertical-align: top;\n",
       "    }\n",
       "\n",
       "    .dataframe thead th {\n",
       "        text-align: right;\n",
       "    }\n",
       "</style>\n",
       "<table border=\"1\" class=\"dataframe\">\n",
       "  <thead>\n",
       "    <tr style=\"text-align: right;\">\n",
       "      <th></th>\n",
       "      <th>datetime</th>\n",
       "      <th>name</th>\n",
       "      <th>priceBtc</th>\n",
       "      <th>priceUsd</th>\n",
       "      <th>ticker</th>\n",
       "      <th>volume</th>\n",
       "    </tr>\n",
       "  </thead>\n",
       "  <tbody>\n",
       "    <tr>\n",
       "      <th>0</th>\n",
       "      <td>2018-03-01T00:00:00Z</td>\n",
       "      <td>Ethereum</td>\n",
       "      <td>0.082836</td>\n",
       "      <td>856.952292</td>\n",
       "      <td>ETH</td>\n",
       "      <td>1.979010e+09</td>\n",
       "    </tr>\n",
       "    <tr>\n",
       "      <th>1</th>\n",
       "      <td>2018-03-01T02:00:00Z</td>\n",
       "      <td>Ethereum</td>\n",
       "      <td>0.082887</td>\n",
       "      <td>858.979167</td>\n",
       "      <td>ETH</td>\n",
       "      <td>1.931840e+09</td>\n",
       "    </tr>\n",
       "  </tbody>\n",
       "</table>\n",
       "</div>"
      ],
      "text/plain": [
       "               datetime      name  priceBtc    priceUsd ticker        volume\n",
       "0  2018-03-01T00:00:00Z  Ethereum  0.082836  856.952292    ETH  1.979010e+09\n",
       "1  2018-03-01T02:00:00Z  Ethereum  0.082887  858.979167    ETH  1.931840e+09"
      ]
     },
     "execution_count": 4,
     "metadata": {},
     "output_type": "execute_result"
    }
   ],
   "source": [
    "df_prices.head(2)"
   ]
  },
  {
   "cell_type": "code",
   "execution_count": 5,
   "metadata": {
    "ExecuteTime": {
     "end_time": "2018-07-05T19:58:30.657875Z",
     "start_time": "2018-07-05T19:58:30.642787Z"
    }
   },
   "outputs": [],
   "source": [
    "df_prices['delta_price_usd'] = (df_prices['priceUsd'] - df_prices['priceUsd'].shift(1)) / df_prices['priceUsd'].shift(1)"
   ]
  },
  {
   "cell_type": "code",
   "execution_count": 6,
   "metadata": {
    "ExecuteTime": {
     "end_time": "2018-07-05T19:58:31.146764Z",
     "start_time": "2018-07-05T19:58:31.140060Z"
    }
   },
   "outputs": [],
   "source": [
    "df_prices['delta_price_usd'].fillna(0, inplace=True)"
   ]
  },
  {
   "cell_type": "code",
   "execution_count": 7,
   "metadata": {
    "ExecuteTime": {
     "end_time": "2018-07-05T19:58:31.602687Z",
     "start_time": "2018-07-05T19:58:31.592168Z"
    }
   },
   "outputs": [],
   "source": [
    "quantile1 = df_prices['delta_price_usd'].quantile(q=0.33)\n",
    "quantile2 = df_prices['delta_price_usd'].quantile(q=0.66)"
   ]
  },
  {
   "cell_type": "code",
   "execution_count": 8,
   "metadata": {
    "ExecuteTime": {
     "end_time": "2018-07-05T19:58:32.513880Z",
     "start_time": "2018-07-05T19:58:32.146629Z"
    }
   },
   "outputs": [
    {
     "data": {
      "image/png": "[encoded data removed]",
      "text/plain": [
       "<Figure size 432x288 with 1 Axes>"
      ]
     },
     "metadata": {},
     "output_type": "display_data"
    }
   ],
   "source": [
    "plt.hist(df_prices['delta_price_usd'], bins=100)\n",
    "plt.axvline(quantile1, color='k', linestyle='dashed')\n",
    "plt.axvline(quantile2, color='k', linestyle='dashed')\n",
    "plt.show()"
   ]
  },
  {
   "cell_type": "code",
   "execution_count": 9,
   "metadata": {
    "ExecuteTime": {
     "end_time": "2018-07-05T19:58:45.441699Z",
     "start_time": "2018-07-05T19:58:45.431613Z"
    }
   },
   "outputs": [
    {
     "name": "stdout",
     "output_type": "stream",
     "text": [
      "(242, 7) (249, 7) (241, 7)\n"
     ]
    }
   ],
   "source": [
    "print(\n",
    "    df_prices[df_prices['delta_price_usd'] < quantile1].shape,\n",
    "    df_prices[df_prices['delta_price_usd'] > quantile2].shape,\n",
    "    df_prices[(df_prices['delta_price_usd'] > quantile1) & (df_prices['delta_price_usd'] < quantile2)].shape,\n",
    ")"
   ]
  },
  {
   "cell_type": "code",
   "execution_count": 10,
   "metadata": {
    "ExecuteTime": {
     "end_time": "2018-07-05T19:58:45.924226Z",
     "start_time": "2018-07-05T19:58:45.891506Z"
    }
   },
   "outputs": [],
   "source": [
    "df_prices['timestamp'] = pd.to_datetime(df_prices['datetime']).apply(lambda x: x.timestamp())"
   ]
  },
  {
   "cell_type": "code",
   "execution_count": 11,
   "metadata": {
    "ExecuteTime": {
     "end_time": "2018-07-05T19:58:46.455613Z",
     "start_time": "2018-07-05T19:58:46.436580Z"
    }
   },
   "outputs": [
    {
     "data": {
      "text/html": [
       "<div>\n",
       "<style scoped>\n",
       "    .dataframe tbody tr th:only-of-type {\n",
       "        vertical-align: middle;\n",
       "    }\n",
       "\n",
       "    .dataframe tbody tr th {\n",
       "        vertical-align: top;\n",
       "    }\n",
       "\n",
       "    .dataframe thead th {\n",
       "        text-align: right;\n",
       "    }\n",
       "</style>\n",
       "<table border=\"1\" class=\"dataframe\">\n",
       "  <thead>\n",
       "    <tr style=\"text-align: right;\">\n",
       "      <th></th>\n",
       "      <th>datetime</th>\n",
       "      <th>name</th>\n",
       "      <th>priceBtc</th>\n",
       "      <th>priceUsd</th>\n",
       "      <th>ticker</th>\n",
       "      <th>volume</th>\n",
       "      <th>delta_price_usd</th>\n",
       "      <th>timestamp</th>\n",
       "    </tr>\n",
       "  </thead>\n",
       "  <tbody>\n",
       "    <tr>\n",
       "      <th>0</th>\n",
       "      <td>2018-03-01T00:00:00Z</td>\n",
       "      <td>Ethereum</td>\n",
       "      <td>0.082836</td>\n",
       "      <td>856.952292</td>\n",
       "      <td>ETH</td>\n",
       "      <td>1.979010e+09</td>\n",
       "      <td>0.000000</td>\n",
       "      <td>1.519862e+09</td>\n",
       "    </tr>\n",
       "    <tr>\n",
       "      <th>1</th>\n",
       "      <td>2018-03-01T02:00:00Z</td>\n",
       "      <td>Ethereum</td>\n",
       "      <td>0.082887</td>\n",
       "      <td>858.979167</td>\n",
       "      <td>ETH</td>\n",
       "      <td>1.931840e+09</td>\n",
       "      <td>0.002365</td>\n",
       "      <td>1.519870e+09</td>\n",
       "    </tr>\n",
       "    <tr>\n",
       "      <th>2</th>\n",
       "      <td>2018-03-01T04:00:00Z</td>\n",
       "      <td>Ethereum</td>\n",
       "      <td>0.082744</td>\n",
       "      <td>861.494542</td>\n",
       "      <td>ETH</td>\n",
       "      <td>1.908910e+09</td>\n",
       "      <td>0.002928</td>\n",
       "      <td>1.519877e+09</td>\n",
       "    </tr>\n",
       "    <tr>\n",
       "      <th>3</th>\n",
       "      <td>2018-03-01T06:00:00Z</td>\n",
       "      <td>Ethereum</td>\n",
       "      <td>0.082734</td>\n",
       "      <td>862.998542</td>\n",
       "      <td>ETH</td>\n",
       "      <td>1.866320e+09</td>\n",
       "      <td>0.001746</td>\n",
       "      <td>1.519884e+09</td>\n",
       "    </tr>\n",
       "    <tr>\n",
       "      <th>4</th>\n",
       "      <td>2018-03-01T08:00:00Z</td>\n",
       "      <td>Ethereum</td>\n",
       "      <td>0.081945</td>\n",
       "      <td>869.481042</td>\n",
       "      <td>ETH</td>\n",
       "      <td>1.834750e+09</td>\n",
       "      <td>0.007512</td>\n",
       "      <td>1.519891e+09</td>\n",
       "    </tr>\n",
       "  </tbody>\n",
       "</table>\n",
       "</div>"
      ],
      "text/plain": [
       "               datetime      name  priceBtc    priceUsd ticker        volume  \\\n",
       "0  2018-03-01T00:00:00Z  Ethereum  0.082836  856.952292    ETH  1.979010e+09   \n",
       "1  2018-03-01T02:00:00Z  Ethereum  0.082887  858.979167    ETH  1.931840e+09   \n",
       "2  2018-03-01T04:00:00Z  Ethereum  0.082744  861.494542    ETH  1.908910e+09   \n",
       "3  2018-03-01T06:00:00Z  Ethereum  0.082734  862.998542    ETH  1.866320e+09   \n",
       "4  2018-03-01T08:00:00Z  Ethereum  0.081945  869.481042    ETH  1.834750e+09   \n",
       "\n",
       "   delta_price_usd     timestamp  \n",
       "0         0.000000  1.519862e+09  \n",
       "1         0.002365  1.519870e+09  \n",
       "2         0.002928  1.519877e+09  \n",
       "3         0.001746  1.519884e+09  \n",
       "4         0.007512  1.519891e+09  "
      ]
     },
     "execution_count": 11,
     "metadata": {},
     "output_type": "execute_result"
    }
   ],
   "source": [
    "df_prices.head()"
   ]
  },
  {
   "cell_type": "markdown",
   "metadata": {},
   "source": [
    "## prepare chat data"
   ]
  },
  {
   "cell_type": "code",
   "execution_count": 12,
   "metadata": {
    "ExecuteTime": {
     "end_time": "2018-07-05T19:58:49.402177Z",
     "start_time": "2018-07-05T19:58:49.376692Z"
    }
   },
   "outputs": [
    {
     "data": {
      "text/html": [
       "<div>\n",
       "<style scoped>\n",
       "    .dataframe tbody tr th:only-of-type {\n",
       "        vertical-align: middle;\n",
       "    }\n",
       "\n",
       "    .dataframe tbody tr th {\n",
       "        vertical-align: top;\n",
       "    }\n",
       "\n",
       "    .dataframe thead th {\n",
       "        text-align: right;\n",
       "    }\n",
       "</style>\n",
       "<table border=\"1\" class=\"dataframe\">\n",
       "  <thead>\n",
       "    <tr style=\"text-align: right;\">\n",
       "      <th></th>\n",
       "      <th>chat_id</th>\n",
       "      <th>chat_title</th>\n",
       "      <th>emoji_list</th>\n",
       "      <th>sender_first_name</th>\n",
       "      <th>sender_id</th>\n",
       "      <th>sender_is_bot</th>\n",
       "      <th>sender_last_name</th>\n",
       "      <th>sender_username</th>\n",
       "      <th>text</th>\n",
       "      <th>timestamp</th>\n",
       "      <th>clean_text</th>\n",
       "      <th>words_count</th>\n",
       "      <th>repeats</th>\n",
       "      <th>has_digit</th>\n",
       "    </tr>\n",
       "  </thead>\n",
       "  <tbody>\n",
       "    <tr>\n",
       "      <th>0</th>\n",
       "      <td>1129149026</td>\n",
       "      <td>Pareto Network - Discussion</td>\n",
       "      <td>[]</td>\n",
       "      <td>Bezant</td>\n",
       "      <td>526106862</td>\n",
       "      <td>False</td>\n",
       "      <td>None</td>\n",
       "      <td>None</td>\n",
       "      <td>admin disputes in private thank you.</td>\n",
       "      <td>1524284160</td>\n",
       "      <td>admin disputes in private thank you</td>\n",
       "      <td>6</td>\n",
       "      <td>1</td>\n",
       "      <td>False</td>\n",
       "    </tr>\n",
       "    <tr>\n",
       "      <th>1</th>\n",
       "      <td>1129149026</td>\n",
       "      <td>Pareto Network - Discussion</td>\n",
       "      <td>[]</td>\n",
       "      <td>Sheriff</td>\n",
       "      <td>538526216</td>\n",
       "      <td>False</td>\n",
       "      <td>None</td>\n",
       "      <td>None</td>\n",
       "      <td>i see binance add coins all the time on the cr...</td>\n",
       "      <td>1524284160</td>\n",
       "      <td>i see binance add coins all the time on the cr...</td>\n",
       "      <td>29</td>\n",
       "      <td>1</td>\n",
       "      <td>False</td>\n",
       "    </tr>\n",
       "    <tr>\n",
       "      <th>2</th>\n",
       "      <td>1129149026</td>\n",
       "      <td>Pareto Network - Discussion</td>\n",
       "      <td>[]</td>\n",
       "      <td>Sheriff</td>\n",
       "      <td>538526216</td>\n",
       "      <td>False</td>\n",
       "      <td>None</td>\n",
       "      <td>None</td>\n",
       "      <td>shouldn’t it go up with btc though?</td>\n",
       "      <td>1524285978</td>\n",
       "      <td>shouldn t it go up with btc though</td>\n",
       "      <td>8</td>\n",
       "      <td>1</td>\n",
       "      <td>False</td>\n",
       "    </tr>\n",
       "    <tr>\n",
       "      <th>3</th>\n",
       "      <td>1146170349</td>\n",
       "      <td>Binance English</td>\n",
       "      <td>[]</td>\n",
       "      <td>Vijay</td>\n",
       "      <td>494914527</td>\n",
       "      <td>False</td>\n",
       "      <td>Singh</td>\n",
       "      <td>None</td>\n",
       "      <td>no i wanna fuck you hard.</td>\n",
       "      <td>1524287086</td>\n",
       "      <td>no i wanna fuck you hard</td>\n",
       "      <td>6</td>\n",
       "      <td>1</td>\n",
       "      <td>False</td>\n",
       "    </tr>\n",
       "    <tr>\n",
       "      <th>4</th>\n",
       "      <td>1146170349</td>\n",
       "      <td>Binance English</td>\n",
       "      <td>[]</td>\n",
       "      <td>A5</td>\n",
       "      <td>548628461</td>\n",
       "      <td>False</td>\n",
       "      <td>None</td>\n",
       "      <td>None</td>\n",
       "      <td>speak english you fukin immigrant . lol you geek</td>\n",
       "      <td>1524286965</td>\n",
       "      <td>speak english you fukin immigrant lol you geek</td>\n",
       "      <td>8</td>\n",
       "      <td>1</td>\n",
       "      <td>False</td>\n",
       "    </tr>\n",
       "  </tbody>\n",
       "</table>\n",
       "</div>"
      ],
      "text/plain": [
       "      chat_id                   chat_title emoji_list sender_first_name  \\\n",
       "0  1129149026  Pareto Network - Discussion         []            Bezant   \n",
       "1  1129149026  Pareto Network - Discussion         []           Sheriff   \n",
       "2  1129149026  Pareto Network - Discussion         []           Sheriff   \n",
       "3  1146170349              Binance English         []             Vijay   \n",
       "4  1146170349              Binance English         []                A5   \n",
       "\n",
       "   sender_id  sender_is_bot sender_last_name sender_username  \\\n",
       "0  526106862          False             None            None   \n",
       "1  538526216          False             None            None   \n",
       "2  538526216          False             None            None   \n",
       "3  494914527          False            Singh            None   \n",
       "4  548628461          False             None            None   \n",
       "\n",
       "                                                text   timestamp  \\\n",
       "0               admin disputes in private thank you.  1524284160   \n",
       "1  i see binance add coins all the time on the cr...  1524284160   \n",
       "2                shouldn’t it go up with btc though?  1524285978   \n",
       "3                          no i wanna fuck you hard.  1524287086   \n",
       "4   speak english you fukin immigrant . lol you geek  1524286965   \n",
       "\n",
       "                                          clean_text  words_count  repeats  \\\n",
       "0                admin disputes in private thank you            6        1   \n",
       "1  i see binance add coins all the time on the cr...           29        1   \n",
       "2                 shouldn t it go up with btc though            8        1   \n",
       "3                           no i wanna fuck you hard            6        1   \n",
       "4     speak english you fukin immigrant lol you geek            8        1   \n",
       "\n",
       "   has_digit  \n",
       "0      False  \n",
       "1      False  \n",
       "2      False  \n",
       "3      False  \n",
       "4      False  "
      ]
     },
     "execution_count": 12,
     "metadata": {},
     "output_type": "execute_result"
    }
   ],
   "source": [
    "df_chats.head()"
   ]
  },
  {
   "cell_type": "code",
   "execution_count": 32,
   "metadata": {
    "ExecuteTime": {
     "end_time": "2018-07-05T20:07:38.640336Z",
     "start_time": "2018-07-05T20:07:37.897038Z"
    }
   },
   "outputs": [
    {
     "data": {
      "text/plain": [
       "((933800, 17), (29788, 17))"
      ]
     },
     "execution_count": 32,
     "metadata": {},
     "output_type": "execute_result"
    }
   ],
   "source": [
    "df_chats.shape, df_chats[df_chats['clean_text'].str.contains('eth')].shape"
   ]
  },
  {
   "cell_type": "code",
   "execution_count": 33,
   "metadata": {
    "ExecuteTime": {
     "end_time": "2018-07-05T20:08:10.033231Z",
     "start_time": "2018-07-05T20:08:09.316233Z"
    }
   },
   "outputs": [],
   "source": [
    "df_chats = df_chats[df_chats['clean_text'].str.contains('eth')].copy()"
   ]
  },
  {
   "cell_type": "code",
   "execution_count": 34,
   "metadata": {
    "ExecuteTime": {
     "end_time": "2018-07-05T20:08:10.969831Z",
     "start_time": "2018-07-05T20:08:10.943988Z"
    }
   },
   "outputs": [],
   "source": [
    "df_chats['ind'] = list(range(df_chats.shape[0]))"
   ]
  },
  {
   "cell_type": "code",
   "execution_count": 35,
   "metadata": {
    "ExecuteTime": {
     "end_time": "2018-07-05T20:08:12.919918Z",
     "start_time": "2018-07-05T20:08:11.696799Z"
    }
   },
   "outputs": [],
   "source": [
    "PERIOD = 8*3600\n",
    "\n",
    "news_counts = []\n",
    "for i, row in df_prices.iterrows():\n",
    "    ts = row['timestamp']\n",
    "    c = df_chats[(df_chats['timestamp'] < ts) & (df_chats['timestamp'] > ts - PERIOD)].shape[0]\n",
    "    news_counts.append(c)"
   ]
  },
  {
   "cell_type": "code",
   "execution_count": 36,
   "metadata": {
    "ExecuteTime": {
     "end_time": "2018-07-05T20:08:13.681475Z",
     "start_time": "2018-07-05T20:08:13.495428Z"
    }
   },
   "outputs": [
    {
     "data": {
      "image/png": "[encoded data removed]",
      "text/plain": [
       "<Figure size 432x288 with 1 Axes>"
      ]
     },
     "metadata": {},
     "output_type": "display_data"
    }
   ],
   "source": [
    "plt.hist(news_counts, bins=20)\n",
    "plt.show()"
   ]
  },
  {
   "cell_type": "code",
   "execution_count": 37,
   "metadata": {
    "ExecuteTime": {
     "end_time": "2018-07-05T20:08:25.639579Z",
     "start_time": "2018-07-05T20:08:25.608186Z"
    }
   },
   "outputs": [],
   "source": [
    "chat_ids = list(df_chats['chat_id'].unique())\n",
    "chat_ids.sort()\n",
    "chat2ind = {chat_id: i for i, chat_id in enumerate(chat_ids)}\n",
    "\n",
    "sender_ids = list(df_chats['sender_id'].unique())\n",
    "sender_ids.sort()\n",
    "sender2ind = {sender_id: i for i, sender_id in enumerate(sender_ids)}"
   ]
  },
  {
   "cell_type": "code",
   "execution_count": 38,
   "metadata": {
    "ExecuteTime": {
     "end_time": "2018-07-05T20:08:27.240880Z",
     "start_time": "2018-07-05T20:08:27.182498Z"
    }
   },
   "outputs": [],
   "source": [
    "df_chats['chat_ind'] = df_chats['chat_id'].apply(lambda x: chat2ind[x])\n",
    "df_chats['sender_ind'] = df_chats['sender_id'].apply(lambda x: sender2ind[x])"
   ]
  },
  {
   "cell_type": "code",
   "execution_count": 39,
   "metadata": {
    "ExecuteTime": {
     "end_time": "2018-07-05T20:08:27.807556Z",
     "start_time": "2018-07-05T20:08:27.795466Z"
    }
   },
   "outputs": [
    {
     "data": {
      "text/plain": [
       "(45, 10591)"
      ]
     },
     "execution_count": 39,
     "metadata": {},
     "output_type": "execute_result"
    }
   ],
   "source": [
    "len(chat2ind), len(sender2ind)"
   ]
  },
  {
   "cell_type": "markdown",
   "metadata": {},
   "source": [
    "### load fasttext vectors"
   ]
  },
  {
   "cell_type": "code",
   "execution_count": 40,
   "metadata": {
    "ExecuteTime": {
     "end_time": "2018-07-05T20:08:43.996640Z",
     "start_time": "2018-07-05T20:08:41.927797Z"
    }
   },
   "outputs": [],
   "source": [
    "vectors = np.load('../data/chat_vectors_100.npy')"
   ]
  },
  {
   "cell_type": "markdown",
   "metadata": {},
   "source": [
    "### prepare data for buy model"
   ]
  },
  {
   "cell_type": "code",
   "execution_count": 41,
   "metadata": {
    "ExecuteTime": {
     "end_time": "2018-07-05T20:08:47.493824Z",
     "start_time": "2018-07-05T20:08:47.485160Z"
    }
   },
   "outputs": [],
   "source": [
    "inp_fasttext = []\n",
    "inp_chat_ind = []\n",
    "inp_sender_ind = []\n",
    "inp_timedelta_log = []\n",
    "out_target = [] # grow more than 0.66 quantile, not drawdown less 0.33 quantile in period 48 hours"
   ]
  },
  {
   "cell_type": "code",
   "execution_count": 42,
   "metadata": {
    "ExecuteTime": {
     "end_time": "2018-07-05T20:08:59.182723Z",
     "start_time": "2018-07-05T20:08:54.247324Z"
    }
   },
   "outputs": [],
   "source": [
    "TARGET_MIN_UP = 1.1\n",
    "TARGET_MAX_DOWN = 0.95\n",
    "SAMPLES = 1\n",
    "STEPS = 32\n",
    "\n",
    "for i, row in df_prices.iterrows():\n",
    "    for sample in range(SAMPLES):\n",
    "        ts = row['timestamp']\n",
    "\n",
    "        df_chats_sample = df_chats[(df_chats['timestamp'] > ts - 48 * 3600) & (df_chats['timestamp'] < ts)].sample(STEPS)\n",
    "        df_chats_sample['timedelta'] = np.log(-(df_chats_sample['timestamp'] - ts))\n",
    "\n",
    "        chat_indexes = df_chats_sample['ind'].values\n",
    "\n",
    "        batch_fasttext = vectors[chat_indexes]\n",
    "#         batch_sender_bot = df_chats.iloc[chat_indexes]['sender_is_bot'].values\n",
    "        batch_chat_ind = df_chats.iloc[chat_indexes]['chat_ind'].values\n",
    "        batch_sender_ind = df_chats.iloc[chat_indexes]['sender_ind'].values\n",
    "        batch_timedelta = df_chats_sample['timedelta'].values\n",
    "\n",
    "        df_prices_forward = df_prices[(df_prices['timestamp'] > ts) & (df_prices['timestamp'] + 48 * 3600)].copy()\n",
    "        if df_prices_forward.shape[0] < 24:\n",
    "            continue\n",
    "        df_prices_forward['priceUsd'] /= df_prices_forward['priceUsd'].values[0]\n",
    "\n",
    "        target = False\n",
    "        for price_relative in df_prices_forward['priceUsd'].values:\n",
    "            if price_relative < TARGET_MAX_DOWN:\n",
    "                target = False\n",
    "                break\n",
    "            if price_relative > TARGET_MIN_UP:\n",
    "                target = True\n",
    "                break\n",
    "\n",
    "        inp_fasttext.append(batch_fasttext)\n",
    "#         inp_sender_bot.append(batch_sender_bot)\n",
    "        inp_chat_ind.append(batch_chat_ind)\n",
    "        inp_sender_ind.append(batch_sender_ind)\n",
    "        inp_timedelta_log.append(batch_timedelta)\n",
    "        out_target.append(target)"
   ]
  },
  {
   "cell_type": "code",
   "execution_count": 43,
   "metadata": {
    "ExecuteTime": {
     "end_time": "2018-07-05T20:09:01.444812Z",
     "start_time": "2018-07-05T20:09:01.415814Z"
    }
   },
   "outputs": [],
   "source": [
    "inp_fasttext = np.array(inp_fasttext)\n",
    "# inp_sender_bot = np.array(inp_sender_bot)\n",
    "inp_chat_ind = np.array(inp_chat_ind)\n",
    "inp_sender_ind = np.array(inp_sender_ind)\n",
    "inp_timedelta_log = np.array(inp_timedelta_log)\n",
    "\n",
    "out_target = np.array(out_target)"
   ]
  },
  {
   "cell_type": "code",
   "execution_count": 44,
   "metadata": {
    "ExecuteTime": {
     "end_time": "2018-07-05T20:09:02.389461Z",
     "start_time": "2018-07-05T20:09:02.383613Z"
    }
   },
   "outputs": [],
   "source": [
    "# inp_sender_bot = np.expand_dims(inp_sender_bot, 2)"
   ]
  },
  {
   "cell_type": "code",
   "execution_count": 45,
   "metadata": {
    "ExecuteTime": {
     "end_time": "2018-07-05T20:09:02.874694Z",
     "start_time": "2018-07-05T20:09:02.869146Z"
    }
   },
   "outputs": [],
   "source": [
    "inp_chat_ind = np.expand_dims(inp_chat_ind, 2)\n",
    "inp_sender_ind = np.expand_dims(inp_sender_ind, 2)\n",
    "inp_timedelta_log = np.expand_dims(inp_timedelta_log, 2)"
   ]
  },
  {
   "cell_type": "code",
   "execution_count": 231,
   "metadata": {
    "ExecuteTime": {
     "end_time": "2018-07-05T21:07:59.893465Z",
     "start_time": "2018-07-05T21:07:59.163863Z"
    }
   },
   "outputs": [],
   "source": [
    "SENDER_EMBEDDING_SIZE = 16\n",
    "CHAT_EMBEDDING_SIZE = 4\n",
    "\n",
    "inp_layer_fasttext = Input(shape=(STEPS, 100, ), name='inp_layer_fasttext')\n",
    "# inp_layer_sender_bot = Input(shape=(STEPS, 1, ), name='inp_layer_sender_bot')\n",
    "inp_layer_chat = Input(shape=(STEPS, 1, ), name='inp_layer_chat')\n",
    "inp_layer_sender = Input(shape=(STEPS, 1, ), name='inp_layer_sender')\n",
    "inp_layer_timedelta = Input(shape=(STEPS, 1, ), name='inp_layer_timedelta')\n",
    "\n",
    "sender_embedding = Embedding(len(sender2ind), SENDER_EMBEDDING_SIZE)(inp_layer_sender)\n",
    "chat_embedding = Embedding(len(chat2ind), CHAT_EMBEDDING_SIZE)(inp_layer_chat)\n",
    "\n",
    "sender_embedding = Reshape((STEPS, SENDER_EMBEDDING_SIZE))(sender_embedding)\n",
    "chat_embedding = Reshape((STEPS, CHAT_EMBEDDING_SIZE))(chat_embedding)\n",
    "\n",
    "common_layer = Concatenate(axis=-1)([\n",
    "    inp_layer_fasttext, chat_embedding, sender_embedding, inp_layer_timedelta])\n",
    "\n",
    "lstm = LSTM(4, return_sequences=True)(common_layer)\n",
    "lstm = LSTM(4)(lstm)\n",
    "\n",
    "dense = lstm\n",
    "# dense = Dense(2, activation='relu')(lstm)\n",
    "\n",
    "dense = Dense(1, activation='sigmoid')(dense)\n",
    "\n",
    "model = Model(\n",
    "    inputs=[inp_layer_fasttext, inp_layer_chat, inp_layer_sender, inp_layer_timedelta],\n",
    "    outputs=dense\n",
    ")\n",
    "\n",
    "opt = Adam(lr=0.0002)\n",
    "model.compile(optimizer=opt, loss='binary_crossentropy', metrics=['accuracy'])\n",
    "# model.compile(optimizer='sgd', loss='binary_crossentropy')"
   ]
  },
  {
   "cell_type": "code",
   "execution_count": 232,
   "metadata": {
    "ExecuteTime": {
     "end_time": "2018-07-05T21:08:00.450764Z",
     "start_time": "2018-07-05T21:08:00.444962Z"
    }
   },
   "outputs": [
    {
     "data": {
      "text/plain": [
       "270"
      ]
     },
     "execution_count": 232,
     "metadata": {},
     "output_type": "execute_result"
    }
   ],
   "source": [
    "out_target.sum()"
   ]
  },
  {
   "cell_type": "code",
   "execution_count": 233,
   "metadata": {
    "ExecuteTime": {
     "end_time": "2018-07-05T21:08:00.933798Z",
     "start_time": "2018-07-05T21:08:00.927007Z"
    }
   },
   "outputs": [
    {
     "data": {
      "text/plain": [
       "(708,)"
      ]
     },
     "execution_count": 233,
     "metadata": {},
     "output_type": "execute_result"
    }
   ],
   "source": [
    "out_target.shape"
   ]
  },
  {
   "cell_type": "code",
   "execution_count": 234,
   "metadata": {
    "ExecuteTime": {
     "end_time": "2018-07-05T21:08:01.336065Z",
     "start_time": "2018-07-05T21:08:01.331512Z"
    }
   },
   "outputs": [],
   "source": [
    "test_size = int(inp_fasttext.shape[0] * 0.1)"
   ]
  },
  {
   "cell_type": "code",
   "execution_count": 235,
   "metadata": {
    "ExecuteTime": {
     "end_time": "2018-07-05T21:08:37.339550Z",
     "start_time": "2018-07-05T21:08:01.880002Z"
    }
   },
   "outputs": [
    {
     "name": "stdout",
     "output_type": "stream",
     "text": [
      "Train on 638 samples, validate on 70 samples\n",
      "Epoch 1/20\n",
      "638/638 [==============================] - 7s 12ms/step - loss: 0.7574 - acc: 0.3950 - val_loss: 0.7941 - val_acc: 0.2571\n",
      "Epoch 2/20\n",
      "638/638 [==============================] - 1s 2ms/step - loss: 0.7374 - acc: 0.3934 - val_loss: 0.7573 - val_acc: 0.2571\n",
      "Epoch 3/20\n",
      "638/638 [==============================] - 1s 2ms/step - loss: 0.7172 - acc: 0.4060 - val_loss: 0.7245 - val_acc: 0.2857\n",
      "Epoch 4/20\n",
      "638/638 [==============================] - 1s 2ms/step - loss: 0.7016 - acc: 0.4436 - val_loss: 0.6955 - val_acc: 0.5000\n",
      "Epoch 5/20\n",
      "638/638 [==============================] - 1s 2ms/step - loss: 0.6908 - acc: 0.5094 - val_loss: 0.6750 - val_acc: 0.6286\n",
      "Epoch 6/20\n",
      "638/638 [==============================] - 1s 2ms/step - loss: 0.6828 - acc: 0.5893 - val_loss: 0.6645 - val_acc: 0.7143\n",
      "Epoch 7/20\n",
      "638/638 [==============================] - 1s 2ms/step - loss: 0.6788 - acc: 0.6050 - val_loss: 0.6545 - val_acc: 0.7429\n",
      "Epoch 8/20\n",
      "638/638 [==============================] - 1s 2ms/step - loss: 0.6760 - acc: 0.6050 - val_loss: 0.6454 - val_acc: 0.7429\n",
      "Epoch 9/20\n",
      "638/638 [==============================] - 1s 2ms/step - loss: 0.6739 - acc: 0.6050 - val_loss: 0.6399 - val_acc: 0.7286\n",
      "Epoch 10/20\n",
      "638/638 [==============================] - 1s 2ms/step - loss: 0.6723 - acc: 0.6082 - val_loss: 0.6356 - val_acc: 0.7286\n",
      "Epoch 11/20\n",
      "638/638 [==============================] - 1s 2ms/step - loss: 0.6712 - acc: 0.6066 - val_loss: 0.6310 - val_acc: 0.7429\n",
      "Epoch 12/20\n",
      "638/638 [==============================] - 2s 2ms/step - loss: 0.6702 - acc: 0.6050 - val_loss: 0.6292 - val_acc: 0.7429\n",
      "Epoch 13/20\n",
      "638/638 [==============================] - 1s 2ms/step - loss: 0.6692 - acc: 0.6050 - val_loss: 0.6264 - val_acc: 0.7429\n",
      "Epoch 14/20\n",
      "638/638 [==============================] - 1s 2ms/step - loss: 0.6683 - acc: 0.6050 - val_loss: 0.6254 - val_acc: 0.7429\n",
      "Epoch 15/20\n",
      "638/638 [==============================] - 1s 2ms/step - loss: 0.6674 - acc: 0.6050 - val_loss: 0.6228 - val_acc: 0.7429\n",
      "Epoch 16/20\n",
      "638/638 [==============================] - 1s 2ms/step - loss: 0.6663 - acc: 0.6050 - val_loss: 0.6219 - val_acc: 0.7429\n",
      "Epoch 17/20\n",
      "638/638 [==============================] - 1s 2ms/step - loss: 0.6651 - acc: 0.6050 - val_loss: 0.6217 - val_acc: 0.7429\n",
      "Epoch 18/20\n",
      "638/638 [==============================] - 1s 2ms/step - loss: 0.6637 - acc: 0.6050 - val_loss: 0.6216 - val_acc: 0.7286\n",
      "Epoch 19/20\n",
      "638/638 [==============================] - 1s 2ms/step - loss: 0.6618 - acc: 0.6066 - val_loss: 0.6227 - val_acc: 0.7286\n",
      "Epoch 20/20\n",
      "638/638 [==============================] - 1s 2ms/step - loss: 0.6594 - acc: 0.6066 - val_loss: 0.6231 - val_acc: 0.7286\n"
     ]
    },
    {
     "data": {
      "text/plain": [
       "<keras.callbacks.History at 0x1b4bcaa20>"
      ]
     },
     "execution_count": 235,
     "metadata": {},
     "output_type": "execute_result"
    }
   ],
   "source": [
    "model.fit(\n",
    "    [inp_fasttext[:-test_size], inp_chat_ind[:-test_size], inp_sender_ind[:-test_size], inp_timedelta_log[:-test_size]],\n",
    "    out_target[:-test_size],\n",
    "    validation_data=[\n",
    "        [inp_fasttext[-test_size:], inp_chat_ind[-test_size:], inp_sender_ind[-test_size:], inp_timedelta_log[-test_size:]],\n",
    "        out_target[-test_size:]\n",
    "    ],\n",
    "    epochs=20,\n",
    "    class_weight=[0.5, 1.],\n",
    ")"
   ]
  },
  {
   "cell_type": "code",
   "execution_count": 236,
   "metadata": {
    "ExecuteTime": {
     "end_time": "2018-07-05T21:08:41.537607Z",
     "start_time": "2018-07-05T21:08:41.276364Z"
    }
   },
   "outputs": [
    {
     "data": {
      "image/png": "[encoded data removed]",
      "text/plain": [
       "<Figure size 432x288 with 1 Axes>"
      ]
     },
     "metadata": {},
     "output_type": "display_data"
    }
   ],
   "source": [
    "plt.plot(model.history.history['loss'], label='loss')\n",
    "plt.plot(model.history.history['val_loss'], label='val_loss')\n",
    "plt.legend()\n",
    "plt.show()"
   ]
  },
  {
   "cell_type": "code",
   "execution_count": 237,
   "metadata": {
    "ExecuteTime": {
     "end_time": "2018-07-05T21:08:49.662123Z",
     "start_time": "2018-07-05T21:08:49.469900Z"
    }
   },
   "outputs": [
    {
     "data": {
      "image/png": "[encoded data removed]",
      "text/plain": [
       "<Figure size 432x288 with 1 Axes>"
      ]
     },
     "metadata": {},
     "output_type": "display_data"
    }
   ],
   "source": [
    "plt.plot(model.history.history['acc'], label='acc')\n",
    "plt.plot(model.history.history['val_acc'], label='val_acc')\n",
    "plt.legend()\n",
    "plt.show()"
   ]
  },
  {
   "cell_type": "code",
   "execution_count": 238,
   "metadata": {
    "ExecuteTime": {
     "end_time": "2018-07-05T21:08:57.494975Z",
     "start_time": "2018-07-05T21:08:55.421245Z"
    }
   },
   "outputs": [],
   "source": [
    "y_test_predict = model.predict([\n",
    "    inp_fasttext[-test_size:], inp_chat_ind[-test_size:], \n",
    "    inp_sender_ind[-test_size:], inp_timedelta_log[-test_size:]])"
   ]
  },
  {
   "cell_type": "code",
   "execution_count": 239,
   "metadata": {
    "ExecuteTime": {
     "end_time": "2018-07-05T21:08:58.350530Z",
     "start_time": "2018-07-05T21:08:58.340511Z"
    }
   },
   "outputs": [
    {
     "data": {
      "text/plain": [
       "0.6367521367521367"
      ]
     },
     "execution_count": 239,
     "metadata": {},
     "output_type": "execute_result"
    }
   ],
   "source": [
    "roc_auc_score(out_target[-test_size:], y_test_predict[:, 0])"
   ]
  },
  {
   "cell_type": "code",
   "execution_count": 240,
   "metadata": {
    "ExecuteTime": {
     "end_time": "2018-07-05T21:09:03.401588Z",
     "start_time": "2018-07-05T21:09:03.394893Z"
    }
   },
   "outputs": [],
   "source": [
    "fpr, tpr, _ = roc_curve(out_target[-test_size:], y_test_predict[:, 0])"
   ]
  },
  {
   "cell_type": "code",
   "execution_count": 241,
   "metadata": {
    "ExecuteTime": {
     "end_time": "2018-07-05T21:09:05.319447Z",
     "start_time": "2018-07-05T21:09:05.088362Z"
    }
   },
   "outputs": [
    {
     "data": {
      "text/plain": [
       "[]"
      ]
     },
     "execution_count": 241,
     "metadata": {},
     "output_type": "execute_result"
    },
    {
     "data": {
      "image/png": "[encoded data removed]",
      "text/plain": [
       "<Figure size 432x288 with 1 Axes>"
      ]
     },
     "metadata": {},
     "output_type": "display_data"
    }
   ],
   "source": [
    "plt.plot(fpr, tpr)\n",
    "plt.plot([0, 1], [0, 1], color='navy', linestyle='--')\n",
    "plt.xlim([0.0, 1.0])\n",
    "plt.ylim([0.0, 1.05])\n",
    "plt.xlabel('False Positive Rate')\n",
    "plt.ylabel('True Positive Rate')\n",
    "plt.plot()"
   ]
  },
  {
   "cell_type": "code",
   "execution_count": 242,
   "metadata": {
    "ExecuteTime": {
     "end_time": "2018-07-05T21:09:22.879524Z",
     "start_time": "2018-07-05T21:09:16.802480Z"
    }
   },
   "outputs": [],
   "source": [
    "model.save('../data/model_quantile_chats2.pkl')"
   ]
  },
  {
   "cell_type": "code",
   "execution_count": null,
   "metadata": {},
   "outputs": [],
   "source": []
  }
 ],
 "metadata": {
  "kernelspec": {
   "display_name": "Python 3",
   "language": "python",
   "name": "python3"
  },
  "language_info": {
   "codemirror_mode": {
    "name": "ipython",
    "version": 3
   },
   "file_extension": ".py",
   "mimetype": "text/x-python",
   "name": "python",
   "nbconvert_exporter": "python",
   "pygments_lexer": "ipython3",
   "version": "3.6.4"
  },
  "toc": {
   "nav_menu": {},
   "number_sections": true,
   "sideBar": true,
   "skip_h1_title": false,
   "toc_cell": true,
   "toc_position": {},
   "toc_section_display": "block",
   "toc_window_display": false
  }
 },
 "nbformat": 4,
 "nbformat_minor": 2
}
